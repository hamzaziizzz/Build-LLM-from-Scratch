{
 "cells": [
  {
   "metadata": {},
   "cell_type": "markdown",
   "source": "# IMPLEMENTING A GPT MODEL FROM SCRATCH TO GENERATE TEXT",
   "id": "7d4dba631c5f8d3a"
  },
  {
   "metadata": {
    "ExecuteTime": {
     "end_time": "2025-08-10T06:02:24.110667Z",
     "start_time": "2025-08-10T06:02:24.107275Z"
    }
   },
   "cell_type": "code",
   "source": [
    "GPT_CONFIG_124M = {\n",
    "    \"vocab_size\": 50257,       # Vocabulary size\n",
    "    \"context_length\": 1024,    # Context length\n",
    "    \"emb_dim\": 768,            # Embedding dimension\n",
    "    \"n_heads\": 12,             # Number of attention heads\n",
    "    \"n_layers\": 12,            # Number of layers\n",
    "    \"drop_rate\": 0.1,          # Dropout rate\n",
    "    \"qkv_bias\": False          # Query-Key-Value bias\n",
    "}"
   ],
   "id": "6593c9de7b6c3a3a",
   "outputs": [],
   "execution_count": 1
  },
  {
   "metadata": {},
   "cell_type": "markdown",
   "source": "## GPT ARCHITECTURE PART 1: DUMMY GPT MODEL CLASS",
   "id": "46b7816b5e051fba"
  },
  {
   "metadata": {
    "ExecuteTime": {
     "end_time": "2025-08-10T06:02:24.911559Z",
     "start_time": "2025-08-10T06:02:24.152648Z"
    }
   },
   "cell_type": "code",
   "source": [
    "import torch\n",
    "from torch import nn\n",
    "\n",
    "\n",
    "class DummyTransformerBlock(nn.Module):\n",
    "    def __init__(self, cfg: dict):\n",
    "        super().__init__()\n",
    "    \n",
    "    def forward(self, x):\n",
    "        return x\n",
    "\n",
    "\n",
    "class DummyLayerNorm(nn.Module):\n",
    "    def __init__(self, embedding_dimension: int):\n",
    "        super().__init__()\n",
    "\n",
    "    def forward(self, x):\n",
    "        return x\n",
    "\n",
    "\n",
    "class DummyGPTModel(nn.Module):\n",
    "    def __init__(self, cfg: dict):\n",
    "        super().__init__()\n",
    "        self.token_embedding = nn.Embedding(cfg.get(\"vocab_size\"), cfg.get(\"emb_dim\"))\n",
    "        self.positional_embedding = nn.Embedding(cfg.get(\"context_length\"), cfg.get(\"emb_dim\"))\n",
    "        self.drop_embeddings = nn.Dropout(cfg.get(\"drop_rate\"))\n",
    "\n",
    "        self.transformer_block = nn.Sequential(\n",
    "            *[DummyTransformerBlock(cfg) for _ in range(cfg.get(\"n_layers\"))]\n",
    "        )\n",
    "\n",
    "        self.final_norm = DummyLayerNorm(cfg.get(\"emb_dim\"))\n",
    "        self.output_head = nn.Linear(\n",
    "            cfg.get(\"emb_dim\"), cfg.get(\"vocab_size\"), bias=False\n",
    "        )\n",
    "\n",
    "    def forward(self, in_idx):\n",
    "        batch_size, sequence_length = in_idx.shape\n",
    "        token_embeddings = self.token_embedding(in_idx)\n",
    "        position_embeddings = self.positional_embedding(torch.arange(sequence_length, device=in_idx.device))\n",
    "        x = token_embeddings + position_embeddings\n",
    "        x = self.drop_embeddings(x)\n",
    "        x = self.transformer_block(x)\n",
    "        x = self.final_norm(x)\n",
    "        logits = self.output_head(x)\n",
    "\n",
    "        return logits"
   ],
   "id": "6c506caa2bd6e1ff",
   "outputs": [],
   "execution_count": 2
  },
  {
   "metadata": {},
   "cell_type": "markdown",
   "source": "## GPT ARCHITECTURE PART 2: LAYER NORMALIZATION",
   "id": "e32daa0295a7d6fd"
  },
  {
   "metadata": {
    "ExecuteTime": {
     "end_time": "2025-08-10T06:02:24.922138Z",
     "start_time": "2025-08-10T06:02:24.918542Z"
    }
   },
   "cell_type": "code",
   "source": [
    "batch_example = torch.randn(2, 5)\n",
    "print(batch_example)"
   ],
   "id": "f8b6f23dd434bb11",
   "outputs": [
    {
     "name": "stdout",
     "output_type": "stream",
     "text": [
      "tensor([[-0.1257,  1.6097, -0.2357, -0.4677,  1.3774],\n",
      "        [-0.3105, -0.6911,  0.7780,  2.2317, -2.0708]])\n"
     ]
    }
   ],
   "execution_count": 3
  },
  {
   "metadata": {
    "ExecuteTime": {
     "end_time": "2025-08-10T06:02:24.969464Z",
     "start_time": "2025-08-10T06:02:24.966734Z"
    }
   },
   "cell_type": "code",
   "source": [
    "layer = nn.Sequential(nn.Linear(5, 6), nn.ReLU())\n",
    "print(layer)"
   ],
   "id": "a52a56bf0843cbba",
   "outputs": [
    {
     "name": "stdout",
     "output_type": "stream",
     "text": [
      "Sequential(\n",
      "  (0): Linear(in_features=5, out_features=6, bias=True)\n",
      "  (1): ReLU()\n",
      ")\n"
     ]
    }
   ],
   "execution_count": 4
  },
  {
   "metadata": {
    "ExecuteTime": {
     "end_time": "2025-08-10T06:02:25.018725Z",
     "start_time": "2025-08-10T06:02:25.015459Z"
    }
   },
   "cell_type": "code",
   "source": [
    "output = layer(batch_example)\n",
    "print(output)"
   ],
   "id": "d00b76ac8cc4b11d",
   "outputs": [
    {
     "name": "stdout",
     "output_type": "stream",
     "text": [
      "tensor([[0.1687, 0.1381, 0.0000, 0.0000, 0.5519, 0.1865],\n",
      "        [0.0000, 0.0000, 0.8273, 0.0000, 0.0000, 0.3715]],\n",
      "       grad_fn=<ReluBackward0>)\n"
     ]
    }
   ],
   "execution_count": 5
  },
  {
   "metadata": {
    "ExecuteTime": {
     "end_time": "2025-08-10T06:02:25.066938Z",
     "start_time": "2025-08-10T06:02:25.063657Z"
    }
   },
   "cell_type": "code",
   "source": [
    "mean = output.mean(dim=-1, keepdim=True)\n",
    "variance = output.var(dim=-1, keepdim=True)\n",
    "\n",
    "print(f\"Mean:\\n{mean}\")\n",
    "print(f\"Variance:\\n{variance}\")"
   ],
   "id": "5573d0f13e6c17d",
   "outputs": [
    {
     "name": "stdout",
     "output_type": "stream",
     "text": [
      "Mean:\n",
      "tensor([[0.1742],\n",
      "        [0.1998]], grad_fn=<MeanBackward1>)\n",
      "Variance:\n",
      "tensor([[0.0410],\n",
      "        [0.1166]], grad_fn=<VarBackward0>)\n"
     ]
    }
   ],
   "execution_count": 6
  },
  {
   "metadata": {
    "ExecuteTime": {
     "end_time": "2025-08-10T06:02:25.115025Z",
     "start_time": "2025-08-10T06:02:25.112133Z"
    }
   },
   "cell_type": "code",
   "source": [
    "normalized_output = (output - mean) / torch.sqrt(variance)\n",
    "print(normalized_output)"
   ],
   "id": "174ed2156aacf528",
   "outputs": [
    {
     "name": "stdout",
     "output_type": "stream",
     "text": [
      "tensor([[-0.0272, -0.1783, -0.8606, -0.8606,  1.8661,  0.0607],\n",
      "        [-0.5852, -0.5852,  1.8378, -0.5852, -0.5852,  0.5029]],\n",
      "       grad_fn=<DivBackward0>)\n"
     ]
    }
   ],
   "execution_count": 7
  },
  {
   "metadata": {
    "ExecuteTime": {
     "end_time": "2025-08-10T06:02:25.163772Z",
     "start_time": "2025-08-10T06:02:25.161374Z"
    }
   },
   "cell_type": "code",
   "source": [
    "mean = normalized_output.mean(dim=-1, keepdim=True)\n",
    "print(mean)"
   ],
   "id": "436e78299d7baa99",
   "outputs": [
    {
     "name": "stdout",
     "output_type": "stream",
     "text": [
      "tensor([[0.0000e+00],\n",
      "        [9.9341e-09]], grad_fn=<MeanBackward1>)\n"
     ]
    }
   ],
   "execution_count": 8
  },
  {
   "metadata": {
    "ExecuteTime": {
     "end_time": "2025-08-10T06:02:25.212306Z",
     "start_time": "2025-08-10T06:02:25.209185Z"
    }
   },
   "cell_type": "code",
   "source": [
    "variance = normalized_output.var(dim=-1, keepdim=True)\n",
    "print(variance)"
   ],
   "id": "e5ecc85552c76d1",
   "outputs": [
    {
     "name": "stdout",
     "output_type": "stream",
     "text": [
      "tensor([[1.],\n",
      "        [1.]], grad_fn=<VarBackward0>)\n"
     ]
    }
   ],
   "execution_count": 9
  },
  {
   "metadata": {
    "ExecuteTime": {
     "end_time": "2025-08-10T06:02:25.261223Z",
     "start_time": "2025-08-10T06:02:25.258029Z"
    }
   },
   "cell_type": "code",
   "source": [
    "torch.set_printoptions(sci_mode=False)\n",
    "print(mean)\n",
    "print(variance)"
   ],
   "id": "95fef293841639db",
   "outputs": [
    {
     "name": "stdout",
     "output_type": "stream",
     "text": [
      "tensor([[    0.0000],\n",
      "        [    0.0000]], grad_fn=<MeanBackward1>)\n",
      "tensor([[1.],\n",
      "        [1.]], grad_fn=<VarBackward0>)\n"
     ]
    }
   ],
   "execution_count": 10
  },
  {
   "metadata": {
    "ExecuteTime": {
     "end_time": "2025-08-10T06:02:25.308557Z",
     "start_time": "2025-08-10T06:02:25.305540Z"
    }
   },
   "cell_type": "code",
   "source": [
    "class LayerNorm(nn.Module):\n",
    "    def __init__(self, embeddings_dimension):\n",
    "        super().__init__()\n",
    "        self.epsilon = 1e-5\n",
    "        self.scale = nn.Parameter(torch.ones(embeddings_dimension))\n",
    "        self.shift = nn.Parameter(torch.zeros(embeddings_dimension))\n",
    "\n",
    "    def forward(self, x):\n",
    "        mean = x.mean(dim=-1, keepdim=True)\n",
    "        variance = x.var(dim=-1, keepdim=True, unbiased=False)\n",
    "        normalized_x = (x - mean) / torch.sqrt(variance + self.epsilon)\n",
    "        return self.scale * normalized_x + self.shift"
   ],
   "id": "52426e23c034e687",
   "outputs": [],
   "execution_count": 11
  },
  {
   "metadata": {
    "ExecuteTime": {
     "end_time": "2025-08-10T06:02:25.357486Z",
     "start_time": "2025-08-10T06:02:25.353787Z"
    }
   },
   "cell_type": "code",
   "source": [
    "layer_normalization = LayerNorm(5)\n",
    "normalized_output = layer_normalization(batch_example)\n",
    "print(normalized_output)"
   ],
   "id": "55ffaf63b5b95d21",
   "outputs": [
    {
     "name": "stdout",
     "output_type": "stream",
     "text": [
      "tensor([[-0.6353,  1.3431, -0.7607, -1.0252,  1.0783],\n",
      "        [-0.2062, -0.4694,  0.5469,  1.5526, -1.4239]], grad_fn=<AddBackward0>)\n"
     ]
    }
   ],
   "execution_count": 12
  },
  {
   "metadata": {
    "ExecuteTime": {
     "end_time": "2025-08-10T06:02:25.406696Z",
     "start_time": "2025-08-10T06:02:25.403470Z"
    }
   },
   "cell_type": "code",
   "source": [
    "mean = normalized_output.mean(dim=-1, keepdim=True)\n",
    "print(mean)"
   ],
   "id": "13e52487ad1df94a",
   "outputs": [
    {
     "name": "stdout",
     "output_type": "stream",
     "text": [
      "tensor([[     0.0000],\n",
      "        [    -0.0000]], grad_fn=<MeanBackward1>)\n"
     ]
    }
   ],
   "execution_count": 13
  },
  {
   "metadata": {
    "ExecuteTime": {
     "end_time": "2025-08-10T06:02:25.453681Z",
     "start_time": "2025-08-10T06:02:25.450232Z"
    }
   },
   "cell_type": "code",
   "source": [
    "variance = normalized_output.var(dim=-1, unbiased=False, keepdim=True)\n",
    "print(variance)"
   ],
   "id": "3f3fbec16a01268e",
   "outputs": [
    {
     "name": "stdout",
     "output_type": "stream",
     "text": [
      "tensor([[1.0000],\n",
      "        [1.0000]], grad_fn=<VarBackward0>)\n"
     ]
    }
   ],
   "execution_count": 14
  },
  {
   "metadata": {},
   "cell_type": "markdown",
   "source": "## GPT ARCHITECTURE PART 3: FEEDFORWARD NEURAL NETWORK WITH GELU",
   "id": "f61478fcc297b475"
  },
  {
   "metadata": {
    "ExecuteTime": {
     "end_time": "2025-08-10T06:02:25.499460Z",
     "start_time": "2025-08-10T06:02:25.497026Z"
    }
   },
   "cell_type": "code",
   "source": [
    "class GELU(nn.Module):\n",
    "    def __init__(self):\n",
    "        super().__init__()\n",
    "\n",
    "    def forward(self, x):\n",
    "        return 0.5 * x * (1 + torch.tanh(torch.sqrt(torch.tensor(2.0 / torch.pi)) * (x + 0.044715 * torch.pow(x, 3))))"
   ],
   "id": "1bb0e24b61602a1",
   "outputs": [],
   "execution_count": 15
  },
  {
   "metadata": {
    "ExecuteTime": {
     "end_time": "2025-08-10T06:02:25.874030Z",
     "start_time": "2025-08-10T06:02:25.544433Z"
    }
   },
   "cell_type": "code",
   "source": [
    "import matplotlib.pyplot as plt\n",
    "\n",
    "gelu, relu = GELU(), nn.ReLU()\n",
    "\n",
    "# Some sample data\n",
    "x = torch.linspace(-3, 3, 100)\n",
    "y_gelu, y_relu = gelu(x), relu(x)\n",
    "\n",
    "plt.figure(figsize=(8, 3))\n",
    "for i, (y, label) in enumerate(zip([y_gelu, y_relu], [\"GELU\", \"ReLU\"]), 1):\n",
    "    plt.subplot(1, 2, i)\n",
    "    plt.plot(x, y)\n",
    "    plt.title(f\"{label} activation function\")\n",
    "    plt.xlabel(\"x\")\n",
    "    plt.ylabel(f\"{label}(x)\")\n",
    "    plt.grid(True)\n",
    "\n",
    "plt.tight_layout()\n",
    "plt.show()"
   ],
   "id": "948a1331b3ab5ec5",
   "outputs": [
    {
     "data": {
      "text/plain": [
       "<Figure size 800x300 with 2 Axes>"
      ],
      "image/png": "[encoded data removed]"
     },
     "metadata": {},
     "output_type": "display_data"
    }
   ],
   "execution_count": 16
  },
  {
   "metadata": {
    "ExecuteTime": {
     "end_time": "2025-08-10T06:02:25.881988Z",
     "start_time": "2025-08-10T06:02:25.878789Z"
    }
   },
   "cell_type": "code",
   "source": [
    "class FeedForward(nn.Module):\n",
    "    def __init__(self, cfg: dict):\n",
    "        super().__init__()\n",
    "        self.layers = nn.Sequential(\n",
    "            nn.Linear(cfg.get(\"emb_dim\"), 4 * cfg.get(\"emb_dim\")),    # Expansion\n",
    "            GELU(),                                                   # Activation\n",
    "            nn.Linear(4 * cfg.get(\"emb_dim\"), cfg.get(\"emb_dim\")),    # Contraction\n",
    "        )\n",
    "\n",
    "    def forward(self, x):\n",
    "        return self.layers(x)"
   ],
   "id": "a348e812458c3621",
   "outputs": [],
   "execution_count": 17
  },
  {
   "metadata": {
    "ExecuteTime": {
     "end_time": "2025-08-10T06:02:25.954377Z",
     "start_time": "2025-08-10T06:02:25.928245Z"
    }
   },
   "cell_type": "code",
   "source": [
    "ffn = FeedForward(GPT_CONFIG_124M)\n",
    "x = torch.rand(2, 3, 768)\n",
    "print(x)\n",
    "out = ffn(x)\n",
    "print(out)"
   ],
   "id": "ba848cc506d33ce7",
   "outputs": [
    {
     "name": "stdout",
     "output_type": "stream",
     "text": [
      "tensor([[[0.7276, 0.4207, 0.9883,  ..., 0.5277, 0.3941, 0.4499],\n",
      "         [0.7365, 0.6625, 0.2184,  ..., 0.7243, 0.9774, 0.3141],\n",
      "         [0.2870, 0.1951, 0.9883,  ..., 0.6196, 0.2374, 0.5272]],\n",
      "\n",
      "        [[0.1457, 0.2815, 0.1878,  ..., 0.7583, 0.6390, 0.1639],\n",
      "         [0.3209, 0.9091, 0.7145,  ..., 0.2852, 0.1129, 0.0482],\n",
      "         [0.3501, 0.0994, 0.2806,  ..., 0.7418, 0.3743, 0.1955]]])\n",
      "tensor([[[-0.0032,  0.0101,  0.0707,  ..., -0.1144, -0.1848, -0.0301],\n",
      "         [ 0.0635, -0.0454,  0.2409,  ..., -0.0672, -0.0761,  0.0165],\n",
      "         [-0.0444, -0.0091,  0.0698,  ..., -0.1455, -0.0484,  0.0648]],\n",
      "\n",
      "        [[-0.0493, -0.0202,  0.1517,  ..., -0.1655, -0.0959,  0.0955],\n",
      "         [ 0.0377,  0.0021,  0.1138,  ..., -0.2026, -0.0334,  0.0547],\n",
      "         [-0.0122,  0.0038,  0.0499,  ..., -0.1440, -0.0338,  0.0472]]],\n",
      "       grad_fn=<ViewBackward0>)\n"
     ]
    }
   ],
   "execution_count": 18
  },
  {
   "metadata": {},
   "cell_type": "markdown",
   "source": "## GPT ARCHITECTURE PART 4: SHORTCUT CONNECTIONS",
   "id": "5baa72235d647923"
  },
  {
   "metadata": {
    "ExecuteTime": {
     "end_time": "2025-08-10T06:02:25.980717Z",
     "start_time": "2025-08-10T06:02:25.976964Z"
    }
   },
   "cell_type": "code",
   "source": [
    "class ExampleDeepNeuralNetwork(nn.Module):\n",
    "    def __init__(self, layer_sizes, use_shortcut):\n",
    "        super().__init__()\n",
    "        self.use_shortcut = use_shortcut\n",
    "        self.layers = nn.ModuleList([\n",
    "            nn.Sequential(nn.Linear(layer_sizes[0], layer_sizes[1]), GELU()),\n",
    "            nn.Sequential(nn.Linear(layer_sizes[1], layer_sizes[2]), GELU()),\n",
    "            nn.Sequential(nn.Linear(layer_sizes[2], layer_sizes[3]), GELU()),\n",
    "            nn.Sequential(nn.Linear(layer_sizes[3], layer_sizes[4]), GELU()),\n",
    "            nn.Sequential(nn.Linear(layer_sizes[4], layer_sizes[5]), GELU())\n",
    "        ])\n",
    "\n",
    "    def forward(self, x):\n",
    "        for layer in self.layers:\n",
    "            # Compute the output of the current layer\n",
    "            layer_output = layer(x)\n",
    "            # Check if shortcut can be applied\n",
    "            if self.use_shortcut and x.shape == layer_output.shape:\n",
    "                x += layer_output\n",
    "            else:\n",
    "                x = layer_output\n",
    "\n",
    "        return x"
   ],
   "id": "f5031a774e3b39b9",
   "outputs": [],
   "execution_count": 19
  },
  {
   "metadata": {
    "ExecuteTime": {
     "end_time": "2025-08-10T06:02:26.030208Z",
     "start_time": "2025-08-10T06:02:26.027017Z"
    }
   },
   "cell_type": "code",
   "source": [
    "layer_sizes = [3, 3, 3, 3, 3, 1]\n",
    "sample_input = torch.tensor([[1, 0, -1]])\n",
    "model_without_shortcut = ExampleDeepNeuralNetwork(\n",
    "    layer_sizes, use_shortcut=False\n",
    ")\n",
    "print(model_without_shortcut)"
   ],
   "id": "582886bbb95b2382",
   "outputs": [
    {
     "name": "stdout",
     "output_type": "stream",
     "text": [
      "ExampleDeepNeuralNetwork(\n",
      "  (layers): ModuleList(\n",
      "    (0-3): 4 x Sequential(\n",
      "      (0): Linear(in_features=3, out_features=3, bias=True)\n",
      "      (1): GELU()\n",
      "    )\n",
      "    (4): Sequential(\n",
      "      (0): Linear(in_features=3, out_features=1, bias=True)\n",
      "      (1): GELU()\n",
      "    )\n",
      "  )\n",
      ")\n"
     ]
    }
   ],
   "execution_count": 20
  },
  {
   "metadata": {
    "ExecuteTime": {
     "end_time": "2025-08-10T06:02:26.079097Z",
     "start_time": "2025-08-10T06:02:26.076486Z"
    }
   },
   "cell_type": "code",
   "source": [
    "model_with_shortcut = ExampleDeepNeuralNetwork(\n",
    "    layer_sizes, use_shortcut=True\n",
    ")\n",
    "print(model_with_shortcut)"
   ],
   "id": "9efca22f728228c8",
   "outputs": [
    {
     "name": "stdout",
     "output_type": "stream",
     "text": [
      "ExampleDeepNeuralNetwork(\n",
      "  (layers): ModuleList(\n",
      "    (0-3): 4 x Sequential(\n",
      "      (0): Linear(in_features=3, out_features=3, bias=True)\n",
      "      (1): GELU()\n",
      "    )\n",
      "    (4): Sequential(\n",
      "      (0): Linear(in_features=3, out_features=1, bias=True)\n",
      "      (1): GELU()\n",
      "    )\n",
      "  )\n",
      ")\n"
     ]
    }
   ],
   "execution_count": 21
  },
  {
   "metadata": {
    "ExecuteTime": {
     "end_time": "2025-08-10T06:02:26.317322Z",
     "start_time": "2025-08-10T06:02:26.122988Z"
    }
   },
   "cell_type": "code",
   "source": [
    "import numpy as np\n",
    "import matplotlib.pyplot as plt\n",
    "from scipy.special import erf  # vectorized erf\n",
    "\n",
    "# --- Activation Functions ---\n",
    "def relu(x: np.ndarray) -> np.ndarray:\n",
    "    \"\"\"ReLU activation: max(0, x)\"\"\"\n",
    "    return np.maximum(0, x)\n",
    "\n",
    "def gelu(x: np.ndarray, approximate: bool = False) -> np.ndarray:\n",
    "    \"\"\"GELU activation with optional tanh approximation.\"\"\"\n",
    "    if approximate:\n",
    "        return 0.5 * x * (1.0 + np.tanh(\n",
    "            np.sqrt(2 / np.pi) * (x + 0.044715 * np.power(x, 3))\n",
    "        ))\n",
    "    else:\n",
    "        return 0.5 * x * (1.0 + erf(x / np.sqrt(2.0)))\n",
    "\n",
    "# --- Plot Comparison ---\n",
    "def compare_activations(x_range=(-5, 5), num_points=1000, use_approx_gelu=False):\n",
    "    x = np.linspace(x_range[0], x_range[1], num_points)\n",
    "    y_relu = relu(x)\n",
    "    y_gelu = gelu(x, approximate=use_approx_gelu)\n",
    "\n",
    "    plt.figure(figsize=(8, 5))\n",
    "    plt.plot(x, y_relu, label='ReLU', linewidth=2)\n",
    "    plt.plot(x, y_gelu, label='GELU (approx)' if use_approx_gelu else 'GELU', linewidth=2)\n",
    "    plt.title(\"GELU vs ReLU Activation Functions\")\n",
    "    plt.xlabel(\"Input\")\n",
    "    plt.ylabel(\"Output\")\n",
    "    plt.grid(True)\n",
    "    plt.legend()\n",
    "    plt.show()\n",
    "\n",
    "if __name__ == \"__main__\":\n",
    "    compare_activations(use_approx_gelu=False)  # Exact GELU\n",
    "    compare_activations(use_approx_gelu=True)   # Approximate GELU\n"
   ],
   "id": "1d327c1146a10725",
   "outputs": [
    {
     "data": {
      "text/plain": [
       "<Figure size 800x500 with 1 Axes>"
      ],
      "image/png": "[encoded data removed]"
     },
     "metadata": {},
     "output_type": "display_data"
    },
    {
     "data": {
      "text/plain": [
       "<Figure size 800x500 with 1 Axes>"
      ],
      "image/png": "[encoded data removed]"
     },
     "metadata": {},
     "output_type": "display_data"
    }
   ],
   "execution_count": 22
  },
  {
   "metadata": {},
   "cell_type": "markdown",
   "source": "# ENTIRE TRANSFORMER BLOCK",
   "id": "ebfcf683995fa6b3"
  },
  {
   "metadata": {
    "ExecuteTime": {
     "end_time": "2025-08-10T06:50:13.773620Z",
     "start_time": "2025-08-10T06:50:13.771686Z"
    }
   },
   "cell_type": "code",
   "source": [
    "GPT_CONFIG_124M = {\n",
    "    \"vocab_size\": 50257,       # Vocabulary size\n",
    "    \"context_length\": 1024,    # Context length\n",
    "    \"emb_dim\": 768,            # Embedding dimension\n",
    "    \"n_heads\": 12,             # Number of attention heads\n",
    "    \"n_layers\": 12,            # Number of layers\n",
    "    \"drop_rate\": 0.1,          # Dropout rate\n",
    "    \"qkv_bias\": False          # Query-Key-Value bias\n",
    "}"
   ],
   "id": "d81d69677b894aee",
   "outputs": [],
   "execution_count": 24
  },
  {
   "metadata": {
    "ExecuteTime": {
     "end_time": "2025-08-10T06:50:14.163397Z",
     "start_time": "2025-08-10T06:50:14.159938Z"
    }
   },
   "cell_type": "code",
   "source": [
    "class LayerNorm(nn.Module):\n",
    "    def __init__(self, embeddings_dimension):\n",
    "        super().__init__()\n",
    "        self.epsilon = 1e-5\n",
    "        self.scale = nn.Parameter(torch.ones(embeddings_dimension))\n",
    "        self.shift = nn.Parameter(torch.zeros(embeddings_dimension))\n",
    "\n",
    "    def forward(self, x):\n",
    "        mean = x.mean(dim=-1, keepdim=True)\n",
    "        variance = x.var(dim=-1, keepdim=True, unbiased=False)\n",
    "        normalized_x = (x - mean) / torch.sqrt(variance + self.epsilon)\n",
    "        return self.scale * normalized_x + self.shift\n",
    "\n",
    "\n",
    "class GELU(nn.Module):\n",
    "    def __init__(self):\n",
    "        super().__init__()\n",
    "\n",
    "    def forward(self, x):\n",
    "        return 0.5 * x * (1 + torch.tanh(torch.sqrt(torch.tensor(2.0 / torch.pi)) * (x + 0.044715 * torch.pow(x, 3))))\n",
    "\n",
    "\n",
    "class FeedForward(nn.Module):\n",
    "    def __init__(self, cfg: dict):\n",
    "        super().__init__()\n",
    "        self.layers = nn.Sequential(\n",
    "            nn.Linear(cfg.get(\"emb_dim\"), 4 * cfg.get(\"emb_dim\")),    # Expansion\n",
    "            GELU(),                                                   # Activation\n",
    "            nn.Linear(4 * cfg.get(\"emb_dim\"), cfg.get(\"emb_dim\")),    # Contraction\n",
    "        )\n",
    "\n",
    "    def forward(self, x):\n",
    "        return self.layers(x)"
   ],
   "id": "ff05292401aafab2",
   "outputs": [],
   "execution_count": 25
  },
  {
   "metadata": {
    "ExecuteTime": {
     "end_time": "2025-08-10T06:50:14.585220Z",
     "start_time": "2025-08-10T06:50:14.581035Z"
    }
   },
   "cell_type": "code",
   "source": [
    "class MultiHeadAttention(nn.Module):\n",
    "    def __init__(self, d_in, d_out, context_length, dropout, num_heads, qkv_bias=False):\n",
    "        super().__init__()\n",
    "        assert (d_out % num_heads == 0), \\\n",
    "            \"d_out must be divisible by num_heads\"\n",
    "\n",
    "        self.d_out = d_out\n",
    "        self.num_heads = num_heads\n",
    "        self.head_dim = d_out // num_heads # Reduce the projection dim to match desired output dim\n",
    "\n",
    "        self.W_query = nn.Linear(d_in, d_out, bias=qkv_bias)\n",
    "        self.W_key = nn.Linear(d_in, d_out, bias=qkv_bias)\n",
    "        self.W_value = nn.Linear(d_in, d_out, bias=qkv_bias)\n",
    "        self.out_proj = nn.Linear(d_out, d_out)  # Linear layer to combine head outputs\n",
    "        self.dropout = nn.Dropout(dropout)\n",
    "        self.register_buffer(\n",
    "            \"mask\",\n",
    "            torch.triu(torch.ones(context_length, context_length),\n",
    "                       diagonal=1)\n",
    "        )\n",
    "\n",
    "    def forward(self, x):\n",
    "        b, num_tokens, d_in = x.shape\n",
    "\n",
    "        keys = self.W_key(x) # Shape: (b, num_tokens, d_out)\n",
    "        queries = self.W_query(x)\n",
    "        values = self.W_value(x)\n",
    "\n",
    "        # We implicitly split the matrix by adding a `num_heads` dimension\n",
    "        # Unroll last dim: (b, num_tokens, d_out) -> (b, num_tokens, num_heads, head_dim)\n",
    "        keys = keys.view(b, num_tokens, self.num_heads, self.head_dim)\n",
    "        values = values.view(b, num_tokens, self.num_heads, self.head_dim)\n",
    "        queries = queries.view(b, num_tokens, self.num_heads, self.head_dim)\n",
    "\n",
    "        # Transpose: (b, num_tokens, num_heads, head_dim) -> (b, num_heads, num_tokens, head_dim)\n",
    "        keys = keys.transpose(1, 2)\n",
    "        queries = queries.transpose(1, 2)\n",
    "        values = values.transpose(1, 2)\n",
    "\n",
    "        # Compute scaled dot-product attention (aka self-attention) with a causal mask\n",
    "        attn_scores = queries @ keys.transpose(2, 3)  # Dot product for each head\n",
    "\n",
    "        # Original mask truncated to the number of tokens and converted to boolean\n",
    "        mask_bool = self.mask.bool()[:num_tokens, :num_tokens]\n",
    "\n",
    "        # Use the mask to fill attention scores\n",
    "        attn_scores.masked_fill_(mask_bool, -torch.inf)\n",
    "\n",
    "        attn_weights = torch.softmax(attn_scores / keys.shape[-1]**0.5, dim=-1)\n",
    "        attn_weights = self.dropout(attn_weights)\n",
    "\n",
    "        # Shape: (b, num_tokens, num_heads, head_dim)\n",
    "        context_vec = (attn_weights @ values).transpose(1, 2)\n",
    "\n",
    "        # Combine heads, where self.d_out = self.num_heads * self.head_dim\n",
    "        context_vec = context_vec.contiguous().view(b, num_tokens, self.d_out)\n",
    "        context_vec = self.out_proj(context_vec) # optional projection\n",
    "\n",
    "        return context_vec"
   ],
   "id": "15b04e41949dfe1a",
   "outputs": [],
   "execution_count": 26
  },
  {
   "metadata": {
    "ExecuteTime": {
     "end_time": "2025-08-10T06:50:14.979861Z",
     "start_time": "2025-08-10T06:50:14.977016Z"
    }
   },
   "cell_type": "code",
   "source": [
    "class TransformerBlock(nn.Module):\n",
    "    def __init__(self, config: dict):\n",
    "        super().__init__()\n",
    "        self.attention = MultiHeadAttention(\n",
    "            d_in=config.get(\"emb_dim\"),\n",
    "            d_out=config.get(\"emb_dim\"),\n",
    "            context_length=config.get(\"context_length\"),\n",
    "            num_heads=config.get(\"n_heads\"),\n",
    "            dropout=config.get(\"drop_rate\"),\n",
    "            qkv_bias=config.get(\"qkv_bias\")\n",
    "        )\n",
    "        self.ff = FeedForward(config)\n",
    "        self.norm1 = LayerNorm(config.get(\"emb_dim\"))\n",
    "        self.norm2 = LayerNorm(config.get(\"emb_dim\"))\n",
    "        self.drop_shortcut = nn.Dropout(config.get(\"drop_rate\"))\n",
    "\n",
    "    def forward(self, x):\n",
    "        # Shortcut connection for attention block\n",
    "        shortcut = x\n",
    "        x = self.norm1(x)\n",
    "        x = self.attention(x)        # Shape [batch_size, num_tokens, emb_size]\n",
    "        x = self.drop_shortcut(x)\n",
    "        x = x + shortcut             # Add the original input back\n",
    "\n",
    "        # Shortcut connection for feed forward block\n",
    "        shortcut = x\n",
    "        x = self.norm2(x)\n",
    "        x = self.ff(x)\n",
    "        x = self.drop_shortcut(x)\n",
    "        x = x + shortcut\n",
    "\n",
    "        return x"
   ],
   "id": "b34a7b3cbb8d5fa8",
   "outputs": [],
   "execution_count": 27
  },
  {
   "metadata": {
    "ExecuteTime": {
     "end_time": "2025-08-10T06:51:11.767530Z",
     "start_time": "2025-08-10T06:51:11.736082Z"
    }
   },
   "cell_type": "code",
   "source": [
    "input = torch.rand(2, 4, 768)\n",
    "block = TransformerBlock(GPT_CONFIG_124M)\n",
    "output = block(x)"
   ],
   "id": "593ae750804866a9",
   "outputs": [],
   "execution_count": 28
  },
  {
   "metadata": {
    "ExecuteTime": {
     "end_time": "2025-08-10T06:51:23.470111Z",
     "start_time": "2025-08-10T06:51:23.466641Z"
    }
   },
   "cell_type": "code",
   "source": [
    "print(input)\n",
    "print(output)"
   ],
   "id": "e7d4e232041e9b13",
   "outputs": [
    {
     "name": "stdout",
     "output_type": "stream",
     "text": [
      "tensor([[[0.7224, 0.9756, 0.0540,  ..., 0.3062, 0.1647, 0.9737],\n",
      "         [0.9469, 0.8493, 0.8168,  ..., 0.4267, 0.1530, 0.3325],\n",
      "         [0.6370, 0.4886, 0.6477,  ..., 0.4020, 0.9052, 0.0407],\n",
      "         [0.6619, 0.7961, 0.6245,  ..., 0.4797, 0.5558, 0.8601]],\n",
      "\n",
      "        [[0.1168, 0.4356, 0.1781,  ..., 0.3164, 0.2556, 0.5046],\n",
      "         [0.9171, 0.1967, 0.7479,  ..., 0.2387, 0.6476, 0.0155],\n",
      "         [0.6820, 0.0778, 0.6835,  ..., 0.8527, 0.1366, 0.2587],\n",
      "         [0.3879, 0.1475, 0.4469,  ..., 0.7588, 0.5391, 0.1742]]])\n",
      "tensor([[[ 0.5100,  0.9005,  1.4294,  ...,  0.6368,  0.4392, -0.0408],\n",
      "         [ 0.6963,  0.4468,  0.7552,  ...,  1.0700,  1.0859, -0.2169],\n",
      "         [ 0.1341,  0.4008,  0.9112,  ...,  0.9545,  0.0934,  0.4561]],\n",
      "\n",
      "        [[ 0.0855, -0.7275,  0.0330,  ...,  0.9041,  0.9583,  0.4150],\n",
      "         [ 0.3014,  0.5994,  1.1162,  ..., -0.0553, -0.0149,  0.1894],\n",
      "         [ 0.6483, -0.0807,  0.5259,  ...,  0.6382,  0.1809, -0.0212]]],\n",
      "       grad_fn=<AddBackward0>)\n"
     ]
    }
   ],
   "execution_count": 29
  },
  {
   "metadata": {
    "ExecuteTime": {
     "end_time": "2025-08-10T09:19:48.957642Z",
     "start_time": "2025-08-10T09:19:48.953260Z"
    }
   },
   "cell_type": "code",
   "source": [
    "class GPTModel(nn.Module):\n",
    "    def __init__(self, cfg: dict):\n",
    "        super().__init__()\n",
    "        self.token_embedding = nn.Embedding(cfg.get(\"vocab_size\"), cfg.get(\"emb_dim\"))\n",
    "        self.positional_embedding = nn.Embedding(cfg.get(\"context_length\"), cfg.get(\"emb_dim\"))\n",
    "        self.drop_embeddings = nn.Dropout(cfg.get(\"drop_rate\"))\n",
    "\n",
    "        self.transformer_block = nn.Sequential(\n",
    "            *[TransformerBlock(cfg) for _ in range(cfg.get(\"n_layers\"))]\n",
    "        )\n",
    "\n",
    "        self.final_norm = LayerNorm(cfg.get(\"emb_dim\"))\n",
    "        self.output_head = nn.Linear(\n",
    "            cfg.get(\"emb_dim\"), cfg.get(\"vocab_size\"), bias=False\n",
    "        )\n",
    "\n",
    "    def forward(self, in_idx):\n",
    "        batch_size, sequence_length = in_idx.shape\n",
    "        token_embeddings = self.token_embedding(in_idx)\n",
    "        position_embeddings = self.positional_embedding(torch.arange(sequence_length, device=in_idx.device))\n",
    "        x = token_embeddings + position_embeddings\n",
    "        x = self.drop_embeddings(x)\n",
    "        x = self.transformer_block(x)\n",
    "        x = self.final_norm(x)\n",
    "        logits = self.output_head(x)\n",
    "\n",
    "        return logits"
   ],
   "id": "bf17100e03919a52",
   "outputs": [],
   "execution_count": 30
  },
  {
   "metadata": {
    "ExecuteTime": {
     "end_time": "2025-08-10T09:26:21.311845Z",
     "start_time": "2025-08-10T09:26:21.308503Z"
    }
   },
   "cell_type": "code",
   "source": [
    "batch = torch.tensor([\n",
    "    [6109, 3626, 6100, 345],\n",
    "    [6109, 1110, 6622, 257]\n",
    "])\n",
    "print(batch)"
   ],
   "id": "77277de64ecb9f75",
   "outputs": [
    {
     "name": "stdout",
     "output_type": "stream",
     "text": [
      "tensor([[6109, 3626, 6100,  345],\n",
      "        [6109, 1110, 6622,  257]])\n"
     ]
    }
   ],
   "execution_count": 34
  },
  {
   "metadata": {
    "ExecuteTime": {
     "end_time": "2025-08-10T09:29:46.132381Z",
     "start_time": "2025-08-10T09:29:45.421438Z"
    }
   },
   "cell_type": "code",
   "source": [
    "model = GPTModel(GPT_CONFIG_124M)\n",
    "output = model(batch)\n",
    "print(output)"
   ],
   "id": "1a18635c544ba8a6",
   "outputs": [
    {
     "name": "stdout",
     "output_type": "stream",
     "text": [
      "tensor([[[ 0.1140,  0.0413,  0.5966,  ..., -0.4714,  0.7395, -0.5255],\n",
      "         [ 0.3601, -0.0485,  0.1356,  ..., -0.2052, -0.0764,  0.2657],\n",
      "         [-0.3504, -0.6792,  0.7037,  ..., -0.7343,  0.4669, -0.1421],\n",
      "         [ 0.1518, -0.4081,  0.1005,  ..., -0.1630, -0.0946, -0.3596]],\n",
      "\n",
      "        [[-0.3668, -0.6154,  0.9760,  ..., -0.5745,  0.5753, -0.2517],\n",
      "         [ 0.6740, -0.5846, -0.4483,  ..., -0.1488, -1.0426, -0.2150],\n",
      "         [-0.3537, -1.3954, -0.4690,  ..., -0.6459,  0.6142, -0.3559],\n",
      "         [-0.3957, -0.0600, -0.4696,  ...,  0.3250, -0.0678,  0.0198]]],\n",
      "       grad_fn=<UnsafeViewBackward0>)\n"
     ]
    }
   ],
   "execution_count": 38
  },
  {
   "metadata": {
    "ExecuteTime": {
     "end_time": "2025-08-10T09:29:49.036574Z",
     "start_time": "2025-08-10T09:29:49.034268Z"
    }
   },
   "cell_type": "code",
   "source": "print(output.shape)",
   "id": "fb5789c75e3d17b0",
   "outputs": [
    {
     "name": "stdout",
     "output_type": "stream",
     "text": [
      "torch.Size([2, 4, 50257])\n"
     ]
    }
   ],
   "execution_count": 39
  },
  {
   "metadata": {
    "ExecuteTime": {
     "end_time": "2025-08-10T09:34:49.090089Z",
     "start_time": "2025-08-10T09:34:49.087918Z"
    }
   },
   "cell_type": "code",
   "source": [
    "total_params = sum(p.numel() for p in model.parameters())\n",
    "print(f\"Total number of parameters: {total_params:,}\")"
   ],
   "id": "f453325d5c7bbb4d",
   "outputs": [
    {
     "name": "stdout",
     "output_type": "stream",
     "text": [
      "Total number of parameters: 163,009,536\n"
     ]
    }
   ],
   "execution_count": 40
  },
  {
   "metadata": {
    "ExecuteTime": {
     "end_time": "2025-08-10T09:35:29.958668Z",
     "start_time": "2025-08-10T09:35:29.955938Z"
    }
   },
   "cell_type": "code",
   "source": [
    "print(\"Token embedding layer shape:\", model.token_embedding.weight.shape)\n",
    "print(\"Output layer shape:\", model.output_head.weight.shape)"
   ],
   "id": "835f771f6a3eaf71",
   "outputs": [
    {
     "name": "stdout",
     "output_type": "stream",
     "text": [
      "Token embedding layer shape: torch.Size([50257, 768])\n",
      "Output layer shape: torch.Size([50257, 768])\n"
     ]
    }
   ],
   "execution_count": 42
  },
  {
   "metadata": {
    "ExecuteTime": {
     "end_time": "2025-08-10T09:36:03.188499Z",
     "start_time": "2025-08-10T09:36:03.186204Z"
    }
   },
   "cell_type": "code",
   "source": [
    "total_params_gpt2 = total_params - sum(p.numel() for p in model.output_head.parameters())\n",
    "print(f\"Number of trainable parameters considering weight tying: {total_params_gpt2:,}\")"
   ],
   "id": "57e4330646791f5b",
   "outputs": [
    {
     "name": "stdout",
     "output_type": "stream",
     "text": [
      "Number of trainable parameters considering weight tying: 124,412,160\n"
     ]
    }
   ],
   "execution_count": 43
  },
  {
   "metadata": {
    "ExecuteTime": {
     "end_time": "2025-08-10T09:37:25.329218Z",
     "start_time": "2025-08-10T09:37:25.327164Z"
    }
   },
   "cell_type": "code",
   "source": [
    "total_size_bytes = total_params * 4 #A\n",
    "total_size_mb = total_size_bytes / (1024 * 1024) #B\n",
    "print(f\"Total size of the model: {total_size_mb:.2f} MB\")"
   ],
   "id": "53f4b8ae2617d43a",
   "outputs": [
    {
     "name": "stdout",
     "output_type": "stream",
     "text": [
      "Total size of the model: 621.83 MB\n"
     ]
    }
   ],
   "execution_count": 44
  },
  {
   "metadata": {},
   "cell_type": "code",
   "outputs": [],
   "execution_count": null,
   "source": "",
   "id": "7c0fd38bf9ddd4bf"
  }
 ],
 "metadata": {
  "kernelspec": {
   "display_name": "Python 3",
   "language": "python",
   "name": "python3"
  },
  "language_info": {
   "codemirror_mode": {
    "name": "ipython",
    "version": 2
   },
   "file_extension": ".py",
   "mimetype": "text/x-python",
   "name": "python",
   "nbconvert_exporter": "python",
   "pygments_lexer": "ipython2",
   "version": "2.7.6"
  }
 },
 "nbformat": 4,
 "nbformat_minor": 5
}
