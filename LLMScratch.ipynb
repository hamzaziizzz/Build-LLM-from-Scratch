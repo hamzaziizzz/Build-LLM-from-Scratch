{
 "cells": [
  {
   "metadata": {},
   "cell_type": "markdown",
   "source": "# Reading in a short story as text sample into Python",
   "id": "96a325f364779302"
  },
  {
   "metadata": {},
   "cell_type": "markdown",
   "source": "## Step 1: Creating Tokens",
   "id": "bd7d1259946a9fb"
  },
  {
   "metadata": {
    "ExecuteTime": {
     "end_time": "2025-08-07T06:10:03.883003Z",
     "start_time": "2025-08-07T06:10:03.713710Z"
    }
   },
   "cell_type": "code",
   "source": [
    "from signal import pthread_sigmask\n",
    "\n",
    "import tiktoken\n",
    "from numpy.f2py.crackfortran import dimensionpattern\n",
    "\n",
    "with open(\"the-verdict.txt\", encoding=\"utf-8\") as verdict:\n",
    "    raw_text = verdict.read()\n",
    "\n",
    "print(f\"Total number of characters: {len(raw_text)}\")\n",
    "print()\n",
    "print(\"THE VERDICT\")\n",
    "print(\"======================================================================================\")\n",
    "print(raw_text)"
   ],
   "id": "bd8ee93f210cd6e6",
   "outputs": [
    {
     "name": "stdout",
     "output_type": "stream",
     "text": [
      "Total number of characters: 20479\n",
      "\n",
      "THE VERDICT\n",
      "======================================================================================\n",
      "I HAD always thought Jack Gisburn rather a cheap genius--though a good fellow enough--so it was no great surprise to me to hear that, in the height of his glory, he had dropped his painting, married a rich widow, and established himself in a villa on the Riviera. (Though I rather thought it would have been Rome or Florence.)\n",
      "\n",
      "\"The height of his glory\"--that was what the women called it. I can hear Mrs. Gideon Thwing--his last Chicago sitter--deploring his unaccountable abdication. \"Of course it's going to send the value of my picture 'way up; but I don't think of that, Mr. Rickham--the loss to Arrt is all I think of.\" The word, on Mrs. Thwing's lips, multiplied its _rs_ as though they were reflected in an endless vista of mirrors. And it was not only the Mrs. Thwings who mourned. Had not the exquisite Hermia Croft, at the last Grafton Gallery show, stopped me before Gisburn's \"Moon-dancers\" to say, with tears in her eyes: \"We shall not look upon its like again\"?\n",
      "\n",
      "Well!--even through the prism of Hermia's tears I felt able to face the fact with equanimity. Poor Jack Gisburn! The women had made him--it was fitting that they should mourn him. Among his own sex fewer regrets were heard, and in his own trade hardly a murmur. Professional jealousy? Perhaps. If it were, the honour of the craft was vindicated by little Claude Nutley, who, in all good faith, brought out in the Burlington a very handsome \"obituary\" on Jack--one of those showy articles stocked with random technicalities that I have heard (I won't say by whom) compared to Gisburn's painting. And so--his resolve being apparently irrevocable--the discussion gradually died out, and, as Mrs. Thwing had predicted, the price of \"Gisburns\" went up.\n",
      "\n",
      "It was not till three years later that, in the course of a few weeks' idling on the Riviera, it suddenly occurred to me to wonder why Gisburn had given up his painting. On reflection, it really was a tempting problem. To accuse his wife would have been too easy--his fair sitters had been denied the solace of saying that Mrs. Gisburn had \"dragged him down.\" For Mrs. Gisburn--as such--had not existed till nearly a year after Jack's resolve had been taken. It might be that he had married her--since he liked his ease--because he didn't want to go on painting; but it would have been hard to prove that he had given up his painting because he had married her.\n",
      "\n",
      "Of course, if she had not dragged him down, she had equally, as Miss Croft contended, failed to \"lift him up\"--she had not led him back to the easel. To put the brush into his hand again--what a vocation for a wife! But Mrs. Gisburn appeared to have disdained it--and I felt it might be interesting to find out why.\n",
      "\n",
      "The desultory life of the Riviera lends itself to such purely academic speculations; and having, on my way to Monte Carlo, caught a glimpse of Jack's balustraded terraces between the pines, I had myself borne thither the next day.\n",
      "\n",
      "I found the couple at tea beneath their palm-trees; and Mrs. Gisburn's welcome was so genial that, in the ensuing weeks, I claimed it frequently. It was not that my hostess was \"interesting\": on that point I could have given Miss Croft the fullest reassurance. It was just because she was _not_ interesting--if I may be pardoned the bull--that I found her so. For Jack, all his life, had been surrounded by interesting women: they had fostered his art, it had been reared in the hot-house of their adulation. And it was therefore instructive to note what effect the \"deadening atmosphere of mediocrity\" (I quote Miss Croft) was having on him.\n",
      "\n",
      "I have mentioned that Mrs. Gisburn was rich; and it was immediately perceptible that her husband was extracting from this circumstance a delicate but substantial satisfaction. It is, as a rule, the people who scorn money who get most out of it; and Jack's elegant disdain of his wife's big balance enabled him, with an appearance of perfect good-breeding, to transmute it into objects of art and luxury. To the latter, I must add, he remained relatively indifferent; but he was buying Renaissance bronzes and eighteenth-century pictures with a discrimination that bespoke the amplest resources.\n",
      "\n",
      "\"Money's only excuse is to put beauty into circulation,\" was one of the axioms he laid down across the Sevres and silver of an exquisitely appointed luncheon-table, when, on a later day, I had again run over from Monte Carlo; and Mrs. Gisburn, beaming on him, added for my enlightenment: \"Jack is so morbidly sensitive to every form of beauty.\"\n",
      "\n",
      "Poor Jack! It had always been his fate to have women say such things of him: the fact should be set down in extenuation. What struck me now was that, for the first time, he resented the tone. I had seen him, so often, basking under similar tributes--was it the conjugal note that robbed them of their savour? No--for, oddly enough, it became apparent that he was fond of Mrs. Gisburn--fond enough not to see her absurdity. It was his own absurdity he seemed to be wincing under--his own attitude as an object for garlands and incense.\n",
      "\n",
      "\"My dear, since I've chucked painting people don't say that stuff about me--they say it about Victor Grindle,\" was his only protest, as he rose from the table and strolled out onto the sunlit terrace.\n",
      "\n",
      "I glanced after him, struck by his last word. Victor Grindle was, in fact, becoming the man of the moment--as Jack himself, one might put it, had been the man of the hour. The younger artist was said to have formed himself at my friend's feet, and I wondered if a tinge of jealousy underlay the latter's mysterious abdication. But no--for it was not till after that event that the _rose Dubarry_ drawing-rooms had begun to display their \"Grindles.\"\n",
      "\n",
      "I turned to Mrs. Gisburn, who had lingered to give a lump of sugar to her spaniel in the dining-room.\n",
      "\n",
      "\"Why _has_ he chucked painting?\" I asked abruptly.\n",
      "\n",
      "She raised her eyebrows with a hint of good-humoured surprise.\n",
      "\n",
      "\"Oh, he doesn't _have_ to now, you know; and I want him to enjoy himself,\" she said quite simply.\n",
      "\n",
      "I looked about the spacious white-panelled room, with its _famille-verte_ vases repeating the tones of the pale damask curtains, and its eighteenth-century pastels in delicate faded frames.\n",
      "\n",
      "\"Has he chucked his pictures too? I haven't seen a single one in the house.\"\n",
      "\n",
      "A slight shade of constraint crossed Mrs. Gisburn's open countenance. \"It's his ridiculous modesty, you know. He says they're not fit to have about; he's sent them all away except one--my portrait--and that I have to keep upstairs.\"\n",
      "\n",
      "His ridiculous modesty--Jack's modesty about his pictures? My curiosity was growing like the bean-stalk. I said persuasively to my hostess: \"I must really see your portrait, you know.\"\n",
      "\n",
      "She glanced out almost timorously at the terrace where her husband, lounging in a hooded chair, had lit a cigar and drawn the Russian deerhound's head between his knees.\n",
      "\n",
      "\"Well, come while he's not looking,\" she said, with a laugh that tried to hide her nervousness; and I followed her between the marble Emperors of the hall, and up the wide stairs with terra-cotta nymphs poised among flowers at each landing.\n",
      "\n",
      "In the dimmest corner of her boudoir, amid a profusion of delicate and distinguished objects, hung one of the familiar oval canvases, in the inevitable garlanded frame. The mere outline of the frame called up all Gisburn's past!\n",
      "\n",
      "Mrs. Gisburn drew back the window-curtains, moved aside a _jardiniere_ full of pink azaleas, pushed an arm-chair away, and said: \"If you stand here you can just manage to see it. I had it over the mantel-piece, but he wouldn't let it stay.\"\n",
      "\n",
      "Yes--I could just manage to see it--the first portrait of Jack's I had ever had to strain my eyes over! Usually they had the place of honour--say the central panel in a pale yellow or _rose Dubarry_ drawing-room, or a monumental easel placed so that it took the light through curtains of old Venetian point. The more modest place became the picture better; yet, as my eyes grew accustomed to the half-light, all the characteristic qualities came out--all the hesitations disguised as audacities, the tricks of prestidigitation by which, with such consummate skill, he managed to divert attention from the real business of the picture to some pretty irrelevance of detail. Mrs. Gisburn, presenting a neutral surface to work on--forming, as it were, so inevitably the background of her own picture--had lent herself in an unusual degree to the display of this false virtuosity. The picture was one of Jack's \"strongest,\" as his admirers would have put it--it represented, on his part, a swelling of muscles, a congesting of veins, a balancing, straddling and straining, that reminded one of the circus-clown's ironic efforts to lift a feather. It met, in short, at every point the demand of lovely woman to be painted \"strongly\" because she was tired of being painted \"sweetly\"--and yet not to lose an atom of the sweetness.\n",
      "\n",
      "\"It's the last he painted, you know,\" Mrs. Gisburn said with pardonable pride. \"The last but one,\" she corrected herself--\"but the other doesn't count, because he destroyed it.\"\n",
      "\n",
      "\"Destroyed it?\" I was about to follow up this clue when I heard a footstep and saw Jack himself on the threshold.\n",
      "\n",
      "As he stood there, his hands in the pockets of his velveteen coat, the thin brown waves of hair pushed back from his white forehead, his lean sunburnt cheeks furrowed by a smile that lifted the tips of a self-confident moustache, I felt to what a degree he had the same quality as his pictures--the quality of looking cleverer than he was.\n",
      "\n",
      "His wife glanced at him deprecatingly, but his eyes travelled past her to the portrait.\n",
      "\n",
      "\"Mr. Rickham wanted to see it,\" she began, as if excusing herself. He shrugged his shoulders, still smiling.\n",
      "\n",
      "\"Oh, Rickham found me out long ago,\" he said lightly; then, passing his arm through mine: \"Come and see the rest of the house.\"\n",
      "\n",
      "He showed it to me with a kind of naive suburban pride: the bath-rooms, the speaking-tubes, the dress-closets, the trouser-presses--all the complex simplifications of the millionaire's domestic economy. And whenever my wonder paid the expected tribute he said, throwing out his chest a little: \"Yes, I really don't see how people manage to live without that.\"\n",
      "\n",
      "Well--it was just the end one might have foreseen for him. Only he was, through it all and in spite of it all--as he had been through, and in spite of, his pictures--so handsome, so charming, so disarming, that one longed to cry out: \"Be dissatisfied with your leisure!\" as once one had longed to say: \"Be dissatisfied with your work!\"\n",
      "\n",
      "But, with the cry on my lips, my diagnosis suffered an unexpected check.\n",
      "\n",
      "\"This is my own lair,\" he said, leading me into a dark plain room at the end of the florid vista. It was square and brown and leathery: no \"effects\"; no bric-a-brac, none of the air of posing for reproduction in a picture weekly--above all, no least sign of ever having been used as a studio.\n",
      "\n",
      "The fact brought home to me the absolute finality of Jack's break with his old life.\n",
      "\n",
      "\"Don't you ever dabble with paint any more?\" I asked, still looking about for a trace of such activity.\n",
      "\n",
      "\"Never,\" he said briefly.\n",
      "\n",
      "\"Or water-colour--or etching?\"\n",
      "\n",
      "His confident eyes grew dim, and his cheeks paled a little under their handsome sunburn.\n",
      "\n",
      "\"Never think of it, my dear fellow--any more than if I'd never touched a brush.\"\n",
      "\n",
      "And his tone told me in a flash that he never thought of anything else.\n",
      "\n",
      "I moved away, instinctively embarrassed by my unexpected discovery; and as I turned, my eye fell on a small picture above the mantel-piece--the only object breaking the plain oak panelling of the room.\n",
      "\n",
      "\"Oh, by Jove!\" I said.\n",
      "\n",
      "It was a sketch of a donkey--an old tired donkey, standing in the rain under a wall.\n",
      "\n",
      "\"By Jove--a Stroud!\" I cried.\n",
      "\n",
      "He was silent; but I felt him close behind me, breathing a little quickly.\n",
      "\n",
      "\"What a wonder! Made with a dozen lines--but on everlasting foundations. You lucky chap, where did you get it?\"\n",
      "\n",
      "He answered slowly: \"Mrs. Stroud gave it to me.\"\n",
      "\n",
      "\"Ah--I didn't know you even knew the Strouds. He was such an inflexible hermit.\"\n",
      "\n",
      "\"I didn't--till after. . . . She sent for me to paint him when he was dead.\"\n",
      "\n",
      "\"When he was dead? You?\"\n",
      "\n",
      "I must have let a little too much amazement escape through my surprise, for he answered with a deprecating laugh: \"Yes--she's an awful simpleton, you know, Mrs. Stroud. Her only idea was to have him done by a fashionable painter--ah, poor Stroud! She thought it the surest way of proclaiming his greatness--of forcing it on a purblind public. And at the moment I was _the_ fashionable painter.\"\n",
      "\n",
      "\"Ah, poor Stroud--as you say. Was _that_ his history?\"\n",
      "\n",
      "\"That was his history. She believed in him, gloried in him--or thought she did. But she couldn't bear not to have all the drawing-rooms with her. She couldn't bear the fact that, on varnishing days, one could always get near enough to see his pictures. Poor woman! She's just a fragment groping for other fragments. Stroud is the only whole I ever knew.\"\n",
      "\n",
      "\"You ever knew? But you just said--\"\n",
      "\n",
      "Gisburn had a curious smile in his eyes.\n",
      "\n",
      "\"Oh, I knew him, and he knew me--only it happened after he was dead.\"\n",
      "\n",
      "I dropped my voice instinctively. \"When she sent for you?\"\n",
      "\n",
      "\"Yes--quite insensible to the irony. She wanted him vindicated--and by me!\"\n",
      "\n",
      "He laughed again, and threw back his head to look up at the sketch of the donkey. \"There were days when I couldn't look at that thing--couldn't face it. But I forced myself to put it here; and now it's cured me--cured me. That's the reason why I don't dabble any more, my dear Rickham; or rather Stroud himself is the reason.\"\n",
      "\n",
      "For the first time my idle curiosity about my companion turned into a serious desire to understand him better.\n",
      "\n",
      "\"I wish you'd tell me how it happened,\" I said.\n",
      "\n",
      "He stood looking up at the sketch, and twirling between his fingers a cigarette he had forgotten to light. Suddenly he turned toward me.\n",
      "\n",
      "\"I'd rather like to tell you--because I've always suspected you of loathing my work.\"\n",
      "\n",
      "I made a deprecating gesture, which he negatived with a good-humoured shrug.\n",
      "\n",
      "\"Oh, I didn't care a straw when I believed in myself--and now it's an added tie between us!\"\n",
      "\n",
      "He laughed slightly, without bitterness, and pushed one of the deep arm-chairs forward. \"There: make yourself comfortable--and here are the cigars you like.\"\n",
      "\n",
      "He placed them at my elbow and continued to wander up and down the room, stopping now and then beneath the picture.\n",
      "\n",
      "\"How it happened? I can tell you in five minutes--and it didn't take much longer to happen. . . . I can remember now how surprised and pleased I was when I got Mrs. Stroud's note. Of course, deep down, I had always _felt_ there was no one like him--only I had gone with the stream, echoed the usual platitudes about him, till I half got to think he was a failure, one of the kind that are left behind. By Jove, and he _was_ left behind--because he had come to stay! The rest of us had to let ourselves be swept along or go under, but he was high above the current--on everlasting foundations, as you say.\n",
      "\n",
      "\"Well, I went off to the house in my most egregious mood--rather moved, Lord forgive me, at the pathos of poor Stroud's career of failure being crowned by the glory of my painting him! Of course I meant to do the picture for nothing--I told Mrs. Stroud so when she began to stammer something about her poverty. I remember getting off a prodigious phrase about the honour being _mine_--oh, I was princely, my dear Rickham! I was posing to myself like one of my own sitters.\n",
      "\n",
      "\"Then I was taken up and left alone with him. I had sent all my traps in advance, and I had only to set up the easel and get to work. He had been dead only twenty-four hours, and he died suddenly, of heart disease, so that there had been no preliminary work of destruction--his face was clear and untouched. I had met him once or twice, years before, and thought him insignificant and dingy. Now I saw that he was superb.\n",
      "\n",
      "\"I was glad at first, with a merely aesthetic satisfaction: glad to have my hand on such a 'subject.' Then his strange life-likeness began to affect me queerly--as I blocked the head in I felt as if he were watching me do it. The sensation was followed by the thought: if he _were_ watching me, what would he say to my way of working? My strokes began to go a little wild--I felt nervous and uncertain.\n",
      "\n",
      "\"Once, when I looked up, I seemed to see a smile behind his close grayish beard--as if he had the secret, and were amusing himself by holding it back from me. That exasperated me still more. The secret? Why, I had a secret worth twenty of his! I dashed at the canvas furiously, and tried some of my bravura tricks. But they failed me, they crumbled. I saw that he wasn't watching the showy bits--I couldn't distract his attention; he just kept his eyes on the hard passages between. Those were the ones I had always shirked, or covered up with some lying paint. And how he saw through my lies!\n",
      "\n",
      "\"I looked up again, and caught sight of that sketch of the donkey hanging on the wall near his bed. His wife told me afterward it was the last thing he had done--just a note taken with a shaking hand, when he was down in Devonshire recovering from a previous heart attack. Just a note! But it tells his whole history. There are years of patient scornful persistence in every line. A man who had swum with the current could never have learned that mighty up-stream stroke. . . .\n",
      "\n",
      "\"I turned back to my work, and went on groping and muddling; then I looked at the donkey again. I saw that, when Stroud laid in the first stroke, he knew just what the end would be. He had possessed his subject, absorbed it, recreated it. When had I done that with any of my things? They hadn't been born of me--I had just adopted them. . . .\n",
      "\n",
      "\"Hang it, Rickham, with that face watching me I couldn't do another stroke. The plain truth was, I didn't know where to put it--_I had never known_. Only, with my sitters and my public, a showy splash of colour covered up the fact--I just threw paint into their faces. . . . Well, paint was the one medium those dead eyes could see through--see straight to the tottering foundations underneath. Don't you know how, in talking a foreign language, even fluently, one says half the time not what one wants to but what one can? Well--that was the way I painted; and as he lay there and watched me, the thing they called my 'technique' collapsed like a house of cards. He didn't sneer, you understand, poor Stroud--he just lay there quietly watching, and on his lips, through the gray beard, I seemed to hear the question: 'Are you sure you know where you're coming out?'\n",
      "\n",
      "\"If I could have painted that face, with that question on it, I should have done a great thing. The next greatest thing was to see that I couldn't--and that grace was given me. But, oh, at that minute, Rickham, was there anything on earth I wouldn't have given to have Stroud alive before me, and to hear him say: 'It's not too late--I'll show you how'?\n",
      "\n",
      "\"It _was_ too late--it would have been, even if he'd been alive. I packed up my traps, and went down and told Mrs. Stroud. Of course I didn't tell her _that_--it would have been Greek to her. I simply said I couldn't paint him, that I was too moved. She rather liked the idea--she's so romantic! It was that that made her give me the donkey. But she was terribly upset at not getting the portrait--she did so want him 'done' by some one showy! At first I was afraid she wouldn't let me off--and at my wits' end I suggested Grindle. Yes, it was I who started Grindle: I told Mrs. Stroud he was the 'coming' man, and she told somebody else, and so it got to be true. . . . And he painted Stroud without wincing; and she hung the picture among her husband's things. . . .\"\n",
      "\n",
      "He flung himself down in the arm-chair near mine, laid back his head, and clasping his arms beneath it, looked up at the picture above the chimney-piece.\n",
      "\n",
      "\"I like to fancy that Stroud himself would have given it to me, if he'd been able to say what he thought that day.\"\n",
      "\n",
      "And, in answer to a question I put half-mechanically--\"Begin again?\" he flashed out. \"When the one thing that brings me anywhere near him is that I knew enough to leave off?\"\n",
      "\n",
      "He stood up and laid his hand on my shoulder with a laugh. \"Only the irony of it is that I _am_ still painting--since Grindle's doing it for me! The Strouds stand alone, and happen once--but there's no exterminating our kind of art.\"\n"
     ]
    }
   ],
   "execution_count": 2
  },
  {
   "metadata": {
    "ExecuteTime": {
     "end_time": "2025-08-07T06:10:03.904705Z",
     "start_time": "2025-08-07T06:10:03.901808Z"
    }
   },
   "cell_type": "code",
   "source": [
    "import re\n",
    "\n",
    "sample_text = \"Hello, world. This, is a test.\"\n",
    "result = re.findall(r\"\\w+|[^\\w\\s]\", sample_text)\n",
    "print(result)"
   ],
   "id": "afb0bff5ee875eed",
   "outputs": [
    {
     "name": "stdout",
     "output_type": "stream",
     "text": [
      "['Hello', ',', 'world', '.', 'This', ',', 'is', 'a', 'test', '.']\n"
     ]
    }
   ],
   "execution_count": 3
  },
  {
   "metadata": {
    "ExecuteTime": {
     "end_time": "2025-08-07T06:10:03.957758Z",
     "start_time": "2025-08-07T06:10:03.953157Z"
    }
   },
   "cell_type": "code",
   "source": [
    "result = re.findall(r\"\\w+|\\s+|[^\\w\\s]\", raw_text)\n",
    "print(result)"
   ],
   "id": "92b978c65b277e23",
   "outputs": [
    {
     "name": "stdout",
     "output_type": "stream",
     "text": [
      "['I', ' ', 'HAD', ' ', 'always', ' ', 'thought', ' ', 'Jack', ' ', 'Gisburn', ' ', 'rather', ' ', 'a', ' ', 'cheap', ' ', 'genius', '-', '-', 'though', ' ', 'a', ' ', 'good', ' ', 'fellow', ' ', 'enough', '-', '-', 'so', ' ', 'it', ' ', 'was', ' ', 'no', ' ', 'great', ' ', 'surprise', ' ', 'to', ' ', 'me', ' ', 'to', ' ', 'hear', ' ', 'that', ',', ' ', 'in', ' ', 'the', ' ', 'height', ' ', 'of', ' ', 'his', ' ', 'glory', ',', ' ', 'he', ' ', 'had', ' ', 'dropped', ' ', 'his', ' ', 'painting', ',', ' ', 'married', ' ', 'a', ' ', 'rich', ' ', 'widow', ',', ' ', 'and', ' ', 'established', ' ', 'himself', ' ', 'in', ' ', 'a', ' ', 'villa', ' ', 'on', ' ', 'the', ' ', 'Riviera', '.', ' ', '(', 'Though', ' ', 'I', ' ', 'rather', ' ', 'thought', ' ', 'it', ' ', 'would', ' ', 'have', ' ', 'been', ' ', 'Rome', ' ', 'or', ' ', 'Florence', '.', ')', '\\n\\n', '\"', 'The', ' ', 'height', ' ', 'of', ' ', 'his', ' ', 'glory', '\"', '-', '-', 'that', ' ', 'was', ' ', 'what', ' ', 'the', ' ', 'women', ' ', 'called', ' ', 'it', '.', ' ', 'I', ' ', 'can', ' ', 'hear', ' ', 'Mrs', '.', ' ', 'Gideon', ' ', 'Thwing', '-', '-', 'his', ' ', 'last', ' ', 'Chicago', ' ', 'sitter', '-', '-', 'deploring', ' ', 'his', ' ', 'unaccountable', ' ', 'abdication', '.', ' ', '\"', 'Of', ' ', 'course', ' ', 'it', \"'\", 's', ' ', 'going', ' ', 'to', ' ', 'send', ' ', 'the', ' ', 'value', ' ', 'of', ' ', 'my', ' ', 'picture', ' ', \"'\", 'way', ' ', 'up', ';', ' ', 'but', ' ', 'I', ' ', 'don', \"'\", 't', ' ', 'think', ' ', 'of', ' ', 'that', ',', ' ', 'Mr', '.', ' ', 'Rickham', '-', '-', 'the', ' ', 'loss', ' ', 'to', ' ', 'Arrt', ' ', 'is', ' ', 'all', ' ', 'I', ' ', 'think', ' ', 'of', '.', '\"', ' ', 'The', ' ', 'word', ',', ' ', 'on', ' ', 'Mrs', '.', ' ', 'Thwing', \"'\", 's', ' ', 'lips', ',', ' ', 'multiplied', ' ', 'its', ' ', '_rs_', ' ', 'as', ' ', 'though', ' ', 'they', ' ', 'were', ' ', 'reflected', ' ', 'in', ' ', 'an', ' ', 'endless', ' ', 'vista', ' ', 'of', ' ', 'mirrors', '.', ' ', 'And', ' ', 'it', ' ', 'was', ' ', 'not', ' ', 'only', ' ', 'the', ' ', 'Mrs', '.', ' ', 'Thwings', ' ', 'who', ' ', 'mourned', '.', ' ', 'Had', ' ', 'not', ' ', 'the', ' ', 'exquisite', ' ', 'Hermia', ' ', 'Croft', ',', ' ', 'at', ' ', 'the', ' ', 'last', ' ', 'Grafton', ' ', 'Gallery', ' ', 'show', ',', ' ', 'stopped', ' ', 'me', ' ', 'before', ' ', 'Gisburn', \"'\", 's', ' ', '\"', 'Moon', '-', 'dancers', '\"', ' ', 'to', ' ', 'say', ',', ' ', 'with', ' ', 'tears', ' ', 'in', ' ', 'her', ' ', 'eyes', ':', ' ', '\"', 'We', ' ', 'shall', ' ', 'not', ' ', 'look', ' ', 'upon', ' ', 'its', ' ', 'like', ' ', 'again', '\"', '?', '\\n\\n', 'Well', '!', '-', '-', 'even', ' ', 'through', ' ', 'the', ' ', 'prism', ' ', 'of', ' ', 'Hermia', \"'\", 's', ' ', 'tears', ' ', 'I', ' ', 'felt', ' ', 'able', ' ', 'to', ' ', 'face', ' ', 'the', ' ', 'fact', ' ', 'with', ' ', 'equanimity', '.', ' ', 'Poor', ' ', 'Jack', ' ', 'Gisburn', '!', ' ', 'The', ' ', 'women', ' ', 'had', ' ', 'made', ' ', 'him', '-', '-', 'it', ' ', 'was', ' ', 'fitting', ' ', 'that', ' ', 'they', ' ', 'should', ' ', 'mourn', ' ', 'him', '.', ' ', 'Among', ' ', 'his', ' ', 'own', ' ', 'sex', ' ', 'fewer', ' ', 'regrets', ' ', 'were', ' ', 'heard', ',', ' ', 'and', ' ', 'in', ' ', 'his', ' ', 'own', ' ', 'trade', ' ', 'hardly', ' ', 'a', ' ', 'murmur', '.', ' ', 'Professional', ' ', 'jealousy', '?', ' ', 'Perhaps', '.', ' ', 'If', ' ', 'it', ' ', 'were', ',', ' ', 'the', ' ', 'honour', ' ', 'of', ' ', 'the', ' ', 'craft', ' ', 'was', ' ', 'vindicated', ' ', 'by', ' ', 'little', ' ', 'Claude', ' ', 'Nutley', ',', ' ', 'who', ',', ' ', 'in', ' ', 'all', ' ', 'good', ' ', 'faith', ',', ' ', 'brought', ' ', 'out', ' ', 'in', ' ', 'the', ' ', 'Burlington', ' ', 'a', ' ', 'very', ' ', 'handsome', ' ', '\"', 'obituary', '\"', ' ', 'on', ' ', 'Jack', '-', '-', 'one', ' ', 'of', ' ', 'those', ' ', 'showy', ' ', 'articles', ' ', 'stocked', ' ', 'with', ' ', 'random', ' ', 'technicalities', ' ', 'that', ' ', 'I', ' ', 'have', ' ', 'heard', ' ', '(', 'I', ' ', 'won', \"'\", 't', ' ', 'say', ' ', 'by', ' ', 'whom', ')', ' ', 'compared', ' ', 'to', ' ', 'Gisburn', \"'\", 's', ' ', 'painting', '.', ' ', 'And', ' ', 'so', '-', '-', 'his', ' ', 'resolve', ' ', 'being', ' ', 'apparently', ' ', 'irrevocable', '-', '-', 'the', ' ', 'discussion', ' ', 'gradually', ' ', 'died', ' ', 'out', ',', ' ', 'and', ',', ' ', 'as', ' ', 'Mrs', '.', ' ', 'Thwing', ' ', 'had', ' ', 'predicted', ',', ' ', 'the', ' ', 'price', ' ', 'of', ' ', '\"', 'Gisburns', '\"', ' ', 'went', ' ', 'up', '.', '\\n\\n', 'It', ' ', 'was', ' ', 'not', ' ', 'till', ' ', 'three', ' ', 'years', ' ', 'later', ' ', 'that', ',', ' ', 'in', ' ', 'the', ' ', 'course', ' ', 'of', ' ', 'a', ' ', 'few', ' ', 'weeks', \"'\", ' ', 'idling', ' ', 'on', ' ', 'the', ' ', 'Riviera', ',', ' ', 'it', ' ', 'suddenly', ' ', 'occurred', ' ', 'to', ' ', 'me', ' ', 'to', ' ', 'wonder', ' ', 'why', ' ', 'Gisburn', ' ', 'had', ' ', 'given', ' ', 'up', ' ', 'his', ' ', 'painting', '.', ' ', 'On', ' ', 'reflection', ',', ' ', 'it', ' ', 'really', ' ', 'was', ' ', 'a', ' ', 'tempting', ' ', 'problem', '.', ' ', 'To', ' ', 'accuse', ' ', 'his', ' ', 'wife', ' ', 'would', ' ', 'have', ' ', 'been', ' ', 'too', ' ', 'easy', '-', '-', 'his', ' ', 'fair', ' ', 'sitters', ' ', 'had', ' ', 'been', ' ', 'denied', ' ', 'the', ' ', 'solace', ' ', 'of', ' ', 'saying', ' ', 'that', ' ', 'Mrs', '.', ' ', 'Gisburn', ' ', 'had', ' ', '\"', 'dragged', ' ', 'him', ' ', 'down', '.', '\"', ' ', 'For', ' ', 'Mrs', '.', ' ', 'Gisburn', '-', '-', 'as', ' ', 'such', '-', '-', 'had', ' ', 'not', ' ', 'existed', ' ', 'till', ' ', 'nearly', ' ', 'a', ' ', 'year', ' ', 'after', ' ', 'Jack', \"'\", 's', ' ', 'resolve', ' ', 'had', ' ', 'been', ' ', 'taken', '.', ' ', 'It', ' ', 'might', ' ', 'be', ' ', 'that', ' ', 'he', ' ', 'had', ' ', 'married', ' ', 'her', '-', '-', 'since', ' ', 'he', ' ', 'liked', ' ', 'his', ' ', 'ease', '-', '-', 'because', ' ', 'he', ' ', 'didn', \"'\", 't', ' ', 'want', ' ', 'to', ' ', 'go', ' ', 'on', ' ', 'painting', ';', ' ', 'but', ' ', 'it', ' ', 'would', ' ', 'have', ' ', 'been', ' ', 'hard', ' ', 'to', ' ', 'prove', ' ', 'that', ' ', 'he', ' ', 'had', ' ', 'given', ' ', 'up', ' ', 'his', ' ', 'painting', ' ', 'because', ' ', 'he', ' ', 'had', ' ', 'married', ' ', 'her', '.', '\\n\\n', 'Of', ' ', 'course', ',', ' ', 'if', ' ', 'she', ' ', 'had', ' ', 'not', ' ', 'dragged', ' ', 'him', ' ', 'down', ',', ' ', 'she', ' ', 'had', ' ', 'equally', ',', ' ', 'as', ' ', 'Miss', ' ', 'Croft', ' ', 'contended', ',', ' ', 'failed', ' ', 'to', ' ', '\"', 'lift', ' ', 'him', ' ', 'up', '\"', '-', '-', 'she', ' ', 'had', ' ', 'not', ' ', 'led', ' ', 'him', ' ', 'back', ' ', 'to', ' ', 'the', ' ', 'easel', '.', ' ', 'To', ' ', 'put', ' ', 'the', ' ', 'brush', ' ', 'into', ' ', 'his', ' ', 'hand', ' ', 'again', '-', '-', 'what', ' ', 'a', ' ', 'vocation', ' ', 'for', ' ', 'a', ' ', 'wife', '!', ' ', 'But', ' ', 'Mrs', '.', ' ', 'Gisburn', ' ', 'appeared', ' ', 'to', ' ', 'have', ' ', 'disdained', ' ', 'it', '-', '-', 'and', ' ', 'I', ' ', 'felt', ' ', 'it', ' ', 'might', ' ', 'be', ' ', 'interesting', ' ', 'to', ' ', 'find', ' ', 'out', ' ', 'why', '.', '\\n\\n', 'The', ' ', 'desultory', ' ', 'life', ' ', 'of', ' ', 'the', ' ', 'Riviera', ' ', 'lends', ' ', 'itself', ' ', 'to', ' ', 'such', ' ', 'purely', ' ', 'academic', ' ', 'speculations', ';', ' ', 'and', ' ', 'having', ',', ' ', 'on', ' ', 'my', ' ', 'way', ' ', 'to', ' ', 'Monte', ' ', 'Carlo', ',', ' ', 'caught', ' ', 'a', ' ', 'glimpse', ' ', 'of', ' ', 'Jack', \"'\", 's', ' ', 'balustraded', ' ', 'terraces', ' ', 'between', ' ', 'the', ' ', 'pines', ',', ' ', 'I', ' ', 'had', ' ', 'myself', ' ', 'borne', ' ', 'thither', ' ', 'the', ' ', 'next', ' ', 'day', '.', '\\n\\n', 'I', ' ', 'found', ' ', 'the', ' ', 'couple', ' ', 'at', ' ', 'tea', ' ', 'beneath', ' ', 'their', ' ', 'palm', '-', 'trees', ';', ' ', 'and', ' ', 'Mrs', '.', ' ', 'Gisburn', \"'\", 's', ' ', 'welcome', ' ', 'was', ' ', 'so', ' ', 'genial', ' ', 'that', ',', ' ', 'in', ' ', 'the', ' ', 'ensuing', ' ', 'weeks', ',', ' ', 'I', ' ', 'claimed', ' ', 'it', ' ', 'frequently', '.', ' ', 'It', ' ', 'was', ' ', 'not', ' ', 'that', ' ', 'my', ' ', 'hostess', ' ', 'was', ' ', '\"', 'interesting', '\"', ':', ' ', 'on', ' ', 'that', ' ', 'point', ' ', 'I', ' ', 'could', ' ', 'have', ' ', 'given', ' ', 'Miss', ' ', 'Croft', ' ', 'the', ' ', 'fullest', ' ', 'reassurance', '.', ' ', 'It', ' ', 'was', ' ', 'just', ' ', 'because', ' ', 'she', ' ', 'was', ' ', '_not_', ' ', 'interesting', '-', '-', 'if', ' ', 'I', ' ', 'may', ' ', 'be', ' ', 'pardoned', ' ', 'the', ' ', 'bull', '-', '-', 'that', ' ', 'I', ' ', 'found', ' ', 'her', ' ', 'so', '.', ' ', 'For', ' ', 'Jack', ',', ' ', 'all', ' ', 'his', ' ', 'life', ',', ' ', 'had', ' ', 'been', ' ', 'surrounded', ' ', 'by', ' ', 'interesting', ' ', 'women', ':', ' ', 'they', ' ', 'had', ' ', 'fostered', ' ', 'his', ' ', 'art', ',', ' ', 'it', ' ', 'had', ' ', 'been', ' ', 'reared', ' ', 'in', ' ', 'the', ' ', 'hot', '-', 'house', ' ', 'of', ' ', 'their', ' ', 'adulation', '.', ' ', 'And', ' ', 'it', ' ', 'was', ' ', 'therefore', ' ', 'instructive', ' ', 'to', ' ', 'note', ' ', 'what', ' ', 'effect', ' ', 'the', ' ', '\"', 'deadening', ' ', 'atmosphere', ' ', 'of', ' ', 'mediocrity', '\"', ' ', '(', 'I', ' ', 'quote', ' ', 'Miss', ' ', 'Croft', ')', ' ', 'was', ' ', 'having', ' ', 'on', ' ', 'him', '.', '\\n\\n', 'I', ' ', 'have', ' ', 'mentioned', ' ', 'that', ' ', 'Mrs', '.', ' ', 'Gisburn', ' ', 'was', ' ', 'rich', ';', ' ', 'and', ' ', 'it', ' ', 'was', ' ', 'immediately', ' ', 'perceptible', ' ', 'that', ' ', 'her', ' ', 'husband', ' ', 'was', ' ', 'extracting', ' ', 'from', ' ', 'this', ' ', 'circumstance', ' ', 'a', ' ', 'delicate', ' ', 'but', ' ', 'substantial', ' ', 'satisfaction', '.', ' ', 'It', ' ', 'is', ',', ' ', 'as', ' ', 'a', ' ', 'rule', ',', ' ', 'the', ' ', 'people', ' ', 'who', ' ', 'scorn', ' ', 'money', ' ', 'who', ' ', 'get', ' ', 'most', ' ', 'out', ' ', 'of', ' ', 'it', ';', ' ', 'and', ' ', 'Jack', \"'\", 's', ' ', 'elegant', ' ', 'disdain', ' ', 'of', ' ', 'his', ' ', 'wife', \"'\", 's', ' ', 'big', ' ', 'balance', ' ', 'enabled', ' ', 'him', ',', ' ', 'with', ' ', 'an', ' ', 'appearance', ' ', 'of', ' ', 'perfect', ' ', 'good', '-', 'breeding', ',', ' ', 'to', ' ', 'transmute', ' ', 'it', ' ', 'into', ' ', 'objects', ' ', 'of', ' ', 'art', ' ', 'and', ' ', 'luxury', '.', ' ', 'To', ' ', 'the', ' ', 'latter', ',', ' ', 'I', ' ', 'must', ' ', 'add', ',', ' ', 'he', ' ', 'remained', ' ', 'relatively', ' ', 'indifferent', ';', ' ', 'but', ' ', 'he', ' ', 'was', ' ', 'buying', ' ', 'Renaissance', ' ', 'bronzes', ' ', 'and', ' ', 'eighteenth', '-', 'century', ' ', 'pictures', ' ', 'with', ' ', 'a', ' ', 'discrimination', ' ', 'that', ' ', 'bespoke', ' ', 'the', ' ', 'amplest', ' ', 'resources', '.', '\\n\\n', '\"', 'Money', \"'\", 's', ' ', 'only', ' ', 'excuse', ' ', 'is', ' ', 'to', ' ', 'put', ' ', 'beauty', ' ', 'into', ' ', 'circulation', ',', '\"', ' ', 'was', ' ', 'one', ' ', 'of', ' ', 'the', ' ', 'axioms', ' ', 'he', ' ', 'laid', ' ', 'down', ' ', 'across', ' ', 'the', ' ', 'Sevres', ' ', 'and', ' ', 'silver', ' ', 'of', ' ', 'an', ' ', 'exquisitely', ' ', 'appointed', ' ', 'luncheon', '-', 'table', ',', ' ', 'when', ',', ' ', 'on', ' ', 'a', ' ', 'later', ' ', 'day', ',', ' ', 'I', ' ', 'had', ' ', 'again', ' ', 'run', ' ', 'over', ' ', 'from', ' ', 'Monte', ' ', 'Carlo', ';', ' ', 'and', ' ', 'Mrs', '.', ' ', 'Gisburn', ',', ' ', 'beaming', ' ', 'on', ' ', 'him', ',', ' ', 'added', ' ', 'for', ' ', 'my', ' ', 'enlightenment', ':', ' ', '\"', 'Jack', ' ', 'is', ' ', 'so', ' ', 'morbidly', ' ', 'sensitive', ' ', 'to', ' ', 'every', ' ', 'form', ' ', 'of', ' ', 'beauty', '.', '\"', '\\n\\n', 'Poor', ' ', 'Jack', '!', ' ', 'It', ' ', 'had', ' ', 'always', ' ', 'been', ' ', 'his', ' ', 'fate', ' ', 'to', ' ', 'have', ' ', 'women', ' ', 'say', ' ', 'such', ' ', 'things', ' ', 'of', ' ', 'him', ':', ' ', 'the', ' ', 'fact', ' ', 'should', ' ', 'be', ' ', 'set', ' ', 'down', ' ', 'in', ' ', 'extenuation', '.', ' ', 'What', ' ', 'struck', ' ', 'me', ' ', 'now', ' ', 'was', ' ', 'that', ',', ' ', 'for', ' ', 'the', ' ', 'first', ' ', 'time', ',', ' ', 'he', ' ', 'resented', ' ', 'the', ' ', 'tone', '.', ' ', 'I', ' ', 'had', ' ', 'seen', ' ', 'him', ',', ' ', 'so', ' ', 'often', ',', ' ', 'basking', ' ', 'under', ' ', 'similar', ' ', 'tributes', '-', '-', 'was', ' ', 'it', ' ', 'the', ' ', 'conjugal', ' ', 'note', ' ', 'that', ' ', 'robbed', ' ', 'them', ' ', 'of', ' ', 'their', ' ', 'savour', '?', ' ', 'No', '-', '-', 'for', ',', ' ', 'oddly', ' ', 'enough', ',', ' ', 'it', ' ', 'became', ' ', 'apparent', ' ', 'that', ' ', 'he', ' ', 'was', ' ', 'fond', ' ', 'of', ' ', 'Mrs', '.', ' ', 'Gisburn', '-', '-', 'fond', ' ', 'enough', ' ', 'not', ' ', 'to', ' ', 'see', ' ', 'her', ' ', 'absurdity', '.', ' ', 'It', ' ', 'was', ' ', 'his', ' ', 'own', ' ', 'absurdity', ' ', 'he', ' ', 'seemed', ' ', 'to', ' ', 'be', ' ', 'wincing', ' ', 'under', '-', '-', 'his', ' ', 'own', ' ', 'attitude', ' ', 'as', ' ', 'an', ' ', 'object', ' ', 'for', ' ', 'garlands', ' ', 'and', ' ', 'incense', '.', '\\n\\n', '\"', 'My', ' ', 'dear', ',', ' ', 'since', ' ', 'I', \"'\", 've', ' ', 'chucked', ' ', 'painting', ' ', 'people', ' ', 'don', \"'\", 't', ' ', 'say', ' ', 'that', ' ', 'stuff', ' ', 'about', ' ', 'me', '-', '-', 'they', ' ', 'say', ' ', 'it', ' ', 'about', ' ', 'Victor', ' ', 'Grindle', ',', '\"', ' ', 'was', ' ', 'his', ' ', 'only', ' ', 'protest', ',', ' ', 'as', ' ', 'he', ' ', 'rose', ' ', 'from', ' ', 'the', ' ', 'table', ' ', 'and', ' ', 'strolled', ' ', 'out', ' ', 'onto', ' ', 'the', ' ', 'sunlit', ' ', 'terrace', '.', '\\n\\n', 'I', ' ', 'glanced', ' ', 'after', ' ', 'him', ',', ' ', 'struck', ' ', 'by', ' ', 'his', ' ', 'last', ' ', 'word', '.', ' ', 'Victor', ' ', 'Grindle', ' ', 'was', ',', ' ', 'in', ' ', 'fact', ',', ' ', 'becoming', ' ', 'the', ' ', 'man', ' ', 'of', ' ', 'the', ' ', 'moment', '-', '-', 'as', ' ', 'Jack', ' ', 'himself', ',', ' ', 'one', ' ', 'might', ' ', 'put', ' ', 'it', ',', ' ', 'had', ' ', 'been', ' ', 'the', ' ', 'man', ' ', 'of', ' ', 'the', ' ', 'hour', '.', ' ', 'The', ' ', 'younger', ' ', 'artist', ' ', 'was', ' ', 'said', ' ', 'to', ' ', 'have', ' ', 'formed', ' ', 'himself', ' ', 'at', ' ', 'my', ' ', 'friend', \"'\", 's', ' ', 'feet', ',', ' ', 'and', ' ', 'I', ' ', 'wondered', ' ', 'if', ' ', 'a', ' ', 'tinge', ' ', 'of', ' ', 'jealousy', ' ', 'underlay', ' ', 'the', ' ', 'latter', \"'\", 's', ' ', 'mysterious', ' ', 'abdication', '.', ' ', 'But', ' ', 'no', '-', '-', 'for', ' ', 'it', ' ', 'was', ' ', 'not', ' ', 'till', ' ', 'after', ' ', 'that', ' ', 'event', ' ', 'that', ' ', 'the', ' ', '_rose', ' ', 'Dubarry_', ' ', 'drawing', '-', 'rooms', ' ', 'had', ' ', 'begun', ' ', 'to', ' ', 'display', ' ', 'their', ' ', '\"', 'Grindles', '.', '\"', '\\n\\n', 'I', ' ', 'turned', ' ', 'to', ' ', 'Mrs', '.', ' ', 'Gisburn', ',', ' ', 'who', ' ', 'had', ' ', 'lingered', ' ', 'to', ' ', 'give', ' ', 'a', ' ', 'lump', ' ', 'of', ' ', 'sugar', ' ', 'to', ' ', 'her', ' ', 'spaniel', ' ', 'in', ' ', 'the', ' ', 'dining', '-', 'room', '.', '\\n\\n', '\"', 'Why', ' ', '_has_', ' ', 'he', ' ', 'chucked', ' ', 'painting', '?', '\"', ' ', 'I', ' ', 'asked', ' ', 'abruptly', '.', '\\n\\n', 'She', ' ', 'raised', ' ', 'her', ' ', 'eyebrows', ' ', 'with', ' ', 'a', ' ', 'hint', ' ', 'of', ' ', 'good', '-', 'humoured', ' ', 'surprise', '.', '\\n\\n', '\"', 'Oh', ',', ' ', 'he', ' ', 'doesn', \"'\", 't', ' ', '_have_', ' ', 'to', ' ', 'now', ',', ' ', 'you', ' ', 'know', ';', ' ', 'and', ' ', 'I', ' ', 'want', ' ', 'him', ' ', 'to', ' ', 'enjoy', ' ', 'himself', ',', '\"', ' ', 'she', ' ', 'said', ' ', 'quite', ' ', 'simply', '.', '\\n\\n', 'I', ' ', 'looked', ' ', 'about', ' ', 'the', ' ', 'spacious', ' ', 'white', '-', 'panelled', ' ', 'room', ',', ' ', 'with', ' ', 'its', ' ', '_famille', '-', 'verte_', ' ', 'vases', ' ', 'repeating', ' ', 'the', ' ', 'tones', ' ', 'of', ' ', 'the', ' ', 'pale', ' ', 'damask', ' ', 'curtains', ',', ' ', 'and', ' ', 'its', ' ', 'eighteenth', '-', 'century', ' ', 'pastels', ' ', 'in', ' ', 'delicate', ' ', 'faded', ' ', 'frames', '.', '\\n\\n', '\"', 'Has', ' ', 'he', ' ', 'chucked', ' ', 'his', ' ', 'pictures', ' ', 'too', '?', ' ', 'I', ' ', 'haven', \"'\", 't', ' ', 'seen', ' ', 'a', ' ', 'single', ' ', 'one', ' ', 'in', ' ', 'the', ' ', 'house', '.', '\"', '\\n\\n', 'A', ' ', 'slight', ' ', 'shade', ' ', 'of', ' ', 'constraint', ' ', 'crossed', ' ', 'Mrs', '.', ' ', 'Gisburn', \"'\", 's', ' ', 'open', ' ', 'countenance', '.', ' ', '\"', 'It', \"'\", 's', ' ', 'his', ' ', 'ridiculous', ' ', 'modesty', ',', ' ', 'you', ' ', 'know', '.', ' ', 'He', ' ', 'says', ' ', 'they', \"'\", 're', ' ', 'not', ' ', 'fit', ' ', 'to', ' ', 'have', ' ', 'about', ';', ' ', 'he', \"'\", 's', ' ', 'sent', ' ', 'them', ' ', 'all', ' ', 'away', ' ', 'except', ' ', 'one', '-', '-', 'my', ' ', 'portrait', '-', '-', 'and', ' ', 'that', ' ', 'I', ' ', 'have', ' ', 'to', ' ', 'keep', ' ', 'upstairs', '.', '\"', '\\n\\n', 'His', ' ', 'ridiculous', ' ', 'modesty', '-', '-', 'Jack', \"'\", 's', ' ', 'modesty', ' ', 'about', ' ', 'his', ' ', 'pictures', '?', ' ', 'My', ' ', 'curiosity', ' ', 'was', ' ', 'growing', ' ', 'like', ' ', 'the', ' ', 'bean', '-', 'stalk', '.', ' ', 'I', ' ', 'said', ' ', 'persuasively', ' ', 'to', ' ', 'my', ' ', 'hostess', ':', ' ', '\"', 'I', ' ', 'must', ' ', 'really', ' ', 'see', ' ', 'your', ' ', 'portrait', ',', ' ', 'you', ' ', 'know', '.', '\"', '\\n\\n', 'She', ' ', 'glanced', ' ', 'out', ' ', 'almost', ' ', 'timorously', ' ', 'at', ' ', 'the', ' ', 'terrace', ' ', 'where', ' ', 'her', ' ', 'husband', ',', ' ', 'lounging', ' ', 'in', ' ', 'a', ' ', 'hooded', ' ', 'chair', ',', ' ', 'had', ' ', 'lit', ' ', 'a', ' ', 'cigar', ' ', 'and', ' ', 'drawn', ' ', 'the', ' ', 'Russian', ' ', 'deerhound', \"'\", 's', ' ', 'head', ' ', 'between', ' ', 'his', ' ', 'knees', '.', '\\n\\n', '\"', 'Well', ',', ' ', 'come', ' ', 'while', ' ', 'he', \"'\", 's', ' ', 'not', ' ', 'looking', ',', '\"', ' ', 'she', ' ', 'said', ',', ' ', 'with', ' ', 'a', ' ', 'laugh', ' ', 'that', ' ', 'tried', ' ', 'to', ' ', 'hide', ' ', 'her', ' ', 'nervousness', ';', ' ', 'and', ' ', 'I', ' ', 'followed', ' ', 'her', ' ', 'between', ' ', 'the', ' ', 'marble', ' ', 'Emperors', ' ', 'of', ' ', 'the', ' ', 'hall', ',', ' ', 'and', ' ', 'up', ' ', 'the', ' ', 'wide', ' ', 'stairs', ' ', 'with', ' ', 'terra', '-', 'cotta', ' ', 'nymphs', ' ', 'poised', ' ', 'among', ' ', 'flowers', ' ', 'at', ' ', 'each', ' ', 'landing', '.', '\\n\\n', 'In', ' ', 'the', ' ', 'dimmest', ' ', 'corner', ' ', 'of', ' ', 'her', ' ', 'boudoir', ',', ' ', 'amid', ' ', 'a', ' ', 'profusion', ' ', 'of', ' ', 'delicate', ' ', 'and', ' ', 'distinguished', ' ', 'objects', ',', ' ', 'hung', ' ', 'one', ' ', 'of', ' ', 'the', ' ', 'familiar', ' ', 'oval', ' ', 'canvases', ',', ' ', 'in', ' ', 'the', ' ', 'inevitable', ' ', 'garlanded', ' ', 'frame', '.', ' ', 'The', ' ', 'mere', ' ', 'outline', ' ', 'of', ' ', 'the', ' ', 'frame', ' ', 'called', ' ', 'up', ' ', 'all', ' ', 'Gisburn', \"'\", 's', ' ', 'past', '!', '\\n\\n', 'Mrs', '.', ' ', 'Gisburn', ' ', 'drew', ' ', 'back', ' ', 'the', ' ', 'window', '-', 'curtains', ',', ' ', 'moved', ' ', 'aside', ' ', 'a', ' ', '_jardiniere_', ' ', 'full', ' ', 'of', ' ', 'pink', ' ', 'azaleas', ',', ' ', 'pushed', ' ', 'an', ' ', 'arm', '-', 'chair', ' ', 'away', ',', ' ', 'and', ' ', 'said', ':', ' ', '\"', 'If', ' ', 'you', ' ', 'stand', ' ', 'here', ' ', 'you', ' ', 'can', ' ', 'just', ' ', 'manage', ' ', 'to', ' ', 'see', ' ', 'it', '.', ' ', 'I', ' ', 'had', ' ', 'it', ' ', 'over', ' ', 'the', ' ', 'mantel', '-', 'piece', ',', ' ', 'but', ' ', 'he', ' ', 'wouldn', \"'\", 't', ' ', 'let', ' ', 'it', ' ', 'stay', '.', '\"', '\\n\\n', 'Yes', '-', '-', 'I', ' ', 'could', ' ', 'just', ' ', 'manage', ' ', 'to', ' ', 'see', ' ', 'it', '-', '-', 'the', ' ', 'first', ' ', 'portrait', ' ', 'of', ' ', 'Jack', \"'\", 's', ' ', 'I', ' ', 'had', ' ', 'ever', ' ', 'had', ' ', 'to', ' ', 'strain', ' ', 'my', ' ', 'eyes', ' ', 'over', '!', ' ', 'Usually', ' ', 'they', ' ', 'had', ' ', 'the', ' ', 'place', ' ', 'of', ' ', 'honour', '-', '-', 'say', ' ', 'the', ' ', 'central', ' ', 'panel', ' ', 'in', ' ', 'a', ' ', 'pale', ' ', 'yellow', ' ', 'or', ' ', '_rose', ' ', 'Dubarry_', ' ', 'drawing', '-', 'room', ',', ' ', 'or', ' ', 'a', ' ', 'monumental', ' ', 'easel', ' ', 'placed', ' ', 'so', ' ', 'that', ' ', 'it', ' ', 'took', ' ', 'the', ' ', 'light', ' ', 'through', ' ', 'curtains', ' ', 'of', ' ', 'old', ' ', 'Venetian', ' ', 'point', '.', ' ', 'The', ' ', 'more', ' ', 'modest', ' ', 'place', ' ', 'became', ' ', 'the', ' ', 'picture', ' ', 'better', ';', ' ', 'yet', ',', ' ', 'as', ' ', 'my', ' ', 'eyes', ' ', 'grew', ' ', 'accustomed', ' ', 'to', ' ', 'the', ' ', 'half', '-', 'light', ',', ' ', 'all', ' ', 'the', ' ', 'characteristic', ' ', 'qualities', ' ', 'came', ' ', 'out', '-', '-', 'all', ' ', 'the', ' ', 'hesitations', ' ', 'disguised', ' ', 'as', ' ', 'audacities', ',', ' ', 'the', ' ', 'tricks', ' ', 'of', ' ', 'prestidigitation', ' ', 'by', ' ', 'which', ',', ' ', 'with', ' ', 'such', ' ', 'consummate', ' ', 'skill', ',', ' ', 'he', ' ', 'managed', ' ', 'to', ' ', 'divert', ' ', 'attention', ' ', 'from', ' ', 'the', ' ', 'real', ' ', 'business', ' ', 'of', ' ', 'the', ' ', 'picture', ' ', 'to', ' ', 'some', ' ', 'pretty', ' ', 'irrelevance', ' ', 'of', ' ', 'detail', '.', ' ', 'Mrs', '.', ' ', 'Gisburn', ',', ' ', 'presenting', ' ', 'a', ' ', 'neutral', ' ', 'surface', ' ', 'to', ' ', 'work', ' ', 'on', '-', '-', 'forming', ',', ' ', 'as', ' ', 'it', ' ', 'were', ',', ' ', 'so', ' ', 'inevitably', ' ', 'the', ' ', 'background', ' ', 'of', ' ', 'her', ' ', 'own', ' ', 'picture', '-', '-', 'had', ' ', 'lent', ' ', 'herself', ' ', 'in', ' ', 'an', ' ', 'unusual', ' ', 'degree', ' ', 'to', ' ', 'the', ' ', 'display', ' ', 'of', ' ', 'this', ' ', 'false', ' ', 'virtuosity', '.', ' ', 'The', ' ', 'picture', ' ', 'was', ' ', 'one', ' ', 'of', ' ', 'Jack', \"'\", 's', ' ', '\"', 'strongest', ',', '\"', ' ', 'as', ' ', 'his', ' ', 'admirers', ' ', 'would', ' ', 'have', ' ', 'put', ' ', 'it', '-', '-', 'it', ' ', 'represented', ',', ' ', 'on', ' ', 'his', ' ', 'part', ',', ' ', 'a', ' ', 'swelling', ' ', 'of', ' ', 'muscles', ',', ' ', 'a', ' ', 'congesting', ' ', 'of', ' ', 'veins', ',', ' ', 'a', ' ', 'balancing', ',', ' ', 'straddling', ' ', 'and', ' ', 'straining', ',', ' ', 'that', ' ', 'reminded', ' ', 'one', ' ', 'of', ' ', 'the', ' ', 'circus', '-', 'clown', \"'\", 's', ' ', 'ironic', ' ', 'efforts', ' ', 'to', ' ', 'lift', ' ', 'a', ' ', 'feather', '.', ' ', 'It', ' ', 'met', ',', ' ', 'in', ' ', 'short', ',', ' ', 'at', ' ', 'every', ' ', 'point', ' ', 'the', ' ', 'demand', ' ', 'of', ' ', 'lovely', ' ', 'woman', ' ', 'to', ' ', 'be', ' ', 'painted', ' ', '\"', 'strongly', '\"', ' ', 'because', ' ', 'she', ' ', 'was', ' ', 'tired', ' ', 'of', ' ', 'being', ' ', 'painted', ' ', '\"', 'sweetly', '\"', '-', '-', 'and', ' ', 'yet', ' ', 'not', ' ', 'to', ' ', 'lose', ' ', 'an', ' ', 'atom', ' ', 'of', ' ', 'the', ' ', 'sweetness', '.', '\\n\\n', '\"', 'It', \"'\", 's', ' ', 'the', ' ', 'last', ' ', 'he', ' ', 'painted', ',', ' ', 'you', ' ', 'know', ',', '\"', ' ', 'Mrs', '.', ' ', 'Gisburn', ' ', 'said', ' ', 'with', ' ', 'pardonable', ' ', 'pride', '.', ' ', '\"', 'The', ' ', 'last', ' ', 'but', ' ', 'one', ',', '\"', ' ', 'she', ' ', 'corrected', ' ', 'herself', '-', '-', '\"', 'but', ' ', 'the', ' ', 'other', ' ', 'doesn', \"'\", 't', ' ', 'count', ',', ' ', 'because', ' ', 'he', ' ', 'destroyed', ' ', 'it', '.', '\"', '\\n\\n', '\"', 'Destroyed', ' ', 'it', '?', '\"', ' ', 'I', ' ', 'was', ' ', 'about', ' ', 'to', ' ', 'follow', ' ', 'up', ' ', 'this', ' ', 'clue', ' ', 'when', ' ', 'I', ' ', 'heard', ' ', 'a', ' ', 'footstep', ' ', 'and', ' ', 'saw', ' ', 'Jack', ' ', 'himself', ' ', 'on', ' ', 'the', ' ', 'threshold', '.', '\\n\\n', 'As', ' ', 'he', ' ', 'stood', ' ', 'there', ',', ' ', 'his', ' ', 'hands', ' ', 'in', ' ', 'the', ' ', 'pockets', ' ', 'of', ' ', 'his', ' ', 'velveteen', ' ', 'coat', ',', ' ', 'the', ' ', 'thin', ' ', 'brown', ' ', 'waves', ' ', 'of', ' ', 'hair', ' ', 'pushed', ' ', 'back', ' ', 'from', ' ', 'his', ' ', 'white', ' ', 'forehead', ',', ' ', 'his', ' ', 'lean', ' ', 'sunburnt', ' ', 'cheeks', ' ', 'furrowed', ' ', 'by', ' ', 'a', ' ', 'smile', ' ', 'that', ' ', 'lifted', ' ', 'the', ' ', 'tips', ' ', 'of', ' ', 'a', ' ', 'self', '-', 'confident', ' ', 'moustache', ',', ' ', 'I', ' ', 'felt', ' ', 'to', ' ', 'what', ' ', 'a', ' ', 'degree', ' ', 'he', ' ', 'had', ' ', 'the', ' ', 'same', ' ', 'quality', ' ', 'as', ' ', 'his', ' ', 'pictures', '-', '-', 'the', ' ', 'quality', ' ', 'of', ' ', 'looking', ' ', 'cleverer', ' ', 'than', ' ', 'he', ' ', 'was', '.', '\\n\\n', 'His', ' ', 'wife', ' ', 'glanced', ' ', 'at', ' ', 'him', ' ', 'deprecatingly', ',', ' ', 'but', ' ', 'his', ' ', 'eyes', ' ', 'travelled', ' ', 'past', ' ', 'her', ' ', 'to', ' ', 'the', ' ', 'portrait', '.', '\\n\\n', '\"', 'Mr', '.', ' ', 'Rickham', ' ', 'wanted', ' ', 'to', ' ', 'see', ' ', 'it', ',', '\"', ' ', 'she', ' ', 'began', ',', ' ', 'as', ' ', 'if', ' ', 'excusing', ' ', 'herself', '.', ' ', 'He', ' ', 'shrugged', ' ', 'his', ' ', 'shoulders', ',', ' ', 'still', ' ', 'smiling', '.', '\\n\\n', '\"', 'Oh', ',', ' ', 'Rickham', ' ', 'found', ' ', 'me', ' ', 'out', ' ', 'long', ' ', 'ago', ',', '\"', ' ', 'he', ' ', 'said', ' ', 'lightly', ';', ' ', 'then', ',', ' ', 'passing', ' ', 'his', ' ', 'arm', ' ', 'through', ' ', 'mine', ':', ' ', '\"', 'Come', ' ', 'and', ' ', 'see', ' ', 'the', ' ', 'rest', ' ', 'of', ' ', 'the', ' ', 'house', '.', '\"', '\\n\\n', 'He', ' ', 'showed', ' ', 'it', ' ', 'to', ' ', 'me', ' ', 'with', ' ', 'a', ' ', 'kind', ' ', 'of', ' ', 'naive', ' ', 'suburban', ' ', 'pride', ':', ' ', 'the', ' ', 'bath', '-', 'rooms', ',', ' ', 'the', ' ', 'speaking', '-', 'tubes', ',', ' ', 'the', ' ', 'dress', '-', 'closets', ',', ' ', 'the', ' ', 'trouser', '-', 'presses', '-', '-', 'all', ' ', 'the', ' ', 'complex', ' ', 'simplifications', ' ', 'of', ' ', 'the', ' ', 'millionaire', \"'\", 's', ' ', 'domestic', ' ', 'economy', '.', ' ', 'And', ' ', 'whenever', ' ', 'my', ' ', 'wonder', ' ', 'paid', ' ', 'the', ' ', 'expected', ' ', 'tribute', ' ', 'he', ' ', 'said', ',', ' ', 'throwing', ' ', 'out', ' ', 'his', ' ', 'chest', ' ', 'a', ' ', 'little', ':', ' ', '\"', 'Yes', ',', ' ', 'I', ' ', 'really', ' ', 'don', \"'\", 't', ' ', 'see', ' ', 'how', ' ', 'people', ' ', 'manage', ' ', 'to', ' ', 'live', ' ', 'without', ' ', 'that', '.', '\"', '\\n\\n', 'Well', '-', '-', 'it', ' ', 'was', ' ', 'just', ' ', 'the', ' ', 'end', ' ', 'one', ' ', 'might', ' ', 'have', ' ', 'foreseen', ' ', 'for', ' ', 'him', '.', ' ', 'Only', ' ', 'he', ' ', 'was', ',', ' ', 'through', ' ', 'it', ' ', 'all', ' ', 'and', ' ', 'in', ' ', 'spite', ' ', 'of', ' ', 'it', ' ', 'all', '-', '-', 'as', ' ', 'he', ' ', 'had', ' ', 'been', ' ', 'through', ',', ' ', 'and', ' ', 'in', ' ', 'spite', ' ', 'of', ',', ' ', 'his', ' ', 'pictures', '-', '-', 'so', ' ', 'handsome', ',', ' ', 'so', ' ', 'charming', ',', ' ', 'so', ' ', 'disarming', ',', ' ', 'that', ' ', 'one', ' ', 'longed', ' ', 'to', ' ', 'cry', ' ', 'out', ':', ' ', '\"', 'Be', ' ', 'dissatisfied', ' ', 'with', ' ', 'your', ' ', 'leisure', '!', '\"', ' ', 'as', ' ', 'once', ' ', 'one', ' ', 'had', ' ', 'longed', ' ', 'to', ' ', 'say', ':', ' ', '\"', 'Be', ' ', 'dissatisfied', ' ', 'with', ' ', 'your', ' ', 'work', '!', '\"', '\\n\\n', 'But', ',', ' ', 'with', ' ', 'the', ' ', 'cry', ' ', 'on', ' ', 'my', ' ', 'lips', ',', ' ', 'my', ' ', 'diagnosis', ' ', 'suffered', ' ', 'an', ' ', 'unexpected', ' ', 'check', '.', '\\n\\n', '\"', 'This', ' ', 'is', ' ', 'my', ' ', 'own', ' ', 'lair', ',', '\"', ' ', 'he', ' ', 'said', ',', ' ', 'leading', ' ', 'me', ' ', 'into', ' ', 'a', ' ', 'dark', ' ', 'plain', ' ', 'room', ' ', 'at', ' ', 'the', ' ', 'end', ' ', 'of', ' ', 'the', ' ', 'florid', ' ', 'vista', '.', ' ', 'It', ' ', 'was', ' ', 'square', ' ', 'and', ' ', 'brown', ' ', 'and', ' ', 'leathery', ':', ' ', 'no', ' ', '\"', 'effects', '\"', ';', ' ', 'no', ' ', 'bric', '-', 'a', '-', 'brac', ',', ' ', 'none', ' ', 'of', ' ', 'the', ' ', 'air', ' ', 'of', ' ', 'posing', ' ', 'for', ' ', 'reproduction', ' ', 'in', ' ', 'a', ' ', 'picture', ' ', 'weekly', '-', '-', 'above', ' ', 'all', ',', ' ', 'no', ' ', 'least', ' ', 'sign', ' ', 'of', ' ', 'ever', ' ', 'having', ' ', 'been', ' ', 'used', ' ', 'as', ' ', 'a', ' ', 'studio', '.', '\\n\\n', 'The', ' ', 'fact', ' ', 'brought', ' ', 'home', ' ', 'to', ' ', 'me', ' ', 'the', ' ', 'absolute', ' ', 'finality', ' ', 'of', ' ', 'Jack', \"'\", 's', ' ', 'break', ' ', 'with', ' ', 'his', ' ', 'old', ' ', 'life', '.', '\\n\\n', '\"', 'Don', \"'\", 't', ' ', 'you', ' ', 'ever', ' ', 'dabble', ' ', 'with', ' ', 'paint', ' ', 'any', ' ', 'more', '?', '\"', ' ', 'I', ' ', 'asked', ',', ' ', 'still', ' ', 'looking', ' ', 'about', ' ', 'for', ' ', 'a', ' ', 'trace', ' ', 'of', ' ', 'such', ' ', 'activity', '.', '\\n\\n', '\"', 'Never', ',', '\"', ' ', 'he', ' ', 'said', ' ', 'briefly', '.', '\\n\\n', '\"', 'Or', ' ', 'water', '-', 'colour', '-', '-', 'or', ' ', 'etching', '?', '\"', '\\n\\n', 'His', ' ', 'confident', ' ', 'eyes', ' ', 'grew', ' ', 'dim', ',', ' ', 'and', ' ', 'his', ' ', 'cheeks', ' ', 'paled', ' ', 'a', ' ', 'little', ' ', 'under', ' ', 'their', ' ', 'handsome', ' ', 'sunburn', '.', '\\n\\n', '\"', 'Never', ' ', 'think', ' ', 'of', ' ', 'it', ',', ' ', 'my', ' ', 'dear', ' ', 'fellow', '-', '-', 'any', ' ', 'more', ' ', 'than', ' ', 'if', ' ', 'I', \"'\", 'd', ' ', 'never', ' ', 'touched', ' ', 'a', ' ', 'brush', '.', '\"', '\\n\\n', 'And', ' ', 'his', ' ', 'tone', ' ', 'told', ' ', 'me', ' ', 'in', ' ', 'a', ' ', 'flash', ' ', 'that', ' ', 'he', ' ', 'never', ' ', 'thought', ' ', 'of', ' ', 'anything', ' ', 'else', '.', '\\n\\n', 'I', ' ', 'moved', ' ', 'away', ',', ' ', 'instinctively', ' ', 'embarrassed', ' ', 'by', ' ', 'my', ' ', 'unexpected', ' ', 'discovery', ';', ' ', 'and', ' ', 'as', ' ', 'I', ' ', 'turned', ',', ' ', 'my', ' ', 'eye', ' ', 'fell', ' ', 'on', ' ', 'a', ' ', 'small', ' ', 'picture', ' ', 'above', ' ', 'the', ' ', 'mantel', '-', 'piece', '-', '-', 'the', ' ', 'only', ' ', 'object', ' ', 'breaking', ' ', 'the', ' ', 'plain', ' ', 'oak', ' ', 'panelling', ' ', 'of', ' ', 'the', ' ', 'room', '.', '\\n\\n', '\"', 'Oh', ',', ' ', 'by', ' ', 'Jove', '!', '\"', ' ', 'I', ' ', 'said', '.', '\\n\\n', 'It', ' ', 'was', ' ', 'a', ' ', 'sketch', ' ', 'of', ' ', 'a', ' ', 'donkey', '-', '-', 'an', ' ', 'old', ' ', 'tired', ' ', 'donkey', ',', ' ', 'standing', ' ', 'in', ' ', 'the', ' ', 'rain', ' ', 'under', ' ', 'a', ' ', 'wall', '.', '\\n\\n', '\"', 'By', ' ', 'Jove', '-', '-', 'a', ' ', 'Stroud', '!', '\"', ' ', 'I', ' ', 'cried', '.', '\\n\\n', 'He', ' ', 'was', ' ', 'silent', ';', ' ', 'but', ' ', 'I', ' ', 'felt', ' ', 'him', ' ', 'close', ' ', 'behind', ' ', 'me', ',', ' ', 'breathing', ' ', 'a', ' ', 'little', ' ', 'quickly', '.', '\\n\\n', '\"', 'What', ' ', 'a', ' ', 'wonder', '!', ' ', 'Made', ' ', 'with', ' ', 'a', ' ', 'dozen', ' ', 'lines', '-', '-', 'but', ' ', 'on', ' ', 'everlasting', ' ', 'foundations', '.', ' ', 'You', ' ', 'lucky', ' ', 'chap', ',', ' ', 'where', ' ', 'did', ' ', 'you', ' ', 'get', ' ', 'it', '?', '\"', '\\n\\n', 'He', ' ', 'answered', ' ', 'slowly', ':', ' ', '\"', 'Mrs', '.', ' ', 'Stroud', ' ', 'gave', ' ', 'it', ' ', 'to', ' ', 'me', '.', '\"', '\\n\\n', '\"', 'Ah', '-', '-', 'I', ' ', 'didn', \"'\", 't', ' ', 'know', ' ', 'you', ' ', 'even', ' ', 'knew', ' ', 'the', ' ', 'Strouds', '.', ' ', 'He', ' ', 'was', ' ', 'such', ' ', 'an', ' ', 'inflexible', ' ', 'hermit', '.', '\"', '\\n\\n', '\"', 'I', ' ', 'didn', \"'\", 't', '-', '-', 'till', ' ', 'after', '.', ' ', '.', ' ', '.', ' ', '.', ' ', 'She', ' ', 'sent', ' ', 'for', ' ', 'me', ' ', 'to', ' ', 'paint', ' ', 'him', ' ', 'when', ' ', 'he', ' ', 'was', ' ', 'dead', '.', '\"', '\\n\\n', '\"', 'When', ' ', 'he', ' ', 'was', ' ', 'dead', '?', ' ', 'You', '?', '\"', '\\n\\n', 'I', ' ', 'must', ' ', 'have', ' ', 'let', ' ', 'a', ' ', 'little', ' ', 'too', ' ', 'much', ' ', 'amazement', ' ', 'escape', ' ', 'through', ' ', 'my', ' ', 'surprise', ',', ' ', 'for', ' ', 'he', ' ', 'answered', ' ', 'with', ' ', 'a', ' ', 'deprecating', ' ', 'laugh', ':', ' ', '\"', 'Yes', '-', '-', 'she', \"'\", 's', ' ', 'an', ' ', 'awful', ' ', 'simpleton', ',', ' ', 'you', ' ', 'know', ',', ' ', 'Mrs', '.', ' ', 'Stroud', '.', ' ', 'Her', ' ', 'only', ' ', 'idea', ' ', 'was', ' ', 'to', ' ', 'have', ' ', 'him', ' ', 'done', ' ', 'by', ' ', 'a', ' ', 'fashionable', ' ', 'painter', '-', '-', 'ah', ',', ' ', 'poor', ' ', 'Stroud', '!', ' ', 'She', ' ', 'thought', ' ', 'it', ' ', 'the', ' ', 'surest', ' ', 'way', ' ', 'of', ' ', 'proclaiming', ' ', 'his', ' ', 'greatness', '-', '-', 'of', ' ', 'forcing', ' ', 'it', ' ', 'on', ' ', 'a', ' ', 'purblind', ' ', 'public', '.', ' ', 'And', ' ', 'at', ' ', 'the', ' ', 'moment', ' ', 'I', ' ', 'was', ' ', '_the_', ' ', 'fashionable', ' ', 'painter', '.', '\"', '\\n\\n', '\"', 'Ah', ',', ' ', 'poor', ' ', 'Stroud', '-', '-', 'as', ' ', 'you', ' ', 'say', '.', ' ', 'Was', ' ', '_that_', ' ', 'his', ' ', 'history', '?', '\"', '\\n\\n', '\"', 'That', ' ', 'was', ' ', 'his', ' ', 'history', '.', ' ', 'She', ' ', 'believed', ' ', 'in', ' ', 'him', ',', ' ', 'gloried', ' ', 'in', ' ', 'him', '-', '-', 'or', ' ', 'thought', ' ', 'she', ' ', 'did', '.', ' ', 'But', ' ', 'she', ' ', 'couldn', \"'\", 't', ' ', 'bear', ' ', 'not', ' ', 'to', ' ', 'have', ' ', 'all', ' ', 'the', ' ', 'drawing', '-', 'rooms', ' ', 'with', ' ', 'her', '.', ' ', 'She', ' ', 'couldn', \"'\", 't', ' ', 'bear', ' ', 'the', ' ', 'fact', ' ', 'that', ',', ' ', 'on', ' ', 'varnishing', ' ', 'days', ',', ' ', 'one', ' ', 'could', ' ', 'always', ' ', 'get', ' ', 'near', ' ', 'enough', ' ', 'to', ' ', 'see', ' ', 'his', ' ', 'pictures', '.', ' ', 'Poor', ' ', 'woman', '!', ' ', 'She', \"'\", 's', ' ', 'just', ' ', 'a', ' ', 'fragment', ' ', 'groping', ' ', 'for', ' ', 'other', ' ', 'fragments', '.', ' ', 'Stroud', ' ', 'is', ' ', 'the', ' ', 'only', ' ', 'whole', ' ', 'I', ' ', 'ever', ' ', 'knew', '.', '\"', '\\n\\n', '\"', 'You', ' ', 'ever', ' ', 'knew', '?', ' ', 'But', ' ', 'you', ' ', 'just', ' ', 'said', '-', '-', '\"', '\\n\\n', 'Gisburn', ' ', 'had', ' ', 'a', ' ', 'curious', ' ', 'smile', ' ', 'in', ' ', 'his', ' ', 'eyes', '.', '\\n\\n', '\"', 'Oh', ',', ' ', 'I', ' ', 'knew', ' ', 'him', ',', ' ', 'and', ' ', 'he', ' ', 'knew', ' ', 'me', '-', '-', 'only', ' ', 'it', ' ', 'happened', ' ', 'after', ' ', 'he', ' ', 'was', ' ', 'dead', '.', '\"', '\\n\\n', 'I', ' ', 'dropped', ' ', 'my', ' ', 'voice', ' ', 'instinctively', '.', ' ', '\"', 'When', ' ', 'she', ' ', 'sent', ' ', 'for', ' ', 'you', '?', '\"', '\\n\\n', '\"', 'Yes', '-', '-', 'quite', ' ', 'insensible', ' ', 'to', ' ', 'the', ' ', 'irony', '.', ' ', 'She', ' ', 'wanted', ' ', 'him', ' ', 'vindicated', '-', '-', 'and', ' ', 'by', ' ', 'me', '!', '\"', '\\n\\n', 'He', ' ', 'laughed', ' ', 'again', ',', ' ', 'and', ' ', 'threw', ' ', 'back', ' ', 'his', ' ', 'head', ' ', 'to', ' ', 'look', ' ', 'up', ' ', 'at', ' ', 'the', ' ', 'sketch', ' ', 'of', ' ', 'the', ' ', 'donkey', '.', ' ', '\"', 'There', ' ', 'were', ' ', 'days', ' ', 'when', ' ', 'I', ' ', 'couldn', \"'\", 't', ' ', 'look', ' ', 'at', ' ', 'that', ' ', 'thing', '-', '-', 'couldn', \"'\", 't', ' ', 'face', ' ', 'it', '.', ' ', 'But', ' ', 'I', ' ', 'forced', ' ', 'myself', ' ', 'to', ' ', 'put', ' ', 'it', ' ', 'here', ';', ' ', 'and', ' ', 'now', ' ', 'it', \"'\", 's', ' ', 'cured', ' ', 'me', '-', '-', 'cured', ' ', 'me', '.', ' ', 'That', \"'\", 's', ' ', 'the', ' ', 'reason', ' ', 'why', ' ', 'I', ' ', 'don', \"'\", 't', ' ', 'dabble', ' ', 'any', ' ', 'more', ',', ' ', 'my', ' ', 'dear', ' ', 'Rickham', ';', ' ', 'or', ' ', 'rather', ' ', 'Stroud', ' ', 'himself', ' ', 'is', ' ', 'the', ' ', 'reason', '.', '\"', '\\n\\n', 'For', ' ', 'the', ' ', 'first', ' ', 'time', ' ', 'my', ' ', 'idle', ' ', 'curiosity', ' ', 'about', ' ', 'my', ' ', 'companion', ' ', 'turned', ' ', 'into', ' ', 'a', ' ', 'serious', ' ', 'desire', ' ', 'to', ' ', 'understand', ' ', 'him', ' ', 'better', '.', '\\n\\n', '\"', 'I', ' ', 'wish', ' ', 'you', \"'\", 'd', ' ', 'tell', ' ', 'me', ' ', 'how', ' ', 'it', ' ', 'happened', ',', '\"', ' ', 'I', ' ', 'said', '.', '\\n\\n', 'He', ' ', 'stood', ' ', 'looking', ' ', 'up', ' ', 'at', ' ', 'the', ' ', 'sketch', ',', ' ', 'and', ' ', 'twirling', ' ', 'between', ' ', 'his', ' ', 'fingers', ' ', 'a', ' ', 'cigarette', ' ', 'he', ' ', 'had', ' ', 'forgotten', ' ', 'to', ' ', 'light', '.', ' ', 'Suddenly', ' ', 'he', ' ', 'turned', ' ', 'toward', ' ', 'me', '.', '\\n\\n', '\"', 'I', \"'\", 'd', ' ', 'rather', ' ', 'like', ' ', 'to', ' ', 'tell', ' ', 'you', '-', '-', 'because', ' ', 'I', \"'\", 've', ' ', 'always', ' ', 'suspected', ' ', 'you', ' ', 'of', ' ', 'loathing', ' ', 'my', ' ', 'work', '.', '\"', '\\n\\n', 'I', ' ', 'made', ' ', 'a', ' ', 'deprecating', ' ', 'gesture', ',', ' ', 'which', ' ', 'he', ' ', 'negatived', ' ', 'with', ' ', 'a', ' ', 'good', '-', 'humoured', ' ', 'shrug', '.', '\\n\\n', '\"', 'Oh', ',', ' ', 'I', ' ', 'didn', \"'\", 't', ' ', 'care', ' ', 'a', ' ', 'straw', ' ', 'when', ' ', 'I', ' ', 'believed', ' ', 'in', ' ', 'myself', '-', '-', 'and', ' ', 'now', ' ', 'it', \"'\", 's', ' ', 'an', ' ', 'added', ' ', 'tie', ' ', 'between', ' ', 'us', '!', '\"', '\\n\\n', 'He', ' ', 'laughed', ' ', 'slightly', ',', ' ', 'without', ' ', 'bitterness', ',', ' ', 'and', ' ', 'pushed', ' ', 'one', ' ', 'of', ' ', 'the', ' ', 'deep', ' ', 'arm', '-', 'chairs', ' ', 'forward', '.', ' ', '\"', 'There', ':', ' ', 'make', ' ', 'yourself', ' ', 'comfortable', '-', '-', 'and', ' ', 'here', ' ', 'are', ' ', 'the', ' ', 'cigars', ' ', 'you', ' ', 'like', '.', '\"', '\\n\\n', 'He', ' ', 'placed', ' ', 'them', ' ', 'at', ' ', 'my', ' ', 'elbow', ' ', 'and', ' ', 'continued', ' ', 'to', ' ', 'wander', ' ', 'up', ' ', 'and', ' ', 'down', ' ', 'the', ' ', 'room', ',', ' ', 'stopping', ' ', 'now', ' ', 'and', ' ', 'then', ' ', 'beneath', ' ', 'the', ' ', 'picture', '.', '\\n\\n', '\"', 'How', ' ', 'it', ' ', 'happened', '?', ' ', 'I', ' ', 'can', ' ', 'tell', ' ', 'you', ' ', 'in', ' ', 'five', ' ', 'minutes', '-', '-', 'and', ' ', 'it', ' ', 'didn', \"'\", 't', ' ', 'take', ' ', 'much', ' ', 'longer', ' ', 'to', ' ', 'happen', '.', ' ', '.', ' ', '.', ' ', '.', ' ', 'I', ' ', 'can', ' ', 'remember', ' ', 'now', ' ', 'how', ' ', 'surprised', ' ', 'and', ' ', 'pleased', ' ', 'I', ' ', 'was', ' ', 'when', ' ', 'I', ' ', 'got', ' ', 'Mrs', '.', ' ', 'Stroud', \"'\", 's', ' ', 'note', '.', ' ', 'Of', ' ', 'course', ',', ' ', 'deep', ' ', 'down', ',', ' ', 'I', ' ', 'had', ' ', 'always', ' ', '_felt_', ' ', 'there', ' ', 'was', ' ', 'no', ' ', 'one', ' ', 'like', ' ', 'him', '-', '-', 'only', ' ', 'I', ' ', 'had', ' ', 'gone', ' ', 'with', ' ', 'the', ' ', 'stream', ',', ' ', 'echoed', ' ', 'the', ' ', 'usual', ' ', 'platitudes', ' ', 'about', ' ', 'him', ',', ' ', 'till', ' ', 'I', ' ', 'half', ' ', 'got', ' ', 'to', ' ', 'think', ' ', 'he', ' ', 'was', ' ', 'a', ' ', 'failure', ',', ' ', 'one', ' ', 'of', ' ', 'the', ' ', 'kind', ' ', 'that', ' ', 'are', ' ', 'left', ' ', 'behind', '.', ' ', 'By', ' ', 'Jove', ',', ' ', 'and', ' ', 'he', ' ', '_was_', ' ', 'left', ' ', 'behind', '-', '-', 'because', ' ', 'he', ' ', 'had', ' ', 'come', ' ', 'to', ' ', 'stay', '!', ' ', 'The', ' ', 'rest', ' ', 'of', ' ', 'us', ' ', 'had', ' ', 'to', ' ', 'let', ' ', 'ourselves', ' ', 'be', ' ', 'swept', ' ', 'along', ' ', 'or', ' ', 'go', ' ', 'under', ',', ' ', 'but', ' ', 'he', ' ', 'was', ' ', 'high', ' ', 'above', ' ', 'the', ' ', 'current', '-', '-', 'on', ' ', 'everlasting', ' ', 'foundations', ',', ' ', 'as', ' ', 'you', ' ', 'say', '.', '\\n\\n', '\"', 'Well', ',', ' ', 'I', ' ', 'went', ' ', 'off', ' ', 'to', ' ', 'the', ' ', 'house', ' ', 'in', ' ', 'my', ' ', 'most', ' ', 'egregious', ' ', 'mood', '-', '-', 'rather', ' ', 'moved', ',', ' ', 'Lord', ' ', 'forgive', ' ', 'me', ',', ' ', 'at', ' ', 'the', ' ', 'pathos', ' ', 'of', ' ', 'poor', ' ', 'Stroud', \"'\", 's', ' ', 'career', ' ', 'of', ' ', 'failure', ' ', 'being', ' ', 'crowned', ' ', 'by', ' ', 'the', ' ', 'glory', ' ', 'of', ' ', 'my', ' ', 'painting', ' ', 'him', '!', ' ', 'Of', ' ', 'course', ' ', 'I', ' ', 'meant', ' ', 'to', ' ', 'do', ' ', 'the', ' ', 'picture', ' ', 'for', ' ', 'nothing', '-', '-', 'I', ' ', 'told', ' ', 'Mrs', '.', ' ', 'Stroud', ' ', 'so', ' ', 'when', ' ', 'she', ' ', 'began', ' ', 'to', ' ', 'stammer', ' ', 'something', ' ', 'about', ' ', 'her', ' ', 'poverty', '.', ' ', 'I', ' ', 'remember', ' ', 'getting', ' ', 'off', ' ', 'a', ' ', 'prodigious', ' ', 'phrase', ' ', 'about', ' ', 'the', ' ', 'honour', ' ', 'being', ' ', '_mine_', '-', '-', 'oh', ',', ' ', 'I', ' ', 'was', ' ', 'princely', ',', ' ', 'my', ' ', 'dear', ' ', 'Rickham', '!', ' ', 'I', ' ', 'was', ' ', 'posing', ' ', 'to', ' ', 'myself', ' ', 'like', ' ', 'one', ' ', 'of', ' ', 'my', ' ', 'own', ' ', 'sitters', '.', '\\n\\n', '\"', 'Then', ' ', 'I', ' ', 'was', ' ', 'taken', ' ', 'up', ' ', 'and', ' ', 'left', ' ', 'alone', ' ', 'with', ' ', 'him', '.', ' ', 'I', ' ', 'had', ' ', 'sent', ' ', 'all', ' ', 'my', ' ', 'traps', ' ', 'in', ' ', 'advance', ',', ' ', 'and', ' ', 'I', ' ', 'had', ' ', 'only', ' ', 'to', ' ', 'set', ' ', 'up', ' ', 'the', ' ', 'easel', ' ', 'and', ' ', 'get', ' ', 'to', ' ', 'work', '.', ' ', 'He', ' ', 'had', ' ', 'been', ' ', 'dead', ' ', 'only', ' ', 'twenty', '-', 'four', ' ', 'hours', ',', ' ', 'and', ' ', 'he', ' ', 'died', ' ', 'suddenly', ',', ' ', 'of', ' ', 'heart', ' ', 'disease', ',', ' ', 'so', ' ', 'that', ' ', 'there', ' ', 'had', ' ', 'been', ' ', 'no', ' ', 'preliminary', ' ', 'work', ' ', 'of', ' ', 'destruction', '-', '-', 'his', ' ', 'face', ' ', 'was', ' ', 'clear', ' ', 'and', ' ', 'untouched', '.', ' ', 'I', ' ', 'had', ' ', 'met', ' ', 'him', ' ', 'once', ' ', 'or', ' ', 'twice', ',', ' ', 'years', ' ', 'before', ',', ' ', 'and', ' ', 'thought', ' ', 'him', ' ', 'insignificant', ' ', 'and', ' ', 'dingy', '.', ' ', 'Now', ' ', 'I', ' ', 'saw', ' ', 'that', ' ', 'he', ' ', 'was', ' ', 'superb', '.', '\\n\\n', '\"', 'I', ' ', 'was', ' ', 'glad', ' ', 'at', ' ', 'first', ',', ' ', 'with', ' ', 'a', ' ', 'merely', ' ', 'aesthetic', ' ', 'satisfaction', ':', ' ', 'glad', ' ', 'to', ' ', 'have', ' ', 'my', ' ', 'hand', ' ', 'on', ' ', 'such', ' ', 'a', ' ', \"'\", 'subject', '.', \"'\", ' ', 'Then', ' ', 'his', ' ', 'strange', ' ', 'life', '-', 'likeness', ' ', 'began', ' ', 'to', ' ', 'affect', ' ', 'me', ' ', 'queerly', '-', '-', 'as', ' ', 'I', ' ', 'blocked', ' ', 'the', ' ', 'head', ' ', 'in', ' ', 'I', ' ', 'felt', ' ', 'as', ' ', 'if', ' ', 'he', ' ', 'were', ' ', 'watching', ' ', 'me', ' ', 'do', ' ', 'it', '.', ' ', 'The', ' ', 'sensation', ' ', 'was', ' ', 'followed', ' ', 'by', ' ', 'the', ' ', 'thought', ':', ' ', 'if', ' ', 'he', ' ', '_were_', ' ', 'watching', ' ', 'me', ',', ' ', 'what', ' ', 'would', ' ', 'he', ' ', 'say', ' ', 'to', ' ', 'my', ' ', 'way', ' ', 'of', ' ', 'working', '?', ' ', 'My', ' ', 'strokes', ' ', 'began', ' ', 'to', ' ', 'go', ' ', 'a', ' ', 'little', ' ', 'wild', '-', '-', 'I', ' ', 'felt', ' ', 'nervous', ' ', 'and', ' ', 'uncertain', '.', '\\n\\n', '\"', 'Once', ',', ' ', 'when', ' ', 'I', ' ', 'looked', ' ', 'up', ',', ' ', 'I', ' ', 'seemed', ' ', 'to', ' ', 'see', ' ', 'a', ' ', 'smile', ' ', 'behind', ' ', 'his', ' ', 'close', ' ', 'grayish', ' ', 'beard', '-', '-', 'as', ' ', 'if', ' ', 'he', ' ', 'had', ' ', 'the', ' ', 'secret', ',', ' ', 'and', ' ', 'were', ' ', 'amusing', ' ', 'himself', ' ', 'by', ' ', 'holding', ' ', 'it', ' ', 'back', ' ', 'from', ' ', 'me', '.', ' ', 'That', ' ', 'exasperated', ' ', 'me', ' ', 'still', ' ', 'more', '.', ' ', 'The', ' ', 'secret', '?', ' ', 'Why', ',', ' ', 'I', ' ', 'had', ' ', 'a', ' ', 'secret', ' ', 'worth', ' ', 'twenty', ' ', 'of', ' ', 'his', '!', ' ', 'I', ' ', 'dashed', ' ', 'at', ' ', 'the', ' ', 'canvas', ' ', 'furiously', ',', ' ', 'and', ' ', 'tried', ' ', 'some', ' ', 'of', ' ', 'my', ' ', 'bravura', ' ', 'tricks', '.', ' ', 'But', ' ', 'they', ' ', 'failed', ' ', 'me', ',', ' ', 'they', ' ', 'crumbled', '.', ' ', 'I', ' ', 'saw', ' ', 'that', ' ', 'he', ' ', 'wasn', \"'\", 't', ' ', 'watching', ' ', 'the', ' ', 'showy', ' ', 'bits', '-', '-', 'I', ' ', 'couldn', \"'\", 't', ' ', 'distract', ' ', 'his', ' ', 'attention', ';', ' ', 'he', ' ', 'just', ' ', 'kept', ' ', 'his', ' ', 'eyes', ' ', 'on', ' ', 'the', ' ', 'hard', ' ', 'passages', ' ', 'between', '.', ' ', 'Those', ' ', 'were', ' ', 'the', ' ', 'ones', ' ', 'I', ' ', 'had', ' ', 'always', ' ', 'shirked', ',', ' ', 'or', ' ', 'covered', ' ', 'up', ' ', 'with', ' ', 'some', ' ', 'lying', ' ', 'paint', '.', ' ', 'And', ' ', 'how', ' ', 'he', ' ', 'saw', ' ', 'through', ' ', 'my', ' ', 'lies', '!', '\\n\\n', '\"', 'I', ' ', 'looked', ' ', 'up', ' ', 'again', ',', ' ', 'and', ' ', 'caught', ' ', 'sight', ' ', 'of', ' ', 'that', ' ', 'sketch', ' ', 'of', ' ', 'the', ' ', 'donkey', ' ', 'hanging', ' ', 'on', ' ', 'the', ' ', 'wall', ' ', 'near', ' ', 'his', ' ', 'bed', '.', ' ', 'His', ' ', 'wife', ' ', 'told', ' ', 'me', ' ', 'afterward', ' ', 'it', ' ', 'was', ' ', 'the', ' ', 'last', ' ', 'thing', ' ', 'he', ' ', 'had', ' ', 'done', '-', '-', 'just', ' ', 'a', ' ', 'note', ' ', 'taken', ' ', 'with', ' ', 'a', ' ', 'shaking', ' ', 'hand', ',', ' ', 'when', ' ', 'he', ' ', 'was', ' ', 'down', ' ', 'in', ' ', 'Devonshire', ' ', 'recovering', ' ', 'from', ' ', 'a', ' ', 'previous', ' ', 'heart', ' ', 'attack', '.', ' ', 'Just', ' ', 'a', ' ', 'note', '!', ' ', 'But', ' ', 'it', ' ', 'tells', ' ', 'his', ' ', 'whole', ' ', 'history', '.', ' ', 'There', ' ', 'are', ' ', 'years', ' ', 'of', ' ', 'patient', ' ', 'scornful', ' ', 'persistence', ' ', 'in', ' ', 'every', ' ', 'line', '.', ' ', 'A', ' ', 'man', ' ', 'who', ' ', 'had', ' ', 'swum', ' ', 'with', ' ', 'the', ' ', 'current', ' ', 'could', ' ', 'never', ' ', 'have', ' ', 'learned', ' ', 'that', ' ', 'mighty', ' ', 'up', '-', 'stream', ' ', 'stroke', '.', ' ', '.', ' ', '.', ' ', '.', '\\n\\n', '\"', 'I', ' ', 'turned', ' ', 'back', ' ', 'to', ' ', 'my', ' ', 'work', ',', ' ', 'and', ' ', 'went', ' ', 'on', ' ', 'groping', ' ', 'and', ' ', 'muddling', ';', ' ', 'then', ' ', 'I', ' ', 'looked', ' ', 'at', ' ', 'the', ' ', 'donkey', ' ', 'again', '.', ' ', 'I', ' ', 'saw', ' ', 'that', ',', ' ', 'when', ' ', 'Stroud', ' ', 'laid', ' ', 'in', ' ', 'the', ' ', 'first', ' ', 'stroke', ',', ' ', 'he', ' ', 'knew', ' ', 'just', ' ', 'what', ' ', 'the', ' ', 'end', ' ', 'would', ' ', 'be', '.', ' ', 'He', ' ', 'had', ' ', 'possessed', ' ', 'his', ' ', 'subject', ',', ' ', 'absorbed', ' ', 'it', ',', ' ', 'recreated', ' ', 'it', '.', ' ', 'When', ' ', 'had', ' ', 'I', ' ', 'done', ' ', 'that', ' ', 'with', ' ', 'any', ' ', 'of', ' ', 'my', ' ', 'things', '?', ' ', 'They', ' ', 'hadn', \"'\", 't', ' ', 'been', ' ', 'born', ' ', 'of', ' ', 'me', '-', '-', 'I', ' ', 'had', ' ', 'just', ' ', 'adopted', ' ', 'them', '.', ' ', '.', ' ', '.', ' ', '.', '\\n\\n', '\"', 'Hang', ' ', 'it', ',', ' ', 'Rickham', ',', ' ', 'with', ' ', 'that', ' ', 'face', ' ', 'watching', ' ', 'me', ' ', 'I', ' ', 'couldn', \"'\", 't', ' ', 'do', ' ', 'another', ' ', 'stroke', '.', ' ', 'The', ' ', 'plain', ' ', 'truth', ' ', 'was', ',', ' ', 'I', ' ', 'didn', \"'\", 't', ' ', 'know', ' ', 'where', ' ', 'to', ' ', 'put', ' ', 'it', '-', '-', '_I', ' ', 'had', ' ', 'never', ' ', 'known_', '.', ' ', 'Only', ',', ' ', 'with', ' ', 'my', ' ', 'sitters', ' ', 'and', ' ', 'my', ' ', 'public', ',', ' ', 'a', ' ', 'showy', ' ', 'splash', ' ', 'of', ' ', 'colour', ' ', 'covered', ' ', 'up', ' ', 'the', ' ', 'fact', '-', '-', 'I', ' ', 'just', ' ', 'threw', ' ', 'paint', ' ', 'into', ' ', 'their', ' ', 'faces', '.', ' ', '.', ' ', '.', ' ', '.', ' ', 'Well', ',', ' ', 'paint', ' ', 'was', ' ', 'the', ' ', 'one', ' ', 'medium', ' ', 'those', ' ', 'dead', ' ', 'eyes', ' ', 'could', ' ', 'see', ' ', 'through', '-', '-', 'see', ' ', 'straight', ' ', 'to', ' ', 'the', ' ', 'tottering', ' ', 'foundations', ' ', 'underneath', '.', ' ', 'Don', \"'\", 't', ' ', 'you', ' ', 'know', ' ', 'how', ',', ' ', 'in', ' ', 'talking', ' ', 'a', ' ', 'foreign', ' ', 'language', ',', ' ', 'even', ' ', 'fluently', ',', ' ', 'one', ' ', 'says', ' ', 'half', ' ', 'the', ' ', 'time', ' ', 'not', ' ', 'what', ' ', 'one', ' ', 'wants', ' ', 'to', ' ', 'but', ' ', 'what', ' ', 'one', ' ', 'can', '?', ' ', 'Well', '-', '-', 'that', ' ', 'was', ' ', 'the', ' ', 'way', ' ', 'I', ' ', 'painted', ';', ' ', 'and', ' ', 'as', ' ', 'he', ' ', 'lay', ' ', 'there', ' ', 'and', ' ', 'watched', ' ', 'me', ',', ' ', 'the', ' ', 'thing', ' ', 'they', ' ', 'called', ' ', 'my', ' ', \"'\", 'technique', \"'\", ' ', 'collapsed', ' ', 'like', ' ', 'a', ' ', 'house', ' ', 'of', ' ', 'cards', '.', ' ', 'He', ' ', 'didn', \"'\", 't', ' ', 'sneer', ',', ' ', 'you', ' ', 'understand', ',', ' ', 'poor', ' ', 'Stroud', '-', '-', 'he', ' ', 'just', ' ', 'lay', ' ', 'there', ' ', 'quietly', ' ', 'watching', ',', ' ', 'and', ' ', 'on', ' ', 'his', ' ', 'lips', ',', ' ', 'through', ' ', 'the', ' ', 'gray', ' ', 'beard', ',', ' ', 'I', ' ', 'seemed', ' ', 'to', ' ', 'hear', ' ', 'the', ' ', 'question', ':', ' ', \"'\", 'Are', ' ', 'you', ' ', 'sure', ' ', 'you', ' ', 'know', ' ', 'where', ' ', 'you', \"'\", 're', ' ', 'coming', ' ', 'out', '?', \"'\", '\\n\\n', '\"', 'If', ' ', 'I', ' ', 'could', ' ', 'have', ' ', 'painted', ' ', 'that', ' ', 'face', ',', ' ', 'with', ' ', 'that', ' ', 'question', ' ', 'on', ' ', 'it', ',', ' ', 'I', ' ', 'should', ' ', 'have', ' ', 'done', ' ', 'a', ' ', 'great', ' ', 'thing', '.', ' ', 'The', ' ', 'next', ' ', 'greatest', ' ', 'thing', ' ', 'was', ' ', 'to', ' ', 'see', ' ', 'that', ' ', 'I', ' ', 'couldn', \"'\", 't', '-', '-', 'and', ' ', 'that', ' ', 'grace', ' ', 'was', ' ', 'given', ' ', 'me', '.', ' ', 'But', ',', ' ', 'oh', ',', ' ', 'at', ' ', 'that', ' ', 'minute', ',', ' ', 'Rickham', ',', ' ', 'was', ' ', 'there', ' ', 'anything', ' ', 'on', ' ', 'earth', ' ', 'I', ' ', 'wouldn', \"'\", 't', ' ', 'have', ' ', 'given', ' ', 'to', ' ', 'have', ' ', 'Stroud', ' ', 'alive', ' ', 'before', ' ', 'me', ',', ' ', 'and', ' ', 'to', ' ', 'hear', ' ', 'him', ' ', 'say', ':', ' ', \"'\", 'It', \"'\", 's', ' ', 'not', ' ', 'too', ' ', 'late', '-', '-', 'I', \"'\", 'll', ' ', 'show', ' ', 'you', ' ', 'how', \"'\", '?', '\\n\\n', '\"', 'It', ' ', '_was_', ' ', 'too', ' ', 'late', '-', '-', 'it', ' ', 'would', ' ', 'have', ' ', 'been', ',', ' ', 'even', ' ', 'if', ' ', 'he', \"'\", 'd', ' ', 'been', ' ', 'alive', '.', ' ', 'I', ' ', 'packed', ' ', 'up', ' ', 'my', ' ', 'traps', ',', ' ', 'and', ' ', 'went', ' ', 'down', ' ', 'and', ' ', 'told', ' ', 'Mrs', '.', ' ', 'Stroud', '.', ' ', 'Of', ' ', 'course', ' ', 'I', ' ', 'didn', \"'\", 't', ' ', 'tell', ' ', 'her', ' ', '_that_', '-', '-', 'it', ' ', 'would', ' ', 'have', ' ', 'been', ' ', 'Greek', ' ', 'to', ' ', 'her', '.', ' ', 'I', ' ', 'simply', ' ', 'said', ' ', 'I', ' ', 'couldn', \"'\", 't', ' ', 'paint', ' ', 'him', ',', ' ', 'that', ' ', 'I', ' ', 'was', ' ', 'too', ' ', 'moved', '.', ' ', 'She', ' ', 'rather', ' ', 'liked', ' ', 'the', ' ', 'idea', '-', '-', 'she', \"'\", 's', ' ', 'so', ' ', 'romantic', '!', ' ', 'It', ' ', 'was', ' ', 'that', ' ', 'that', ' ', 'made', ' ', 'her', ' ', 'give', ' ', 'me', ' ', 'the', ' ', 'donkey', '.', ' ', 'But', ' ', 'she', ' ', 'was', ' ', 'terribly', ' ', 'upset', ' ', 'at', ' ', 'not', ' ', 'getting', ' ', 'the', ' ', 'portrait', '-', '-', 'she', ' ', 'did', ' ', 'so', ' ', 'want', ' ', 'him', ' ', \"'\", 'done', \"'\", ' ', 'by', ' ', 'some', ' ', 'one', ' ', 'showy', '!', ' ', 'At', ' ', 'first', ' ', 'I', ' ', 'was', ' ', 'afraid', ' ', 'she', ' ', 'wouldn', \"'\", 't', ' ', 'let', ' ', 'me', ' ', 'off', '-', '-', 'and', ' ', 'at', ' ', 'my', ' ', 'wits', \"'\", ' ', 'end', ' ', 'I', ' ', 'suggested', ' ', 'Grindle', '.', ' ', 'Yes', ',', ' ', 'it', ' ', 'was', ' ', 'I', ' ', 'who', ' ', 'started', ' ', 'Grindle', ':', ' ', 'I', ' ', 'told', ' ', 'Mrs', '.', ' ', 'Stroud', ' ', 'he', ' ', 'was', ' ', 'the', ' ', \"'\", 'coming', \"'\", ' ', 'man', ',', ' ', 'and', ' ', 'she', ' ', 'told', ' ', 'somebody', ' ', 'else', ',', ' ', 'and', ' ', 'so', ' ', 'it', ' ', 'got', ' ', 'to', ' ', 'be', ' ', 'true', '.', ' ', '.', ' ', '.', ' ', '.', ' ', 'And', ' ', 'he', ' ', 'painted', ' ', 'Stroud', ' ', 'without', ' ', 'wincing', ';', ' ', 'and', ' ', 'she', ' ', 'hung', ' ', 'the', ' ', 'picture', ' ', 'among', ' ', 'her', ' ', 'husband', \"'\", 's', ' ', 'things', '.', ' ', '.', ' ', '.', ' ', '.', '\"', '\\n\\n', 'He', ' ', 'flung', ' ', 'himself', ' ', 'down', ' ', 'in', ' ', 'the', ' ', 'arm', '-', 'chair', ' ', 'near', ' ', 'mine', ',', ' ', 'laid', ' ', 'back', ' ', 'his', ' ', 'head', ',', ' ', 'and', ' ', 'clasping', ' ', 'his', ' ', 'arms', ' ', 'beneath', ' ', 'it', ',', ' ', 'looked', ' ', 'up', ' ', 'at', ' ', 'the', ' ', 'picture', ' ', 'above', ' ', 'the', ' ', 'chimney', '-', 'piece', '.', '\\n\\n', '\"', 'I', ' ', 'like', ' ', 'to', ' ', 'fancy', ' ', 'that', ' ', 'Stroud', ' ', 'himself', ' ', 'would', ' ', 'have', ' ', 'given', ' ', 'it', ' ', 'to', ' ', 'me', ',', ' ', 'if', ' ', 'he', \"'\", 'd', ' ', 'been', ' ', 'able', ' ', 'to', ' ', 'say', ' ', 'what', ' ', 'he', ' ', 'thought', ' ', 'that', ' ', 'day', '.', '\"', '\\n\\n', 'And', ',', ' ', 'in', ' ', 'answer', ' ', 'to', ' ', 'a', ' ', 'question', ' ', 'I', ' ', 'put', ' ', 'half', '-', 'mechanically', '-', '-', '\"', 'Begin', ' ', 'again', '?', '\"', ' ', 'he', ' ', 'flashed', ' ', 'out', '.', ' ', '\"', 'When', ' ', 'the', ' ', 'one', ' ', 'thing', ' ', 'that', ' ', 'brings', ' ', 'me', ' ', 'anywhere', ' ', 'near', ' ', 'him', ' ', 'is', ' ', 'that', ' ', 'I', ' ', 'knew', ' ', 'enough', ' ', 'to', ' ', 'leave', ' ', 'off', '?', '\"', '\\n\\n', 'He', ' ', 'stood', ' ', 'up', ' ', 'and', ' ', 'laid', ' ', 'his', ' ', 'hand', ' ', 'on', ' ', 'my', ' ', 'shoulder', ' ', 'with', ' ', 'a', ' ', 'laugh', '.', ' ', '\"', 'Only', ' ', 'the', ' ', 'irony', ' ', 'of', ' ', 'it', ' ', 'is', ' ', 'that', ' ', 'I', ' ', '_am_', ' ', 'still', ' ', 'painting', '-', '-', 'since', ' ', 'Grindle', \"'\", 's', ' ', 'doing', ' ', 'it', ' ', 'for', ' ', 'me', '!', ' ', 'The', ' ', 'Strouds', ' ', 'stand', ' ', 'alone', ',', ' ', 'and', ' ', 'happen', ' ', 'once', '-', '-', 'but', ' ', 'there', \"'\", 's', ' ', 'no', ' ', 'exterminating', ' ', 'our', ' ', 'kind', ' ', 'of', ' ', 'art', '.', '\"']\n"
     ]
    }
   ],
   "execution_count": 4
  },
  {
   "metadata": {
    "ExecuteTime": {
     "end_time": "2025-08-07T06:10:04.015207Z",
     "start_time": "2025-08-07T06:10:04.012789Z"
    }
   },
   "cell_type": "code",
   "source": "print(len(result))",
   "id": "56d3a7c72b164a6",
   "outputs": [
    {
     "name": "stdout",
     "output_type": "stream",
     "text": [
      "8460\n"
     ]
    }
   ],
   "execution_count": 5
  },
  {
   "metadata": {
    "ExecuteTime": {
     "end_time": "2025-08-07T06:10:04.067152Z",
     "start_time": "2025-08-07T06:10:04.064072Z"
    }
   },
   "cell_type": "code",
   "source": [
    "from typing import List\n",
    "\n",
    "def custom_tokenizer(text: str, include_whitespace: bool = True) -> List[str]:\n",
    "    \"\"\"\n",
    "    Custom tokenizer that adds whitespace if include_whitespace is True.\n",
    "\n",
    "    Parameters:\n",
    "        text (str): The text to be tokenized.\n",
    "        include_whitespace (bool, optional): Whether to include whitespace in the tokenization. Defaults to True.\n",
    "\n",
    "    Returns:\n",
    "        tokens (List[str]): A list of tokens.\n",
    "    \"\"\"\n",
    "    if not include_whitespace:\n",
    "        return re.findall(r\"\\w+|[^\\w\\s]\", text)\n",
    "    return re.findall(r\"\\w+|\\s+|[^\\w\\s]\", text)"
   ],
   "id": "2a5e060589c17b19",
   "outputs": [],
   "execution_count": 6
  },
  {
   "metadata": {},
   "cell_type": "markdown",
   "source": "## Step 2: Creating Token IDs",
   "id": "4acffafaf4cbb40f"
  },
  {
   "metadata": {
    "ExecuteTime": {
     "end_time": "2025-08-07T06:10:04.117943Z",
     "start_time": "2025-08-07T06:10:04.114713Z"
    }
   },
   "cell_type": "code",
   "source": "result = custom_tokenizer(raw_text, include_whitespace=False)",
   "id": "f853562d4b3cfc99",
   "outputs": [],
   "execution_count": 7
  },
  {
   "metadata": {
    "ExecuteTime": {
     "end_time": "2025-08-07T06:10:04.166997Z",
     "start_time": "2025-08-07T06:10:04.164702Z"
    }
   },
   "cell_type": "code",
   "source": "print(len(result))",
   "id": "ab85a6f78974d1b4",
   "outputs": [
    {
     "name": "stdout",
     "output_type": "stream",
     "text": [
      "4827\n"
     ]
    }
   ],
   "execution_count": 8
  },
  {
   "metadata": {
    "ExecuteTime": {
     "end_time": "2025-08-07T06:10:04.218322Z",
     "start_time": "2025-08-07T06:10:04.215655Z"
    }
   },
   "cell_type": "code",
   "source": [
    "vocabulary = sorted(set(result))\n",
    "print(vocabulary)"
   ],
   "id": "4d6ec6ad61d83f15",
   "outputs": [
    {
     "name": "stdout",
     "output_type": "stream",
     "text": [
      "['!', '\"', \"'\", '(', ')', ',', '-', '.', ':', ';', '?', 'A', 'Ah', 'Among', 'And', 'Are', 'Arrt', 'As', 'At', 'Be', 'Begin', 'Burlington', 'But', 'By', 'Carlo', 'Chicago', 'Claude', 'Come', 'Croft', 'Destroyed', 'Devonshire', 'Don', 'Dubarry_', 'Emperors', 'Florence', 'For', 'Gallery', 'Gideon', 'Gisburn', 'Gisburns', 'Grafton', 'Greek', 'Grindle', 'Grindles', 'HAD', 'Had', 'Hang', 'Has', 'He', 'Her', 'Hermia', 'His', 'How', 'I', 'If', 'In', 'It', 'Jack', 'Jove', 'Just', 'Lord', 'Made', 'Miss', 'Money', 'Monte', 'Moon', 'Mr', 'Mrs', 'My', 'Never', 'No', 'Now', 'Nutley', 'Of', 'Oh', 'On', 'Once', 'Only', 'Or', 'Perhaps', 'Poor', 'Professional', 'Renaissance', 'Rickham', 'Riviera', 'Rome', 'Russian', 'Sevres', 'She', 'Stroud', 'Strouds', 'Suddenly', 'That', 'The', 'Then', 'There', 'They', 'This', 'Those', 'Though', 'Thwing', 'Thwings', 'To', 'Usually', 'Venetian', 'Victor', 'Was', 'We', 'Well', 'What', 'When', 'Why', 'Yes', 'You', '_I', '_am_', '_famille', '_felt_', '_has_', '_have_', '_jardiniere_', '_mine_', '_not_', '_rose', '_rs_', '_that_', '_the_', '_was_', '_were_', 'a', 'abdication', 'able', 'about', 'above', 'abruptly', 'absolute', 'absorbed', 'absurdity', 'academic', 'accuse', 'accustomed', 'across', 'activity', 'add', 'added', 'admirers', 'adopted', 'adulation', 'advance', 'aesthetic', 'affect', 'afraid', 'after', 'afterward', 'again', 'ago', 'ah', 'air', 'alive', 'all', 'almost', 'alone', 'along', 'always', 'amazement', 'amid', 'among', 'amplest', 'amusing', 'an', 'and', 'another', 'answer', 'answered', 'any', 'anything', 'anywhere', 'apparent', 'apparently', 'appearance', 'appeared', 'appointed', 'are', 'arm', 'arms', 'art', 'articles', 'artist', 'as', 'aside', 'asked', 'at', 'atmosphere', 'atom', 'attack', 'attention', 'attitude', 'audacities', 'away', 'awful', 'axioms', 'azaleas', 'back', 'background', 'balance', 'balancing', 'balustraded', 'basking', 'bath', 'be', 'beaming', 'bean', 'bear', 'beard', 'beauty', 'became', 'because', 'becoming', 'bed', 'been', 'before', 'began', 'begun', 'behind', 'being', 'believed', 'beneath', 'bespoke', 'better', 'between', 'big', 'bits', 'bitterness', 'blocked', 'born', 'borne', 'boudoir', 'brac', 'bravura', 'break', 'breaking', 'breathing', 'breeding', 'bric', 'briefly', 'brings', 'bronzes', 'brought', 'brown', 'brush', 'bull', 'business', 'but', 'buying', 'by', 'called', 'came', 'can', 'canvas', 'canvases', 'cards', 'care', 'career', 'caught', 'central', 'century', 'chair', 'chairs', 'chap', 'characteristic', 'charming', 'cheap', 'check', 'cheeks', 'chest', 'chimney', 'chucked', 'cigar', 'cigarette', 'cigars', 'circulation', 'circumstance', 'circus', 'claimed', 'clasping', 'clear', 'cleverer', 'close', 'closets', 'clown', 'clue', 'coat', 'collapsed', 'colour', 'come', 'comfortable', 'coming', 'companion', 'compared', 'complex', 'confident', 'congesting', 'conjugal', 'constraint', 'consummate', 'contended', 'continued', 'corner', 'corrected', 'cotta', 'could', 'couldn', 'count', 'countenance', 'couple', 'course', 'covered', 'craft', 'cried', 'crossed', 'crowned', 'crumbled', 'cry', 'cured', 'curiosity', 'curious', 'current', 'curtains', 'd', 'dabble', 'damask', 'dancers', 'dark', 'dashed', 'day', 'days', 'dead', 'deadening', 'dear', 'deep', 'deerhound', 'degree', 'delicate', 'demand', 'denied', 'deploring', 'deprecating', 'deprecatingly', 'desire', 'destroyed', 'destruction', 'desultory', 'detail', 'diagnosis', 'did', 'didn', 'died', 'dim', 'dimmest', 'dingy', 'dining', 'disarming', 'discovery', 'discrimination', 'discussion', 'disdain', 'disdained', 'disease', 'disguised', 'display', 'dissatisfied', 'distinguished', 'distract', 'divert', 'do', 'doesn', 'doing', 'domestic', 'don', 'done', 'donkey', 'down', 'dozen', 'dragged', 'drawing', 'drawn', 'dress', 'drew', 'dropped', 'each', 'earth', 'ease', 'easel', 'easy', 'echoed', 'economy', 'effect', 'effects', 'efforts', 'egregious', 'eighteenth', 'elbow', 'elegant', 'else', 'embarrassed', 'enabled', 'end', 'endless', 'enjoy', 'enlightenment', 'enough', 'ensuing', 'equally', 'equanimity', 'escape', 'established', 'etching', 'even', 'event', 'ever', 'everlasting', 'every', 'exasperated', 'except', 'excuse', 'excusing', 'existed', 'expected', 'exquisite', 'exquisitely', 'extenuation', 'exterminating', 'extracting', 'eye', 'eyebrows', 'eyes', 'face', 'faces', 'fact', 'faded', 'failed', 'failure', 'fair', 'faith', 'false', 'familiar', 'fancy', 'fashionable', 'fate', 'feather', 'feet', 'fell', 'fellow', 'felt', 'few', 'fewer', 'finality', 'find', 'fingers', 'first', 'fit', 'fitting', 'five', 'flash', 'flashed', 'florid', 'flowers', 'fluently', 'flung', 'follow', 'followed', 'fond', 'footstep', 'for', 'forced', 'forcing', 'forehead', 'foreign', 'foreseen', 'forgive', 'forgotten', 'form', 'formed', 'forming', 'forward', 'fostered', 'found', 'foundations', 'four', 'fragment', 'fragments', 'frame', 'frames', 'frequently', 'friend', 'from', 'full', 'fullest', 'furiously', 'furrowed', 'garlanded', 'garlands', 'gave', 'genial', 'genius', 'gesture', 'get', 'getting', 'give', 'given', 'glad', 'glanced', 'glimpse', 'gloried', 'glory', 'go', 'going', 'gone', 'good', 'got', 'grace', 'gradually', 'gray', 'grayish', 'great', 'greatest', 'greatness', 'grew', 'groping', 'growing', 'had', 'hadn', 'hair', 'half', 'hall', 'hand', 'hands', 'handsome', 'hanging', 'happen', 'happened', 'hard', 'hardly', 'have', 'haven', 'having', 'he', 'head', 'hear', 'heard', 'heart', 'height', 'her', 'here', 'hermit', 'herself', 'hesitations', 'hide', 'high', 'him', 'himself', 'hint', 'his', 'history', 'holding', 'home', 'honour', 'hooded', 'hostess', 'hot', 'hour', 'hours', 'house', 'how', 'humoured', 'hung', 'husband', 'idea', 'idle', 'idling', 'if', 'immediately', 'in', 'incense', 'indifferent', 'inevitable', 'inevitably', 'inflexible', 'insensible', 'insignificant', 'instinctively', 'instructive', 'interesting', 'into', 'ironic', 'irony', 'irrelevance', 'irrevocable', 'is', 'it', 'its', 'itself', 'jealousy', 'just', 'keep', 'kept', 'kind', 'knees', 'knew', 'know', 'known_', 'laid', 'lair', 'landing', 'language', 'last', 'late', 'later', 'latter', 'laugh', 'laughed', 'lay', 'leading', 'lean', 'learned', 'least', 'leathery', 'leave', 'led', 'left', 'leisure', 'lends', 'lent', 'let', 'lies', 'life', 'lift', 'lifted', 'light', 'lightly', 'like', 'liked', 'likeness', 'line', 'lines', 'lingered', 'lips', 'lit', 'little', 'live', 'll', 'loathing', 'long', 'longed', 'longer', 'look', 'looked', 'looking', 'lose', 'loss', 'lounging', 'lovely', 'lucky', 'lump', 'luncheon', 'luxury', 'lying', 'made', 'make', 'man', 'manage', 'managed', 'mantel', 'marble', 'married', 'may', 'me', 'meant', 'mechanically', 'mediocrity', 'medium', 'mentioned', 'mere', 'merely', 'met', 'might', 'mighty', 'millionaire', 'mine', 'minute', 'minutes', 'mirrors', 'modest', 'modesty', 'moment', 'money', 'monumental', 'mood', 'morbidly', 'more', 'most', 'mourn', 'mourned', 'moustache', 'moved', 'much', 'muddling', 'multiplied', 'murmur', 'muscles', 'must', 'my', 'myself', 'mysterious', 'naive', 'near', 'nearly', 'negatived', 'nervous', 'nervousness', 'neutral', 'never', 'next', 'no', 'none', 'not', 'note', 'nothing', 'now', 'nymphs', 'oak', 'obituary', 'object', 'objects', 'occurred', 'oddly', 'of', 'off', 'often', 'oh', 'old', 'on', 'once', 'one', 'ones', 'only', 'onto', 'open', 'or', 'other', 'our', 'ourselves', 'out', 'outline', 'oval', 'over', 'own', 'packed', 'paid', 'paint', 'painted', 'painter', 'painting', 'pale', 'paled', 'palm', 'panel', 'panelled', 'panelling', 'pardonable', 'pardoned', 'part', 'passages', 'passing', 'past', 'pastels', 'pathos', 'patient', 'people', 'perceptible', 'perfect', 'persistence', 'persuasively', 'phrase', 'picture', 'pictures', 'piece', 'pines', 'pink', 'place', 'placed', 'plain', 'platitudes', 'pleased', 'pockets', 'point', 'poised', 'poor', 'portrait', 'posing', 'possessed', 'poverty', 'predicted', 'preliminary', 'presenting', 'presses', 'prestidigitation', 'pretty', 'previous', 'price', 'pride', 'princely', 'prism', 'problem', 'proclaiming', 'prodigious', 'profusion', 'protest', 'prove', 'public', 'purblind', 'purely', 'pushed', 'put', 'qualities', 'quality', 'queerly', 'question', 'quickly', 'quietly', 'quite', 'quote', 'rain', 'raised', 'random', 'rather', 're', 'real', 'really', 'reared', 'reason', 'reassurance', 'recovering', 'recreated', 'reflected', 'reflection', 'regrets', 'relatively', 'remained', 'remember', 'reminded', 'repeating', 'represented', 'reproduction', 'resented', 'resolve', 'resources', 'rest', 'rich', 'ridiculous', 'robbed', 'romantic', 'room', 'rooms', 'rose', 'rule', 'run', 's', 'said', 'same', 'satisfaction', 'savour', 'saw', 'say', 'saying', 'says', 'scorn', 'scornful', 'secret', 'see', 'seemed', 'seen', 'self', 'send', 'sensation', 'sensitive', 'sent', 'serious', 'set', 'sex', 'shade', 'shaking', 'shall', 'she', 'shirked', 'short', 'should', 'shoulder', 'shoulders', 'show', 'showed', 'showy', 'shrug', 'shrugged', 'sight', 'sign', 'silent', 'silver', 'similar', 'simpleton', 'simplifications', 'simply', 'since', 'single', 'sitter', 'sitters', 'sketch', 'skill', 'slight', 'slightly', 'slowly', 'small', 'smile', 'smiling', 'sneer', 'so', 'solace', 'some', 'somebody', 'something', 'spacious', 'spaniel', 'speaking', 'speculations', 'spite', 'splash', 'square', 'stairs', 'stalk', 'stammer', 'stand', 'standing', 'started', 'stay', 'still', 'stocked', 'stood', 'stopped', 'stopping', 'straddling', 'straight', 'strain', 'straining', 'strange', 'straw', 'stream', 'stroke', 'strokes', 'strolled', 'strongest', 'strongly', 'struck', 'studio', 'stuff', 'subject', 'substantial', 'suburban', 'such', 'suddenly', 'suffered', 'sugar', 'suggested', 'sunburn', 'sunburnt', 'sunlit', 'superb', 'sure', 'surest', 'surface', 'surprise', 'surprised', 'surrounded', 'suspected', 'sweetly', 'sweetness', 'swelling', 'swept', 'swum', 't', 'table', 'take', 'taken', 'talking', 'tea', 'tears', 'technicalities', 'technique', 'tell', 'tells', 'tempting', 'terra', 'terrace', 'terraces', 'terribly', 'than', 'that', 'the', 'their', 'them', 'then', 'there', 'therefore', 'they', 'thin', 'thing', 'things', 'think', 'this', 'thither', 'those', 'though', 'thought', 'three', 'threshold', 'threw', 'through', 'throwing', 'tie', 'till', 'time', 'timorously', 'tinge', 'tips', 'tired', 'to', 'told', 'tone', 'tones', 'too', 'took', 'tottering', 'touched', 'toward', 'trace', 'trade', 'transmute', 'traps', 'travelled', 'trees', 'tribute', 'tributes', 'tricks', 'tried', 'trouser', 'true', 'truth', 'tubes', 'turned', 'twenty', 'twice', 'twirling', 'unaccountable', 'uncertain', 'under', 'underlay', 'underneath', 'understand', 'unexpected', 'untouched', 'unusual', 'up', 'upon', 'upset', 'upstairs', 'us', 'used', 'usual', 'value', 'varnishing', 'vases', 've', 'veins', 'velveteen', 'verte_', 'very', 'villa', 'vindicated', 'virtuosity', 'vista', 'vocation', 'voice', 'wall', 'wander', 'want', 'wanted', 'wants', 'was', 'wasn', 'watched', 'watching', 'water', 'waves', 'way', 'weekly', 'weeks', 'welcome', 'went', 'were', 'what', 'when', 'whenever', 'where', 'which', 'while', 'white', 'who', 'whole', 'whom', 'why', 'wide', 'widow', 'wife', 'wild', 'wincing', 'window', 'wish', 'with', 'without', 'wits', 'woman', 'women', 'won', 'wonder', 'wondered', 'word', 'work', 'working', 'worth', 'would', 'wouldn', 'year', 'years', 'yellow', 'yet', 'you', 'younger', 'your', 'yourself']\n"
     ]
    }
   ],
   "execution_count": 9
  },
  {
   "metadata": {
    "ExecuteTime": {
     "end_time": "2025-08-07T06:10:04.269384Z",
     "start_time": "2025-08-07T06:10:04.267352Z"
    }
   },
   "cell_type": "code",
   "source": "print(f\"Vocabulary Size: {len(vocabulary)}\")",
   "id": "7c94bdc45a620388",
   "outputs": [
    {
     "name": "stdout",
     "output_type": "stream",
     "text": [
      "Vocabulary Size: 1148\n"
     ]
    }
   ],
   "execution_count": 10
  },
  {
   "metadata": {
    "ExecuteTime": {
     "end_time": "2025-08-07T06:10:04.319396Z",
     "start_time": "2025-08-07T06:10:04.317412Z"
    }
   },
   "cell_type": "code",
   "source": [
    "vocabulary_dictionary = dict(zip(vocabulary, range(len(vocabulary))))\n",
    "print(vocabulary_dictionary)"
   ],
   "id": "82bdfd740ba72993",
   "outputs": [
    {
     "name": "stdout",
     "output_type": "stream",
     "text": [
      "{'!': 0, '\"': 1, \"'\": 2, '(': 3, ')': 4, ',': 5, '-': 6, '.': 7, ':': 8, ';': 9, '?': 10, 'A': 11, 'Ah': 12, 'Among': 13, 'And': 14, 'Are': 15, 'Arrt': 16, 'As': 17, 'At': 18, 'Be': 19, 'Begin': 20, 'Burlington': 21, 'But': 22, 'By': 23, 'Carlo': 24, 'Chicago': 25, 'Claude': 26, 'Come': 27, 'Croft': 28, 'Destroyed': 29, 'Devonshire': 30, 'Don': 31, 'Dubarry_': 32, 'Emperors': 33, 'Florence': 34, 'For': 35, 'Gallery': 36, 'Gideon': 37, 'Gisburn': 38, 'Gisburns': 39, 'Grafton': 40, 'Greek': 41, 'Grindle': 42, 'Grindles': 43, 'HAD': 44, 'Had': 45, 'Hang': 46, 'Has': 47, 'He': 48, 'Her': 49, 'Hermia': 50, 'His': 51, 'How': 52, 'I': 53, 'If': 54, 'In': 55, 'It': 56, 'Jack': 57, 'Jove': 58, 'Just': 59, 'Lord': 60, 'Made': 61, 'Miss': 62, 'Money': 63, 'Monte': 64, 'Moon': 65, 'Mr': 66, 'Mrs': 67, 'My': 68, 'Never': 69, 'No': 70, 'Now': 71, 'Nutley': 72, 'Of': 73, 'Oh': 74, 'On': 75, 'Once': 76, 'Only': 77, 'Or': 78, 'Perhaps': 79, 'Poor': 80, 'Professional': 81, 'Renaissance': 82, 'Rickham': 83, 'Riviera': 84, 'Rome': 85, 'Russian': 86, 'Sevres': 87, 'She': 88, 'Stroud': 89, 'Strouds': 90, 'Suddenly': 91, 'That': 92, 'The': 93, 'Then': 94, 'There': 95, 'They': 96, 'This': 97, 'Those': 98, 'Though': 99, 'Thwing': 100, 'Thwings': 101, 'To': 102, 'Usually': 103, 'Venetian': 104, 'Victor': 105, 'Was': 106, 'We': 107, 'Well': 108, 'What': 109, 'When': 110, 'Why': 111, 'Yes': 112, 'You': 113, '_I': 114, '_am_': 115, '_famille': 116, '_felt_': 117, '_has_': 118, '_have_': 119, '_jardiniere_': 120, '_mine_': 121, '_not_': 122, '_rose': 123, '_rs_': 124, '_that_': 125, '_the_': 126, '_was_': 127, '_were_': 128, 'a': 129, 'abdication': 130, 'able': 131, 'about': 132, 'above': 133, 'abruptly': 134, 'absolute': 135, 'absorbed': 136, 'absurdity': 137, 'academic': 138, 'accuse': 139, 'accustomed': 140, 'across': 141, 'activity': 142, 'add': 143, 'added': 144, 'admirers': 145, 'adopted': 146, 'adulation': 147, 'advance': 148, 'aesthetic': 149, 'affect': 150, 'afraid': 151, 'after': 152, 'afterward': 153, 'again': 154, 'ago': 155, 'ah': 156, 'air': 157, 'alive': 158, 'all': 159, 'almost': 160, 'alone': 161, 'along': 162, 'always': 163, 'amazement': 164, 'amid': 165, 'among': 166, 'amplest': 167, 'amusing': 168, 'an': 169, 'and': 170, 'another': 171, 'answer': 172, 'answered': 173, 'any': 174, 'anything': 175, 'anywhere': 176, 'apparent': 177, 'apparently': 178, 'appearance': 179, 'appeared': 180, 'appointed': 181, 'are': 182, 'arm': 183, 'arms': 184, 'art': 185, 'articles': 186, 'artist': 187, 'as': 188, 'aside': 189, 'asked': 190, 'at': 191, 'atmosphere': 192, 'atom': 193, 'attack': 194, 'attention': 195, 'attitude': 196, 'audacities': 197, 'away': 198, 'awful': 199, 'axioms': 200, 'azaleas': 201, 'back': 202, 'background': 203, 'balance': 204, 'balancing': 205, 'balustraded': 206, 'basking': 207, 'bath': 208, 'be': 209, 'beaming': 210, 'bean': 211, 'bear': 212, 'beard': 213, 'beauty': 214, 'became': 215, 'because': 216, 'becoming': 217, 'bed': 218, 'been': 219, 'before': 220, 'began': 221, 'begun': 222, 'behind': 223, 'being': 224, 'believed': 225, 'beneath': 226, 'bespoke': 227, 'better': 228, 'between': 229, 'big': 230, 'bits': 231, 'bitterness': 232, 'blocked': 233, 'born': 234, 'borne': 235, 'boudoir': 236, 'brac': 237, 'bravura': 238, 'break': 239, 'breaking': 240, 'breathing': 241, 'breeding': 242, 'bric': 243, 'briefly': 244, 'brings': 245, 'bronzes': 246, 'brought': 247, 'brown': 248, 'brush': 249, 'bull': 250, 'business': 251, 'but': 252, 'buying': 253, 'by': 254, 'called': 255, 'came': 256, 'can': 257, 'canvas': 258, 'canvases': 259, 'cards': 260, 'care': 261, 'career': 262, 'caught': 263, 'central': 264, 'century': 265, 'chair': 266, 'chairs': 267, 'chap': 268, 'characteristic': 269, 'charming': 270, 'cheap': 271, 'check': 272, 'cheeks': 273, 'chest': 274, 'chimney': 275, 'chucked': 276, 'cigar': 277, 'cigarette': 278, 'cigars': 279, 'circulation': 280, 'circumstance': 281, 'circus': 282, 'claimed': 283, 'clasping': 284, 'clear': 285, 'cleverer': 286, 'close': 287, 'closets': 288, 'clown': 289, 'clue': 290, 'coat': 291, 'collapsed': 292, 'colour': 293, 'come': 294, 'comfortable': 295, 'coming': 296, 'companion': 297, 'compared': 298, 'complex': 299, 'confident': 300, 'congesting': 301, 'conjugal': 302, 'constraint': 303, 'consummate': 304, 'contended': 305, 'continued': 306, 'corner': 307, 'corrected': 308, 'cotta': 309, 'could': 310, 'couldn': 311, 'count': 312, 'countenance': 313, 'couple': 314, 'course': 315, 'covered': 316, 'craft': 317, 'cried': 318, 'crossed': 319, 'crowned': 320, 'crumbled': 321, 'cry': 322, 'cured': 323, 'curiosity': 324, 'curious': 325, 'current': 326, 'curtains': 327, 'd': 328, 'dabble': 329, 'damask': 330, 'dancers': 331, 'dark': 332, 'dashed': 333, 'day': 334, 'days': 335, 'dead': 336, 'deadening': 337, 'dear': 338, 'deep': 339, 'deerhound': 340, 'degree': 341, 'delicate': 342, 'demand': 343, 'denied': 344, 'deploring': 345, 'deprecating': 346, 'deprecatingly': 347, 'desire': 348, 'destroyed': 349, 'destruction': 350, 'desultory': 351, 'detail': 352, 'diagnosis': 353, 'did': 354, 'didn': 355, 'died': 356, 'dim': 357, 'dimmest': 358, 'dingy': 359, 'dining': 360, 'disarming': 361, 'discovery': 362, 'discrimination': 363, 'discussion': 364, 'disdain': 365, 'disdained': 366, 'disease': 367, 'disguised': 368, 'display': 369, 'dissatisfied': 370, 'distinguished': 371, 'distract': 372, 'divert': 373, 'do': 374, 'doesn': 375, 'doing': 376, 'domestic': 377, 'don': 378, 'done': 379, 'donkey': 380, 'down': 381, 'dozen': 382, 'dragged': 383, 'drawing': 384, 'drawn': 385, 'dress': 386, 'drew': 387, 'dropped': 388, 'each': 389, 'earth': 390, 'ease': 391, 'easel': 392, 'easy': 393, 'echoed': 394, 'economy': 395, 'effect': 396, 'effects': 397, 'efforts': 398, 'egregious': 399, 'eighteenth': 400, 'elbow': 401, 'elegant': 402, 'else': 403, 'embarrassed': 404, 'enabled': 405, 'end': 406, 'endless': 407, 'enjoy': 408, 'enlightenment': 409, 'enough': 410, 'ensuing': 411, 'equally': 412, 'equanimity': 413, 'escape': 414, 'established': 415, 'etching': 416, 'even': 417, 'event': 418, 'ever': 419, 'everlasting': 420, 'every': 421, 'exasperated': 422, 'except': 423, 'excuse': 424, 'excusing': 425, 'existed': 426, 'expected': 427, 'exquisite': 428, 'exquisitely': 429, 'extenuation': 430, 'exterminating': 431, 'extracting': 432, 'eye': 433, 'eyebrows': 434, 'eyes': 435, 'face': 436, 'faces': 437, 'fact': 438, 'faded': 439, 'failed': 440, 'failure': 441, 'fair': 442, 'faith': 443, 'false': 444, 'familiar': 445, 'fancy': 446, 'fashionable': 447, 'fate': 448, 'feather': 449, 'feet': 450, 'fell': 451, 'fellow': 452, 'felt': 453, 'few': 454, 'fewer': 455, 'finality': 456, 'find': 457, 'fingers': 458, 'first': 459, 'fit': 460, 'fitting': 461, 'five': 462, 'flash': 463, 'flashed': 464, 'florid': 465, 'flowers': 466, 'fluently': 467, 'flung': 468, 'follow': 469, 'followed': 470, 'fond': 471, 'footstep': 472, 'for': 473, 'forced': 474, 'forcing': 475, 'forehead': 476, 'foreign': 477, 'foreseen': 478, 'forgive': 479, 'forgotten': 480, 'form': 481, 'formed': 482, 'forming': 483, 'forward': 484, 'fostered': 485, 'found': 486, 'foundations': 487, 'four': 488, 'fragment': 489, 'fragments': 490, 'frame': 491, 'frames': 492, 'frequently': 493, 'friend': 494, 'from': 495, 'full': 496, 'fullest': 497, 'furiously': 498, 'furrowed': 499, 'garlanded': 500, 'garlands': 501, 'gave': 502, 'genial': 503, 'genius': 504, 'gesture': 505, 'get': 506, 'getting': 507, 'give': 508, 'given': 509, 'glad': 510, 'glanced': 511, 'glimpse': 512, 'gloried': 513, 'glory': 514, 'go': 515, 'going': 516, 'gone': 517, 'good': 518, 'got': 519, 'grace': 520, 'gradually': 521, 'gray': 522, 'grayish': 523, 'great': 524, 'greatest': 525, 'greatness': 526, 'grew': 527, 'groping': 528, 'growing': 529, 'had': 530, 'hadn': 531, 'hair': 532, 'half': 533, 'hall': 534, 'hand': 535, 'hands': 536, 'handsome': 537, 'hanging': 538, 'happen': 539, 'happened': 540, 'hard': 541, 'hardly': 542, 'have': 543, 'haven': 544, 'having': 545, 'he': 546, 'head': 547, 'hear': 548, 'heard': 549, 'heart': 550, 'height': 551, 'her': 552, 'here': 553, 'hermit': 554, 'herself': 555, 'hesitations': 556, 'hide': 557, 'high': 558, 'him': 559, 'himself': 560, 'hint': 561, 'his': 562, 'history': 563, 'holding': 564, 'home': 565, 'honour': 566, 'hooded': 567, 'hostess': 568, 'hot': 569, 'hour': 570, 'hours': 571, 'house': 572, 'how': 573, 'humoured': 574, 'hung': 575, 'husband': 576, 'idea': 577, 'idle': 578, 'idling': 579, 'if': 580, 'immediately': 581, 'in': 582, 'incense': 583, 'indifferent': 584, 'inevitable': 585, 'inevitably': 586, 'inflexible': 587, 'insensible': 588, 'insignificant': 589, 'instinctively': 590, 'instructive': 591, 'interesting': 592, 'into': 593, 'ironic': 594, 'irony': 595, 'irrelevance': 596, 'irrevocable': 597, 'is': 598, 'it': 599, 'its': 600, 'itself': 601, 'jealousy': 602, 'just': 603, 'keep': 604, 'kept': 605, 'kind': 606, 'knees': 607, 'knew': 608, 'know': 609, 'known_': 610, 'laid': 611, 'lair': 612, 'landing': 613, 'language': 614, 'last': 615, 'late': 616, 'later': 617, 'latter': 618, 'laugh': 619, 'laughed': 620, 'lay': 621, 'leading': 622, 'lean': 623, 'learned': 624, 'least': 625, 'leathery': 626, 'leave': 627, 'led': 628, 'left': 629, 'leisure': 630, 'lends': 631, 'lent': 632, 'let': 633, 'lies': 634, 'life': 635, 'lift': 636, 'lifted': 637, 'light': 638, 'lightly': 639, 'like': 640, 'liked': 641, 'likeness': 642, 'line': 643, 'lines': 644, 'lingered': 645, 'lips': 646, 'lit': 647, 'little': 648, 'live': 649, 'll': 650, 'loathing': 651, 'long': 652, 'longed': 653, 'longer': 654, 'look': 655, 'looked': 656, 'looking': 657, 'lose': 658, 'loss': 659, 'lounging': 660, 'lovely': 661, 'lucky': 662, 'lump': 663, 'luncheon': 664, 'luxury': 665, 'lying': 666, 'made': 667, 'make': 668, 'man': 669, 'manage': 670, 'managed': 671, 'mantel': 672, 'marble': 673, 'married': 674, 'may': 675, 'me': 676, 'meant': 677, 'mechanically': 678, 'mediocrity': 679, 'medium': 680, 'mentioned': 681, 'mere': 682, 'merely': 683, 'met': 684, 'might': 685, 'mighty': 686, 'millionaire': 687, 'mine': 688, 'minute': 689, 'minutes': 690, 'mirrors': 691, 'modest': 692, 'modesty': 693, 'moment': 694, 'money': 695, 'monumental': 696, 'mood': 697, 'morbidly': 698, 'more': 699, 'most': 700, 'mourn': 701, 'mourned': 702, 'moustache': 703, 'moved': 704, 'much': 705, 'muddling': 706, 'multiplied': 707, 'murmur': 708, 'muscles': 709, 'must': 710, 'my': 711, 'myself': 712, 'mysterious': 713, 'naive': 714, 'near': 715, 'nearly': 716, 'negatived': 717, 'nervous': 718, 'nervousness': 719, 'neutral': 720, 'never': 721, 'next': 722, 'no': 723, 'none': 724, 'not': 725, 'note': 726, 'nothing': 727, 'now': 728, 'nymphs': 729, 'oak': 730, 'obituary': 731, 'object': 732, 'objects': 733, 'occurred': 734, 'oddly': 735, 'of': 736, 'off': 737, 'often': 738, 'oh': 739, 'old': 740, 'on': 741, 'once': 742, 'one': 743, 'ones': 744, 'only': 745, 'onto': 746, 'open': 747, 'or': 748, 'other': 749, 'our': 750, 'ourselves': 751, 'out': 752, 'outline': 753, 'oval': 754, 'over': 755, 'own': 756, 'packed': 757, 'paid': 758, 'paint': 759, 'painted': 760, 'painter': 761, 'painting': 762, 'pale': 763, 'paled': 764, 'palm': 765, 'panel': 766, 'panelled': 767, 'panelling': 768, 'pardonable': 769, 'pardoned': 770, 'part': 771, 'passages': 772, 'passing': 773, 'past': 774, 'pastels': 775, 'pathos': 776, 'patient': 777, 'people': 778, 'perceptible': 779, 'perfect': 780, 'persistence': 781, 'persuasively': 782, 'phrase': 783, 'picture': 784, 'pictures': 785, 'piece': 786, 'pines': 787, 'pink': 788, 'place': 789, 'placed': 790, 'plain': 791, 'platitudes': 792, 'pleased': 793, 'pockets': 794, 'point': 795, 'poised': 796, 'poor': 797, 'portrait': 798, 'posing': 799, 'possessed': 800, 'poverty': 801, 'predicted': 802, 'preliminary': 803, 'presenting': 804, 'presses': 805, 'prestidigitation': 806, 'pretty': 807, 'previous': 808, 'price': 809, 'pride': 810, 'princely': 811, 'prism': 812, 'problem': 813, 'proclaiming': 814, 'prodigious': 815, 'profusion': 816, 'protest': 817, 'prove': 818, 'public': 819, 'purblind': 820, 'purely': 821, 'pushed': 822, 'put': 823, 'qualities': 824, 'quality': 825, 'queerly': 826, 'question': 827, 'quickly': 828, 'quietly': 829, 'quite': 830, 'quote': 831, 'rain': 832, 'raised': 833, 'random': 834, 'rather': 835, 're': 836, 'real': 837, 'really': 838, 'reared': 839, 'reason': 840, 'reassurance': 841, 'recovering': 842, 'recreated': 843, 'reflected': 844, 'reflection': 845, 'regrets': 846, 'relatively': 847, 'remained': 848, 'remember': 849, 'reminded': 850, 'repeating': 851, 'represented': 852, 'reproduction': 853, 'resented': 854, 'resolve': 855, 'resources': 856, 'rest': 857, 'rich': 858, 'ridiculous': 859, 'robbed': 860, 'romantic': 861, 'room': 862, 'rooms': 863, 'rose': 864, 'rule': 865, 'run': 866, 's': 867, 'said': 868, 'same': 869, 'satisfaction': 870, 'savour': 871, 'saw': 872, 'say': 873, 'saying': 874, 'says': 875, 'scorn': 876, 'scornful': 877, 'secret': 878, 'see': 879, 'seemed': 880, 'seen': 881, 'self': 882, 'send': 883, 'sensation': 884, 'sensitive': 885, 'sent': 886, 'serious': 887, 'set': 888, 'sex': 889, 'shade': 890, 'shaking': 891, 'shall': 892, 'she': 893, 'shirked': 894, 'short': 895, 'should': 896, 'shoulder': 897, 'shoulders': 898, 'show': 899, 'showed': 900, 'showy': 901, 'shrug': 902, 'shrugged': 903, 'sight': 904, 'sign': 905, 'silent': 906, 'silver': 907, 'similar': 908, 'simpleton': 909, 'simplifications': 910, 'simply': 911, 'since': 912, 'single': 913, 'sitter': 914, 'sitters': 915, 'sketch': 916, 'skill': 917, 'slight': 918, 'slightly': 919, 'slowly': 920, 'small': 921, 'smile': 922, 'smiling': 923, 'sneer': 924, 'so': 925, 'solace': 926, 'some': 927, 'somebody': 928, 'something': 929, 'spacious': 930, 'spaniel': 931, 'speaking': 932, 'speculations': 933, 'spite': 934, 'splash': 935, 'square': 936, 'stairs': 937, 'stalk': 938, 'stammer': 939, 'stand': 940, 'standing': 941, 'started': 942, 'stay': 943, 'still': 944, 'stocked': 945, 'stood': 946, 'stopped': 947, 'stopping': 948, 'straddling': 949, 'straight': 950, 'strain': 951, 'straining': 952, 'strange': 953, 'straw': 954, 'stream': 955, 'stroke': 956, 'strokes': 957, 'strolled': 958, 'strongest': 959, 'strongly': 960, 'struck': 961, 'studio': 962, 'stuff': 963, 'subject': 964, 'substantial': 965, 'suburban': 966, 'such': 967, 'suddenly': 968, 'suffered': 969, 'sugar': 970, 'suggested': 971, 'sunburn': 972, 'sunburnt': 973, 'sunlit': 974, 'superb': 975, 'sure': 976, 'surest': 977, 'surface': 978, 'surprise': 979, 'surprised': 980, 'surrounded': 981, 'suspected': 982, 'sweetly': 983, 'sweetness': 984, 'swelling': 985, 'swept': 986, 'swum': 987, 't': 988, 'table': 989, 'take': 990, 'taken': 991, 'talking': 992, 'tea': 993, 'tears': 994, 'technicalities': 995, 'technique': 996, 'tell': 997, 'tells': 998, 'tempting': 999, 'terra': 1000, 'terrace': 1001, 'terraces': 1002, 'terribly': 1003, 'than': 1004, 'that': 1005, 'the': 1006, 'their': 1007, 'them': 1008, 'then': 1009, 'there': 1010, 'therefore': 1011, 'they': 1012, 'thin': 1013, 'thing': 1014, 'things': 1015, 'think': 1016, 'this': 1017, 'thither': 1018, 'those': 1019, 'though': 1020, 'thought': 1021, 'three': 1022, 'threshold': 1023, 'threw': 1024, 'through': 1025, 'throwing': 1026, 'tie': 1027, 'till': 1028, 'time': 1029, 'timorously': 1030, 'tinge': 1031, 'tips': 1032, 'tired': 1033, 'to': 1034, 'told': 1035, 'tone': 1036, 'tones': 1037, 'too': 1038, 'took': 1039, 'tottering': 1040, 'touched': 1041, 'toward': 1042, 'trace': 1043, 'trade': 1044, 'transmute': 1045, 'traps': 1046, 'travelled': 1047, 'trees': 1048, 'tribute': 1049, 'tributes': 1050, 'tricks': 1051, 'tried': 1052, 'trouser': 1053, 'true': 1054, 'truth': 1055, 'tubes': 1056, 'turned': 1057, 'twenty': 1058, 'twice': 1059, 'twirling': 1060, 'unaccountable': 1061, 'uncertain': 1062, 'under': 1063, 'underlay': 1064, 'underneath': 1065, 'understand': 1066, 'unexpected': 1067, 'untouched': 1068, 'unusual': 1069, 'up': 1070, 'upon': 1071, 'upset': 1072, 'upstairs': 1073, 'us': 1074, 'used': 1075, 'usual': 1076, 'value': 1077, 'varnishing': 1078, 'vases': 1079, 've': 1080, 'veins': 1081, 'velveteen': 1082, 'verte_': 1083, 'very': 1084, 'villa': 1085, 'vindicated': 1086, 'virtuosity': 1087, 'vista': 1088, 'vocation': 1089, 'voice': 1090, 'wall': 1091, 'wander': 1092, 'want': 1093, 'wanted': 1094, 'wants': 1095, 'was': 1096, 'wasn': 1097, 'watched': 1098, 'watching': 1099, 'water': 1100, 'waves': 1101, 'way': 1102, 'weekly': 1103, 'weeks': 1104, 'welcome': 1105, 'went': 1106, 'were': 1107, 'what': 1108, 'when': 1109, 'whenever': 1110, 'where': 1111, 'which': 1112, 'while': 1113, 'white': 1114, 'who': 1115, 'whole': 1116, 'whom': 1117, 'why': 1118, 'wide': 1119, 'widow': 1120, 'wife': 1121, 'wild': 1122, 'wincing': 1123, 'window': 1124, 'wish': 1125, 'with': 1126, 'without': 1127, 'wits': 1128, 'woman': 1129, 'women': 1130, 'won': 1131, 'wonder': 1132, 'wondered': 1133, 'word': 1134, 'work': 1135, 'working': 1136, 'worth': 1137, 'would': 1138, 'wouldn': 1139, 'year': 1140, 'years': 1141, 'yellow': 1142, 'yet': 1143, 'you': 1144, 'younger': 1145, 'your': 1146, 'yourself': 1147}\n"
     ]
    }
   ],
   "execution_count": 11
  },
  {
   "metadata": {
    "ExecuteTime": {
     "end_time": "2025-08-07T06:10:04.370267Z",
     "start_time": "2025-08-07T06:10:04.366637Z"
    }
   },
   "cell_type": "code",
   "source": [
    "class SimpleTokenizer:\n",
    "    \"\"\"\n",
    "    A simple tokenizer class that create token IDs.\n",
    "    \"\"\"\n",
    "    def __init__(self, vocab: List[str]):\n",
    "        self.str_to_int = dict(zip(vocab, range(len(vocab))))\n",
    "        self.int_to_str = dict(zip(range(len(vocab)), vocab))\n",
    "\n",
    "    @staticmethod\n",
    "    def custom_tokenizer(text: str, include_whitespace: bool = True) -> List[str]:\n",
    "        \"\"\"\n",
    "        Custom tokenizer that adds whitespace if include_whitespace is True.\n",
    "\n",
    "        Parameters:\n",
    "            text (str): The text to be tokenized.\n",
    "            include_whitespace (bool, optional): Whether to include whitespace in the tokenization. Defaults to True.\n",
    "\n",
    "        Returns:\n",
    "            tokens (List[str]): A list of tokens.\n",
    "        \"\"\"\n",
    "        if not include_whitespace:\n",
    "            return re.findall(r\"\\w+|[^\\w\\s]\", text)\n",
    "        return re.findall(r\"\\w+|\\s+|[^\\w\\s]\", text)\n",
    "\n",
    "    def encode(self, text: str) -> List[int]:\n",
    "        \"\"\"\n",
    "        Encodes a text into a list of integers.\n",
    "        Parameters:\n",
    "            text (str): The text to be encoded.\n",
    "        Returns:\n",
    "            tokens (List[int]): A list of integers.\n",
    "        \"\"\"\n",
    "        tokens = self.custom_tokenizer(text, include_whitespace=False)\n",
    "        token_ids = [self.str_to_int[token] for token in tokens]\n",
    "        return token_ids\n",
    "\n",
    "    def decode(self, token_ids: List[int]) -> str:\n",
    "        \"\"\"\n",
    "        Decodes a list of integers into text.\n",
    "        Parameters:\n",
    "            token_ids (List[int]): A list of integers.\n",
    "        Returns:\n",
    "            text (str): The decoded text.\n",
    "        \"\"\"\n",
    "        tokens = [self.int_to_str[ID] for ID in token_ids]\n",
    "        text = \" \".join(tokens)\n",
    "        # Replace spaces before the specified punctuations\n",
    "        text = re.sub(r\"\\s+([,.?\\\"()'])\", r\"\\1\", text)\n",
    "        return text"
   ],
   "id": "4a71be8db8e5f29c",
   "outputs": [],
   "execution_count": 12
  },
  {
   "metadata": {
    "ExecuteTime": {
     "end_time": "2025-08-07T06:10:04.419853Z",
     "start_time": "2025-08-07T06:10:04.418029Z"
    }
   },
   "cell_type": "code",
   "source": "tokenizer = SimpleTokenizer(vocabulary)",
   "id": "62567c67ae7baf28",
   "outputs": [],
   "execution_count": 13
  },
  {
   "metadata": {
    "ExecuteTime": {
     "end_time": "2025-08-07T06:10:04.469405Z",
     "start_time": "2025-08-07T06:10:04.467516Z"
    }
   },
   "cell_type": "code",
   "source": [
    "text = \"It's the last he painted, you know, Mrs. Gisburn said with pardonable pride\"\n",
    "\n",
    "ids = tokenizer.encode(text)\n",
    "print(ids)"
   ],
   "id": "2da0e920996d1e21",
   "outputs": [
    {
     "name": "stdout",
     "output_type": "stream",
     "text": [
      "[56, 2, 867, 1006, 615, 546, 760, 5, 1144, 609, 5, 67, 7, 38, 868, 1126, 769, 810]\n"
     ]
    }
   ],
   "execution_count": 14
  },
  {
   "metadata": {
    "ExecuteTime": {
     "end_time": "2025-08-07T06:10:04.520678Z",
     "start_time": "2025-08-07T06:10:04.517511Z"
    }
   },
   "cell_type": "code",
   "source": "tokenizer.decode(ids)",
   "id": "98894d9ee5c9768a",
   "outputs": [
    {
     "data": {
      "text/plain": [
       "\"It' s the last he painted, you know, Mrs. Gisburn said with pardonable pride\""
      ]
     },
     "execution_count": 15,
     "metadata": {},
     "output_type": "execute_result"
    }
   ],
   "execution_count": 15
  },
  {
   "metadata": {
    "ExecuteTime": {
     "end_time": "2025-08-07T06:10:04.570581Z",
     "start_time": "2025-08-07T06:10:04.568509Z"
    }
   },
   "cell_type": "code",
   "source": [
    "text = \"\"\"\n",
    "I am currently working as an Assistant AI Engineer at Global InfoVentures Pvt. Ltd., where I am developing and integrating AI-driven solutions such as Conversational AI for the College ERP and Multi-Person Face Recognition Attendance Systems into the G5 Portal. With a Bachelor of Technology in Computer Science and Engineering from ABES Institute of Technology, Ghaziabad, I bring 2 years of experience in the dynamic field of artificial intelligence.\n",
    "\n",
    "My passion lies in leveraging AI technologies to solve real-world problems, particularly in the areas of Conversational AI, Computer Vision, and Machine Learning. I am committed to continuous learning and staying at the forefront of emerging technologies. My current focus is on deepening my expertise in AI and exploring its intersection with other cutting-edge domains like Web 3.0 and blockchain.\n",
    "\n",
    "I believe in the power of collaboration and am always eager to connect with fellow AI enthusiasts, seasoned professionals, and innovators who share my passion for technology. Together, we can explore new opportunities, share knowledge, and drive meaningful change in the tech industry.\n",
    "\n",
    "If you're passionate about AI and are looking to collaborate, innovate, or simply share ideas, I would love to connect. Let's work together to shape the future and create impactful solutions.\n",
    "\"\"\""
   ],
   "id": "fd78dd5493b4fca9",
   "outputs": [],
   "execution_count": 16
  },
  {
   "metadata": {
    "ExecuteTime": {
     "end_time": "2025-08-07T06:10:04.617875Z",
     "start_time": "2025-08-07T06:10:04.616331Z"
    }
   },
   "cell_type": "code",
   "source": "# tokenizer.encode(text)",
   "id": "cc6a89c0eebd4438",
   "outputs": [],
   "execution_count": 17
  },
  {
   "metadata": {},
   "cell_type": "markdown",
   "source": "## ADDING SPECIAL CONTEXT TOKENS",
   "id": "403b668e1984b098"
  },
  {
   "metadata": {
    "ExecuteTime": {
     "end_time": "2025-08-07T06:10:04.667489Z",
     "start_time": "2025-08-07T06:10:04.665598Z"
    }
   },
   "cell_type": "code",
   "source": [
    "vocabulary.extend([\"<|unknown|>\", \"<|endoftext|>\"])\n",
    "print(vocabulary)"
   ],
   "id": "5edcc0c62e2e10b9",
   "outputs": [
    {
     "name": "stdout",
     "output_type": "stream",
     "text": [
      "['!', '\"', \"'\", '(', ')', ',', '-', '.', ':', ';', '?', 'A', 'Ah', 'Among', 'And', 'Are', 'Arrt', 'As', 'At', 'Be', 'Begin', 'Burlington', 'But', 'By', 'Carlo', 'Chicago', 'Claude', 'Come', 'Croft', 'Destroyed', 'Devonshire', 'Don', 'Dubarry_', 'Emperors', 'Florence', 'For', 'Gallery', 'Gideon', 'Gisburn', 'Gisburns', 'Grafton', 'Greek', 'Grindle', 'Grindles', 'HAD', 'Had', 'Hang', 'Has', 'He', 'Her', 'Hermia', 'His', 'How', 'I', 'If', 'In', 'It', 'Jack', 'Jove', 'Just', 'Lord', 'Made', 'Miss', 'Money', 'Monte', 'Moon', 'Mr', 'Mrs', 'My', 'Never', 'No', 'Now', 'Nutley', 'Of', 'Oh', 'On', 'Once', 'Only', 'Or', 'Perhaps', 'Poor', 'Professional', 'Renaissance', 'Rickham', 'Riviera', 'Rome', 'Russian', 'Sevres', 'She', 'Stroud', 'Strouds', 'Suddenly', 'That', 'The', 'Then', 'There', 'They', 'This', 'Those', 'Though', 'Thwing', 'Thwings', 'To', 'Usually', 'Venetian', 'Victor', 'Was', 'We', 'Well', 'What', 'When', 'Why', 'Yes', 'You', '_I', '_am_', '_famille', '_felt_', '_has_', '_have_', '_jardiniere_', '_mine_', '_not_', '_rose', '_rs_', '_that_', '_the_', '_was_', '_were_', 'a', 'abdication', 'able', 'about', 'above', 'abruptly', 'absolute', 'absorbed', 'absurdity', 'academic', 'accuse', 'accustomed', 'across', 'activity', 'add', 'added', 'admirers', 'adopted', 'adulation', 'advance', 'aesthetic', 'affect', 'afraid', 'after', 'afterward', 'again', 'ago', 'ah', 'air', 'alive', 'all', 'almost', 'alone', 'along', 'always', 'amazement', 'amid', 'among', 'amplest', 'amusing', 'an', 'and', 'another', 'answer', 'answered', 'any', 'anything', 'anywhere', 'apparent', 'apparently', 'appearance', 'appeared', 'appointed', 'are', 'arm', 'arms', 'art', 'articles', 'artist', 'as', 'aside', 'asked', 'at', 'atmosphere', 'atom', 'attack', 'attention', 'attitude', 'audacities', 'away', 'awful', 'axioms', 'azaleas', 'back', 'background', 'balance', 'balancing', 'balustraded', 'basking', 'bath', 'be', 'beaming', 'bean', 'bear', 'beard', 'beauty', 'became', 'because', 'becoming', 'bed', 'been', 'before', 'began', 'begun', 'behind', 'being', 'believed', 'beneath', 'bespoke', 'better', 'between', 'big', 'bits', 'bitterness', 'blocked', 'born', 'borne', 'boudoir', 'brac', 'bravura', 'break', 'breaking', 'breathing', 'breeding', 'bric', 'briefly', 'brings', 'bronzes', 'brought', 'brown', 'brush', 'bull', 'business', 'but', 'buying', 'by', 'called', 'came', 'can', 'canvas', 'canvases', 'cards', 'care', 'career', 'caught', 'central', 'century', 'chair', 'chairs', 'chap', 'characteristic', 'charming', 'cheap', 'check', 'cheeks', 'chest', 'chimney', 'chucked', 'cigar', 'cigarette', 'cigars', 'circulation', 'circumstance', 'circus', 'claimed', 'clasping', 'clear', 'cleverer', 'close', 'closets', 'clown', 'clue', 'coat', 'collapsed', 'colour', 'come', 'comfortable', 'coming', 'companion', 'compared', 'complex', 'confident', 'congesting', 'conjugal', 'constraint', 'consummate', 'contended', 'continued', 'corner', 'corrected', 'cotta', 'could', 'couldn', 'count', 'countenance', 'couple', 'course', 'covered', 'craft', 'cried', 'crossed', 'crowned', 'crumbled', 'cry', 'cured', 'curiosity', 'curious', 'current', 'curtains', 'd', 'dabble', 'damask', 'dancers', 'dark', 'dashed', 'day', 'days', 'dead', 'deadening', 'dear', 'deep', 'deerhound', 'degree', 'delicate', 'demand', 'denied', 'deploring', 'deprecating', 'deprecatingly', 'desire', 'destroyed', 'destruction', 'desultory', 'detail', 'diagnosis', 'did', 'didn', 'died', 'dim', 'dimmest', 'dingy', 'dining', 'disarming', 'discovery', 'discrimination', 'discussion', 'disdain', 'disdained', 'disease', 'disguised', 'display', 'dissatisfied', 'distinguished', 'distract', 'divert', 'do', 'doesn', 'doing', 'domestic', 'don', 'done', 'donkey', 'down', 'dozen', 'dragged', 'drawing', 'drawn', 'dress', 'drew', 'dropped', 'each', 'earth', 'ease', 'easel', 'easy', 'echoed', 'economy', 'effect', 'effects', 'efforts', 'egregious', 'eighteenth', 'elbow', 'elegant', 'else', 'embarrassed', 'enabled', 'end', 'endless', 'enjoy', 'enlightenment', 'enough', 'ensuing', 'equally', 'equanimity', 'escape', 'established', 'etching', 'even', 'event', 'ever', 'everlasting', 'every', 'exasperated', 'except', 'excuse', 'excusing', 'existed', 'expected', 'exquisite', 'exquisitely', 'extenuation', 'exterminating', 'extracting', 'eye', 'eyebrows', 'eyes', 'face', 'faces', 'fact', 'faded', 'failed', 'failure', 'fair', 'faith', 'false', 'familiar', 'fancy', 'fashionable', 'fate', 'feather', 'feet', 'fell', 'fellow', 'felt', 'few', 'fewer', 'finality', 'find', 'fingers', 'first', 'fit', 'fitting', 'five', 'flash', 'flashed', 'florid', 'flowers', 'fluently', 'flung', 'follow', 'followed', 'fond', 'footstep', 'for', 'forced', 'forcing', 'forehead', 'foreign', 'foreseen', 'forgive', 'forgotten', 'form', 'formed', 'forming', 'forward', 'fostered', 'found', 'foundations', 'four', 'fragment', 'fragments', 'frame', 'frames', 'frequently', 'friend', 'from', 'full', 'fullest', 'furiously', 'furrowed', 'garlanded', 'garlands', 'gave', 'genial', 'genius', 'gesture', 'get', 'getting', 'give', 'given', 'glad', 'glanced', 'glimpse', 'gloried', 'glory', 'go', 'going', 'gone', 'good', 'got', 'grace', 'gradually', 'gray', 'grayish', 'great', 'greatest', 'greatness', 'grew', 'groping', 'growing', 'had', 'hadn', 'hair', 'half', 'hall', 'hand', 'hands', 'handsome', 'hanging', 'happen', 'happened', 'hard', 'hardly', 'have', 'haven', 'having', 'he', 'head', 'hear', 'heard', 'heart', 'height', 'her', 'here', 'hermit', 'herself', 'hesitations', 'hide', 'high', 'him', 'himself', 'hint', 'his', 'history', 'holding', 'home', 'honour', 'hooded', 'hostess', 'hot', 'hour', 'hours', 'house', 'how', 'humoured', 'hung', 'husband', 'idea', 'idle', 'idling', 'if', 'immediately', 'in', 'incense', 'indifferent', 'inevitable', 'inevitably', 'inflexible', 'insensible', 'insignificant', 'instinctively', 'instructive', 'interesting', 'into', 'ironic', 'irony', 'irrelevance', 'irrevocable', 'is', 'it', 'its', 'itself', 'jealousy', 'just', 'keep', 'kept', 'kind', 'knees', 'knew', 'know', 'known_', 'laid', 'lair', 'landing', 'language', 'last', 'late', 'later', 'latter', 'laugh', 'laughed', 'lay', 'leading', 'lean', 'learned', 'least', 'leathery', 'leave', 'led', 'left', 'leisure', 'lends', 'lent', 'let', 'lies', 'life', 'lift', 'lifted', 'light', 'lightly', 'like', 'liked', 'likeness', 'line', 'lines', 'lingered', 'lips', 'lit', 'little', 'live', 'll', 'loathing', 'long', 'longed', 'longer', 'look', 'looked', 'looking', 'lose', 'loss', 'lounging', 'lovely', 'lucky', 'lump', 'luncheon', 'luxury', 'lying', 'made', 'make', 'man', 'manage', 'managed', 'mantel', 'marble', 'married', 'may', 'me', 'meant', 'mechanically', 'mediocrity', 'medium', 'mentioned', 'mere', 'merely', 'met', 'might', 'mighty', 'millionaire', 'mine', 'minute', 'minutes', 'mirrors', 'modest', 'modesty', 'moment', 'money', 'monumental', 'mood', 'morbidly', 'more', 'most', 'mourn', 'mourned', 'moustache', 'moved', 'much', 'muddling', 'multiplied', 'murmur', 'muscles', 'must', 'my', 'myself', 'mysterious', 'naive', 'near', 'nearly', 'negatived', 'nervous', 'nervousness', 'neutral', 'never', 'next', 'no', 'none', 'not', 'note', 'nothing', 'now', 'nymphs', 'oak', 'obituary', 'object', 'objects', 'occurred', 'oddly', 'of', 'off', 'often', 'oh', 'old', 'on', 'once', 'one', 'ones', 'only', 'onto', 'open', 'or', 'other', 'our', 'ourselves', 'out', 'outline', 'oval', 'over', 'own', 'packed', 'paid', 'paint', 'painted', 'painter', 'painting', 'pale', 'paled', 'palm', 'panel', 'panelled', 'panelling', 'pardonable', 'pardoned', 'part', 'passages', 'passing', 'past', 'pastels', 'pathos', 'patient', 'people', 'perceptible', 'perfect', 'persistence', 'persuasively', 'phrase', 'picture', 'pictures', 'piece', 'pines', 'pink', 'place', 'placed', 'plain', 'platitudes', 'pleased', 'pockets', 'point', 'poised', 'poor', 'portrait', 'posing', 'possessed', 'poverty', 'predicted', 'preliminary', 'presenting', 'presses', 'prestidigitation', 'pretty', 'previous', 'price', 'pride', 'princely', 'prism', 'problem', 'proclaiming', 'prodigious', 'profusion', 'protest', 'prove', 'public', 'purblind', 'purely', 'pushed', 'put', 'qualities', 'quality', 'queerly', 'question', 'quickly', 'quietly', 'quite', 'quote', 'rain', 'raised', 'random', 'rather', 're', 'real', 'really', 'reared', 'reason', 'reassurance', 'recovering', 'recreated', 'reflected', 'reflection', 'regrets', 'relatively', 'remained', 'remember', 'reminded', 'repeating', 'represented', 'reproduction', 'resented', 'resolve', 'resources', 'rest', 'rich', 'ridiculous', 'robbed', 'romantic', 'room', 'rooms', 'rose', 'rule', 'run', 's', 'said', 'same', 'satisfaction', 'savour', 'saw', 'say', 'saying', 'says', 'scorn', 'scornful', 'secret', 'see', 'seemed', 'seen', 'self', 'send', 'sensation', 'sensitive', 'sent', 'serious', 'set', 'sex', 'shade', 'shaking', 'shall', 'she', 'shirked', 'short', 'should', 'shoulder', 'shoulders', 'show', 'showed', 'showy', 'shrug', 'shrugged', 'sight', 'sign', 'silent', 'silver', 'similar', 'simpleton', 'simplifications', 'simply', 'since', 'single', 'sitter', 'sitters', 'sketch', 'skill', 'slight', 'slightly', 'slowly', 'small', 'smile', 'smiling', 'sneer', 'so', 'solace', 'some', 'somebody', 'something', 'spacious', 'spaniel', 'speaking', 'speculations', 'spite', 'splash', 'square', 'stairs', 'stalk', 'stammer', 'stand', 'standing', 'started', 'stay', 'still', 'stocked', 'stood', 'stopped', 'stopping', 'straddling', 'straight', 'strain', 'straining', 'strange', 'straw', 'stream', 'stroke', 'strokes', 'strolled', 'strongest', 'strongly', 'struck', 'studio', 'stuff', 'subject', 'substantial', 'suburban', 'such', 'suddenly', 'suffered', 'sugar', 'suggested', 'sunburn', 'sunburnt', 'sunlit', 'superb', 'sure', 'surest', 'surface', 'surprise', 'surprised', 'surrounded', 'suspected', 'sweetly', 'sweetness', 'swelling', 'swept', 'swum', 't', 'table', 'take', 'taken', 'talking', 'tea', 'tears', 'technicalities', 'technique', 'tell', 'tells', 'tempting', 'terra', 'terrace', 'terraces', 'terribly', 'than', 'that', 'the', 'their', 'them', 'then', 'there', 'therefore', 'they', 'thin', 'thing', 'things', 'think', 'this', 'thither', 'those', 'though', 'thought', 'three', 'threshold', 'threw', 'through', 'throwing', 'tie', 'till', 'time', 'timorously', 'tinge', 'tips', 'tired', 'to', 'told', 'tone', 'tones', 'too', 'took', 'tottering', 'touched', 'toward', 'trace', 'trade', 'transmute', 'traps', 'travelled', 'trees', 'tribute', 'tributes', 'tricks', 'tried', 'trouser', 'true', 'truth', 'tubes', 'turned', 'twenty', 'twice', 'twirling', 'unaccountable', 'uncertain', 'under', 'underlay', 'underneath', 'understand', 'unexpected', 'untouched', 'unusual', 'up', 'upon', 'upset', 'upstairs', 'us', 'used', 'usual', 'value', 'varnishing', 'vases', 've', 'veins', 'velveteen', 'verte_', 'very', 'villa', 'vindicated', 'virtuosity', 'vista', 'vocation', 'voice', 'wall', 'wander', 'want', 'wanted', 'wants', 'was', 'wasn', 'watched', 'watching', 'water', 'waves', 'way', 'weekly', 'weeks', 'welcome', 'went', 'were', 'what', 'when', 'whenever', 'where', 'which', 'while', 'white', 'who', 'whole', 'whom', 'why', 'wide', 'widow', 'wife', 'wild', 'wincing', 'window', 'wish', 'with', 'without', 'wits', 'woman', 'women', 'won', 'wonder', 'wondered', 'word', 'work', 'working', 'worth', 'would', 'wouldn', 'year', 'years', 'yellow', 'yet', 'you', 'younger', 'your', 'yourself', '<|unknown|>', '<|endoftext|>']\n"
     ]
    }
   ],
   "execution_count": 18
  },
  {
   "metadata": {
    "ExecuteTime": {
     "end_time": "2025-08-07T06:10:04.717447Z",
     "start_time": "2025-08-07T06:10:04.714157Z"
    }
   },
   "cell_type": "code",
   "source": [
    "class SimpleTokenizerV2:\n",
    "    \"\"\"\n",
    "    A simple tokenizer class that create token IDs.\n",
    "    \"\"\"\n",
    "    def __init__(self, vocab: List[str]):\n",
    "        self.str_to_int = dict(zip(vocab, range(len(vocab))))\n",
    "        self.int_to_str = dict(zip(range(len(vocab)), vocab))\n",
    "\n",
    "    @staticmethod\n",
    "    def custom_tokenizer(text: str, include_whitespace: bool = True) -> List[str]:\n",
    "        \"\"\"\n",
    "        Custom tokenizer that adds whitespace if include_whitespace is True.\n",
    "\n",
    "        Parameters:\n",
    "            text (str): The text to be tokenized.\n",
    "            include_whitespace (bool, optional): Whether to include whitespace in the tokenization. Defaults to True.\n",
    "\n",
    "        Returns:\n",
    "            tokens (List[str]): A list of tokens.\n",
    "        \"\"\"\n",
    "        if not include_whitespace:\n",
    "            return re.findall(r\"\\w+|[^\\w\\s]\", text)\n",
    "        return re.findall(r\"\\w+|\\s+|[^\\w\\s]\", text)\n",
    "\n",
    "    def encode(self, text: str) -> List[int]:\n",
    "        \"\"\"\n",
    "        Encodes a text into a list of integers.\n",
    "        Parameters:\n",
    "            text (str): The text to be encoded.\n",
    "        Returns:\n",
    "            tokens (List[int]): A list of integers.\n",
    "        \"\"\"\n",
    "        tokens = self.custom_tokenizer(text, include_whitespace=False)\n",
    "        tokens = [\n",
    "            item if item in self.str_to_int\n",
    "            else \"<|unknown|>\" for item in tokens\n",
    "        ]\n",
    "        token_ids = [self.str_to_int[token] for token in tokens]\n",
    "        return token_ids\n",
    "\n",
    "    def decode(self, token_ids: List[int]) -> str:\n",
    "        \"\"\"\n",
    "        Decodes a list of integers into text.\n",
    "        Parameters:\n",
    "            token_ids (List[int]): A list of integers.\n",
    "        Returns:\n",
    "            text (str): The decoded text.\n",
    "        \"\"\"\n",
    "        tokens = [self.int_to_str[ID] for ID in token_ids]\n",
    "        text = \" \".join(tokens)\n",
    "        # Replace spaces before the specified punctuations\n",
    "        text = re.sub(r\"\\s+([,.?\\\"()'])\", r\"\\1\", text)\n",
    "        return text"
   ],
   "id": "e1eadfaf053246ee",
   "outputs": [],
   "execution_count": 19
  },
  {
   "metadata": {
    "ExecuteTime": {
     "end_time": "2025-08-07T06:10:04.765818Z",
     "start_time": "2025-08-07T06:10:04.763954Z"
    }
   },
   "cell_type": "code",
   "source": "tokenizer = SimpleTokenizerV2(vocabulary)",
   "id": "31b0b971950f6de6",
   "outputs": [],
   "execution_count": 20
  },
  {
   "metadata": {
    "ExecuteTime": {
     "end_time": "2025-08-07T06:10:04.816138Z",
     "start_time": "2025-08-07T06:10:04.813819Z"
    }
   },
   "cell_type": "code",
   "source": "print(tokenizer.str_to_int)",
   "id": "b5848b215eb2c28f",
   "outputs": [
    {
     "name": "stdout",
     "output_type": "stream",
     "text": [
      "{'!': 0, '\"': 1, \"'\": 2, '(': 3, ')': 4, ',': 5, '-': 6, '.': 7, ':': 8, ';': 9, '?': 10, 'A': 11, 'Ah': 12, 'Among': 13, 'And': 14, 'Are': 15, 'Arrt': 16, 'As': 17, 'At': 18, 'Be': 19, 'Begin': 20, 'Burlington': 21, 'But': 22, 'By': 23, 'Carlo': 24, 'Chicago': 25, 'Claude': 26, 'Come': 27, 'Croft': 28, 'Destroyed': 29, 'Devonshire': 30, 'Don': 31, 'Dubarry_': 32, 'Emperors': 33, 'Florence': 34, 'For': 35, 'Gallery': 36, 'Gideon': 37, 'Gisburn': 38, 'Gisburns': 39, 'Grafton': 40, 'Greek': 41, 'Grindle': 42, 'Grindles': 43, 'HAD': 44, 'Had': 45, 'Hang': 46, 'Has': 47, 'He': 48, 'Her': 49, 'Hermia': 50, 'His': 51, 'How': 52, 'I': 53, 'If': 54, 'In': 55, 'It': 56, 'Jack': 57, 'Jove': 58, 'Just': 59, 'Lord': 60, 'Made': 61, 'Miss': 62, 'Money': 63, 'Monte': 64, 'Moon': 65, 'Mr': 66, 'Mrs': 67, 'My': 68, 'Never': 69, 'No': 70, 'Now': 71, 'Nutley': 72, 'Of': 73, 'Oh': 74, 'On': 75, 'Once': 76, 'Only': 77, 'Or': 78, 'Perhaps': 79, 'Poor': 80, 'Professional': 81, 'Renaissance': 82, 'Rickham': 83, 'Riviera': 84, 'Rome': 85, 'Russian': 86, 'Sevres': 87, 'She': 88, 'Stroud': 89, 'Strouds': 90, 'Suddenly': 91, 'That': 92, 'The': 93, 'Then': 94, 'There': 95, 'They': 96, 'This': 97, 'Those': 98, 'Though': 99, 'Thwing': 100, 'Thwings': 101, 'To': 102, 'Usually': 103, 'Venetian': 104, 'Victor': 105, 'Was': 106, 'We': 107, 'Well': 108, 'What': 109, 'When': 110, 'Why': 111, 'Yes': 112, 'You': 113, '_I': 114, '_am_': 115, '_famille': 116, '_felt_': 117, '_has_': 118, '_have_': 119, '_jardiniere_': 120, '_mine_': 121, '_not_': 122, '_rose': 123, '_rs_': 124, '_that_': 125, '_the_': 126, '_was_': 127, '_were_': 128, 'a': 129, 'abdication': 130, 'able': 131, 'about': 132, 'above': 133, 'abruptly': 134, 'absolute': 135, 'absorbed': 136, 'absurdity': 137, 'academic': 138, 'accuse': 139, 'accustomed': 140, 'across': 141, 'activity': 142, 'add': 143, 'added': 144, 'admirers': 145, 'adopted': 146, 'adulation': 147, 'advance': 148, 'aesthetic': 149, 'affect': 150, 'afraid': 151, 'after': 152, 'afterward': 153, 'again': 154, 'ago': 155, 'ah': 156, 'air': 157, 'alive': 158, 'all': 159, 'almost': 160, 'alone': 161, 'along': 162, 'always': 163, 'amazement': 164, 'amid': 165, 'among': 166, 'amplest': 167, 'amusing': 168, 'an': 169, 'and': 170, 'another': 171, 'answer': 172, 'answered': 173, 'any': 174, 'anything': 175, 'anywhere': 176, 'apparent': 177, 'apparently': 178, 'appearance': 179, 'appeared': 180, 'appointed': 181, 'are': 182, 'arm': 183, 'arms': 184, 'art': 185, 'articles': 186, 'artist': 187, 'as': 188, 'aside': 189, 'asked': 190, 'at': 191, 'atmosphere': 192, 'atom': 193, 'attack': 194, 'attention': 195, 'attitude': 196, 'audacities': 197, 'away': 198, 'awful': 199, 'axioms': 200, 'azaleas': 201, 'back': 202, 'background': 203, 'balance': 204, 'balancing': 205, 'balustraded': 206, 'basking': 207, 'bath': 208, 'be': 209, 'beaming': 210, 'bean': 211, 'bear': 212, 'beard': 213, 'beauty': 214, 'became': 215, 'because': 216, 'becoming': 217, 'bed': 218, 'been': 219, 'before': 220, 'began': 221, 'begun': 222, 'behind': 223, 'being': 224, 'believed': 225, 'beneath': 226, 'bespoke': 227, 'better': 228, 'between': 229, 'big': 230, 'bits': 231, 'bitterness': 232, 'blocked': 233, 'born': 234, 'borne': 235, 'boudoir': 236, 'brac': 237, 'bravura': 238, 'break': 239, 'breaking': 240, 'breathing': 241, 'breeding': 242, 'bric': 243, 'briefly': 244, 'brings': 245, 'bronzes': 246, 'brought': 247, 'brown': 248, 'brush': 249, 'bull': 250, 'business': 251, 'but': 252, 'buying': 253, 'by': 254, 'called': 255, 'came': 256, 'can': 257, 'canvas': 258, 'canvases': 259, 'cards': 260, 'care': 261, 'career': 262, 'caught': 263, 'central': 264, 'century': 265, 'chair': 266, 'chairs': 267, 'chap': 268, 'characteristic': 269, 'charming': 270, 'cheap': 271, 'check': 272, 'cheeks': 273, 'chest': 274, 'chimney': 275, 'chucked': 276, 'cigar': 277, 'cigarette': 278, 'cigars': 279, 'circulation': 280, 'circumstance': 281, 'circus': 282, 'claimed': 283, 'clasping': 284, 'clear': 285, 'cleverer': 286, 'close': 287, 'closets': 288, 'clown': 289, 'clue': 290, 'coat': 291, 'collapsed': 292, 'colour': 293, 'come': 294, 'comfortable': 295, 'coming': 296, 'companion': 297, 'compared': 298, 'complex': 299, 'confident': 300, 'congesting': 301, 'conjugal': 302, 'constraint': 303, 'consummate': 304, 'contended': 305, 'continued': 306, 'corner': 307, 'corrected': 308, 'cotta': 309, 'could': 310, 'couldn': 311, 'count': 312, 'countenance': 313, 'couple': 314, 'course': 315, 'covered': 316, 'craft': 317, 'cried': 318, 'crossed': 319, 'crowned': 320, 'crumbled': 321, 'cry': 322, 'cured': 323, 'curiosity': 324, 'curious': 325, 'current': 326, 'curtains': 327, 'd': 328, 'dabble': 329, 'damask': 330, 'dancers': 331, 'dark': 332, 'dashed': 333, 'day': 334, 'days': 335, 'dead': 336, 'deadening': 337, 'dear': 338, 'deep': 339, 'deerhound': 340, 'degree': 341, 'delicate': 342, 'demand': 343, 'denied': 344, 'deploring': 345, 'deprecating': 346, 'deprecatingly': 347, 'desire': 348, 'destroyed': 349, 'destruction': 350, 'desultory': 351, 'detail': 352, 'diagnosis': 353, 'did': 354, 'didn': 355, 'died': 356, 'dim': 357, 'dimmest': 358, 'dingy': 359, 'dining': 360, 'disarming': 361, 'discovery': 362, 'discrimination': 363, 'discussion': 364, 'disdain': 365, 'disdained': 366, 'disease': 367, 'disguised': 368, 'display': 369, 'dissatisfied': 370, 'distinguished': 371, 'distract': 372, 'divert': 373, 'do': 374, 'doesn': 375, 'doing': 376, 'domestic': 377, 'don': 378, 'done': 379, 'donkey': 380, 'down': 381, 'dozen': 382, 'dragged': 383, 'drawing': 384, 'drawn': 385, 'dress': 386, 'drew': 387, 'dropped': 388, 'each': 389, 'earth': 390, 'ease': 391, 'easel': 392, 'easy': 393, 'echoed': 394, 'economy': 395, 'effect': 396, 'effects': 397, 'efforts': 398, 'egregious': 399, 'eighteenth': 400, 'elbow': 401, 'elegant': 402, 'else': 403, 'embarrassed': 404, 'enabled': 405, 'end': 406, 'endless': 407, 'enjoy': 408, 'enlightenment': 409, 'enough': 410, 'ensuing': 411, 'equally': 412, 'equanimity': 413, 'escape': 414, 'established': 415, 'etching': 416, 'even': 417, 'event': 418, 'ever': 419, 'everlasting': 420, 'every': 421, 'exasperated': 422, 'except': 423, 'excuse': 424, 'excusing': 425, 'existed': 426, 'expected': 427, 'exquisite': 428, 'exquisitely': 429, 'extenuation': 430, 'exterminating': 431, 'extracting': 432, 'eye': 433, 'eyebrows': 434, 'eyes': 435, 'face': 436, 'faces': 437, 'fact': 438, 'faded': 439, 'failed': 440, 'failure': 441, 'fair': 442, 'faith': 443, 'false': 444, 'familiar': 445, 'fancy': 446, 'fashionable': 447, 'fate': 448, 'feather': 449, 'feet': 450, 'fell': 451, 'fellow': 452, 'felt': 453, 'few': 454, 'fewer': 455, 'finality': 456, 'find': 457, 'fingers': 458, 'first': 459, 'fit': 460, 'fitting': 461, 'five': 462, 'flash': 463, 'flashed': 464, 'florid': 465, 'flowers': 466, 'fluently': 467, 'flung': 468, 'follow': 469, 'followed': 470, 'fond': 471, 'footstep': 472, 'for': 473, 'forced': 474, 'forcing': 475, 'forehead': 476, 'foreign': 477, 'foreseen': 478, 'forgive': 479, 'forgotten': 480, 'form': 481, 'formed': 482, 'forming': 483, 'forward': 484, 'fostered': 485, 'found': 486, 'foundations': 487, 'four': 488, 'fragment': 489, 'fragments': 490, 'frame': 491, 'frames': 492, 'frequently': 493, 'friend': 494, 'from': 495, 'full': 496, 'fullest': 497, 'furiously': 498, 'furrowed': 499, 'garlanded': 500, 'garlands': 501, 'gave': 502, 'genial': 503, 'genius': 504, 'gesture': 505, 'get': 506, 'getting': 507, 'give': 508, 'given': 509, 'glad': 510, 'glanced': 511, 'glimpse': 512, 'gloried': 513, 'glory': 514, 'go': 515, 'going': 516, 'gone': 517, 'good': 518, 'got': 519, 'grace': 520, 'gradually': 521, 'gray': 522, 'grayish': 523, 'great': 524, 'greatest': 525, 'greatness': 526, 'grew': 527, 'groping': 528, 'growing': 529, 'had': 530, 'hadn': 531, 'hair': 532, 'half': 533, 'hall': 534, 'hand': 535, 'hands': 536, 'handsome': 537, 'hanging': 538, 'happen': 539, 'happened': 540, 'hard': 541, 'hardly': 542, 'have': 543, 'haven': 544, 'having': 545, 'he': 546, 'head': 547, 'hear': 548, 'heard': 549, 'heart': 550, 'height': 551, 'her': 552, 'here': 553, 'hermit': 554, 'herself': 555, 'hesitations': 556, 'hide': 557, 'high': 558, 'him': 559, 'himself': 560, 'hint': 561, 'his': 562, 'history': 563, 'holding': 564, 'home': 565, 'honour': 566, 'hooded': 567, 'hostess': 568, 'hot': 569, 'hour': 570, 'hours': 571, 'house': 572, 'how': 573, 'humoured': 574, 'hung': 575, 'husband': 576, 'idea': 577, 'idle': 578, 'idling': 579, 'if': 580, 'immediately': 581, 'in': 582, 'incense': 583, 'indifferent': 584, 'inevitable': 585, 'inevitably': 586, 'inflexible': 587, 'insensible': 588, 'insignificant': 589, 'instinctively': 590, 'instructive': 591, 'interesting': 592, 'into': 593, 'ironic': 594, 'irony': 595, 'irrelevance': 596, 'irrevocable': 597, 'is': 598, 'it': 599, 'its': 600, 'itself': 601, 'jealousy': 602, 'just': 603, 'keep': 604, 'kept': 605, 'kind': 606, 'knees': 607, 'knew': 608, 'know': 609, 'known_': 610, 'laid': 611, 'lair': 612, 'landing': 613, 'language': 614, 'last': 615, 'late': 616, 'later': 617, 'latter': 618, 'laugh': 619, 'laughed': 620, 'lay': 621, 'leading': 622, 'lean': 623, 'learned': 624, 'least': 625, 'leathery': 626, 'leave': 627, 'led': 628, 'left': 629, 'leisure': 630, 'lends': 631, 'lent': 632, 'let': 633, 'lies': 634, 'life': 635, 'lift': 636, 'lifted': 637, 'light': 638, 'lightly': 639, 'like': 640, 'liked': 641, 'likeness': 642, 'line': 643, 'lines': 644, 'lingered': 645, 'lips': 646, 'lit': 647, 'little': 648, 'live': 649, 'll': 650, 'loathing': 651, 'long': 652, 'longed': 653, 'longer': 654, 'look': 655, 'looked': 656, 'looking': 657, 'lose': 658, 'loss': 659, 'lounging': 660, 'lovely': 661, 'lucky': 662, 'lump': 663, 'luncheon': 664, 'luxury': 665, 'lying': 666, 'made': 667, 'make': 668, 'man': 669, 'manage': 670, 'managed': 671, 'mantel': 672, 'marble': 673, 'married': 674, 'may': 675, 'me': 676, 'meant': 677, 'mechanically': 678, 'mediocrity': 679, 'medium': 680, 'mentioned': 681, 'mere': 682, 'merely': 683, 'met': 684, 'might': 685, 'mighty': 686, 'millionaire': 687, 'mine': 688, 'minute': 689, 'minutes': 690, 'mirrors': 691, 'modest': 692, 'modesty': 693, 'moment': 694, 'money': 695, 'monumental': 696, 'mood': 697, 'morbidly': 698, 'more': 699, 'most': 700, 'mourn': 701, 'mourned': 702, 'moustache': 703, 'moved': 704, 'much': 705, 'muddling': 706, 'multiplied': 707, 'murmur': 708, 'muscles': 709, 'must': 710, 'my': 711, 'myself': 712, 'mysterious': 713, 'naive': 714, 'near': 715, 'nearly': 716, 'negatived': 717, 'nervous': 718, 'nervousness': 719, 'neutral': 720, 'never': 721, 'next': 722, 'no': 723, 'none': 724, 'not': 725, 'note': 726, 'nothing': 727, 'now': 728, 'nymphs': 729, 'oak': 730, 'obituary': 731, 'object': 732, 'objects': 733, 'occurred': 734, 'oddly': 735, 'of': 736, 'off': 737, 'often': 738, 'oh': 739, 'old': 740, 'on': 741, 'once': 742, 'one': 743, 'ones': 744, 'only': 745, 'onto': 746, 'open': 747, 'or': 748, 'other': 749, 'our': 750, 'ourselves': 751, 'out': 752, 'outline': 753, 'oval': 754, 'over': 755, 'own': 756, 'packed': 757, 'paid': 758, 'paint': 759, 'painted': 760, 'painter': 761, 'painting': 762, 'pale': 763, 'paled': 764, 'palm': 765, 'panel': 766, 'panelled': 767, 'panelling': 768, 'pardonable': 769, 'pardoned': 770, 'part': 771, 'passages': 772, 'passing': 773, 'past': 774, 'pastels': 775, 'pathos': 776, 'patient': 777, 'people': 778, 'perceptible': 779, 'perfect': 780, 'persistence': 781, 'persuasively': 782, 'phrase': 783, 'picture': 784, 'pictures': 785, 'piece': 786, 'pines': 787, 'pink': 788, 'place': 789, 'placed': 790, 'plain': 791, 'platitudes': 792, 'pleased': 793, 'pockets': 794, 'point': 795, 'poised': 796, 'poor': 797, 'portrait': 798, 'posing': 799, 'possessed': 800, 'poverty': 801, 'predicted': 802, 'preliminary': 803, 'presenting': 804, 'presses': 805, 'prestidigitation': 806, 'pretty': 807, 'previous': 808, 'price': 809, 'pride': 810, 'princely': 811, 'prism': 812, 'problem': 813, 'proclaiming': 814, 'prodigious': 815, 'profusion': 816, 'protest': 817, 'prove': 818, 'public': 819, 'purblind': 820, 'purely': 821, 'pushed': 822, 'put': 823, 'qualities': 824, 'quality': 825, 'queerly': 826, 'question': 827, 'quickly': 828, 'quietly': 829, 'quite': 830, 'quote': 831, 'rain': 832, 'raised': 833, 'random': 834, 'rather': 835, 're': 836, 'real': 837, 'really': 838, 'reared': 839, 'reason': 840, 'reassurance': 841, 'recovering': 842, 'recreated': 843, 'reflected': 844, 'reflection': 845, 'regrets': 846, 'relatively': 847, 'remained': 848, 'remember': 849, 'reminded': 850, 'repeating': 851, 'represented': 852, 'reproduction': 853, 'resented': 854, 'resolve': 855, 'resources': 856, 'rest': 857, 'rich': 858, 'ridiculous': 859, 'robbed': 860, 'romantic': 861, 'room': 862, 'rooms': 863, 'rose': 864, 'rule': 865, 'run': 866, 's': 867, 'said': 868, 'same': 869, 'satisfaction': 870, 'savour': 871, 'saw': 872, 'say': 873, 'saying': 874, 'says': 875, 'scorn': 876, 'scornful': 877, 'secret': 878, 'see': 879, 'seemed': 880, 'seen': 881, 'self': 882, 'send': 883, 'sensation': 884, 'sensitive': 885, 'sent': 886, 'serious': 887, 'set': 888, 'sex': 889, 'shade': 890, 'shaking': 891, 'shall': 892, 'she': 893, 'shirked': 894, 'short': 895, 'should': 896, 'shoulder': 897, 'shoulders': 898, 'show': 899, 'showed': 900, 'showy': 901, 'shrug': 902, 'shrugged': 903, 'sight': 904, 'sign': 905, 'silent': 906, 'silver': 907, 'similar': 908, 'simpleton': 909, 'simplifications': 910, 'simply': 911, 'since': 912, 'single': 913, 'sitter': 914, 'sitters': 915, 'sketch': 916, 'skill': 917, 'slight': 918, 'slightly': 919, 'slowly': 920, 'small': 921, 'smile': 922, 'smiling': 923, 'sneer': 924, 'so': 925, 'solace': 926, 'some': 927, 'somebody': 928, 'something': 929, 'spacious': 930, 'spaniel': 931, 'speaking': 932, 'speculations': 933, 'spite': 934, 'splash': 935, 'square': 936, 'stairs': 937, 'stalk': 938, 'stammer': 939, 'stand': 940, 'standing': 941, 'started': 942, 'stay': 943, 'still': 944, 'stocked': 945, 'stood': 946, 'stopped': 947, 'stopping': 948, 'straddling': 949, 'straight': 950, 'strain': 951, 'straining': 952, 'strange': 953, 'straw': 954, 'stream': 955, 'stroke': 956, 'strokes': 957, 'strolled': 958, 'strongest': 959, 'strongly': 960, 'struck': 961, 'studio': 962, 'stuff': 963, 'subject': 964, 'substantial': 965, 'suburban': 966, 'such': 967, 'suddenly': 968, 'suffered': 969, 'sugar': 970, 'suggested': 971, 'sunburn': 972, 'sunburnt': 973, 'sunlit': 974, 'superb': 975, 'sure': 976, 'surest': 977, 'surface': 978, 'surprise': 979, 'surprised': 980, 'surrounded': 981, 'suspected': 982, 'sweetly': 983, 'sweetness': 984, 'swelling': 985, 'swept': 986, 'swum': 987, 't': 988, 'table': 989, 'take': 990, 'taken': 991, 'talking': 992, 'tea': 993, 'tears': 994, 'technicalities': 995, 'technique': 996, 'tell': 997, 'tells': 998, 'tempting': 999, 'terra': 1000, 'terrace': 1001, 'terraces': 1002, 'terribly': 1003, 'than': 1004, 'that': 1005, 'the': 1006, 'their': 1007, 'them': 1008, 'then': 1009, 'there': 1010, 'therefore': 1011, 'they': 1012, 'thin': 1013, 'thing': 1014, 'things': 1015, 'think': 1016, 'this': 1017, 'thither': 1018, 'those': 1019, 'though': 1020, 'thought': 1021, 'three': 1022, 'threshold': 1023, 'threw': 1024, 'through': 1025, 'throwing': 1026, 'tie': 1027, 'till': 1028, 'time': 1029, 'timorously': 1030, 'tinge': 1031, 'tips': 1032, 'tired': 1033, 'to': 1034, 'told': 1035, 'tone': 1036, 'tones': 1037, 'too': 1038, 'took': 1039, 'tottering': 1040, 'touched': 1041, 'toward': 1042, 'trace': 1043, 'trade': 1044, 'transmute': 1045, 'traps': 1046, 'travelled': 1047, 'trees': 1048, 'tribute': 1049, 'tributes': 1050, 'tricks': 1051, 'tried': 1052, 'trouser': 1053, 'true': 1054, 'truth': 1055, 'tubes': 1056, 'turned': 1057, 'twenty': 1058, 'twice': 1059, 'twirling': 1060, 'unaccountable': 1061, 'uncertain': 1062, 'under': 1063, 'underlay': 1064, 'underneath': 1065, 'understand': 1066, 'unexpected': 1067, 'untouched': 1068, 'unusual': 1069, 'up': 1070, 'upon': 1071, 'upset': 1072, 'upstairs': 1073, 'us': 1074, 'used': 1075, 'usual': 1076, 'value': 1077, 'varnishing': 1078, 'vases': 1079, 've': 1080, 'veins': 1081, 'velveteen': 1082, 'verte_': 1083, 'very': 1084, 'villa': 1085, 'vindicated': 1086, 'virtuosity': 1087, 'vista': 1088, 'vocation': 1089, 'voice': 1090, 'wall': 1091, 'wander': 1092, 'want': 1093, 'wanted': 1094, 'wants': 1095, 'was': 1096, 'wasn': 1097, 'watched': 1098, 'watching': 1099, 'water': 1100, 'waves': 1101, 'way': 1102, 'weekly': 1103, 'weeks': 1104, 'welcome': 1105, 'went': 1106, 'were': 1107, 'what': 1108, 'when': 1109, 'whenever': 1110, 'where': 1111, 'which': 1112, 'while': 1113, 'white': 1114, 'who': 1115, 'whole': 1116, 'whom': 1117, 'why': 1118, 'wide': 1119, 'widow': 1120, 'wife': 1121, 'wild': 1122, 'wincing': 1123, 'window': 1124, 'wish': 1125, 'with': 1126, 'without': 1127, 'wits': 1128, 'woman': 1129, 'women': 1130, 'won': 1131, 'wonder': 1132, 'wondered': 1133, 'word': 1134, 'work': 1135, 'working': 1136, 'worth': 1137, 'would': 1138, 'wouldn': 1139, 'year': 1140, 'years': 1141, 'yellow': 1142, 'yet': 1143, 'you': 1144, 'younger': 1145, 'your': 1146, 'yourself': 1147, '<|unknown|>': 1148, '<|endoftext|>': 1149}\n"
     ]
    }
   ],
   "execution_count": 21
  },
  {
   "metadata": {
    "ExecuteTime": {
     "end_time": "2025-08-07T06:10:04.869770Z",
     "start_time": "2025-08-07T06:10:04.866778Z"
    }
   },
   "cell_type": "code",
   "source": "print(tokenizer.int_to_str)",
   "id": "c7cb87dc9d324ba7",
   "outputs": [
    {
     "name": "stdout",
     "output_type": "stream",
     "text": [
      "{0: '!', 1: '\"', 2: \"'\", 3: '(', 4: ')', 5: ',', 6: '-', 7: '.', 8: ':', 9: ';', 10: '?', 11: 'A', 12: 'Ah', 13: 'Among', 14: 'And', 15: 'Are', 16: 'Arrt', 17: 'As', 18: 'At', 19: 'Be', 20: 'Begin', 21: 'Burlington', 22: 'But', 23: 'By', 24: 'Carlo', 25: 'Chicago', 26: 'Claude', 27: 'Come', 28: 'Croft', 29: 'Destroyed', 30: 'Devonshire', 31: 'Don', 32: 'Dubarry_', 33: 'Emperors', 34: 'Florence', 35: 'For', 36: 'Gallery', 37: 'Gideon', 38: 'Gisburn', 39: 'Gisburns', 40: 'Grafton', 41: 'Greek', 42: 'Grindle', 43: 'Grindles', 44: 'HAD', 45: 'Had', 46: 'Hang', 47: 'Has', 48: 'He', 49: 'Her', 50: 'Hermia', 51: 'His', 52: 'How', 53: 'I', 54: 'If', 55: 'In', 56: 'It', 57: 'Jack', 58: 'Jove', 59: 'Just', 60: 'Lord', 61: 'Made', 62: 'Miss', 63: 'Money', 64: 'Monte', 65: 'Moon', 66: 'Mr', 67: 'Mrs', 68: 'My', 69: 'Never', 70: 'No', 71: 'Now', 72: 'Nutley', 73: 'Of', 74: 'Oh', 75: 'On', 76: 'Once', 77: 'Only', 78: 'Or', 79: 'Perhaps', 80: 'Poor', 81: 'Professional', 82: 'Renaissance', 83: 'Rickham', 84: 'Riviera', 85: 'Rome', 86: 'Russian', 87: 'Sevres', 88: 'She', 89: 'Stroud', 90: 'Strouds', 91: 'Suddenly', 92: 'That', 93: 'The', 94: 'Then', 95: 'There', 96: 'They', 97: 'This', 98: 'Those', 99: 'Though', 100: 'Thwing', 101: 'Thwings', 102: 'To', 103: 'Usually', 104: 'Venetian', 105: 'Victor', 106: 'Was', 107: 'We', 108: 'Well', 109: 'What', 110: 'When', 111: 'Why', 112: 'Yes', 113: 'You', 114: '_I', 115: '_am_', 116: '_famille', 117: '_felt_', 118: '_has_', 119: '_have_', 120: '_jardiniere_', 121: '_mine_', 122: '_not_', 123: '_rose', 124: '_rs_', 125: '_that_', 126: '_the_', 127: '_was_', 128: '_were_', 129: 'a', 130: 'abdication', 131: 'able', 132: 'about', 133: 'above', 134: 'abruptly', 135: 'absolute', 136: 'absorbed', 137: 'absurdity', 138: 'academic', 139: 'accuse', 140: 'accustomed', 141: 'across', 142: 'activity', 143: 'add', 144: 'added', 145: 'admirers', 146: 'adopted', 147: 'adulation', 148: 'advance', 149: 'aesthetic', 150: 'affect', 151: 'afraid', 152: 'after', 153: 'afterward', 154: 'again', 155: 'ago', 156: 'ah', 157: 'air', 158: 'alive', 159: 'all', 160: 'almost', 161: 'alone', 162: 'along', 163: 'always', 164: 'amazement', 165: 'amid', 166: 'among', 167: 'amplest', 168: 'amusing', 169: 'an', 170: 'and', 171: 'another', 172: 'answer', 173: 'answered', 174: 'any', 175: 'anything', 176: 'anywhere', 177: 'apparent', 178: 'apparently', 179: 'appearance', 180: 'appeared', 181: 'appointed', 182: 'are', 183: 'arm', 184: 'arms', 185: 'art', 186: 'articles', 187: 'artist', 188: 'as', 189: 'aside', 190: 'asked', 191: 'at', 192: 'atmosphere', 193: 'atom', 194: 'attack', 195: 'attention', 196: 'attitude', 197: 'audacities', 198: 'away', 199: 'awful', 200: 'axioms', 201: 'azaleas', 202: 'back', 203: 'background', 204: 'balance', 205: 'balancing', 206: 'balustraded', 207: 'basking', 208: 'bath', 209: 'be', 210: 'beaming', 211: 'bean', 212: 'bear', 213: 'beard', 214: 'beauty', 215: 'became', 216: 'because', 217: 'becoming', 218: 'bed', 219: 'been', 220: 'before', 221: 'began', 222: 'begun', 223: 'behind', 224: 'being', 225: 'believed', 226: 'beneath', 227: 'bespoke', 228: 'better', 229: 'between', 230: 'big', 231: 'bits', 232: 'bitterness', 233: 'blocked', 234: 'born', 235: 'borne', 236: 'boudoir', 237: 'brac', 238: 'bravura', 239: 'break', 240: 'breaking', 241: 'breathing', 242: 'breeding', 243: 'bric', 244: 'briefly', 245: 'brings', 246: 'bronzes', 247: 'brought', 248: 'brown', 249: 'brush', 250: 'bull', 251: 'business', 252: 'but', 253: 'buying', 254: 'by', 255: 'called', 256: 'came', 257: 'can', 258: 'canvas', 259: 'canvases', 260: 'cards', 261: 'care', 262: 'career', 263: 'caught', 264: 'central', 265: 'century', 266: 'chair', 267: 'chairs', 268: 'chap', 269: 'characteristic', 270: 'charming', 271: 'cheap', 272: 'check', 273: 'cheeks', 274: 'chest', 275: 'chimney', 276: 'chucked', 277: 'cigar', 278: 'cigarette', 279: 'cigars', 280: 'circulation', 281: 'circumstance', 282: 'circus', 283: 'claimed', 284: 'clasping', 285: 'clear', 286: 'cleverer', 287: 'close', 288: 'closets', 289: 'clown', 290: 'clue', 291: 'coat', 292: 'collapsed', 293: 'colour', 294: 'come', 295: 'comfortable', 296: 'coming', 297: 'companion', 298: 'compared', 299: 'complex', 300: 'confident', 301: 'congesting', 302: 'conjugal', 303: 'constraint', 304: 'consummate', 305: 'contended', 306: 'continued', 307: 'corner', 308: 'corrected', 309: 'cotta', 310: 'could', 311: 'couldn', 312: 'count', 313: 'countenance', 314: 'couple', 315: 'course', 316: 'covered', 317: 'craft', 318: 'cried', 319: 'crossed', 320: 'crowned', 321: 'crumbled', 322: 'cry', 323: 'cured', 324: 'curiosity', 325: 'curious', 326: 'current', 327: 'curtains', 328: 'd', 329: 'dabble', 330: 'damask', 331: 'dancers', 332: 'dark', 333: 'dashed', 334: 'day', 335: 'days', 336: 'dead', 337: 'deadening', 338: 'dear', 339: 'deep', 340: 'deerhound', 341: 'degree', 342: 'delicate', 343: 'demand', 344: 'denied', 345: 'deploring', 346: 'deprecating', 347: 'deprecatingly', 348: 'desire', 349: 'destroyed', 350: 'destruction', 351: 'desultory', 352: 'detail', 353: 'diagnosis', 354: 'did', 355: 'didn', 356: 'died', 357: 'dim', 358: 'dimmest', 359: 'dingy', 360: 'dining', 361: 'disarming', 362: 'discovery', 363: 'discrimination', 364: 'discussion', 365: 'disdain', 366: 'disdained', 367: 'disease', 368: 'disguised', 369: 'display', 370: 'dissatisfied', 371: 'distinguished', 372: 'distract', 373: 'divert', 374: 'do', 375: 'doesn', 376: 'doing', 377: 'domestic', 378: 'don', 379: 'done', 380: 'donkey', 381: 'down', 382: 'dozen', 383: 'dragged', 384: 'drawing', 385: 'drawn', 386: 'dress', 387: 'drew', 388: 'dropped', 389: 'each', 390: 'earth', 391: 'ease', 392: 'easel', 393: 'easy', 394: 'echoed', 395: 'economy', 396: 'effect', 397: 'effects', 398: 'efforts', 399: 'egregious', 400: 'eighteenth', 401: 'elbow', 402: 'elegant', 403: 'else', 404: 'embarrassed', 405: 'enabled', 406: 'end', 407: 'endless', 408: 'enjoy', 409: 'enlightenment', 410: 'enough', 411: 'ensuing', 412: 'equally', 413: 'equanimity', 414: 'escape', 415: 'established', 416: 'etching', 417: 'even', 418: 'event', 419: 'ever', 420: 'everlasting', 421: 'every', 422: 'exasperated', 423: 'except', 424: 'excuse', 425: 'excusing', 426: 'existed', 427: 'expected', 428: 'exquisite', 429: 'exquisitely', 430: 'extenuation', 431: 'exterminating', 432: 'extracting', 433: 'eye', 434: 'eyebrows', 435: 'eyes', 436: 'face', 437: 'faces', 438: 'fact', 439: 'faded', 440: 'failed', 441: 'failure', 442: 'fair', 443: 'faith', 444: 'false', 445: 'familiar', 446: 'fancy', 447: 'fashionable', 448: 'fate', 449: 'feather', 450: 'feet', 451: 'fell', 452: 'fellow', 453: 'felt', 454: 'few', 455: 'fewer', 456: 'finality', 457: 'find', 458: 'fingers', 459: 'first', 460: 'fit', 461: 'fitting', 462: 'five', 463: 'flash', 464: 'flashed', 465: 'florid', 466: 'flowers', 467: 'fluently', 468: 'flung', 469: 'follow', 470: 'followed', 471: 'fond', 472: 'footstep', 473: 'for', 474: 'forced', 475: 'forcing', 476: 'forehead', 477: 'foreign', 478: 'foreseen', 479: 'forgive', 480: 'forgotten', 481: 'form', 482: 'formed', 483: 'forming', 484: 'forward', 485: 'fostered', 486: 'found', 487: 'foundations', 488: 'four', 489: 'fragment', 490: 'fragments', 491: 'frame', 492: 'frames', 493: 'frequently', 494: 'friend', 495: 'from', 496: 'full', 497: 'fullest', 498: 'furiously', 499: 'furrowed', 500: 'garlanded', 501: 'garlands', 502: 'gave', 503: 'genial', 504: 'genius', 505: 'gesture', 506: 'get', 507: 'getting', 508: 'give', 509: 'given', 510: 'glad', 511: 'glanced', 512: 'glimpse', 513: 'gloried', 514: 'glory', 515: 'go', 516: 'going', 517: 'gone', 518: 'good', 519: 'got', 520: 'grace', 521: 'gradually', 522: 'gray', 523: 'grayish', 524: 'great', 525: 'greatest', 526: 'greatness', 527: 'grew', 528: 'groping', 529: 'growing', 530: 'had', 531: 'hadn', 532: 'hair', 533: 'half', 534: 'hall', 535: 'hand', 536: 'hands', 537: 'handsome', 538: 'hanging', 539: 'happen', 540: 'happened', 541: 'hard', 542: 'hardly', 543: 'have', 544: 'haven', 545: 'having', 546: 'he', 547: 'head', 548: 'hear', 549: 'heard', 550: 'heart', 551: 'height', 552: 'her', 553: 'here', 554: 'hermit', 555: 'herself', 556: 'hesitations', 557: 'hide', 558: 'high', 559: 'him', 560: 'himself', 561: 'hint', 562: 'his', 563: 'history', 564: 'holding', 565: 'home', 566: 'honour', 567: 'hooded', 568: 'hostess', 569: 'hot', 570: 'hour', 571: 'hours', 572: 'house', 573: 'how', 574: 'humoured', 575: 'hung', 576: 'husband', 577: 'idea', 578: 'idle', 579: 'idling', 580: 'if', 581: 'immediately', 582: 'in', 583: 'incense', 584: 'indifferent', 585: 'inevitable', 586: 'inevitably', 587: 'inflexible', 588: 'insensible', 589: 'insignificant', 590: 'instinctively', 591: 'instructive', 592: 'interesting', 593: 'into', 594: 'ironic', 595: 'irony', 596: 'irrelevance', 597: 'irrevocable', 598: 'is', 599: 'it', 600: 'its', 601: 'itself', 602: 'jealousy', 603: 'just', 604: 'keep', 605: 'kept', 606: 'kind', 607: 'knees', 608: 'knew', 609: 'know', 610: 'known_', 611: 'laid', 612: 'lair', 613: 'landing', 614: 'language', 615: 'last', 616: 'late', 617: 'later', 618: 'latter', 619: 'laugh', 620: 'laughed', 621: 'lay', 622: 'leading', 623: 'lean', 624: 'learned', 625: 'least', 626: 'leathery', 627: 'leave', 628: 'led', 629: 'left', 630: 'leisure', 631: 'lends', 632: 'lent', 633: 'let', 634: 'lies', 635: 'life', 636: 'lift', 637: 'lifted', 638: 'light', 639: 'lightly', 640: 'like', 641: 'liked', 642: 'likeness', 643: 'line', 644: 'lines', 645: 'lingered', 646: 'lips', 647: 'lit', 648: 'little', 649: 'live', 650: 'll', 651: 'loathing', 652: 'long', 653: 'longed', 654: 'longer', 655: 'look', 656: 'looked', 657: 'looking', 658: 'lose', 659: 'loss', 660: 'lounging', 661: 'lovely', 662: 'lucky', 663: 'lump', 664: 'luncheon', 665: 'luxury', 666: 'lying', 667: 'made', 668: 'make', 669: 'man', 670: 'manage', 671: 'managed', 672: 'mantel', 673: 'marble', 674: 'married', 675: 'may', 676: 'me', 677: 'meant', 678: 'mechanically', 679: 'mediocrity', 680: 'medium', 681: 'mentioned', 682: 'mere', 683: 'merely', 684: 'met', 685: 'might', 686: 'mighty', 687: 'millionaire', 688: 'mine', 689: 'minute', 690: 'minutes', 691: 'mirrors', 692: 'modest', 693: 'modesty', 694: 'moment', 695: 'money', 696: 'monumental', 697: 'mood', 698: 'morbidly', 699: 'more', 700: 'most', 701: 'mourn', 702: 'mourned', 703: 'moustache', 704: 'moved', 705: 'much', 706: 'muddling', 707: 'multiplied', 708: 'murmur', 709: 'muscles', 710: 'must', 711: 'my', 712: 'myself', 713: 'mysterious', 714: 'naive', 715: 'near', 716: 'nearly', 717: 'negatived', 718: 'nervous', 719: 'nervousness', 720: 'neutral', 721: 'never', 722: 'next', 723: 'no', 724: 'none', 725: 'not', 726: 'note', 727: 'nothing', 728: 'now', 729: 'nymphs', 730: 'oak', 731: 'obituary', 732: 'object', 733: 'objects', 734: 'occurred', 735: 'oddly', 736: 'of', 737: 'off', 738: 'often', 739: 'oh', 740: 'old', 741: 'on', 742: 'once', 743: 'one', 744: 'ones', 745: 'only', 746: 'onto', 747: 'open', 748: 'or', 749: 'other', 750: 'our', 751: 'ourselves', 752: 'out', 753: 'outline', 754: 'oval', 755: 'over', 756: 'own', 757: 'packed', 758: 'paid', 759: 'paint', 760: 'painted', 761: 'painter', 762: 'painting', 763: 'pale', 764: 'paled', 765: 'palm', 766: 'panel', 767: 'panelled', 768: 'panelling', 769: 'pardonable', 770: 'pardoned', 771: 'part', 772: 'passages', 773: 'passing', 774: 'past', 775: 'pastels', 776: 'pathos', 777: 'patient', 778: 'people', 779: 'perceptible', 780: 'perfect', 781: 'persistence', 782: 'persuasively', 783: 'phrase', 784: 'picture', 785: 'pictures', 786: 'piece', 787: 'pines', 788: 'pink', 789: 'place', 790: 'placed', 791: 'plain', 792: 'platitudes', 793: 'pleased', 794: 'pockets', 795: 'point', 796: 'poised', 797: 'poor', 798: 'portrait', 799: 'posing', 800: 'possessed', 801: 'poverty', 802: 'predicted', 803: 'preliminary', 804: 'presenting', 805: 'presses', 806: 'prestidigitation', 807: 'pretty', 808: 'previous', 809: 'price', 810: 'pride', 811: 'princely', 812: 'prism', 813: 'problem', 814: 'proclaiming', 815: 'prodigious', 816: 'profusion', 817: 'protest', 818: 'prove', 819: 'public', 820: 'purblind', 821: 'purely', 822: 'pushed', 823: 'put', 824: 'qualities', 825: 'quality', 826: 'queerly', 827: 'question', 828: 'quickly', 829: 'quietly', 830: 'quite', 831: 'quote', 832: 'rain', 833: 'raised', 834: 'random', 835: 'rather', 836: 're', 837: 'real', 838: 'really', 839: 'reared', 840: 'reason', 841: 'reassurance', 842: 'recovering', 843: 'recreated', 844: 'reflected', 845: 'reflection', 846: 'regrets', 847: 'relatively', 848: 'remained', 849: 'remember', 850: 'reminded', 851: 'repeating', 852: 'represented', 853: 'reproduction', 854: 'resented', 855: 'resolve', 856: 'resources', 857: 'rest', 858: 'rich', 859: 'ridiculous', 860: 'robbed', 861: 'romantic', 862: 'room', 863: 'rooms', 864: 'rose', 865: 'rule', 866: 'run', 867: 's', 868: 'said', 869: 'same', 870: 'satisfaction', 871: 'savour', 872: 'saw', 873: 'say', 874: 'saying', 875: 'says', 876: 'scorn', 877: 'scornful', 878: 'secret', 879: 'see', 880: 'seemed', 881: 'seen', 882: 'self', 883: 'send', 884: 'sensation', 885: 'sensitive', 886: 'sent', 887: 'serious', 888: 'set', 889: 'sex', 890: 'shade', 891: 'shaking', 892: 'shall', 893: 'she', 894: 'shirked', 895: 'short', 896: 'should', 897: 'shoulder', 898: 'shoulders', 899: 'show', 900: 'showed', 901: 'showy', 902: 'shrug', 903: 'shrugged', 904: 'sight', 905: 'sign', 906: 'silent', 907: 'silver', 908: 'similar', 909: 'simpleton', 910: 'simplifications', 911: 'simply', 912: 'since', 913: 'single', 914: 'sitter', 915: 'sitters', 916: 'sketch', 917: 'skill', 918: 'slight', 919: 'slightly', 920: 'slowly', 921: 'small', 922: 'smile', 923: 'smiling', 924: 'sneer', 925: 'so', 926: 'solace', 927: 'some', 928: 'somebody', 929: 'something', 930: 'spacious', 931: 'spaniel', 932: 'speaking', 933: 'speculations', 934: 'spite', 935: 'splash', 936: 'square', 937: 'stairs', 938: 'stalk', 939: 'stammer', 940: 'stand', 941: 'standing', 942: 'started', 943: 'stay', 944: 'still', 945: 'stocked', 946: 'stood', 947: 'stopped', 948: 'stopping', 949: 'straddling', 950: 'straight', 951: 'strain', 952: 'straining', 953: 'strange', 954: 'straw', 955: 'stream', 956: 'stroke', 957: 'strokes', 958: 'strolled', 959: 'strongest', 960: 'strongly', 961: 'struck', 962: 'studio', 963: 'stuff', 964: 'subject', 965: 'substantial', 966: 'suburban', 967: 'such', 968: 'suddenly', 969: 'suffered', 970: 'sugar', 971: 'suggested', 972: 'sunburn', 973: 'sunburnt', 974: 'sunlit', 975: 'superb', 976: 'sure', 977: 'surest', 978: 'surface', 979: 'surprise', 980: 'surprised', 981: 'surrounded', 982: 'suspected', 983: 'sweetly', 984: 'sweetness', 985: 'swelling', 986: 'swept', 987: 'swum', 988: 't', 989: 'table', 990: 'take', 991: 'taken', 992: 'talking', 993: 'tea', 994: 'tears', 995: 'technicalities', 996: 'technique', 997: 'tell', 998: 'tells', 999: 'tempting', 1000: 'terra', 1001: 'terrace', 1002: 'terraces', 1003: 'terribly', 1004: 'than', 1005: 'that', 1006: 'the', 1007: 'their', 1008: 'them', 1009: 'then', 1010: 'there', 1011: 'therefore', 1012: 'they', 1013: 'thin', 1014: 'thing', 1015: 'things', 1016: 'think', 1017: 'this', 1018: 'thither', 1019: 'those', 1020: 'though', 1021: 'thought', 1022: 'three', 1023: 'threshold', 1024: 'threw', 1025: 'through', 1026: 'throwing', 1027: 'tie', 1028: 'till', 1029: 'time', 1030: 'timorously', 1031: 'tinge', 1032: 'tips', 1033: 'tired', 1034: 'to', 1035: 'told', 1036: 'tone', 1037: 'tones', 1038: 'too', 1039: 'took', 1040: 'tottering', 1041: 'touched', 1042: 'toward', 1043: 'trace', 1044: 'trade', 1045: 'transmute', 1046: 'traps', 1047: 'travelled', 1048: 'trees', 1049: 'tribute', 1050: 'tributes', 1051: 'tricks', 1052: 'tried', 1053: 'trouser', 1054: 'true', 1055: 'truth', 1056: 'tubes', 1057: 'turned', 1058: 'twenty', 1059: 'twice', 1060: 'twirling', 1061: 'unaccountable', 1062: 'uncertain', 1063: 'under', 1064: 'underlay', 1065: 'underneath', 1066: 'understand', 1067: 'unexpected', 1068: 'untouched', 1069: 'unusual', 1070: 'up', 1071: 'upon', 1072: 'upset', 1073: 'upstairs', 1074: 'us', 1075: 'used', 1076: 'usual', 1077: 'value', 1078: 'varnishing', 1079: 'vases', 1080: 've', 1081: 'veins', 1082: 'velveteen', 1083: 'verte_', 1084: 'very', 1085: 'villa', 1086: 'vindicated', 1087: 'virtuosity', 1088: 'vista', 1089: 'vocation', 1090: 'voice', 1091: 'wall', 1092: 'wander', 1093: 'want', 1094: 'wanted', 1095: 'wants', 1096: 'was', 1097: 'wasn', 1098: 'watched', 1099: 'watching', 1100: 'water', 1101: 'waves', 1102: 'way', 1103: 'weekly', 1104: 'weeks', 1105: 'welcome', 1106: 'went', 1107: 'were', 1108: 'what', 1109: 'when', 1110: 'whenever', 1111: 'where', 1112: 'which', 1113: 'while', 1114: 'white', 1115: 'who', 1116: 'whole', 1117: 'whom', 1118: 'why', 1119: 'wide', 1120: 'widow', 1121: 'wife', 1122: 'wild', 1123: 'wincing', 1124: 'window', 1125: 'wish', 1126: 'with', 1127: 'without', 1128: 'wits', 1129: 'woman', 1130: 'women', 1131: 'won', 1132: 'wonder', 1133: 'wondered', 1134: 'word', 1135: 'work', 1136: 'working', 1137: 'worth', 1138: 'would', 1139: 'wouldn', 1140: 'year', 1141: 'years', 1142: 'yellow', 1143: 'yet', 1144: 'you', 1145: 'younger', 1146: 'your', 1147: 'yourself', 1148: '<|unknown|>', 1149: '<|endoftext|>'}\n"
     ]
    }
   ],
   "execution_count": 22
  },
  {
   "metadata": {
    "ExecuteTime": {
     "end_time": "2025-08-07T06:10:04.922042Z",
     "start_time": "2025-08-07T06:10:04.919968Z"
    }
   },
   "cell_type": "code",
   "source": [
    "text1 = \"It's the last he painted, you know, Mrs. Gisburn said with pardonable pride.\"\n",
    "\n",
    "ids = tokenizer.encode(text1)\n",
    "print(ids)"
   ],
   "id": "2dd7736ab1030e19",
   "outputs": [
    {
     "name": "stdout",
     "output_type": "stream",
     "text": [
      "[56, 2, 867, 1006, 615, 546, 760, 5, 1144, 609, 5, 67, 7, 38, 868, 1126, 769, 810, 7]\n"
     ]
    }
   ],
   "execution_count": 23
  },
  {
   "metadata": {
    "ExecuteTime": {
     "end_time": "2025-08-07T06:10:04.975196Z",
     "start_time": "2025-08-07T06:10:04.972711Z"
    }
   },
   "cell_type": "code",
   "source": "tokenizer.decode(ids)",
   "id": "1b95bae8b5987af5",
   "outputs": [
    {
     "data": {
      "text/plain": [
       "\"It' s the last he painted, you know, Mrs. Gisburn said with pardonable pride.\""
      ]
     },
     "execution_count": 24,
     "metadata": {},
     "output_type": "execute_result"
    }
   ],
   "execution_count": 24
  },
  {
   "metadata": {
    "ExecuteTime": {
     "end_time": "2025-08-07T06:10:05.025891Z",
     "start_time": "2025-08-07T06:10:05.023288Z"
    }
   },
   "cell_type": "code",
   "source": [
    "text2 = \"\"\"\n",
    "I am currently working as an Assistant AI Engineer at Global InfoVentures Pvt. Ltd., where I am developing and integrating AI-driven solutions such as Conversational AI for the College ERP and Multi-Person Face Recognition Attendance Systems into the G5 Portal. With a Bachelor of Technology in Computer Science and Engineering from ABES Institute of Technology, Ghaziabad, I bring 2 years of experience in the dynamic field of artificial intelligence.\n",
    "\n",
    "My passion lies in leveraging AI technologies to solve real-world problems, particularly in the areas of Conversational AI, Computer Vision, and Machine Learning. I am committed to continuous learning and staying at the forefront of emerging technologies. My current focus is on deepening my expertise in AI and exploring its intersection with other cutting-edge domains like Web 3.0 and blockchain.\n",
    "\n",
    "I believe in the power of collaboration and am always eager to connect with fellow AI enthusiasts, seasoned professionals, and innovators who share my passion for technology. Together, we can explore new opportunities, share knowledge, and drive meaningful change in the tech industry.\n",
    "\n",
    "If you're passionate about AI and are looking to collaborate, innovate, or simply share ideas, I would love to connect. Let's work together to shape the future and create impactful solutions.\n",
    "\"\"\""
   ],
   "id": "3dc4219e34d61878",
   "outputs": [],
   "execution_count": 25
  },
  {
   "metadata": {
    "ExecuteTime": {
     "end_time": "2025-08-07T06:10:05.074614Z",
     "start_time": "2025-08-07T06:10:05.072402Z"
    }
   },
   "cell_type": "code",
   "source": [
    "ids = tokenizer.encode(text2)\n",
    "print(ids)"
   ],
   "id": "994482c2f318fab",
   "outputs": [
    {
     "name": "stdout",
     "output_type": "stream",
     "text": [
      "[53, 1148, 1148, 1136, 188, 169, 1148, 1148, 1148, 191, 1148, 1148, 1148, 7, 1148, 7, 5, 1111, 53, 1148, 1148, 170, 1148, 1148, 6, 1148, 1148, 967, 188, 1148, 1148, 473, 1006, 1148, 1148, 170, 1148, 6, 1148, 1148, 1148, 1148, 1148, 593, 1006, 1148, 1148, 7, 1148, 129, 1148, 736, 1148, 582, 1148, 1148, 170, 1148, 495, 1148, 1148, 736, 1148, 5, 1148, 5, 53, 1148, 1148, 1141, 736, 1148, 582, 1006, 1148, 1148, 736, 1148, 1148, 7, 68, 1148, 634, 582, 1148, 1148, 1148, 1034, 1148, 837, 6, 1148, 1148, 5, 1148, 582, 1006, 1148, 736, 1148, 1148, 5, 1148, 1148, 5, 170, 1148, 1148, 7, 53, 1148, 1148, 1034, 1148, 1148, 170, 1148, 191, 1006, 1148, 736, 1148, 1148, 7, 68, 326, 1148, 598, 741, 1148, 711, 1148, 582, 1148, 170, 1148, 600, 1148, 1126, 749, 1148, 6, 1148, 1148, 640, 1148, 1148, 7, 1148, 170, 1148, 7, 53, 1148, 582, 1006, 1148, 736, 1148, 170, 1148, 163, 1148, 1034, 1148, 1126, 452, 1148, 1148, 5, 1148, 1148, 5, 170, 1148, 1115, 1148, 711, 1148, 473, 1148, 7, 1148, 5, 1148, 257, 1148, 1148, 1148, 5, 1148, 1148, 5, 170, 1148, 1148, 1148, 582, 1006, 1148, 1148, 7, 54, 1144, 2, 836, 1148, 132, 1148, 170, 182, 657, 1034, 1148, 5, 1148, 5, 748, 911, 1148, 1148, 5, 53, 1138, 1148, 1034, 1148, 7, 1148, 2, 867, 1135, 1148, 1034, 1148, 1006, 1148, 170, 1148, 1148, 1148, 7]\n"
     ]
    }
   ],
   "execution_count": 26
  },
  {
   "metadata": {
    "ExecuteTime": {
     "end_time": "2025-08-07T06:10:05.124487Z",
     "start_time": "2025-08-07T06:10:05.122290Z"
    }
   },
   "cell_type": "code",
   "source": "tokenizer.decode(ids)",
   "id": "263b9978e2ef49e2",
   "outputs": [
    {
     "data": {
      "text/plain": [
       "\"I <|unknown|> <|unknown|> working as an <|unknown|> <|unknown|> <|unknown|> at <|unknown|> <|unknown|> <|unknown|>. <|unknown|>., where I <|unknown|> <|unknown|> and <|unknown|> <|unknown|> - <|unknown|> <|unknown|> such as <|unknown|> <|unknown|> for the <|unknown|> <|unknown|> and <|unknown|> - <|unknown|> <|unknown|> <|unknown|> <|unknown|> <|unknown|> into the <|unknown|> <|unknown|>. <|unknown|> a <|unknown|> of <|unknown|> in <|unknown|> <|unknown|> and <|unknown|> from <|unknown|> <|unknown|> of <|unknown|>, <|unknown|>, I <|unknown|> <|unknown|> years of <|unknown|> in the <|unknown|> <|unknown|> of <|unknown|> <|unknown|>. My <|unknown|> lies in <|unknown|> <|unknown|> <|unknown|> to <|unknown|> real - <|unknown|> <|unknown|>, <|unknown|> in the <|unknown|> of <|unknown|> <|unknown|>, <|unknown|> <|unknown|>, and <|unknown|> <|unknown|>. I <|unknown|> <|unknown|> to <|unknown|> <|unknown|> and <|unknown|> at the <|unknown|> of <|unknown|> <|unknown|>. My current <|unknown|> is on <|unknown|> my <|unknown|> in <|unknown|> and <|unknown|> its <|unknown|> with other <|unknown|> - <|unknown|> <|unknown|> like <|unknown|> <|unknown|>. <|unknown|> and <|unknown|>. I <|unknown|> in the <|unknown|> of <|unknown|> and <|unknown|> always <|unknown|> to <|unknown|> with fellow <|unknown|> <|unknown|>, <|unknown|> <|unknown|>, and <|unknown|> who <|unknown|> my <|unknown|> for <|unknown|>. <|unknown|>, <|unknown|> can <|unknown|> <|unknown|> <|unknown|>, <|unknown|> <|unknown|>, and <|unknown|> <|unknown|> <|unknown|> in the <|unknown|> <|unknown|>. If you' re <|unknown|> about <|unknown|> and are looking to <|unknown|>, <|unknown|>, or simply <|unknown|> <|unknown|>, I would <|unknown|> to <|unknown|>. <|unknown|>' s work <|unknown|> to <|unknown|> the <|unknown|> and <|unknown|> <|unknown|> <|unknown|>.\""
      ]
     },
     "execution_count": 27,
     "metadata": {},
     "output_type": "execute_result"
    }
   ],
   "execution_count": 27
  },
  {
   "metadata": {
    "ExecuteTime": {
     "end_time": "2025-08-07T06:10:05.172861Z",
     "start_time": "2025-08-07T06:10:05.170992Z"
    }
   },
   "cell_type": "code",
   "source": [
    "text = \" <|endoftext|> \".join((text1, text2))\n",
    "\n",
    "print(text)"
   ],
   "id": "6473a3caab3d381f",
   "outputs": [
    {
     "name": "stdout",
     "output_type": "stream",
     "text": [
      "It's the last he painted, you know, Mrs. Gisburn said with pardonable pride. <|endoftext|> \n",
      "I am currently working as an Assistant AI Engineer at Global InfoVentures Pvt. Ltd., where I am developing and integrating AI-driven solutions such as Conversational AI for the College ERP and Multi-Person Face Recognition Attendance Systems into the G5 Portal. With a Bachelor of Technology in Computer Science and Engineering from ABES Institute of Technology, Ghaziabad, I bring 2 years of experience in the dynamic field of artificial intelligence.\n",
      "\n",
      "My passion lies in leveraging AI technologies to solve real-world problems, particularly in the areas of Conversational AI, Computer Vision, and Machine Learning. I am committed to continuous learning and staying at the forefront of emerging technologies. My current focus is on deepening my expertise in AI and exploring its intersection with other cutting-edge domains like Web 3.0 and blockchain.\n",
      "\n",
      "I believe in the power of collaboration and am always eager to connect with fellow AI enthusiasts, seasoned professionals, and innovators who share my passion for technology. Together, we can explore new opportunities, share knowledge, and drive meaningful change in the tech industry.\n",
      "\n",
      "If you're passionate about AI and are looking to collaborate, innovate, or simply share ideas, I would love to connect. Let's work together to shape the future and create impactful solutions.\n",
      "\n"
     ]
    }
   ],
   "execution_count": 28
  },
  {
   "metadata": {
    "ExecuteTime": {
     "end_time": "2025-08-07T06:10:05.226701Z",
     "start_time": "2025-08-07T06:10:05.224276Z"
    }
   },
   "cell_type": "code",
   "source": "print(tokenizer.encode(text))",
   "id": "2dd01d19f9cdd0ca",
   "outputs": [
    {
     "name": "stdout",
     "output_type": "stream",
     "text": [
      "[56, 2, 867, 1006, 615, 546, 760, 5, 1144, 609, 5, 67, 7, 38, 868, 1126, 769, 810, 7, 1148, 1148, 1148, 1148, 1148, 53, 1148, 1148, 1136, 188, 169, 1148, 1148, 1148, 191, 1148, 1148, 1148, 7, 1148, 7, 5, 1111, 53, 1148, 1148, 170, 1148, 1148, 6, 1148, 1148, 967, 188, 1148, 1148, 473, 1006, 1148, 1148, 170, 1148, 6, 1148, 1148, 1148, 1148, 1148, 593, 1006, 1148, 1148, 7, 1148, 129, 1148, 736, 1148, 582, 1148, 1148, 170, 1148, 495, 1148, 1148, 736, 1148, 5, 1148, 5, 53, 1148, 1148, 1141, 736, 1148, 582, 1006, 1148, 1148, 736, 1148, 1148, 7, 68, 1148, 634, 582, 1148, 1148, 1148, 1034, 1148, 837, 6, 1148, 1148, 5, 1148, 582, 1006, 1148, 736, 1148, 1148, 5, 1148, 1148, 5, 170, 1148, 1148, 7, 53, 1148, 1148, 1034, 1148, 1148, 170, 1148, 191, 1006, 1148, 736, 1148, 1148, 7, 68, 326, 1148, 598, 741, 1148, 711, 1148, 582, 1148, 170, 1148, 600, 1148, 1126, 749, 1148, 6, 1148, 1148, 640, 1148, 1148, 7, 1148, 170, 1148, 7, 53, 1148, 582, 1006, 1148, 736, 1148, 170, 1148, 163, 1148, 1034, 1148, 1126, 452, 1148, 1148, 5, 1148, 1148, 5, 170, 1148, 1115, 1148, 711, 1148, 473, 1148, 7, 1148, 5, 1148, 257, 1148, 1148, 1148, 5, 1148, 1148, 5, 170, 1148, 1148, 1148, 582, 1006, 1148, 1148, 7, 54, 1144, 2, 836, 1148, 132, 1148, 170, 182, 657, 1034, 1148, 5, 1148, 5, 748, 911, 1148, 1148, 5, 53, 1138, 1148, 1034, 1148, 7, 1148, 2, 867, 1135, 1148, 1034, 1148, 1006, 1148, 170, 1148, 1148, 1148, 7]\n"
     ]
    }
   ],
   "execution_count": 29
  },
  {
   "metadata": {
    "ExecuteTime": {
     "end_time": "2025-08-07T06:10:05.278219Z",
     "start_time": "2025-08-07T06:10:05.275713Z"
    }
   },
   "cell_type": "code",
   "source": "print(tokenizer.decode(tokenizer.encode(text)))",
   "id": "e317b56ce153090b",
   "outputs": [
    {
     "name": "stdout",
     "output_type": "stream",
     "text": [
      "It' s the last he painted, you know, Mrs. Gisburn said with pardonable pride. <|unknown|> <|unknown|> <|unknown|> <|unknown|> <|unknown|> I <|unknown|> <|unknown|> working as an <|unknown|> <|unknown|> <|unknown|> at <|unknown|> <|unknown|> <|unknown|>. <|unknown|>., where I <|unknown|> <|unknown|> and <|unknown|> <|unknown|> - <|unknown|> <|unknown|> such as <|unknown|> <|unknown|> for the <|unknown|> <|unknown|> and <|unknown|> - <|unknown|> <|unknown|> <|unknown|> <|unknown|> <|unknown|> into the <|unknown|> <|unknown|>. <|unknown|> a <|unknown|> of <|unknown|> in <|unknown|> <|unknown|> and <|unknown|> from <|unknown|> <|unknown|> of <|unknown|>, <|unknown|>, I <|unknown|> <|unknown|> years of <|unknown|> in the <|unknown|> <|unknown|> of <|unknown|> <|unknown|>. My <|unknown|> lies in <|unknown|> <|unknown|> <|unknown|> to <|unknown|> real - <|unknown|> <|unknown|>, <|unknown|> in the <|unknown|> of <|unknown|> <|unknown|>, <|unknown|> <|unknown|>, and <|unknown|> <|unknown|>. I <|unknown|> <|unknown|> to <|unknown|> <|unknown|> and <|unknown|> at the <|unknown|> of <|unknown|> <|unknown|>. My current <|unknown|> is on <|unknown|> my <|unknown|> in <|unknown|> and <|unknown|> its <|unknown|> with other <|unknown|> - <|unknown|> <|unknown|> like <|unknown|> <|unknown|>. <|unknown|> and <|unknown|>. I <|unknown|> in the <|unknown|> of <|unknown|> and <|unknown|> always <|unknown|> to <|unknown|> with fellow <|unknown|> <|unknown|>, <|unknown|> <|unknown|>, and <|unknown|> who <|unknown|> my <|unknown|> for <|unknown|>. <|unknown|>, <|unknown|> can <|unknown|> <|unknown|> <|unknown|>, <|unknown|> <|unknown|>, and <|unknown|> <|unknown|> <|unknown|> in the <|unknown|> <|unknown|>. If you' re <|unknown|> about <|unknown|> and are looking to <|unknown|>, <|unknown|>, or simply <|unknown|> <|unknown|>, I would <|unknown|> to <|unknown|>. <|unknown|>' s work <|unknown|> to <|unknown|> the <|unknown|> and <|unknown|> <|unknown|> <|unknown|>.\n"
     ]
    }
   ],
   "execution_count": 30
  },
  {
   "metadata": {},
   "cell_type": "markdown",
   "source": "## BYTE PAIR ENCODING",
   "id": "9d0689938c74d49a"
  },
  {
   "metadata": {
    "ExecuteTime": {
     "end_time": "2025-08-07T06:10:08.595328Z",
     "start_time": "2025-08-07T06:10:05.327514Z"
    }
   },
   "cell_type": "code",
   "source": "!python3 -m pip install tiktoken",
   "id": "beb3d90cac18efef",
   "outputs": [
    {
     "name": "stdout",
     "output_type": "stream",
     "text": [
      "Looking in indexes: https://pypi.org/simple, https://pypi.ngc.nvidia.com\r\n",
      "Requirement already satisfied: tiktoken in ./.venv/lib/python3.10/site-packages (0.9.0)\r\n",
      "Requirement already satisfied: regex>=2022.1.18 in ./.venv/lib/python3.10/site-packages (from tiktoken) (2025.7.34)\r\n",
      "Requirement already satisfied: requests>=2.26.0 in ./.venv/lib/python3.10/site-packages (from tiktoken) (2.32.4)\r\n",
      "Requirement already satisfied: charset_normalizer<4,>=2 in ./.venv/lib/python3.10/site-packages (from requests>=2.26.0->tiktoken) (3.4.2)\r\n",
      "Requirement already satisfied: idna<4,>=2.5 in ./.venv/lib/python3.10/site-packages (from requests>=2.26.0->tiktoken) (3.10)\r\n",
      "Requirement already satisfied: urllib3<3,>=1.21.1 in ./.venv/lib/python3.10/site-packages (from requests>=2.26.0->tiktoken) (2.5.0)\r\n",
      "Requirement already satisfied: certifi>=2017.4.17 in ./.venv/lib/python3.10/site-packages (from requests>=2.26.0->tiktoken) (2025.7.14)\r\n"
     ]
    }
   ],
   "execution_count": 31
  },
  {
   "metadata": {
    "ExecuteTime": {
     "end_time": "2025-08-07T06:10:08.651063Z",
     "start_time": "2025-08-07T06:10:08.647935Z"
    }
   },
   "cell_type": "code",
   "source": [
    "import importlib\n",
    "import tiktoken\n",
    "importlib.reload(tiktoken)"
   ],
   "id": "606896e0e3c4a877",
   "outputs": [
    {
     "data": {
      "text/plain": [
       "<module 'tiktoken' from '/home/hamza/SelfLearningProjects/Building-LLM-From-Scratch/.venv/lib/python3.10/site-packages/tiktoken/__init__.py'>"
      ]
     },
     "execution_count": 32,
     "metadata": {},
     "output_type": "execute_result"
    }
   ],
   "execution_count": 32
  },
  {
   "metadata": {
    "ExecuteTime": {
     "end_time": "2025-08-07T06:10:34.559756Z",
     "start_time": "2025-08-07T06:10:08.824754Z"
    }
   },
   "cell_type": "code",
   "source": "tokenizer = tiktoken.get_encoding(\"gpt2\")",
   "id": "ae3095148a39a8bf",
   "outputs": [],
   "execution_count": 33
  },
  {
   "metadata": {
    "ExecuteTime": {
     "end_time": "2025-08-07T06:10:34.625587Z",
     "start_time": "2025-08-07T06:10:34.622837Z"
    }
   },
   "cell_type": "code",
   "source": [
    "text = \"Hello, do you like tea? <|endoftext|> In the sunlit terraces of someunknownPlace.\"\n",
    "\n",
    "integers = tokenizer.encode(text, allowed_special={\"<|endoftext|>\"})\n",
    "print(integers)"
   ],
   "id": "63d7b14ea6ba995c",
   "outputs": [
    {
     "name": "stdout",
     "output_type": "stream",
     "text": [
      "[15496, 11, 466, 345, 588, 8887, 30, 220, 50256, 554, 262, 4252, 18250, 8812, 2114, 286, 617, 34680, 27271, 13]\n"
     ]
    }
   ],
   "execution_count": 34
  },
  {
   "metadata": {
    "ExecuteTime": {
     "end_time": "2025-08-07T06:10:34.675837Z",
     "start_time": "2025-08-07T06:10:34.674210Z"
    }
   },
   "cell_type": "code",
   "source": "strings = tokenizer.decode(integers)",
   "id": "e01d28de28737149",
   "outputs": [],
   "execution_count": 35
  },
  {
   "metadata": {
    "ExecuteTime": {
     "end_time": "2025-08-07T06:10:34.740424Z",
     "start_time": "2025-08-07T06:10:34.737990Z"
    }
   },
   "cell_type": "code",
   "source": "print(strings)",
   "id": "fa7247110eee952f",
   "outputs": [
    {
     "name": "stdout",
     "output_type": "stream",
     "text": [
      "Hello, do you like tea? <|endoftext|> In the sunlit terraces of someunknownPlace.\n"
     ]
    }
   ],
   "execution_count": 36
  },
  {
   "metadata": {
    "ExecuteTime": {
     "end_time": "2025-08-07T06:10:34.802065Z",
     "start_time": "2025-08-07T06:10:34.799001Z"
    }
   },
   "cell_type": "code",
   "source": [
    "integers = tokenizer.encode(\"Akwirw ier\")\n",
    "print(integers)\n",
    "\n",
    "strings = tokenizer.decode(integers)\n",
    "print(strings)"
   ],
   "id": "53013c14fcb78012",
   "outputs": [
    {
     "name": "stdout",
     "output_type": "stream",
     "text": [
      "[33901, 86, 343, 86, 220, 959]\n",
      "Akwirw ier\n"
     ]
    }
   ],
   "execution_count": 37
  },
  {
   "metadata": {},
   "cell_type": "markdown",
   "source": "## CREATE INPUT-TARGET PAIRS",
   "id": "35eaa243da437305"
  },
  {
   "metadata": {
    "ExecuteTime": {
     "end_time": "2025-08-07T06:10:34.857708Z",
     "start_time": "2025-08-07T06:10:34.855219Z"
    }
   },
   "cell_type": "code",
   "source": [
    "with open(\"the-verdict.txt\", encoding=\"utf-8\") as verdict:\n",
    "    raw_text = verdict.read()\n",
    "\n",
    "print(f\"Total number of characters: {len(raw_text)}\")\n",
    "print()\n",
    "print(\"THE VERDICT\")\n",
    "print(\"======================================================================================\")\n",
    "print(raw_text)"
   ],
   "id": "b1da52c1ba21b60a",
   "outputs": [
    {
     "name": "stdout",
     "output_type": "stream",
     "text": [
      "Total number of characters: 20479\n",
      "\n",
      "THE VERDICT\n",
      "======================================================================================\n",
      "I HAD always thought Jack Gisburn rather a cheap genius--though a good fellow enough--so it was no great surprise to me to hear that, in the height of his glory, he had dropped his painting, married a rich widow, and established himself in a villa on the Riviera. (Though I rather thought it would have been Rome or Florence.)\n",
      "\n",
      "\"The height of his glory\"--that was what the women called it. I can hear Mrs. Gideon Thwing--his last Chicago sitter--deploring his unaccountable abdication. \"Of course it's going to send the value of my picture 'way up; but I don't think of that, Mr. Rickham--the loss to Arrt is all I think of.\" The word, on Mrs. Thwing's lips, multiplied its _rs_ as though they were reflected in an endless vista of mirrors. And it was not only the Mrs. Thwings who mourned. Had not the exquisite Hermia Croft, at the last Grafton Gallery show, stopped me before Gisburn's \"Moon-dancers\" to say, with tears in her eyes: \"We shall not look upon its like again\"?\n",
      "\n",
      "Well!--even through the prism of Hermia's tears I felt able to face the fact with equanimity. Poor Jack Gisburn! The women had made him--it was fitting that they should mourn him. Among his own sex fewer regrets were heard, and in his own trade hardly a murmur. Professional jealousy? Perhaps. If it were, the honour of the craft was vindicated by little Claude Nutley, who, in all good faith, brought out in the Burlington a very handsome \"obituary\" on Jack--one of those showy articles stocked with random technicalities that I have heard (I won't say by whom) compared to Gisburn's painting. And so--his resolve being apparently irrevocable--the discussion gradually died out, and, as Mrs. Thwing had predicted, the price of \"Gisburns\" went up.\n",
      "\n",
      "It was not till three years later that, in the course of a few weeks' idling on the Riviera, it suddenly occurred to me to wonder why Gisburn had given up his painting. On reflection, it really was a tempting problem. To accuse his wife would have been too easy--his fair sitters had been denied the solace of saying that Mrs. Gisburn had \"dragged him down.\" For Mrs. Gisburn--as such--had not existed till nearly a year after Jack's resolve had been taken. It might be that he had married her--since he liked his ease--because he didn't want to go on painting; but it would have been hard to prove that he had given up his painting because he had married her.\n",
      "\n",
      "Of course, if she had not dragged him down, she had equally, as Miss Croft contended, failed to \"lift him up\"--she had not led him back to the easel. To put the brush into his hand again--what a vocation for a wife! But Mrs. Gisburn appeared to have disdained it--and I felt it might be interesting to find out why.\n",
      "\n",
      "The desultory life of the Riviera lends itself to such purely academic speculations; and having, on my way to Monte Carlo, caught a glimpse of Jack's balustraded terraces between the pines, I had myself borne thither the next day.\n",
      "\n",
      "I found the couple at tea beneath their palm-trees; and Mrs. Gisburn's welcome was so genial that, in the ensuing weeks, I claimed it frequently. It was not that my hostess was \"interesting\": on that point I could have given Miss Croft the fullest reassurance. It was just because she was _not_ interesting--if I may be pardoned the bull--that I found her so. For Jack, all his life, had been surrounded by interesting women: they had fostered his art, it had been reared in the hot-house of their adulation. And it was therefore instructive to note what effect the \"deadening atmosphere of mediocrity\" (I quote Miss Croft) was having on him.\n",
      "\n",
      "I have mentioned that Mrs. Gisburn was rich; and it was immediately perceptible that her husband was extracting from this circumstance a delicate but substantial satisfaction. It is, as a rule, the people who scorn money who get most out of it; and Jack's elegant disdain of his wife's big balance enabled him, with an appearance of perfect good-breeding, to transmute it into objects of art and luxury. To the latter, I must add, he remained relatively indifferent; but he was buying Renaissance bronzes and eighteenth-century pictures with a discrimination that bespoke the amplest resources.\n",
      "\n",
      "\"Money's only excuse is to put beauty into circulation,\" was one of the axioms he laid down across the Sevres and silver of an exquisitely appointed luncheon-table, when, on a later day, I had again run over from Monte Carlo; and Mrs. Gisburn, beaming on him, added for my enlightenment: \"Jack is so morbidly sensitive to every form of beauty.\"\n",
      "\n",
      "Poor Jack! It had always been his fate to have women say such things of him: the fact should be set down in extenuation. What struck me now was that, for the first time, he resented the tone. I had seen him, so often, basking under similar tributes--was it the conjugal note that robbed them of their savour? No--for, oddly enough, it became apparent that he was fond of Mrs. Gisburn--fond enough not to see her absurdity. It was his own absurdity he seemed to be wincing under--his own attitude as an object for garlands and incense.\n",
      "\n",
      "\"My dear, since I've chucked painting people don't say that stuff about me--they say it about Victor Grindle,\" was his only protest, as he rose from the table and strolled out onto the sunlit terrace.\n",
      "\n",
      "I glanced after him, struck by his last word. Victor Grindle was, in fact, becoming the man of the moment--as Jack himself, one might put it, had been the man of the hour. The younger artist was said to have formed himself at my friend's feet, and I wondered if a tinge of jealousy underlay the latter's mysterious abdication. But no--for it was not till after that event that the _rose Dubarry_ drawing-rooms had begun to display their \"Grindles.\"\n",
      "\n",
      "I turned to Mrs. Gisburn, who had lingered to give a lump of sugar to her spaniel in the dining-room.\n",
      "\n",
      "\"Why _has_ he chucked painting?\" I asked abruptly.\n",
      "\n",
      "She raised her eyebrows with a hint of good-humoured surprise.\n",
      "\n",
      "\"Oh, he doesn't _have_ to now, you know; and I want him to enjoy himself,\" she said quite simply.\n",
      "\n",
      "I looked about the spacious white-panelled room, with its _famille-verte_ vases repeating the tones of the pale damask curtains, and its eighteenth-century pastels in delicate faded frames.\n",
      "\n",
      "\"Has he chucked his pictures too? I haven't seen a single one in the house.\"\n",
      "\n",
      "A slight shade of constraint crossed Mrs. Gisburn's open countenance. \"It's his ridiculous modesty, you know. He says they're not fit to have about; he's sent them all away except one--my portrait--and that I have to keep upstairs.\"\n",
      "\n",
      "His ridiculous modesty--Jack's modesty about his pictures? My curiosity was growing like the bean-stalk. I said persuasively to my hostess: \"I must really see your portrait, you know.\"\n",
      "\n",
      "She glanced out almost timorously at the terrace where her husband, lounging in a hooded chair, had lit a cigar and drawn the Russian deerhound's head between his knees.\n",
      "\n",
      "\"Well, come while he's not looking,\" she said, with a laugh that tried to hide her nervousness; and I followed her between the marble Emperors of the hall, and up the wide stairs with terra-cotta nymphs poised among flowers at each landing.\n",
      "\n",
      "In the dimmest corner of her boudoir, amid a profusion of delicate and distinguished objects, hung one of the familiar oval canvases, in the inevitable garlanded frame. The mere outline of the frame called up all Gisburn's past!\n",
      "\n",
      "Mrs. Gisburn drew back the window-curtains, moved aside a _jardiniere_ full of pink azaleas, pushed an arm-chair away, and said: \"If you stand here you can just manage to see it. I had it over the mantel-piece, but he wouldn't let it stay.\"\n",
      "\n",
      "Yes--I could just manage to see it--the first portrait of Jack's I had ever had to strain my eyes over! Usually they had the place of honour--say the central panel in a pale yellow or _rose Dubarry_ drawing-room, or a monumental easel placed so that it took the light through curtains of old Venetian point. The more modest place became the picture better; yet, as my eyes grew accustomed to the half-light, all the characteristic qualities came out--all the hesitations disguised as audacities, the tricks of prestidigitation by which, with such consummate skill, he managed to divert attention from the real business of the picture to some pretty irrelevance of detail. Mrs. Gisburn, presenting a neutral surface to work on--forming, as it were, so inevitably the background of her own picture--had lent herself in an unusual degree to the display of this false virtuosity. The picture was one of Jack's \"strongest,\" as his admirers would have put it--it represented, on his part, a swelling of muscles, a congesting of veins, a balancing, straddling and straining, that reminded one of the circus-clown's ironic efforts to lift a feather. It met, in short, at every point the demand of lovely woman to be painted \"strongly\" because she was tired of being painted \"sweetly\"--and yet not to lose an atom of the sweetness.\n",
      "\n",
      "\"It's the last he painted, you know,\" Mrs. Gisburn said with pardonable pride. \"The last but one,\" she corrected herself--\"but the other doesn't count, because he destroyed it.\"\n",
      "\n",
      "\"Destroyed it?\" I was about to follow up this clue when I heard a footstep and saw Jack himself on the threshold.\n",
      "\n",
      "As he stood there, his hands in the pockets of his velveteen coat, the thin brown waves of hair pushed back from his white forehead, his lean sunburnt cheeks furrowed by a smile that lifted the tips of a self-confident moustache, I felt to what a degree he had the same quality as his pictures--the quality of looking cleverer than he was.\n",
      "\n",
      "His wife glanced at him deprecatingly, but his eyes travelled past her to the portrait.\n",
      "\n",
      "\"Mr. Rickham wanted to see it,\" she began, as if excusing herself. He shrugged his shoulders, still smiling.\n",
      "\n",
      "\"Oh, Rickham found me out long ago,\" he said lightly; then, passing his arm through mine: \"Come and see the rest of the house.\"\n",
      "\n",
      "He showed it to me with a kind of naive suburban pride: the bath-rooms, the speaking-tubes, the dress-closets, the trouser-presses--all the complex simplifications of the millionaire's domestic economy. And whenever my wonder paid the expected tribute he said, throwing out his chest a little: \"Yes, I really don't see how people manage to live without that.\"\n",
      "\n",
      "Well--it was just the end one might have foreseen for him. Only he was, through it all and in spite of it all--as he had been through, and in spite of, his pictures--so handsome, so charming, so disarming, that one longed to cry out: \"Be dissatisfied with your leisure!\" as once one had longed to say: \"Be dissatisfied with your work!\"\n",
      "\n",
      "But, with the cry on my lips, my diagnosis suffered an unexpected check.\n",
      "\n",
      "\"This is my own lair,\" he said, leading me into a dark plain room at the end of the florid vista. It was square and brown and leathery: no \"effects\"; no bric-a-brac, none of the air of posing for reproduction in a picture weekly--above all, no least sign of ever having been used as a studio.\n",
      "\n",
      "The fact brought home to me the absolute finality of Jack's break with his old life.\n",
      "\n",
      "\"Don't you ever dabble with paint any more?\" I asked, still looking about for a trace of such activity.\n",
      "\n",
      "\"Never,\" he said briefly.\n",
      "\n",
      "\"Or water-colour--or etching?\"\n",
      "\n",
      "His confident eyes grew dim, and his cheeks paled a little under their handsome sunburn.\n",
      "\n",
      "\"Never think of it, my dear fellow--any more than if I'd never touched a brush.\"\n",
      "\n",
      "And his tone told me in a flash that he never thought of anything else.\n",
      "\n",
      "I moved away, instinctively embarrassed by my unexpected discovery; and as I turned, my eye fell on a small picture above the mantel-piece--the only object breaking the plain oak panelling of the room.\n",
      "\n",
      "\"Oh, by Jove!\" I said.\n",
      "\n",
      "It was a sketch of a donkey--an old tired donkey, standing in the rain under a wall.\n",
      "\n",
      "\"By Jove--a Stroud!\" I cried.\n",
      "\n",
      "He was silent; but I felt him close behind me, breathing a little quickly.\n",
      "\n",
      "\"What a wonder! Made with a dozen lines--but on everlasting foundations. You lucky chap, where did you get it?\"\n",
      "\n",
      "He answered slowly: \"Mrs. Stroud gave it to me.\"\n",
      "\n",
      "\"Ah--I didn't know you even knew the Strouds. He was such an inflexible hermit.\"\n",
      "\n",
      "\"I didn't--till after. . . . She sent for me to paint him when he was dead.\"\n",
      "\n",
      "\"When he was dead? You?\"\n",
      "\n",
      "I must have let a little too much amazement escape through my surprise, for he answered with a deprecating laugh: \"Yes--she's an awful simpleton, you know, Mrs. Stroud. Her only idea was to have him done by a fashionable painter--ah, poor Stroud! She thought it the surest way of proclaiming his greatness--of forcing it on a purblind public. And at the moment I was _the_ fashionable painter.\"\n",
      "\n",
      "\"Ah, poor Stroud--as you say. Was _that_ his history?\"\n",
      "\n",
      "\"That was his history. She believed in him, gloried in him--or thought she did. But she couldn't bear not to have all the drawing-rooms with her. She couldn't bear the fact that, on varnishing days, one could always get near enough to see his pictures. Poor woman! She's just a fragment groping for other fragments. Stroud is the only whole I ever knew.\"\n",
      "\n",
      "\"You ever knew? But you just said--\"\n",
      "\n",
      "Gisburn had a curious smile in his eyes.\n",
      "\n",
      "\"Oh, I knew him, and he knew me--only it happened after he was dead.\"\n",
      "\n",
      "I dropped my voice instinctively. \"When she sent for you?\"\n",
      "\n",
      "\"Yes--quite insensible to the irony. She wanted him vindicated--and by me!\"\n",
      "\n",
      "He laughed again, and threw back his head to look up at the sketch of the donkey. \"There were days when I couldn't look at that thing--couldn't face it. But I forced myself to put it here; and now it's cured me--cured me. That's the reason why I don't dabble any more, my dear Rickham; or rather Stroud himself is the reason.\"\n",
      "\n",
      "For the first time my idle curiosity about my companion turned into a serious desire to understand him better.\n",
      "\n",
      "\"I wish you'd tell me how it happened,\" I said.\n",
      "\n",
      "He stood looking up at the sketch, and twirling between his fingers a cigarette he had forgotten to light. Suddenly he turned toward me.\n",
      "\n",
      "\"I'd rather like to tell you--because I've always suspected you of loathing my work.\"\n",
      "\n",
      "I made a deprecating gesture, which he negatived with a good-humoured shrug.\n",
      "\n",
      "\"Oh, I didn't care a straw when I believed in myself--and now it's an added tie between us!\"\n",
      "\n",
      "He laughed slightly, without bitterness, and pushed one of the deep arm-chairs forward. \"There: make yourself comfortable--and here are the cigars you like.\"\n",
      "\n",
      "He placed them at my elbow and continued to wander up and down the room, stopping now and then beneath the picture.\n",
      "\n",
      "\"How it happened? I can tell you in five minutes--and it didn't take much longer to happen. . . . I can remember now how surprised and pleased I was when I got Mrs. Stroud's note. Of course, deep down, I had always _felt_ there was no one like him--only I had gone with the stream, echoed the usual platitudes about him, till I half got to think he was a failure, one of the kind that are left behind. By Jove, and he _was_ left behind--because he had come to stay! The rest of us had to let ourselves be swept along or go under, but he was high above the current--on everlasting foundations, as you say.\n",
      "\n",
      "\"Well, I went off to the house in my most egregious mood--rather moved, Lord forgive me, at the pathos of poor Stroud's career of failure being crowned by the glory of my painting him! Of course I meant to do the picture for nothing--I told Mrs. Stroud so when she began to stammer something about her poverty. I remember getting off a prodigious phrase about the honour being _mine_--oh, I was princely, my dear Rickham! I was posing to myself like one of my own sitters.\n",
      "\n",
      "\"Then I was taken up and left alone with him. I had sent all my traps in advance, and I had only to set up the easel and get to work. He had been dead only twenty-four hours, and he died suddenly, of heart disease, so that there had been no preliminary work of destruction--his face was clear and untouched. I had met him once or twice, years before, and thought him insignificant and dingy. Now I saw that he was superb.\n",
      "\n",
      "\"I was glad at first, with a merely aesthetic satisfaction: glad to have my hand on such a 'subject.' Then his strange life-likeness began to affect me queerly--as I blocked the head in I felt as if he were watching me do it. The sensation was followed by the thought: if he _were_ watching me, what would he say to my way of working? My strokes began to go a little wild--I felt nervous and uncertain.\n",
      "\n",
      "\"Once, when I looked up, I seemed to see a smile behind his close grayish beard--as if he had the secret, and were amusing himself by holding it back from me. That exasperated me still more. The secret? Why, I had a secret worth twenty of his! I dashed at the canvas furiously, and tried some of my bravura tricks. But they failed me, they crumbled. I saw that he wasn't watching the showy bits--I couldn't distract his attention; he just kept his eyes on the hard passages between. Those were the ones I had always shirked, or covered up with some lying paint. And how he saw through my lies!\n",
      "\n",
      "\"I looked up again, and caught sight of that sketch of the donkey hanging on the wall near his bed. His wife told me afterward it was the last thing he had done--just a note taken with a shaking hand, when he was down in Devonshire recovering from a previous heart attack. Just a note! But it tells his whole history. There are years of patient scornful persistence in every line. A man who had swum with the current could never have learned that mighty up-stream stroke. . . .\n",
      "\n",
      "\"I turned back to my work, and went on groping and muddling; then I looked at the donkey again. I saw that, when Stroud laid in the first stroke, he knew just what the end would be. He had possessed his subject, absorbed it, recreated it. When had I done that with any of my things? They hadn't been born of me--I had just adopted them. . . .\n",
      "\n",
      "\"Hang it, Rickham, with that face watching me I couldn't do another stroke. The plain truth was, I didn't know where to put it--_I had never known_. Only, with my sitters and my public, a showy splash of colour covered up the fact--I just threw paint into their faces. . . . Well, paint was the one medium those dead eyes could see through--see straight to the tottering foundations underneath. Don't you know how, in talking a foreign language, even fluently, one says half the time not what one wants to but what one can? Well--that was the way I painted; and as he lay there and watched me, the thing they called my 'technique' collapsed like a house of cards. He didn't sneer, you understand, poor Stroud--he just lay there quietly watching, and on his lips, through the gray beard, I seemed to hear the question: 'Are you sure you know where you're coming out?'\n",
      "\n",
      "\"If I could have painted that face, with that question on it, I should have done a great thing. The next greatest thing was to see that I couldn't--and that grace was given me. But, oh, at that minute, Rickham, was there anything on earth I wouldn't have given to have Stroud alive before me, and to hear him say: 'It's not too late--I'll show you how'?\n",
      "\n",
      "\"It _was_ too late--it would have been, even if he'd been alive. I packed up my traps, and went down and told Mrs. Stroud. Of course I didn't tell her _that_--it would have been Greek to her. I simply said I couldn't paint him, that I was too moved. She rather liked the idea--she's so romantic! It was that that made her give me the donkey. But she was terribly upset at not getting the portrait--she did so want him 'done' by some one showy! At first I was afraid she wouldn't let me off--and at my wits' end I suggested Grindle. Yes, it was I who started Grindle: I told Mrs. Stroud he was the 'coming' man, and she told somebody else, and so it got to be true. . . . And he painted Stroud without wincing; and she hung the picture among her husband's things. . . .\"\n",
      "\n",
      "He flung himself down in the arm-chair near mine, laid back his head, and clasping his arms beneath it, looked up at the picture above the chimney-piece.\n",
      "\n",
      "\"I like to fancy that Stroud himself would have given it to me, if he'd been able to say what he thought that day.\"\n",
      "\n",
      "And, in answer to a question I put half-mechanically--\"Begin again?\" he flashed out. \"When the one thing that brings me anywhere near him is that I knew enough to leave off?\"\n",
      "\n",
      "He stood up and laid his hand on my shoulder with a laugh. \"Only the irony of it is that I _am_ still painting--since Grindle's doing it for me! The Strouds stand alone, and happen once--but there's no exterminating our kind of art.\"\n"
     ]
    }
   ],
   "execution_count": 38
  },
  {
   "metadata": {
    "ExecuteTime": {
     "end_time": "2025-08-07T06:10:34.912269Z",
     "start_time": "2025-08-07T06:10:34.907786Z"
    }
   },
   "cell_type": "code",
   "source": [
    "enc_text = tokenizer.encode(raw_text)\n",
    "print(enc_text)\n",
    "print(len(enc_text))"
   ],
   "id": "acca27d28ae9ecd7",
   "outputs": [
    {
     "name": "stdout",
     "output_type": "stream",
     "text": [
      "[40, 367, 2885, 1464, 1807, 3619, 402, 271, 10899, 2138, 257, 7026, 15632, 438, 2016, 257, 922, 5891, 1576, 438, 568, 340, 373, 645, 1049, 5975, 284, 502, 284, 3285, 326, 11, 287, 262, 6001, 286, 465, 13476, 11, 339, 550, 5710, 465, 12036, 11, 6405, 257, 5527, 27075, 11, 290, 4920, 2241, 287, 257, 4489, 64, 319, 262, 34686, 41976, 13, 357, 10915, 314, 2138, 1807, 340, 561, 423, 587, 10598, 393, 28537, 2014, 198, 198, 1, 464, 6001, 286, 465, 13476, 1, 438, 5562, 373, 644, 262, 1466, 1444, 340, 13, 314, 460, 3285, 9074, 13, 46606, 536, 5469, 438, 14363, 938, 4842, 1650, 353, 438, 2934, 489, 3255, 465, 48422, 540, 450, 67, 3299, 13, 366, 5189, 1781, 340, 338, 1016, 284, 3758, 262, 1988, 286, 616, 4286, 705, 1014, 510, 26, 475, 314, 836, 470, 892, 286, 326, 11, 1770, 13, 8759, 2763, 438, 1169, 2994, 284, 943, 17034, 318, 477, 314, 892, 286, 526, 383, 1573, 11, 319, 9074, 13, 536, 5469, 338, 11914, 11, 33096, 663, 4808, 3808, 62, 355, 996, 484, 547, 12548, 287, 281, 13079, 410, 12523, 286, 22353, 13, 843, 340, 373, 407, 691, 262, 9074, 13, 536, 48819, 508, 25722, 276, 13, 11161, 407, 262, 40123, 18113, 544, 9325, 701, 11, 379, 262, 938, 402, 1617, 261, 12917, 905, 11, 5025, 502, 878, 402, 271, 10899, 338, 366, 31640, 12, 67, 20811, 1, 284, 910, 11, 351, 10953, 287, 607, 2951, 25, 366, 1135, 2236, 407, 804, 2402, 663, 588, 757, 13984, 198, 198, 5779, 28112, 10197, 832, 262, 46475, 286, 18113, 544, 338, 10953, 314, 2936, 1498, 284, 1986, 262, 1109, 351, 1602, 11227, 414, 13, 23676, 3619, 402, 271, 10899, 0, 383, 1466, 550, 925, 683, 438, 270, 373, 15830, 326, 484, 815, 25722, 683, 13, 9754, 465, 898, 1714, 7380, 30090, 547, 2982, 11, 290, 287, 465, 898, 3292, 8941, 257, 4636, 28582, 13, 18612, 35394, 30, 8673, 13, 1002, 340, 547, 11, 262, 15393, 286, 262, 5977, 373, 29178, 3474, 416, 1310, 40559, 11959, 1636, 11, 508, 11, 287, 477, 922, 4562, 11, 3181, 503, 287, 262, 37090, 257, 845, 22665, 366, 672, 270, 2838, 1, 319, 3619, 438, 505, 286, 883, 905, 88, 6685, 42070, 351, 4738, 6276, 871, 326, 314, 423, 2982, 357, 40, 1839, 470, 910, 416, 4150, 8, 3688, 284, 402, 271, 10899, 338, 12036, 13, 843, 523, 438, 14363, 10568, 852, 5729, 11331, 18893, 540, 438, 1169, 5114, 11835, 3724, 503, 11, 290, 11, 355, 9074, 13, 536, 5469, 550, 11001, 11, 262, 2756, 286, 366, 38, 271, 10899, 82, 1, 1816, 510, 13, 198, 198, 1026, 373, 407, 10597, 1115, 812, 1568, 326, 11, 287, 262, 1781, 286, 257, 1178, 2745, 6, 4686, 1359, 319, 262, 34686, 41976, 11, 340, 6451, 5091, 284, 502, 284, 4240, 1521, 402, 271, 10899, 550, 1813, 510, 465, 12036, 13, 1550, 14580, 11, 340, 1107, 373, 257, 29850, 1917, 13, 1675, 24456, 465, 3656, 561, 423, 587, 1165, 2562, 438, 14363, 3148, 1650, 1010, 550, 587, 6699, 262, 1540, 558, 286, 2282, 326, 9074, 13, 402, 271, 10899, 550, 366, 7109, 14655, 683, 866, 526, 1114, 9074, 13, 402, 271, 10899, 438, 292, 884, 438, 18108, 407, 11196, 10597, 3016, 257, 614, 706, 3619, 338, 10568, 550, 587, 2077, 13, 632, 1244, 307, 326, 339, 550, 6405, 607, 438, 20777, 339, 8288, 465, 10152, 438, 13893, 339, 1422, 470, 765, 284, 467, 319, 12036, 26, 475, 340, 561, 423, 587, 1327, 284, 5879, 326, 339, 550, 1813, 510, 465, 12036, 780, 339, 550, 6405, 607, 13, 198, 198, 5189, 1781, 11, 611, 673, 550, 407, 17901, 683, 866, 11, 673, 550, 8603, 11, 355, 4544, 9325, 701, 42397, 11, 4054, 284, 366, 26282, 683, 510, 1, 438, 7091, 550, 407, 2957, 683, 736, 284, 262, 1396, 417, 13, 1675, 1234, 262, 14093, 656, 465, 1021, 757, 438, 10919, 257, 410, 5040, 329, 257, 3656, 0, 887, 9074, 13, 402, 271, 10899, 4120, 284, 423, 595, 67, 1328, 340, 438, 392, 314, 2936, 340, 1244, 307, 3499, 284, 1064, 503, 1521, 13, 198, 198, 464, 748, 586, 652, 1204, 286, 262, 34686, 41976, 37733, 2346, 284, 884, 14177, 8233, 1020, 5768, 26, 290, 1719, 11, 319, 616, 835, 284, 22489, 40089, 11, 4978, 257, 19350, 286, 3619, 338, 3652, 436, 81, 5286, 8812, 2114, 1022, 262, 279, 1127, 11, 314, 550, 3589, 28068, 294, 1555, 262, 1306, 1110, 13, 198, 198, 40, 1043, 262, 3155, 379, 8887, 11061, 511, 18057, 12, 83, 6037, 26, 290, 9074, 13, 402, 271, 10899, 338, 7062, 373, 523, 2429, 498, 326, 11, 287, 262, 29543, 2745, 11, 314, 4752, 340, 6777, 13, 632, 373, 407, 326, 616, 2583, 408, 373, 366, 47914, 1298, 319, 326, 966, 314, 714, 423, 1813, 4544, 9325, 701, 262, 40830, 12719, 3874, 13, 632, 373, 655, 780, 673, 373, 4808, 1662, 62, 3499, 438, 361, 314, 743, 307, 41746, 12004, 262, 6473, 438, 5562, 314, 1043, 607, 523, 13, 1114, 3619, 11, 477, 465, 1204, 11, 550, 587, 11191, 416, 3499, 1466, 25, 484, 550, 26546, 1068, 465, 1242, 11, 340, 550, 587, 302, 1144, 287, 262, 3024, 12, 4803, 286, 511, 512, 1741, 13, 843, 340, 373, 4361, 5048, 425, 284, 3465, 644, 1245, 262, 366, 25124, 3101, 8137, 286, 16957, 1696, 414, 1, 357, 40, 9577, 4544, 9325, 701, 8, 373, 1719, 319, 683, 13, 198, 198, 40, 423, 4750, 326, 9074, 13, 402, 271, 10899, 373, 5527, 26, 290, 340, 373, 3393, 34953, 856, 326, 607, 5229, 373, 37895, 422, 428, 25179, 257, 19217, 475, 8904, 14676, 13, 632, 318, 11, 355, 257, 3896, 11, 262, 661, 508, 40987, 1637, 508, 651, 749, 503, 286, 340, 26, 290, 3619, 338, 19992, 31564, 286, 465, 3656, 338, 1263, 5236, 9343, 683, 11, 351, 281, 5585, 286, 2818, 922, 12, 49705, 11, 284, 21595, 1133, 340, 656, 5563, 286, 1242, 290, 13064, 13, 1675, 262, 6846, 11, 314, 1276, 751, 11, 339, 6150, 5365, 31655, 26, 475, 339, 373, 7067, 29396, 18443, 12271, 290, 45592, 12, 14792, 5986, 351, 257, 8839, 326, 7284, 35924, 262, 12306, 395, 4133, 13, 198, 198, 1, 26788, 338, 691, 12226, 318, 284, 1234, 8737, 656, 19133, 553, 373, 530, 286, 262, 7877, 72, 3150, 339, 8104, 866, 1973, 262, 37918, 411, 290, 8465, 286, 281, 33954, 271, 3973, 9899, 14678, 40556, 12, 11487, 11, 618, 11, 319, 257, 1568, 1110, 11, 314, 550, 757, 1057, 625, 422, 22489, 40089, 26, 290, 9074, 13, 402, 271, 10899, 11, 307, 3723, 319, 683, 11, 2087, 329, 616, 35957, 25, 366, 14295, 318, 523, 34813, 306, 8564, 284, 790, 1296, 286, 8737, 526, 198, 198, 43920, 3619, 0, 632, 550, 1464, 587, 465, 10030, 284, 423, 1466, 910, 884, 1243, 286, 683, 25, 262, 1109, 815, 307, 900, 866, 287, 1070, 268, 2288, 13, 1867, 7425, 502, 783, 373, 326, 11, 329, 262, 717, 640, 11, 339, 581, 4714, 262, 8216, 13, 314, 550, 1775, 683, 11, 523, 1690, 11, 1615, 3364, 739, 2092, 256, 7657, 438, 9776, 340, 262, 11644, 43778, 3465, 326, 26773, 606, 286, 511, 6799, 454, 30, 1400, 438, 1640, 11, 31414, 1576, 11, 340, 2627, 4156, 326, 339, 373, 16245, 286, 9074, 13, 402, 271, 10899, 438, 69, 623, 1576, 407, 284, 766, 607, 41793, 13, 632, 373, 465, 898, 41793, 339, 3947, 284, 307, 1592, 2259, 739, 438, 14363, 898, 9408, 355, 281, 2134, 329, 5482, 4447, 290, 753, 1072, 13, 198, 198, 1, 3666, 13674, 11, 1201, 314, 1053, 442, 17758, 12036, 661, 836, 470, 910, 326, 3404, 546, 502, 438, 9930, 910, 340, 546, 12622, 41379, 293, 553, 373, 465, 691, 5402, 11, 355, 339, 8278, 422, 262, 3084, 290, 336, 8375, 503, 4291, 262, 4252, 18250, 8812, 558, 13, 198, 198, 40, 27846, 706, 683, 11, 7425, 416, 465, 938, 1573, 13, 12622, 41379, 293, 373, 11, 287, 1109, 11, 5033, 262, 582, 286, 262, 2589, 438, 292, 3619, 2241, 11, 530, 1244, 1234, 340, 11, 550, 587, 262, 582, 286, 262, 1711, 13, 383, 7099, 6802, 373, 531, 284, 423, 7042, 2241, 379, 616, 1545, 338, 3625, 11, 290, 314, 14028, 611, 257, 256, 11912, 286, 35394, 739, 10724, 262, 6846, 338, 11428, 450, 67, 3299, 13, 887, 645, 438, 1640, 340, 373, 407, 10597, 706, 326, 1785, 326, 262, 4808, 13698, 10322, 6532, 62, 8263, 12, 9649, 550, 9258, 284, 3359, 511, 366, 8642, 521, 829, 526, 198, 198, 40, 2900, 284, 9074, 13, 402, 271, 10899, 11, 508, 550, 18459, 1068, 284, 1577, 257, 23844, 286, 7543, 284, 607, 599, 6321, 287, 262, 17423, 12, 3823, 13, 198, 198, 1, 5195, 4808, 10134, 62, 339, 442, 17758, 12036, 1701, 314, 1965, 25891, 13, 198, 198, 3347, 4376, 607, 26928, 351, 257, 9254, 286, 922, 12, 17047, 8167, 5975, 13, 198, 198, 1, 5812, 11, 339, 1595, 470, 4808, 14150, 62, 284, 783, 11, 345, 760, 26, 290, 314, 765, 683, 284, 2883, 2241, 553, 673, 531, 2407, 2391, 13, 198, 198, 40, 3114, 546, 262, 40894, 2330, 12, 6839, 11978, 2119, 11, 351, 663, 4808, 44769, 8270, 12, 332, 660, 62, 410, 1386, 20394, 262, 23755, 286, 262, 14005, 1801, 2093, 41160, 11, 290, 663, 45592, 12, 14792, 1613, 1424, 287, 19217, 24887, 13431, 13, 198, 198, 1, 19242, 339, 442, 17758, 465, 5986, 1165, 30, 314, 4398, 470, 1775, 257, 2060, 530, 287, 262, 2156, 526, 198, 198, 32, 3731, 17979, 286, 32315, 12606, 9074, 13, 402, 271, 10899, 338, 1280, 954, 36368, 13, 366, 1026, 338, 465, 11441, 48740, 11, 345, 760, 13, 679, 1139, 484, 821, 407, 4197, 284, 423, 546, 26, 339, 338, 1908, 606, 477, 1497, 2845, 530, 438, 1820, 18560, 438, 392, 326, 314, 423, 284, 1394, 26148, 526, 198, 198, 6653, 11441, 48740, 438, 14295, 338, 48740, 546, 465, 5986, 30, 2011, 20136, 373, 3957, 588, 262, 26394, 12, 301, 971, 13, 314, 531, 10722, 292, 2280, 284, 616, 2583, 408, 25, 366, 40, 1276, 1107, 766, 534, 18560, 11, 345, 760, 526, 198, 198, 3347, 27846, 503, 2048, 4628, 24882, 379, 262, 8812, 558, 810, 607, 5229, 11, 21081, 782, 278, 287, 257, 14263, 276, 5118, 11, 550, 6578, 257, 24518, 290, 7428, 262, 3394, 20096, 39047, 338, 1182, 1022, 465, 14475, 13, 198, 198, 1, 5779, 11, 1282, 981, 339, 338, 407, 2045, 553, 673, 531, 11, 351, 257, 6487, 326, 3088, 284, 7808, 607, 10927, 1108, 26, 290, 314, 3940, 607, 1022, 262, 30623, 2295, 49406, 286, 262, 6899, 11, 290, 510, 262, 3094, 16046, 351, 1059, 430, 12, 66, 12375, 299, 20896, 82, 24357, 1871, 12734, 379, 1123, 9581, 13, 198, 198, 818, 262, 5391, 76, 395, 5228, 286, 607, 275, 2778, 10840, 11, 10371, 257, 1534, 4241, 286, 19217, 290, 18876, 5563, 11, 9174, 530, 286, 262, 5385, 41186, 39614, 1386, 11, 287, 262, 13203, 5482, 1044, 276, 5739, 13, 383, 5019, 19001, 286, 262, 5739, 1444, 510, 477, 402, 271, 10899, 338, 1613, 0, 198, 198, 27034, 13, 402, 271, 10899, 9859, 736, 262, 4324, 12, 66, 3325, 1299, 11, 3888, 7263, 257, 4808, 73, 446, 259, 13235, 62, 1336, 286, 11398, 35560, 1000, 292, 11, 7121, 281, 3211, 12, 16337, 1497, 11, 290, 531, 25, 366, 1532, 345, 1302, 994, 345, 460, 655, 6687, 284, 766, 340, 13, 314, 550, 340, 625, 262, 24818, 417, 12, 12239, 11, 475, 339, 3636, 470, 1309, 340, 2652, 526, 198, 198, 5297, 438, 40, 714, 655, 6687, 284, 766, 340, 438, 1169, 717, 18560, 286, 3619, 338, 314, 550, 1683, 550, 284, 14022, 616, 2951, 625, 0, 19672, 484, 550, 262, 1295, 286, 15393, 438, 16706, 262, 4318, 6103, 287, 257, 14005, 7872, 393, 4808, 13698, 10322, 6532, 62, 8263, 12, 3823, 11, 393, 257, 36364, 1396, 417, 4624, 523, 326, 340, 1718, 262, 1657, 832, 41160, 286, 1468, 9932, 316, 666, 966, 13, 383, 517, 12949, 1295, 2627, 262, 4286, 1365, 26, 1865, 11, 355, 616, 2951, 6348, 23840, 284, 262, 2063, 12, 2971, 11, 477, 262, 16704, 14482, 1625, 503, 438, 439, 262, 10818, 20597, 32192, 355, 2709, 330, 871, 11, 262, 15910, 286, 16153, 312, 328, 3780, 416, 543, 11, 351, 884, 2784, 9830, 5032, 11, 339, 5257, 284, 36583, 3241, 422, 262, 1103, 1597, 286, 262, 4286, 284, 617, 2495, 11331, 2768, 590, 286, 3703, 13, 9074, 13, 402, 271, 10899, 11, 17728, 257, 8500, 4417, 284, 670, 319, 438, 15464, 11, 355, 340, 547, 11, 523, 16857, 262, 4469, 286, 607, 898, 4286, 438, 18108, 26269, 5223, 287, 281, 8468, 4922, 284, 262, 3359, 286, 428, 3991, 4118, 84, 16579, 13, 383, 4286, 373, 530, 286, 3619, 338, 366, 11576, 395, 553, 355, 465, 21099, 3808, 561, 423, 1234, 340, 438, 270, 7997, 11, 319, 465, 636, 11, 257, 29844, 286, 12749, 11, 257, 22791, 278, 286, 32375, 11, 257, 22486, 11, 965, 2860, 1359, 290, 965, 1397, 11, 326, 14516, 530, 286, 262, 33125, 12, 565, 593, 338, 25304, 4040, 284, 10303, 257, 17972, 13, 632, 1138, 11, 287, 1790, 11, 379, 790, 966, 262, 3512, 286, 14081, 2415, 284, 307, 13055, 366, 11576, 306, 1, 780, 673, 373, 10032, 286, 852, 13055, 366, 34751, 306, 1, 438, 392, 1865, 407, 284, 4425, 281, 22037, 286, 262, 32073, 13, 198, 198, 1, 1026, 338, 262, 938, 339, 13055, 11, 345, 760, 553, 9074, 13, 402, 271, 10899, 531, 351, 27322, 540, 11293, 13, 366, 464, 938, 475, 530, 553, 673, 19267, 5223, 438, 1, 4360, 262, 584, 1595, 470, 954, 11, 780, 339, 6572, 340, 526, 198, 198, 1, 49174, 276, 340, 1701, 314, 373, 546, 284, 1061, 510, 428, 18437, 618, 314, 2982, 257, 2366, 9662, 290, 2497, 3619, 2241, 319, 262, 11387, 13, 198, 198, 1722, 339, 6204, 612, 11, 465, 2832, 287, 262, 16511, 286, 465, 11555, 303, 7821, 13209, 11, 262, 7888, 7586, 9813, 286, 4190, 7121, 736, 422, 465, 2330, 22645, 11, 465, 10904, 4252, 6236, 429, 25839, 9230, 808, 276, 416, 257, 8212, 326, 13663, 262, 9040, 286, 257, 2116, 12, 10414, 738, 285, 23968, 4891, 11, 314, 2936, 284, 644, 257, 4922, 339, 550, 262, 976, 3081, 355, 465, 5986, 438, 1169, 3081, 286, 2045, 1190, 4119, 81, 621, 339, 373, 13, 198, 198, 6653, 3656, 27846, 379, 683, 1207, 8344, 803, 306, 11, 475, 465, 2951, 21650, 1613, 607, 284, 262, 18560, 13, 198, 198, 1, 5246, 13, 8759, 2763, 2227, 284, 766, 340, 553, 673, 2540, 11, 355, 611, 2859, 3500, 5223, 13, 679, 28271, 465, 12450, 11, 991, 16755, 13, 198, 198, 1, 5812, 11, 8759, 2763, 1043, 502, 503, 890, 2084, 553, 339, 531, 15376, 26, 788, 11, 6427, 465, 3211, 832, 6164, 25, 366, 16773, 290, 766, 262, 1334, 286, 262, 2156, 526, 198, 198, 1544, 3751, 340, 284, 502, 351, 257, 1611, 286, 24354, 20154, 11293, 25, 262, 7837, 12, 9649, 11, 262, 5486, 12, 83, 29080, 11, 262, 6576, 12, 565, 418, 1039, 11, 262, 4057, 2655, 12, 8439, 274, 438, 439, 262, 3716, 7106, 6637, 286, 262, 45172, 338, 5928, 3773, 13, 843, 8797, 616, 4240, 3432, 262, 2938, 17547, 339, 531, 11, 9644, 503, 465, 7721, 257, 1310, 25, 366, 5297, 11, 314, 1107, 836, 470, 766, 703, 661, 6687, 284, 2107, 1231, 326, 526, 198, 198, 5779, 438, 270, 373, 655, 262, 886, 530, 1244, 423, 1674, 15898, 329, 683, 13, 5514, 339, 373, 11, 832, 340, 477, 290, 287, 15275, 286, 340, 477, 438, 292, 339, 550, 587, 832, 11, 290, 287, 15275, 286, 11, 465, 5986, 438, 568, 22665, 11, 523, 23332, 11, 523, 595, 18052, 11, 326, 530, 890, 276, 284, 3960, 503, 25, 366, 3856, 44455, 351, 534, 24638, 2474, 355, 1752, 530, 550, 890, 276, 284, 910, 25, 366, 3856, 44455, 351, 534, 670, 2474, 198, 198, 1537, 11, 351, 262, 3960, 319, 616, 11914, 11, 616, 13669, 6989, 281, 10059, 2198, 13, 198, 198, 1, 1212, 318, 616, 898, 49451, 553, 339, 531, 11, 3756, 502, 656, 257, 3223, 8631, 2119, 379, 262, 886, 286, 262, 781, 273, 312, 410, 12523, 13, 632, 373, 6616, 290, 7586, 290, 11620, 88, 25, 645, 366, 34435, 8172, 645, 865, 291, 12, 64, 12, 1671, 330, 11, 4844, 286, 262, 1633, 286, 24380, 329, 20728, 287, 257, 4286, 10273, 438, 29370, 477, 11, 645, 1551, 1051, 286, 1683, 1719, 587, 973, 355, 257, 8034, 13, 198, 198, 464, 1109, 3181, 1363, 284, 502, 262, 4112, 957, 1483, 286, 3619, 338, 2270, 351, 465, 1468, 1204, 13, 198, 198, 1, 3987, 470, 345, 1683, 45553, 903, 351, 7521, 597, 517, 1701, 314, 1965, 11, 991, 2045, 546, 329, 257, 12854, 286, 884, 3842, 13, 198, 198, 1, 12295, 553, 339, 531, 11589, 13, 198, 198, 1, 5574, 1660, 12, 49903, 438, 273, 2123, 10813, 1701, 198, 198, 6653, 6563, 2951, 6348, 5391, 11, 290, 465, 25839, 279, 3021, 257, 1310, 739, 511, 22665, 4252, 10899, 13, 198, 198, 1, 12295, 892, 286, 340, 11, 616, 13674, 5891, 438, 1092, 517, 621, 611, 314, 1549, 1239, 12615, 257, 14093, 526, 198, 198, 1870, 465, 8216, 1297, 502, 287, 257, 7644, 326, 339, 1239, 1807, 286, 1997, 2073, 13, 198, 198, 40, 3888, 1497, 11, 43045, 21100, 416, 616, 10059, 9412, 26, 290, 355, 314, 2900, 11, 616, 4151, 3214, 319, 257, 1402, 4286, 2029, 262, 24818, 417, 12, 12239, 438, 1169, 691, 2134, 7163, 262, 8631, 26210, 3425, 9417, 286, 262, 2119, 13, 198, 198, 1, 5812, 11, 416, 449, 659, 2474, 314, 531, 13, 198, 198, 1026, 373, 257, 17548, 286, 257, 50085, 438, 272, 1468, 10032, 50085, 11, 5055, 287, 262, 6290, 739, 257, 3355, 13, 198, 198, 1, 3886, 449, 659, 438, 64, 520, 5493, 2474, 314, 16896, 13, 198, 198, 1544, 373, 10574, 26, 475, 314, 2936, 683, 1969, 2157, 502, 11, 12704, 257, 1310, 2952, 13, 198, 198, 1, 2061, 257, 4240, 0, 14446, 351, 257, 8667, 3951, 438, 4360, 319, 45697, 19369, 13, 921, 9670, 28022, 11, 810, 750, 345, 651, 340, 1701, 198, 198, 1544, 9373, 6364, 25, 366, 27034, 13, 520, 5493, 2921, 340, 284, 502, 526, 198, 198, 1, 10910, 438, 40, 1422, 470, 760, 345, 772, 2993, 262, 520, 5493, 82, 13, 679, 373, 884, 281, 1167, 2588, 856, 607, 2781, 526, 198, 198, 1, 40, 1422, 470, 438, 83, 359, 706, 13, 764, 764, 764, 1375, 1908, 329, 502, 284, 7521, 683, 618, 339, 373, 2636, 526, 198, 198, 1, 2215, 339, 373, 2636, 30, 921, 1701, 198, 198, 40, 1276, 423, 1309, 257, 1310, 1165, 881, 40642, 972, 6654, 832, 616, 5975, 11, 329, 339, 9373, 351, 257, 1207, 8344, 803, 6487, 25, 366, 5297, 438, 7091, 338, 281, 12659, 2829, 1122, 11, 345, 760, 11, 9074, 13, 520, 5493, 13, 2332, 691, 2126, 373, 284, 423, 683, 1760, 416, 257, 38378, 34537, 438, 993, 11, 3595, 520, 5493, 0, 1375, 1807, 340, 262, 1654, 301, 835, 286, 46431, 465, 27951, 438, 1659, 10833, 340, 319, 257, 1308, 27461, 1171, 13, 843, 379, 262, 2589, 314, 373, 4808, 1169, 62, 38378, 34537, 526, 198, 198, 1, 10910, 11, 3595, 520, 5493, 438, 292, 345, 910, 13, 8920, 4808, 5562, 62, 465, 2106, 1701, 198, 198, 1, 2504, 373, 465, 2106, 13, 1375, 4762, 287, 683, 11, 26996, 798, 287, 683, 438, 273, 1807, 673, 750, 13, 887, 673, 3521, 470, 6842, 407, 284, 423, 477, 262, 8263, 12, 9649, 351, 607, 13, 1375, 3521, 470, 6842, 262, 1109, 326, 11, 319, 1401, 77, 3929, 1528, 11, 530, 714, 1464, 651, 1474, 1576, 284, 766, 465, 5986, 13, 23676, 2415, 0, 1375, 338, 655, 257, 24225, 39136, 278, 329, 584, 21441, 13, 520, 5493, 318, 262, 691, 2187, 314, 1683, 2993, 526, 198, 198, 1, 1639, 1683, 2993, 30, 887, 345, 655, 531, 438, 1, 198, 198, 38, 271, 10899, 550, 257, 11040, 8212, 287, 465, 2951, 13, 198, 198, 1, 5812, 11, 314, 2993, 683, 11, 290, 339, 2993, 502, 438, 8807, 340, 3022, 706, 339, 373, 2636, 526, 198, 198, 40, 5710, 616, 3809, 43045, 13, 366, 2215, 673, 1908, 329, 345, 1701, 198, 198, 1, 5297, 438, 37121, 1035, 27339, 284, 262, 21296, 13, 1375, 2227, 683, 29178, 3474, 438, 392, 416, 502, 2474, 198, 198, 1544, 13818, 757, 11, 290, 9617, 736, 465, 1182, 284, 804, 510, 379, 262, 17548, 286, 262, 50085, 13, 366, 1858, 547, 1528, 618, 314, 3521, 470, 804, 379, 326, 1517, 438, 24089, 77, 470, 1986, 340, 13, 887, 314, 4137, 3589, 284, 1234, 340, 994, 26, 290, 783, 340, 338, 30703, 502, 438, 66, 1522, 502, 13, 1320, 338, 262, 1738, 1521, 314, 836, 470, 45553, 903, 597, 517, 11, 616, 13674, 8759, 2763, 26, 393, 2138, 520, 5493, 2241, 318, 262, 1738, 526, 198, 198, 1890, 262, 717, 640, 616, 21696, 20136, 546, 616, 15185, 2900, 656, 257, 2726, 6227, 284, 1833, 683, 1365, 13, 198, 198, 1, 40, 4601, 345, 1549, 1560, 502, 703, 340, 3022, 553, 314, 531, 13, 198, 198, 1544, 6204, 2045, 510, 379, 262, 17548, 11, 290, 665, 24297, 1022, 465, 9353, 257, 17779, 339, 550, 11564, 284, 1657, 13, 24975, 339, 2900, 3812, 502, 13, 198, 198, 1, 40, 1549, 2138, 588, 284, 1560, 345, 438, 13893, 314, 1053, 1464, 9885, 345, 286, 2376, 26927, 616, 670, 526, 198, 198, 40, 925, 257, 1207, 8344, 803, 18342, 11, 543, 339, 2469, 265, 1572, 351, 257, 922, 12, 17047, 8167, 32545, 13, 198, 198, 1, 5812, 11, 314, 1422, 470, 1337, 257, 14787, 618, 314, 4762, 287, 3589, 438, 392, 783, 340, 338, 281, 2087, 9839, 1022, 514, 2474, 198, 198, 1544, 13818, 4622, 11, 1231, 35987, 11, 290, 7121, 530, 286, 262, 2769, 3211, 12, 49655, 2651, 13, 366, 1858, 25, 787, 3511, 6792, 438, 392, 994, 389, 262, 33204, 345, 588, 526, 198, 198, 1544, 4624, 606, 379, 616, 22662, 290, 3767, 284, 27776, 510, 290, 866, 262, 2119, 11, 12225, 783, 290, 788, 11061, 262, 4286, 13, 198, 198, 1, 2437, 340, 3022, 30, 314, 460, 1560, 345, 287, 1936, 2431, 438, 392, 340, 1422, 470, 1011, 881, 2392, 284, 1645, 13, 764, 764, 764, 314, 460, 3505, 783, 703, 6655, 290, 10607, 314, 373, 618, 314, 1392, 9074, 13, 520, 5493, 338, 3465, 13, 3226, 1781, 11, 2769, 866, 11, 314, 550, 1464, 4808, 31985, 62, 612, 373, 645, 530, 588, 683, 438, 8807, 314, 550, 3750, 351, 262, 4269, 11, 22211, 262, 6678, 40315, 10455, 546, 683, 11, 10597, 314, 2063, 1392, 284, 892, 339, 373, 257, 5287, 11, 530, 286, 262, 1611, 326, 389, 1364, 2157, 13, 2750, 449, 659, 11, 290, 339, 4808, 9776, 62, 1364, 2157, 438, 13893, 339, 550, 1282, 284, 2652, 0, 383, 1334, 286, 514, 550, 284, 1309, 6731, 307, 17676, 1863, 393, 467, 739, 11, 475, 339, 373, 1029, 2029, 262, 1459, 438, 261, 45697, 19369, 11, 355, 345, 910, 13, 198, 198, 1, 5779, 11, 314, 1816, 572, 284, 262, 2156, 287, 616, 749, 34372, 10038, 438, 34330, 3888, 11, 4453, 20927, 502, 11, 379, 262, 3108, 418, 286, 3595, 520, 5493, 338, 3451, 286, 5287, 852, 37492, 416, 262, 13476, 286, 616, 12036, 683, 0, 3226, 1781, 314, 4001, 284, 466, 262, 4286, 329, 2147, 438, 40, 1297, 9074, 13, 520, 5493, 523, 618, 673, 2540, 284, 336, 321, 647, 1223, 546, 607, 8098, 13, 314, 3505, 1972, 572, 257, 40426, 10956, 9546, 546, 262, 15393, 852, 4808, 3810, 62, 438, 1219, 11, 314, 373, 19716, 306, 11, 616, 13674, 8759, 2763, 0, 314, 373, 24380, 284, 3589, 588, 530, 286, 616, 898, 1650, 1010, 13, 198, 198, 1, 6423, 314, 373, 2077, 510, 290, 1364, 3436, 351, 683, 13, 314, 550, 1908, 477, 616, 20348, 287, 5963, 11, 290, 314, 550, 691, 284, 900, 510, 262, 1396, 417, 290, 651, 284, 670, 13, 679, 550, 587, 2636, 691, 8208, 12, 14337, 2250, 11, 290, 339, 3724, 6451, 11, 286, 2612, 4369, 11, 523, 326, 612, 550, 587, 645, 15223, 670, 286, 8166, 438, 14363, 1986, 373, 1598, 290, 36519, 13, 314, 550, 1138, 683, 1752, 393, 5403, 11, 812, 878, 11, 290, 1807, 683, 32081, 290, 44852, 88, 13, 2735, 314, 2497, 326, 339, 373, 21840, 13, 198, 198, 1, 40, 373, 9675, 379, 717, 11, 351, 257, 6974, 19713, 14676, 25, 9675, 284, 423, 616, 1021, 319, 884, 257, 705, 32796, 2637, 3244, 465, 6283, 1204, 12, 46965, 9449, 2540, 284, 2689, 502, 24506, 306, 438, 292, 314, 10226, 262, 1182, 287, 314, 2936, 355, 611, 339, 547, 4964, 502, 466, 340, 13, 383, 18098, 373, 3940, 416, 262, 1807, 25, 611, 339, 4808, 22474, 62, 4964, 502, 11, 644, 561, 339, 910, 284, 616, 835, 286, 1762, 30, 2011, 29483, 2540, 284, 467, 257, 1310, 4295, 438, 40, 2936, 10927, 290, 8627, 13, 198, 198, 1, 7454, 11, 618, 314, 3114, 510, 11, 314, 3947, 284, 766, 257, 8212, 2157, 465, 1969, 12768, 680, 21213, 438, 292, 611, 339, 550, 262, 3200, 11, 290, 547, 28297, 2241, 416, 4769, 340, 736, 422, 502, 13, 1320, 41851, 515, 502, 991, 517, 13, 383, 3200, 30, 4162, 11, 314, 550, 257, 3200, 2861, 8208, 286, 465, 0, 314, 37901, 379, 262, 21978, 44896, 11, 290, 3088, 617, 286, 616, 49025, 5330, 15910, 13, 887, 484, 4054, 502, 11, 484, 1067, 11137, 13, 314, 2497, 326, 339, 2492, 470, 4964, 262, 905, 88, 10340, 438, 40, 3521, 470, 11786, 465, 3241, 26, 339, 655, 4030, 465, 2951, 319, 262, 1327, 22674, 1022, 13, 5845, 547, 262, 3392, 314, 550, 1464, 427, 343, 9091, 11, 393, 5017, 510, 351, 617, 9105, 7521, 13, 843, 703, 339, 2497, 832, 616, 7363, 0, 198, 198, 1, 40, 3114, 510, 757, 11, 290, 4978, 6504, 286, 326, 17548, 286, 262, 50085, 10938, 319, 262, 3355, 1474, 465, 3996, 13, 2399, 3656, 1297, 502, 20875, 340, 373, 262, 938, 1517, 339, 550, 1760, 438, 3137, 257, 3465, 2077, 351, 257, 17275, 1021, 11, 618, 339, 373, 866, 287, 6245, 684, 10695, 20222, 422, 257, 2180, 2612, 1368, 13, 2329, 257, 3465, 0, 887, 340, 4952, 465, 2187, 2106, 13, 1318, 389, 812, 286, 5827, 40987, 913, 30802, 287, 790, 1627, 13, 317, 582, 508, 550, 1509, 388, 351, 262, 1459, 714, 1239, 423, 4499, 326, 18680, 510, 12, 5532, 14000, 13, 764, 764, 764, 198, 198, 1, 40, 2900, 736, 284, 616, 670, 11, 290, 1816, 319, 39136, 278, 290, 285, 4185, 1359, 26, 788, 314, 3114, 379, 262, 50085, 757, 13, 314, 2497, 326, 11, 618, 520, 5493, 8104, 287, 262, 717, 14000, 11, 339, 2993, 655, 644, 262, 886, 561, 307, 13, 679, 550, 17273, 465, 2426, 11, 19233, 340, 11, 11027, 515, 340, 13, 1649, 550, 314, 1760, 326, 351, 597, 286, 616, 1243, 30, 1119, 8020, 470, 587, 4642, 286, 502, 438, 40, 550, 655, 8197, 606, 13, 764, 764, 764, 198, 198, 1, 39, 648, 340, 11, 8759, 2763, 11, 351, 326, 1986, 4964, 502, 314, 3521, 470, 466, 1194, 14000, 13, 383, 8631, 3872, 373, 11, 314, 1422, 470, 760, 810, 284, 1234, 340, 438, 62, 40, 550, 1239, 1900, 44807, 5514, 11, 351, 616, 1650, 1010, 290, 616, 1171, 11, 257, 905, 88, 22870, 286, 9568, 5017, 510, 262, 1109, 438, 40, 655, 9617, 7521, 656, 511, 6698, 13, 764, 764, 764, 3894, 11, 7521, 373, 262, 530, 7090, 883, 2636, 2951, 714, 766, 832, 438, 3826, 3892, 284, 262, 2006, 20212, 19369, 14638, 13, 2094, 470, 345, 760, 703, 11, 287, 3375, 257, 3215, 3303, 11, 772, 6562, 1473, 11, 530, 1139, 2063, 262, 640, 407, 644, 530, 3382, 284, 475, 644, 530, 460, 30, 3894, 438, 5562, 373, 262, 835, 314, 13055, 26, 290, 355, 339, 3830, 612, 290, 7342, 502, 11, 262, 1517, 484, 1444, 616, 705, 23873, 2350, 6, 14707, 588, 257, 2156, 286, 4116, 13, 679, 1422, 470, 10505, 263, 11, 345, 1833, 11, 3595, 520, 5493, 438, 258, 655, 3830, 612, 12703, 4964, 11, 290, 319, 465, 11914, 11, 832, 262, 12768, 21213, 11, 314, 3947, 284, 3285, 262, 1808, 25, 705, 8491, 345, 1654, 345, 760, 810, 345, 821, 2406, 503, 8348, 198, 198, 1, 1532, 314, 714, 423, 13055, 326, 1986, 11, 351, 326, 1808, 319, 340, 11, 314, 815, 423, 1760, 257, 1049, 1517, 13, 383, 1306, 6000, 1517, 373, 284, 766, 326, 314, 3521, 470, 438, 392, 326, 11542, 373, 1813, 502, 13, 887, 11, 11752, 11, 379, 326, 5664, 11, 8759, 2763, 11, 373, 612, 1997, 319, 4534, 314, 3636, 470, 423, 1813, 284, 423, 520, 5493, 6776, 878, 502, 11, 290, 284, 3285, 683, 910, 25, 705, 1026, 338, 407, 1165, 2739, 438, 40, 1183, 905, 345, 703, 30960, 198, 198, 1, 1026, 4808, 9776, 62, 1165, 2739, 438, 270, 561, 423, 587, 11, 772, 611, 339, 1549, 587, 6776, 13, 314, 11856, 510, 616, 20348, 11, 290, 1816, 866, 290, 1297, 9074, 13, 520, 5493, 13, 3226, 1781, 314, 1422, 470, 1560, 607, 4808, 5562, 62, 438, 270, 561, 423, 587, 8312, 284, 607, 13, 314, 2391, 531, 314, 3521, 470, 7521, 683, 11, 326, 314, 373, 1165, 3888, 13, 1375, 2138, 8288, 262, 2126, 438, 7091, 338, 523, 14348, 0, 632, 373, 326, 326, 925, 607, 1577, 502, 262, 50085, 13, 887, 673, 373, 22121, 9247, 379, 407, 1972, 262, 18560, 438, 7091, 750, 523, 765, 683, 705, 28060, 6, 416, 617, 530, 905, 88, 0, 1629, 717, 314, 373, 7787, 673, 3636, 470, 1309, 502, 572, 438, 392, 379, 616, 266, 896, 6, 886, 314, 5220, 41379, 293, 13, 3363, 11, 340, 373, 314, 508, 2067, 41379, 293, 25, 314, 1297, 9074, 13, 520, 5493, 339, 373, 262, 705, 4976, 6, 582, 11, 290, 673, 1297, 8276, 2073, 11, 290, 523, 340, 1392, 284, 307, 2081, 13, 764, 764, 764, 843, 339, 13055, 520, 5493, 1231, 1592, 2259, 26, 290, 673, 9174, 262, 4286, 1871, 607, 5229, 338, 1243, 13, 764, 764, 22135, 198, 198, 1544, 45111, 2241, 866, 287, 262, 3211, 12, 16337, 1474, 6164, 11, 8104, 736, 465, 1182, 11, 290, 47425, 278, 465, 5101, 11061, 340, 11, 3114, 510, 379, 262, 4286, 2029, 262, 18205, 1681, 12, 12239, 13, 198, 198, 1, 40, 588, 284, 14996, 326, 520, 5493, 2241, 561, 423, 1813, 340, 284, 502, 11, 611, 339, 1549, 587, 1498, 284, 910, 644, 339, 1807, 326, 1110, 526, 198, 198, 1870, 11, 287, 3280, 284, 257, 1808, 314, 1234, 2063, 12, 1326, 3147, 1146, 438, 1, 44140, 757, 1701, 339, 30050, 503, 13, 366, 2215, 262, 530, 1517, 326, 6774, 502, 6609, 1474, 683, 318, 326, 314, 2993, 1576, 284, 2666, 572, 1701, 198, 198, 1544, 6204, 510, 290, 8104, 465, 1021, 319, 616, 8163, 351, 257, 6487, 13, 366, 10049, 262, 21296, 286, 340, 318, 326, 314, 4808, 321, 62, 991, 12036, 438, 20777, 41379, 293, 338, 1804, 340, 329, 502, 0, 383, 520, 5493, 82, 1302, 3436, 11, 290, 1645, 1752, 438, 4360, 612, 338, 645, 42393, 803, 674, 1611, 286, 1242, 526]\n",
      "5145\n"
     ]
    }
   ],
   "execution_count": 39
  },
  {
   "metadata": {
    "ExecuteTime": {
     "end_time": "2025-08-07T06:10:34.964761Z",
     "start_time": "2025-08-07T06:10:34.963052Z"
    }
   },
   "cell_type": "code",
   "source": "enc_sample = enc_text[50:]",
   "id": "35e18aa6d4c6c4db",
   "outputs": [],
   "execution_count": 40
  },
  {
   "metadata": {
    "ExecuteTime": {
     "end_time": "2025-08-07T06:10:35.021917Z",
     "start_time": "2025-08-07T06:10:35.019396Z"
    }
   },
   "cell_type": "code",
   "source": [
    "context_size = 8\n",
    "\n",
    "x = enc_sample[:context_size]\n",
    "y = enc_sample[1:context_size+ 1]\n",
    "\n",
    "print(f\"x: {x}\")\n",
    "print(f\"y:      {y}\")"
   ],
   "id": "619893c0501485da",
   "outputs": [
    {
     "name": "stdout",
     "output_type": "stream",
     "text": [
      "x: [290, 4920, 2241, 287, 257, 4489, 64, 319]\n",
      "y:      [4920, 2241, 287, 257, 4489, 64, 319, 262]\n"
     ]
    }
   ],
   "execution_count": 41
  },
  {
   "metadata": {
    "ExecuteTime": {
     "end_time": "2025-08-07T06:10:35.075591Z",
     "start_time": "2025-08-07T06:10:35.073027Z"
    }
   },
   "cell_type": "code",
   "source": [
    "for i in range(1, context_size + 1):\n",
    "    context = enc_sample[:i]\n",
    "    desired = enc_sample[i]\n",
    "\n",
    "    print(f\"{context} -> {desired}\")"
   ],
   "id": "76ccedca2ea4684c",
   "outputs": [
    {
     "name": "stdout",
     "output_type": "stream",
     "text": [
      "[290] -> 4920\n",
      "[290, 4920] -> 2241\n",
      "[290, 4920, 2241] -> 287\n",
      "[290, 4920, 2241, 287] -> 257\n",
      "[290, 4920, 2241, 287, 257] -> 4489\n",
      "[290, 4920, 2241, 287, 257, 4489] -> 64\n",
      "[290, 4920, 2241, 287, 257, 4489, 64] -> 319\n",
      "[290, 4920, 2241, 287, 257, 4489, 64, 319] -> 262\n"
     ]
    }
   ],
   "execution_count": 42
  },
  {
   "metadata": {
    "ExecuteTime": {
     "end_time": "2025-08-07T06:10:35.129587Z",
     "start_time": "2025-08-07T06:10:35.126966Z"
    }
   },
   "cell_type": "code",
   "source": [
    "for i in range(1, context_size + 1):\n",
    "    context = enc_sample[:i]\n",
    "    desired = enc_sample[i]\n",
    "\n",
    "    print(f\"{tokenizer.decode(context)} -> {tokenizer.decode([desired])}\")"
   ],
   "id": "26cf15e8fbc2d3ac",
   "outputs": [
    {
     "name": "stdout",
     "output_type": "stream",
     "text": [
      " and ->  established\n",
      " and established ->  himself\n",
      " and established himself ->  in\n",
      " and established himself in ->  a\n",
      " and established himself in a ->  vill\n",
      " and established himself in a vill -> a\n",
      " and established himself in a villa ->  on\n",
      " and established himself in a villa on ->  the\n"
     ]
    }
   ],
   "execution_count": 43
  },
  {
   "metadata": {},
   "cell_type": "markdown",
   "source": "## IMPLEMENTING DATALOADER",
   "id": "a819bcd6df1a4cc4"
  },
  {
   "metadata": {
    "ExecuteTime": {
     "end_time": "2025-08-07T06:10:35.983688Z",
     "start_time": "2025-08-07T06:10:35.178828Z"
    }
   },
   "cell_type": "code",
   "source": [
    "import torch\n",
    "from torch.utils.data import Dataset, DataLoader\n",
    "\n",
    "\n",
    "class GPTDatasetV1(Dataset):\n",
    "    def __init__(self, txt, tokenizer, max_length, stride):\n",
    "        self.input_ids = []\n",
    "        self.target_ids = []\n",
    "\n",
    "        token_ids = tokenizer.encode(txt, allowed_special={\"<|endoftext|>\"})\n",
    "\n",
    "        for i in range(0, len(token_ids) - max_length, stride):\n",
    "            input_chunk = token_ids[i:i+max_length]\n",
    "            target_chunk = token_ids[i+1:i+max_length+1]\n",
    "            self.input_ids.append(torch.tensor(input_chunk))\n",
    "            self.target_ids.append(torch.tensor(target_chunk))\n",
    "\n",
    "    def __len__(self):\n",
    "        return len(self.input_ids)\n",
    "\n",
    "    def __getitem__(self, idx):\n",
    "        return self.input_ids[idx], self.target_ids[idx]"
   ],
   "id": "824267148623ace5",
   "outputs": [],
   "execution_count": 44
  },
  {
   "metadata": {
    "ExecuteTime": {
     "end_time": "2025-08-07T06:10:36.040120Z",
     "start_time": "2025-08-07T06:10:36.037985Z"
    }
   },
   "cell_type": "code",
   "source": [
    "def create_dataloader_v1(txt, batch_size=4, max_length=256, stride=128, shuffle=False, drop_last=True, num_workers=0):\n",
    "    tokenizer = tiktoken.get_encoding(\"gpt2\")\n",
    "    dataset = GPTDatasetV1(txt, tokenizer, max_length, stride)\n",
    "\n",
    "    dataloader = DataLoader(\n",
    "        dataset,\n",
    "        batch_size=batch_size,\n",
    "        shuffle=shuffle,\n",
    "        drop_last=drop_last,\n",
    "        num_workers=num_workers\n",
    "    )\n",
    "\n",
    "    return dataloader"
   ],
   "id": "5618d3b4d0d1cb9c",
   "outputs": [],
   "execution_count": 45
  },
  {
   "metadata": {
    "ExecuteTime": {
     "end_time": "2025-08-07T06:10:36.088808Z",
     "start_time": "2025-08-07T06:10:36.086813Z"
    }
   },
   "cell_type": "code",
   "source": [
    "with open(\"the-verdict.txt\", encoding=\"utf-8\") as verdict:\n",
    "    raw_text = verdict.read()"
   ],
   "id": "3500975f53db49ca",
   "outputs": [],
   "execution_count": 46
  },
  {
   "metadata": {
    "ExecuteTime": {
     "end_time": "2025-08-07T06:10:36.148791Z",
     "start_time": "2025-08-07T06:10:36.135908Z"
    }
   },
   "cell_type": "code",
   "source": [
    "dataloader = create_dataloader_v1(raw_text, batch_size=1, max_length=4, stride=4)\n",
    "\n",
    "data_iter = iter(dataloader)\n",
    "first_batch = next(data_iter)\n",
    "print(first_batch)"
   ],
   "id": "75ac24f5f6491eba",
   "outputs": [
    {
     "name": "stdout",
     "output_type": "stream",
     "text": [
      "[tensor([[  40,  367, 2885, 1464]]), tensor([[ 367, 2885, 1464, 1807]])]\n"
     ]
    }
   ],
   "execution_count": 47
  },
  {
   "metadata": {
    "ExecuteTime": {
     "end_time": "2025-08-07T06:10:36.190637Z",
     "start_time": "2025-08-07T06:10:36.188416Z"
    }
   },
   "cell_type": "code",
   "source": [
    "second_batch = next(data_iter)\n",
    "print(second_batch)"
   ],
   "id": "f4373ff8234c6645",
   "outputs": [
    {
     "name": "stdout",
     "output_type": "stream",
     "text": [
      "[tensor([[1807, 3619,  402,  271]]), tensor([[ 3619,   402,   271, 10899]])]\n"
     ]
    }
   ],
   "execution_count": 48
  },
  {
   "metadata": {
    "ExecuteTime": {
     "end_time": "2025-08-07T06:10:36.252080Z",
     "start_time": "2025-08-07T06:10:36.242305Z"
    }
   },
   "cell_type": "code",
   "source": [
    "dataloader = create_dataloader_v1(raw_text, batch_size=8, max_length=4, stride=4)\n",
    "\n",
    "data_iter = iter(dataloader)\n",
    "inputs, targets = next(data_iter)\n",
    "\n",
    "print(\"Inputs:\\n\", inputs)\n",
    "print(\"\\nTargets:\\n\", targets)"
   ],
   "id": "ac2d11c8f754d42b",
   "outputs": [
    {
     "name": "stdout",
     "output_type": "stream",
     "text": [
      "Inputs:\n",
      " tensor([[   40,   367,  2885,  1464],\n",
      "        [ 1807,  3619,   402,   271],\n",
      "        [10899,  2138,   257,  7026],\n",
      "        [15632,   438,  2016,   257],\n",
      "        [  922,  5891,  1576,   438],\n",
      "        [  568,   340,   373,   645],\n",
      "        [ 1049,  5975,   284,   502],\n",
      "        [  284,  3285,   326,    11]])\n",
      "\n",
      "Targets:\n",
      " tensor([[  367,  2885,  1464,  1807],\n",
      "        [ 3619,   402,   271, 10899],\n",
      "        [ 2138,   257,  7026, 15632],\n",
      "        [  438,  2016,   257,   922],\n",
      "        [ 5891,  1576,   438,   568],\n",
      "        [  340,   373,   645,  1049],\n",
      "        [ 5975,   284,   502,   284],\n",
      "        [ 3285,   326,    11,   287]])\n"
     ]
    }
   ],
   "execution_count": 49
  },
  {
   "metadata": {},
   "cell_type": "markdown",
   "source": "# WORD2VEC EMBEDDINGS",
   "id": "b0591c01a77f10c6"
  },
  {
   "metadata": {
    "ExecuteTime": {
     "end_time": "2025-08-07T06:11:00.620442Z",
     "start_time": "2025-08-07T06:10:36.298039Z"
    }
   },
   "cell_type": "code",
   "source": [
    "import gensim.downloader as api\n",
    "model = api.load(\"word2vec-google-news-300\")"
   ],
   "id": "571c0f78733a7da3",
   "outputs": [],
   "execution_count": 50
  },
  {
   "metadata": {
    "ExecuteTime": {
     "end_time": "2025-08-07T06:11:00.753232Z",
     "start_time": "2025-08-07T06:11:00.731752Z"
    }
   },
   "cell_type": "code",
   "source": [
    "word_vectors = model\n",
    "\n",
    "print(word_vectors[\"computer\"])"
   ],
   "id": "a6bce4e1f31b3fd8",
   "outputs": [
    {
     "name": "stdout",
     "output_type": "stream",
     "text": [
      "[ 1.07421875e-01 -2.01171875e-01  1.23046875e-01  2.11914062e-01\n",
      " -9.13085938e-02  2.16796875e-01 -1.31835938e-01  8.30078125e-02\n",
      "  2.02148438e-01  4.78515625e-02  3.66210938e-02 -2.45361328e-02\n",
      "  2.39257812e-02 -1.60156250e-01 -2.61230469e-02  9.71679688e-02\n",
      " -6.34765625e-02  1.84570312e-01  1.70898438e-01 -1.63085938e-01\n",
      " -1.09375000e-01  1.49414062e-01 -4.65393066e-04  9.61914062e-02\n",
      "  1.68945312e-01  2.60925293e-03  8.93554688e-02  6.49414062e-02\n",
      "  3.56445312e-02 -6.93359375e-02 -1.46484375e-01 -1.21093750e-01\n",
      " -2.27539062e-01  2.45361328e-02 -1.24511719e-01 -3.18359375e-01\n",
      " -2.20703125e-01  1.30859375e-01  3.66210938e-02 -3.63769531e-02\n",
      " -1.13281250e-01  1.95312500e-01  9.76562500e-02  1.26953125e-01\n",
      "  6.59179688e-02  6.93359375e-02  1.02539062e-02  1.75781250e-01\n",
      " -1.68945312e-01  1.21307373e-03 -2.98828125e-01 -1.15234375e-01\n",
      "  5.66406250e-02 -1.77734375e-01 -2.08984375e-01  1.76757812e-01\n",
      "  2.38037109e-02 -2.57812500e-01 -4.46777344e-02  1.88476562e-01\n",
      "  5.51757812e-02  5.02929688e-02 -1.06933594e-01  1.89453125e-01\n",
      " -1.16210938e-01  8.49609375e-02 -1.71875000e-01  2.45117188e-01\n",
      " -1.73828125e-01 -8.30078125e-03  4.56542969e-02 -1.61132812e-02\n",
      "  1.86523438e-01 -6.05468750e-02 -4.17480469e-02  1.82617188e-01\n",
      "  2.20703125e-01 -1.22558594e-01 -2.55126953e-02 -3.08593750e-01\n",
      "  9.13085938e-02  1.60156250e-01  1.70898438e-01  1.19628906e-01\n",
      "  7.08007812e-02 -2.64892578e-02 -3.08837891e-02  4.06250000e-01\n",
      " -1.01562500e-01  5.71289062e-02 -7.26318359e-03 -9.17968750e-02\n",
      " -1.50390625e-01 -2.55859375e-01  2.16796875e-01 -3.63769531e-02\n",
      "  2.24609375e-01  8.00781250e-02  1.56250000e-01  5.27343750e-02\n",
      "  1.50390625e-01 -1.14746094e-01 -8.64257812e-02  1.19140625e-01\n",
      " -7.17773438e-02  2.73437500e-01 -1.64062500e-01  7.29370117e-03\n",
      "  4.21875000e-01 -1.12792969e-01 -1.35742188e-01 -1.31835938e-01\n",
      " -1.37695312e-01 -7.66601562e-02  6.25000000e-02  4.98046875e-02\n",
      " -1.91406250e-01 -6.03027344e-02  2.27539062e-01  5.88378906e-02\n",
      " -3.24218750e-01  5.41992188e-02 -1.35742188e-01  8.17871094e-03\n",
      " -5.24902344e-02 -1.74713135e-03 -9.81445312e-02 -2.86865234e-02\n",
      "  3.61328125e-02  2.15820312e-01  5.98144531e-02 -3.08593750e-01\n",
      " -2.27539062e-01  2.61718750e-01  9.86328125e-02 -5.07812500e-02\n",
      "  1.78222656e-02  1.31835938e-01 -5.35156250e-01 -1.81640625e-01\n",
      "  1.38671875e-01 -3.10546875e-01 -9.71679688e-02  1.31835938e-01\n",
      " -1.16210938e-01  7.03125000e-02  2.85156250e-01  3.51562500e-02\n",
      " -1.01562500e-01 -3.75976562e-02  1.41601562e-01  1.42578125e-01\n",
      " -5.68847656e-02  2.65625000e-01 -2.09960938e-01  9.64355469e-03\n",
      " -6.68945312e-02 -4.83398438e-02 -6.10351562e-02  2.45117188e-01\n",
      " -9.66796875e-02  1.78222656e-02 -1.27929688e-01 -4.78515625e-02\n",
      " -7.26318359e-03  1.79687500e-01  2.78320312e-02 -2.10937500e-01\n",
      " -1.43554688e-01 -1.27929688e-01  1.73339844e-02 -3.60107422e-03\n",
      " -2.04101562e-01  3.63159180e-03 -1.19628906e-01 -6.15234375e-02\n",
      "  5.93261719e-02 -3.23486328e-03 -1.70898438e-01 -3.14941406e-02\n",
      " -8.88671875e-02 -2.89062500e-01  3.44238281e-02 -1.87500000e-01\n",
      "  2.94921875e-01  1.58203125e-01 -1.19628906e-01  7.61718750e-02\n",
      "  6.39648438e-02 -4.68750000e-02 -6.83593750e-02  1.21459961e-02\n",
      " -1.44531250e-01  4.54101562e-02  3.68652344e-02  3.88671875e-01\n",
      "  1.45507812e-01 -2.55859375e-01 -4.46777344e-02 -1.33789062e-01\n",
      " -1.38671875e-01  6.59179688e-02  1.37695312e-01  1.14746094e-01\n",
      "  2.03125000e-01 -4.78515625e-02  1.80664062e-02 -8.54492188e-02\n",
      " -2.48046875e-01 -3.39843750e-01 -2.83203125e-02  1.05468750e-01\n",
      " -2.14843750e-01 -8.74023438e-02  7.12890625e-02  1.87500000e-01\n",
      " -1.12304688e-01  2.73437500e-01 -3.26171875e-01 -1.77734375e-01\n",
      " -4.24804688e-02 -2.69531250e-01  6.64062500e-02 -6.88476562e-02\n",
      " -1.99218750e-01 -7.03125000e-02 -2.43164062e-01 -3.66210938e-02\n",
      " -7.37304688e-02 -1.77734375e-01  9.17968750e-02 -1.25000000e-01\n",
      " -1.65039062e-01 -3.57421875e-01 -2.85156250e-01 -1.66992188e-01\n",
      "  1.97265625e-01 -1.53320312e-01  2.31933594e-02  2.06054688e-01\n",
      "  1.80664062e-01 -2.74658203e-02 -1.92382812e-01 -9.61914062e-02\n",
      " -1.06811523e-02 -4.73632812e-02  6.54296875e-02 -1.25732422e-02\n",
      "  1.78222656e-02 -8.00781250e-02 -2.59765625e-01  9.37500000e-02\n",
      " -7.81250000e-02  4.68750000e-02 -2.22167969e-02  1.86767578e-02\n",
      "  3.11279297e-02  1.04980469e-02 -1.69921875e-01  2.58789062e-02\n",
      " -3.41796875e-02 -1.44042969e-02 -5.46875000e-02 -8.78906250e-02\n",
      "  1.96838379e-03  2.23632812e-01 -1.36718750e-01  1.75781250e-01\n",
      " -1.63085938e-01  1.87500000e-01  3.44238281e-02 -5.63964844e-02\n",
      " -2.27689743e-05  4.27246094e-02  5.81054688e-02 -1.07910156e-01\n",
      " -3.88183594e-02 -2.69531250e-01  3.34472656e-02  9.81445312e-02\n",
      "  5.63964844e-02  2.23632812e-01 -5.49316406e-02  1.46484375e-01\n",
      "  5.93261719e-02 -2.19726562e-01  6.39648438e-02  1.66015625e-02\n",
      "  4.56542969e-02  3.26171875e-01 -3.80859375e-01  1.70898438e-01\n",
      "  5.66406250e-02 -1.04492188e-01  1.38671875e-01 -1.57226562e-01\n",
      "  3.23486328e-03 -4.80957031e-02 -2.48046875e-01 -6.20117188e-02]\n"
     ]
    }
   ],
   "execution_count": 51
  },
  {
   "metadata": {
    "ExecuteTime": {
     "end_time": "2025-08-07T06:11:00.805226Z",
     "start_time": "2025-08-07T06:11:00.803030Z"
    }
   },
   "cell_type": "code",
   "source": "print(word_vectors[\"computer\"].shape)",
   "id": "bde7aece052d0ff2",
   "outputs": [
    {
     "name": "stdout",
     "output_type": "stream",
     "text": [
      "(300,)\n"
     ]
    }
   ],
   "execution_count": 52
  },
  {
   "metadata": {},
   "cell_type": "markdown",
   "source": "## King + Woman - Man = ?",
   "id": "e7776a15853eec42"
  },
  {
   "metadata": {
    "ExecuteTime": {
     "end_time": "2025-08-07T06:11:03.809737Z",
     "start_time": "2025-08-07T06:11:00.855062Z"
    }
   },
   "cell_type": "code",
   "source": "print(word_vectors.most_similar(positive=[\"king\", \"woman\"], negative=[\"man\"], topn=10))",
   "id": "2b26214132c2a16",
   "outputs": [
    {
     "name": "stdout",
     "output_type": "stream",
     "text": [
      "[('queen', 0.7118191123008728), ('monarch', 0.6189674735069275), ('princess', 0.5902430415153503), ('crown_prince', 0.5499458909034729), ('prince', 0.5377322435379028), ('kings', 0.5236843824386597), ('Queen_Consort', 0.5235945582389832), ('queens', 0.5181134939193726), ('sultan', 0.5098593235015869), ('monarchy', 0.5087411403656006)]\n"
     ]
    }
   ],
   "execution_count": 53
  },
  {
   "metadata": {
    "ExecuteTime": {
     "end_time": "2025-08-07T06:11:03.875749Z",
     "start_time": "2025-08-07T06:11:03.873146Z"
    }
   },
   "cell_type": "code",
   "source": [
    "print(word_vectors.similarity(\"man\", \"woman\"))\n",
    "print(word_vectors.similarity(\"uncle\", \"aunt\"))\n",
    "print(word_vectors.similarity(\"king\", \"queen\"))\n",
    "print(word_vectors.similarity(\"paper\", \"water\"))\n",
    "print(word_vectors.similarity(\"love\", \"lust\"))\n",
    "print(word_vectors.similarity(\"king\", \"prince\"))"
   ],
   "id": "231e9d398b087f63",
   "outputs": [
    {
     "name": "stdout",
     "output_type": "stream",
     "text": [
      "0.7664013\n",
      "0.76434743\n",
      "0.6510956\n",
      "0.11408083\n",
      "0.49054837\n",
      "0.61599934\n"
     ]
    }
   ],
   "execution_count": 54
  },
  {
   "metadata": {
    "ExecuteTime": {
     "end_time": "2025-08-07T06:11:03.974363Z",
     "start_time": "2025-08-07T06:11:03.923815Z"
    }
   },
   "cell_type": "code",
   "source": [
    "vocab_size = 50257\n",
    "output_dim = 256\n",
    "\n",
    "embedding_layer = torch.nn.Embedding(vocab_size, output_dim)"
   ],
   "id": "e1670799f39fbe7a",
   "outputs": [],
   "execution_count": 55
  },
  {
   "metadata": {
    "ExecuteTime": {
     "end_time": "2025-08-07T06:11:03.984139Z",
     "start_time": "2025-08-07T06:11:03.982124Z"
    }
   },
   "cell_type": "code",
   "source": "print(embedding_layer)",
   "id": "f136fcb6c8d8859e",
   "outputs": [
    {
     "name": "stdout",
     "output_type": "stream",
     "text": [
      "Embedding(50257, 256)\n"
     ]
    }
   ],
   "execution_count": 56
  },
  {
   "metadata": {
    "ExecuteTime": {
     "end_time": "2025-08-07T06:11:04.053719Z",
     "start_time": "2025-08-07T06:11:04.038512Z"
    }
   },
   "cell_type": "code",
   "source": "print(embedding_layer.weight)",
   "id": "f6d346358d03f612",
   "outputs": [
    {
     "name": "stdout",
     "output_type": "stream",
     "text": [
      "Parameter containing:\n",
      "tensor([[-0.5706,  0.6027, -0.2567,  ...,  0.0290, -0.1445, -2.0340],\n",
      "        [-0.1791,  0.1787,  0.4292,  ..., -0.7945,  0.7939, -0.2278],\n",
      "        [-0.3098,  0.8901,  0.8856,  ...,  0.0375, -0.1058, -0.1712],\n",
      "        ...,\n",
      "        [ 1.7790, -0.2850,  0.3290,  ...,  0.4845, -0.9168, -0.2115],\n",
      "        [-0.5374, -1.2696, -0.3850,  ..., -0.1103,  1.1562,  0.6185],\n",
      "        [-0.9757, -1.1672,  0.0441,  ..., -0.6543,  0.7312, -0.4056]],\n",
      "       requires_grad=True)\n"
     ]
    }
   ],
   "execution_count": 57
  },
  {
   "metadata": {
    "ExecuteTime": {
     "end_time": "2025-08-07T06:11:04.094892Z",
     "start_time": "2025-08-07T06:11:04.092633Z"
    }
   },
   "cell_type": "code",
   "source": "print(embedding_layer.weight.shape)",
   "id": "101fe890258f5954",
   "outputs": [
    {
     "name": "stdout",
     "output_type": "stream",
     "text": [
      "torch.Size([50257, 256])\n"
     ]
    }
   ],
   "execution_count": 58
  },
  {
   "metadata": {
    "ExecuteTime": {
     "end_time": "2025-08-07T06:11:04.154996Z",
     "start_time": "2025-08-07T06:11:04.145665Z"
    }
   },
   "cell_type": "code",
   "source": "print(embedding_layer(torch.tensor([3])))",
   "id": "2c2599ad7a7ae0a4",
   "outputs": [
    {
     "name": "stdout",
     "output_type": "stream",
     "text": [
      "tensor([[ 0.4083, -1.3859,  0.0887, -1.3058,  1.1848,  0.1736,  0.5377, -0.9342,\n",
      "          1.2371, -1.9653, -0.8670, -1.2464, -0.8963,  2.9947,  1.3031, -1.1529,\n",
      "          1.8359,  0.3810,  0.0860,  1.4519, -0.2580,  1.5061,  0.2941, -2.7117,\n",
      "         -1.1554,  0.3412, -1.3982, -0.5246, -0.0666,  1.5287,  1.7801,  0.2384,\n",
      "          0.4061, -2.2072,  0.9654, -0.1929, -0.1587, -0.0338,  1.1130,  1.9579,\n",
      "         -0.3041, -1.2460, -0.0176, -1.2568, -1.2710,  1.0359, -0.0912,  0.0688,\n",
      "          1.1807,  2.1509,  0.9349,  1.0235, -1.1477, -0.6626,  0.3380,  0.0735,\n",
      "          0.3044,  1.6556,  0.0472, -0.5205,  0.1906, -0.9126, -0.0485,  0.3698,\n",
      "         -1.0383,  0.1776, -0.9317, -1.3950, -0.8516,  0.0354, -0.3448,  0.5593,\n",
      "          0.2102,  0.7898,  1.7635,  0.8595, -0.8375, -1.0565, -1.0165, -1.0688,\n",
      "         -1.2787, -0.7037,  1.1614, -1.9300,  0.0725, -1.2929,  1.5438, -1.6126,\n",
      "          0.1667, -1.2777, -0.1436,  1.4015, -0.7583, -0.1196, -0.8700, -0.4978,\n",
      "         -0.0648, -1.2083, -0.8889,  1.9041,  1.4135, -0.7012, -0.9962, -0.9109,\n",
      "         -0.5776, -1.8870,  0.7987,  0.3800,  1.7278,  0.0341, -2.2452,  1.0019,\n",
      "          1.5121, -0.1570, -0.5700,  1.1868, -0.2190,  0.2561, -1.7637,  1.1413,\n",
      "          0.7259, -0.6037,  0.6895, -1.3518,  1.4798, -1.3155, -2.5313, -0.1815,\n",
      "          0.1819,  0.2023, -0.0148,  1.3634, -0.4984, -1.1602, -1.0683, -0.8785,\n",
      "         -0.4118, -0.7517,  0.6479, -0.1196, -1.6383,  1.0293,  0.1758, -0.1616,\n",
      "          0.6809,  1.0568, -1.1180,  0.6700,  0.6263, -0.3790,  1.5800, -0.1420,\n",
      "         -1.8734,  1.2926, -0.7975, -0.2766,  0.9431, -0.5272,  0.6849, -0.4388,\n",
      "         -0.6219, -0.2072,  0.2191,  0.6575,  0.3990,  0.0095, -0.5771, -0.1354,\n",
      "          0.0304, -0.6601, -0.1735, -0.1517,  1.9319,  0.3930,  1.6384, -1.5589,\n",
      "          0.2802, -0.8592,  1.9470, -0.2601,  0.4110, -0.1869, -0.2799,  1.0962,\n",
      "          1.7310, -0.7332,  2.0779,  0.2231, -2.3563,  0.7022,  1.2544, -1.0982,\n",
      "          0.8078,  0.1586, -1.3606,  1.0642, -2.1377, -1.1475,  0.1076, -0.8357,\n",
      "         -0.5697, -0.9021,  1.1814,  0.9804, -0.8376,  0.2096, -0.2933,  1.5006,\n",
      "          0.0354,  0.1317,  0.8282,  0.8638, -0.7705,  0.6514, -0.5759, -0.6608,\n",
      "         -1.0270,  0.5834, -0.5440,  0.5161,  1.4479,  0.3277, -2.0192, -0.1961,\n",
      "          0.1088,  0.2559,  0.5258, -0.5102, -0.2147, -1.5182, -0.1084,  0.2385,\n",
      "          1.5148,  1.8334, -0.7109,  0.5183,  0.4593,  1.5008,  0.1340, -0.2189,\n",
      "         -0.0522, -1.4129, -0.2320, -1.1584,  1.6448,  1.3212,  0.8813, -1.8955,\n",
      "         -0.7483,  1.0964,  0.0081, -0.0330, -0.9158,  1.3735, -0.7546,  1.2720]],\n",
      "       grad_fn=<EmbeddingBackward0>)\n"
     ]
    }
   ],
   "execution_count": 59
  },
  {
   "metadata": {
    "ExecuteTime": {
     "end_time": "2025-08-07T06:11:04.200688Z",
     "start_time": "2025-08-07T06:11:04.198126Z"
    }
   },
   "cell_type": "code",
   "source": "print(raw_text)",
   "id": "fb451073e82e5ef2",
   "outputs": [
    {
     "name": "stdout",
     "output_type": "stream",
     "text": [
      "I HAD always thought Jack Gisburn rather a cheap genius--though a good fellow enough--so it was no great surprise to me to hear that, in the height of his glory, he had dropped his painting, married a rich widow, and established himself in a villa on the Riviera. (Though I rather thought it would have been Rome or Florence.)\n",
      "\n",
      "\"The height of his glory\"--that was what the women called it. I can hear Mrs. Gideon Thwing--his last Chicago sitter--deploring his unaccountable abdication. \"Of course it's going to send the value of my picture 'way up; but I don't think of that, Mr. Rickham--the loss to Arrt is all I think of.\" The word, on Mrs. Thwing's lips, multiplied its _rs_ as though they were reflected in an endless vista of mirrors. And it was not only the Mrs. Thwings who mourned. Had not the exquisite Hermia Croft, at the last Grafton Gallery show, stopped me before Gisburn's \"Moon-dancers\" to say, with tears in her eyes: \"We shall not look upon its like again\"?\n",
      "\n",
      "Well!--even through the prism of Hermia's tears I felt able to face the fact with equanimity. Poor Jack Gisburn! The women had made him--it was fitting that they should mourn him. Among his own sex fewer regrets were heard, and in his own trade hardly a murmur. Professional jealousy? Perhaps. If it were, the honour of the craft was vindicated by little Claude Nutley, who, in all good faith, brought out in the Burlington a very handsome \"obituary\" on Jack--one of those showy articles stocked with random technicalities that I have heard (I won't say by whom) compared to Gisburn's painting. And so--his resolve being apparently irrevocable--the discussion gradually died out, and, as Mrs. Thwing had predicted, the price of \"Gisburns\" went up.\n",
      "\n",
      "It was not till three years later that, in the course of a few weeks' idling on the Riviera, it suddenly occurred to me to wonder why Gisburn had given up his painting. On reflection, it really was a tempting problem. To accuse his wife would have been too easy--his fair sitters had been denied the solace of saying that Mrs. Gisburn had \"dragged him down.\" For Mrs. Gisburn--as such--had not existed till nearly a year after Jack's resolve had been taken. It might be that he had married her--since he liked his ease--because he didn't want to go on painting; but it would have been hard to prove that he had given up his painting because he had married her.\n",
      "\n",
      "Of course, if she had not dragged him down, she had equally, as Miss Croft contended, failed to \"lift him up\"--she had not led him back to the easel. To put the brush into his hand again--what a vocation for a wife! But Mrs. Gisburn appeared to have disdained it--and I felt it might be interesting to find out why.\n",
      "\n",
      "The desultory life of the Riviera lends itself to such purely academic speculations; and having, on my way to Monte Carlo, caught a glimpse of Jack's balustraded terraces between the pines, I had myself borne thither the next day.\n",
      "\n",
      "I found the couple at tea beneath their palm-trees; and Mrs. Gisburn's welcome was so genial that, in the ensuing weeks, I claimed it frequently. It was not that my hostess was \"interesting\": on that point I could have given Miss Croft the fullest reassurance. It was just because she was _not_ interesting--if I may be pardoned the bull--that I found her so. For Jack, all his life, had been surrounded by interesting women: they had fostered his art, it had been reared in the hot-house of their adulation. And it was therefore instructive to note what effect the \"deadening atmosphere of mediocrity\" (I quote Miss Croft) was having on him.\n",
      "\n",
      "I have mentioned that Mrs. Gisburn was rich; and it was immediately perceptible that her husband was extracting from this circumstance a delicate but substantial satisfaction. It is, as a rule, the people who scorn money who get most out of it; and Jack's elegant disdain of his wife's big balance enabled him, with an appearance of perfect good-breeding, to transmute it into objects of art and luxury. To the latter, I must add, he remained relatively indifferent; but he was buying Renaissance bronzes and eighteenth-century pictures with a discrimination that bespoke the amplest resources.\n",
      "\n",
      "\"Money's only excuse is to put beauty into circulation,\" was one of the axioms he laid down across the Sevres and silver of an exquisitely appointed luncheon-table, when, on a later day, I had again run over from Monte Carlo; and Mrs. Gisburn, beaming on him, added for my enlightenment: \"Jack is so morbidly sensitive to every form of beauty.\"\n",
      "\n",
      "Poor Jack! It had always been his fate to have women say such things of him: the fact should be set down in extenuation. What struck me now was that, for the first time, he resented the tone. I had seen him, so often, basking under similar tributes--was it the conjugal note that robbed them of their savour? No--for, oddly enough, it became apparent that he was fond of Mrs. Gisburn--fond enough not to see her absurdity. It was his own absurdity he seemed to be wincing under--his own attitude as an object for garlands and incense.\n",
      "\n",
      "\"My dear, since I've chucked painting people don't say that stuff about me--they say it about Victor Grindle,\" was his only protest, as he rose from the table and strolled out onto the sunlit terrace.\n",
      "\n",
      "I glanced after him, struck by his last word. Victor Grindle was, in fact, becoming the man of the moment--as Jack himself, one might put it, had been the man of the hour. The younger artist was said to have formed himself at my friend's feet, and I wondered if a tinge of jealousy underlay the latter's mysterious abdication. But no--for it was not till after that event that the _rose Dubarry_ drawing-rooms had begun to display their \"Grindles.\"\n",
      "\n",
      "I turned to Mrs. Gisburn, who had lingered to give a lump of sugar to her spaniel in the dining-room.\n",
      "\n",
      "\"Why _has_ he chucked painting?\" I asked abruptly.\n",
      "\n",
      "She raised her eyebrows with a hint of good-humoured surprise.\n",
      "\n",
      "\"Oh, he doesn't _have_ to now, you know; and I want him to enjoy himself,\" she said quite simply.\n",
      "\n",
      "I looked about the spacious white-panelled room, with its _famille-verte_ vases repeating the tones of the pale damask curtains, and its eighteenth-century pastels in delicate faded frames.\n",
      "\n",
      "\"Has he chucked his pictures too? I haven't seen a single one in the house.\"\n",
      "\n",
      "A slight shade of constraint crossed Mrs. Gisburn's open countenance. \"It's his ridiculous modesty, you know. He says they're not fit to have about; he's sent them all away except one--my portrait--and that I have to keep upstairs.\"\n",
      "\n",
      "His ridiculous modesty--Jack's modesty about his pictures? My curiosity was growing like the bean-stalk. I said persuasively to my hostess: \"I must really see your portrait, you know.\"\n",
      "\n",
      "She glanced out almost timorously at the terrace where her husband, lounging in a hooded chair, had lit a cigar and drawn the Russian deerhound's head between his knees.\n",
      "\n",
      "\"Well, come while he's not looking,\" she said, with a laugh that tried to hide her nervousness; and I followed her between the marble Emperors of the hall, and up the wide stairs with terra-cotta nymphs poised among flowers at each landing.\n",
      "\n",
      "In the dimmest corner of her boudoir, amid a profusion of delicate and distinguished objects, hung one of the familiar oval canvases, in the inevitable garlanded frame. The mere outline of the frame called up all Gisburn's past!\n",
      "\n",
      "Mrs. Gisburn drew back the window-curtains, moved aside a _jardiniere_ full of pink azaleas, pushed an arm-chair away, and said: \"If you stand here you can just manage to see it. I had it over the mantel-piece, but he wouldn't let it stay.\"\n",
      "\n",
      "Yes--I could just manage to see it--the first portrait of Jack's I had ever had to strain my eyes over! Usually they had the place of honour--say the central panel in a pale yellow or _rose Dubarry_ drawing-room, or a monumental easel placed so that it took the light through curtains of old Venetian point. The more modest place became the picture better; yet, as my eyes grew accustomed to the half-light, all the characteristic qualities came out--all the hesitations disguised as audacities, the tricks of prestidigitation by which, with such consummate skill, he managed to divert attention from the real business of the picture to some pretty irrelevance of detail. Mrs. Gisburn, presenting a neutral surface to work on--forming, as it were, so inevitably the background of her own picture--had lent herself in an unusual degree to the display of this false virtuosity. The picture was one of Jack's \"strongest,\" as his admirers would have put it--it represented, on his part, a swelling of muscles, a congesting of veins, a balancing, straddling and straining, that reminded one of the circus-clown's ironic efforts to lift a feather. It met, in short, at every point the demand of lovely woman to be painted \"strongly\" because she was tired of being painted \"sweetly\"--and yet not to lose an atom of the sweetness.\n",
      "\n",
      "\"It's the last he painted, you know,\" Mrs. Gisburn said with pardonable pride. \"The last but one,\" she corrected herself--\"but the other doesn't count, because he destroyed it.\"\n",
      "\n",
      "\"Destroyed it?\" I was about to follow up this clue when I heard a footstep and saw Jack himself on the threshold.\n",
      "\n",
      "As he stood there, his hands in the pockets of his velveteen coat, the thin brown waves of hair pushed back from his white forehead, his lean sunburnt cheeks furrowed by a smile that lifted the tips of a self-confident moustache, I felt to what a degree he had the same quality as his pictures--the quality of looking cleverer than he was.\n",
      "\n",
      "His wife glanced at him deprecatingly, but his eyes travelled past her to the portrait.\n",
      "\n",
      "\"Mr. Rickham wanted to see it,\" she began, as if excusing herself. He shrugged his shoulders, still smiling.\n",
      "\n",
      "\"Oh, Rickham found me out long ago,\" he said lightly; then, passing his arm through mine: \"Come and see the rest of the house.\"\n",
      "\n",
      "He showed it to me with a kind of naive suburban pride: the bath-rooms, the speaking-tubes, the dress-closets, the trouser-presses--all the complex simplifications of the millionaire's domestic economy. And whenever my wonder paid the expected tribute he said, throwing out his chest a little: \"Yes, I really don't see how people manage to live without that.\"\n",
      "\n",
      "Well--it was just the end one might have foreseen for him. Only he was, through it all and in spite of it all--as he had been through, and in spite of, his pictures--so handsome, so charming, so disarming, that one longed to cry out: \"Be dissatisfied with your leisure!\" as once one had longed to say: \"Be dissatisfied with your work!\"\n",
      "\n",
      "But, with the cry on my lips, my diagnosis suffered an unexpected check.\n",
      "\n",
      "\"This is my own lair,\" he said, leading me into a dark plain room at the end of the florid vista. It was square and brown and leathery: no \"effects\"; no bric-a-brac, none of the air of posing for reproduction in a picture weekly--above all, no least sign of ever having been used as a studio.\n",
      "\n",
      "The fact brought home to me the absolute finality of Jack's break with his old life.\n",
      "\n",
      "\"Don't you ever dabble with paint any more?\" I asked, still looking about for a trace of such activity.\n",
      "\n",
      "\"Never,\" he said briefly.\n",
      "\n",
      "\"Or water-colour--or etching?\"\n",
      "\n",
      "His confident eyes grew dim, and his cheeks paled a little under their handsome sunburn.\n",
      "\n",
      "\"Never think of it, my dear fellow--any more than if I'd never touched a brush.\"\n",
      "\n",
      "And his tone told me in a flash that he never thought of anything else.\n",
      "\n",
      "I moved away, instinctively embarrassed by my unexpected discovery; and as I turned, my eye fell on a small picture above the mantel-piece--the only object breaking the plain oak panelling of the room.\n",
      "\n",
      "\"Oh, by Jove!\" I said.\n",
      "\n",
      "It was a sketch of a donkey--an old tired donkey, standing in the rain under a wall.\n",
      "\n",
      "\"By Jove--a Stroud!\" I cried.\n",
      "\n",
      "He was silent; but I felt him close behind me, breathing a little quickly.\n",
      "\n",
      "\"What a wonder! Made with a dozen lines--but on everlasting foundations. You lucky chap, where did you get it?\"\n",
      "\n",
      "He answered slowly: \"Mrs. Stroud gave it to me.\"\n",
      "\n",
      "\"Ah--I didn't know you even knew the Strouds. He was such an inflexible hermit.\"\n",
      "\n",
      "\"I didn't--till after. . . . She sent for me to paint him when he was dead.\"\n",
      "\n",
      "\"When he was dead? You?\"\n",
      "\n",
      "I must have let a little too much amazement escape through my surprise, for he answered with a deprecating laugh: \"Yes--she's an awful simpleton, you know, Mrs. Stroud. Her only idea was to have him done by a fashionable painter--ah, poor Stroud! She thought it the surest way of proclaiming his greatness--of forcing it on a purblind public. And at the moment I was _the_ fashionable painter.\"\n",
      "\n",
      "\"Ah, poor Stroud--as you say. Was _that_ his history?\"\n",
      "\n",
      "\"That was his history. She believed in him, gloried in him--or thought she did. But she couldn't bear not to have all the drawing-rooms with her. She couldn't bear the fact that, on varnishing days, one could always get near enough to see his pictures. Poor woman! She's just a fragment groping for other fragments. Stroud is the only whole I ever knew.\"\n",
      "\n",
      "\"You ever knew? But you just said--\"\n",
      "\n",
      "Gisburn had a curious smile in his eyes.\n",
      "\n",
      "\"Oh, I knew him, and he knew me--only it happened after he was dead.\"\n",
      "\n",
      "I dropped my voice instinctively. \"When she sent for you?\"\n",
      "\n",
      "\"Yes--quite insensible to the irony. She wanted him vindicated--and by me!\"\n",
      "\n",
      "He laughed again, and threw back his head to look up at the sketch of the donkey. \"There were days when I couldn't look at that thing--couldn't face it. But I forced myself to put it here; and now it's cured me--cured me. That's the reason why I don't dabble any more, my dear Rickham; or rather Stroud himself is the reason.\"\n",
      "\n",
      "For the first time my idle curiosity about my companion turned into a serious desire to understand him better.\n",
      "\n",
      "\"I wish you'd tell me how it happened,\" I said.\n",
      "\n",
      "He stood looking up at the sketch, and twirling between his fingers a cigarette he had forgotten to light. Suddenly he turned toward me.\n",
      "\n",
      "\"I'd rather like to tell you--because I've always suspected you of loathing my work.\"\n",
      "\n",
      "I made a deprecating gesture, which he negatived with a good-humoured shrug.\n",
      "\n",
      "\"Oh, I didn't care a straw when I believed in myself--and now it's an added tie between us!\"\n",
      "\n",
      "He laughed slightly, without bitterness, and pushed one of the deep arm-chairs forward. \"There: make yourself comfortable--and here are the cigars you like.\"\n",
      "\n",
      "He placed them at my elbow and continued to wander up and down the room, stopping now and then beneath the picture.\n",
      "\n",
      "\"How it happened? I can tell you in five minutes--and it didn't take much longer to happen. . . . I can remember now how surprised and pleased I was when I got Mrs. Stroud's note. Of course, deep down, I had always _felt_ there was no one like him--only I had gone with the stream, echoed the usual platitudes about him, till I half got to think he was a failure, one of the kind that are left behind. By Jove, and he _was_ left behind--because he had come to stay! The rest of us had to let ourselves be swept along or go under, but he was high above the current--on everlasting foundations, as you say.\n",
      "\n",
      "\"Well, I went off to the house in my most egregious mood--rather moved, Lord forgive me, at the pathos of poor Stroud's career of failure being crowned by the glory of my painting him! Of course I meant to do the picture for nothing--I told Mrs. Stroud so when she began to stammer something about her poverty. I remember getting off a prodigious phrase about the honour being _mine_--oh, I was princely, my dear Rickham! I was posing to myself like one of my own sitters.\n",
      "\n",
      "\"Then I was taken up and left alone with him. I had sent all my traps in advance, and I had only to set up the easel and get to work. He had been dead only twenty-four hours, and he died suddenly, of heart disease, so that there had been no preliminary work of destruction--his face was clear and untouched. I had met him once or twice, years before, and thought him insignificant and dingy. Now I saw that he was superb.\n",
      "\n",
      "\"I was glad at first, with a merely aesthetic satisfaction: glad to have my hand on such a 'subject.' Then his strange life-likeness began to affect me queerly--as I blocked the head in I felt as if he were watching me do it. The sensation was followed by the thought: if he _were_ watching me, what would he say to my way of working? My strokes began to go a little wild--I felt nervous and uncertain.\n",
      "\n",
      "\"Once, when I looked up, I seemed to see a smile behind his close grayish beard--as if he had the secret, and were amusing himself by holding it back from me. That exasperated me still more. The secret? Why, I had a secret worth twenty of his! I dashed at the canvas furiously, and tried some of my bravura tricks. But they failed me, they crumbled. I saw that he wasn't watching the showy bits--I couldn't distract his attention; he just kept his eyes on the hard passages between. Those were the ones I had always shirked, or covered up with some lying paint. And how he saw through my lies!\n",
      "\n",
      "\"I looked up again, and caught sight of that sketch of the donkey hanging on the wall near his bed. His wife told me afterward it was the last thing he had done--just a note taken with a shaking hand, when he was down in Devonshire recovering from a previous heart attack. Just a note! But it tells his whole history. There are years of patient scornful persistence in every line. A man who had swum with the current could never have learned that mighty up-stream stroke. . . .\n",
      "\n",
      "\"I turned back to my work, and went on groping and muddling; then I looked at the donkey again. I saw that, when Stroud laid in the first stroke, he knew just what the end would be. He had possessed his subject, absorbed it, recreated it. When had I done that with any of my things? They hadn't been born of me--I had just adopted them. . . .\n",
      "\n",
      "\"Hang it, Rickham, with that face watching me I couldn't do another stroke. The plain truth was, I didn't know where to put it--_I had never known_. Only, with my sitters and my public, a showy splash of colour covered up the fact--I just threw paint into their faces. . . . Well, paint was the one medium those dead eyes could see through--see straight to the tottering foundations underneath. Don't you know how, in talking a foreign language, even fluently, one says half the time not what one wants to but what one can? Well--that was the way I painted; and as he lay there and watched me, the thing they called my 'technique' collapsed like a house of cards. He didn't sneer, you understand, poor Stroud--he just lay there quietly watching, and on his lips, through the gray beard, I seemed to hear the question: 'Are you sure you know where you're coming out?'\n",
      "\n",
      "\"If I could have painted that face, with that question on it, I should have done a great thing. The next greatest thing was to see that I couldn't--and that grace was given me. But, oh, at that minute, Rickham, was there anything on earth I wouldn't have given to have Stroud alive before me, and to hear him say: 'It's not too late--I'll show you how'?\n",
      "\n",
      "\"It _was_ too late--it would have been, even if he'd been alive. I packed up my traps, and went down and told Mrs. Stroud. Of course I didn't tell her _that_--it would have been Greek to her. I simply said I couldn't paint him, that I was too moved. She rather liked the idea--she's so romantic! It was that that made her give me the donkey. But she was terribly upset at not getting the portrait--she did so want him 'done' by some one showy! At first I was afraid she wouldn't let me off--and at my wits' end I suggested Grindle. Yes, it was I who started Grindle: I told Mrs. Stroud he was the 'coming' man, and she told somebody else, and so it got to be true. . . . And he painted Stroud without wincing; and she hung the picture among her husband's things. . . .\"\n",
      "\n",
      "He flung himself down in the arm-chair near mine, laid back his head, and clasping his arms beneath it, looked up at the picture above the chimney-piece.\n",
      "\n",
      "\"I like to fancy that Stroud himself would have given it to me, if he'd been able to say what he thought that day.\"\n",
      "\n",
      "And, in answer to a question I put half-mechanically--\"Begin again?\" he flashed out. \"When the one thing that brings me anywhere near him is that I knew enough to leave off?\"\n",
      "\n",
      "He stood up and laid his hand on my shoulder with a laugh. \"Only the irony of it is that I _am_ still painting--since Grindle's doing it for me! The Strouds stand alone, and happen once--but there's no exterminating our kind of art.\"\n"
     ]
    }
   ],
   "execution_count": 60
  },
  {
   "metadata": {
    "ExecuteTime": {
     "end_time": "2025-08-07T06:11:04.268973Z",
     "start_time": "2025-08-07T06:11:04.257028Z"
    }
   },
   "cell_type": "code",
   "source": [
    "max_length = 4\n",
    "batch_size = 8\n",
    "dataloader = create_dataloader_v1(\n",
    "    raw_text,\n",
    "    batch_size=batch_size,\n",
    "    max_length=max_length,\n",
    "    stride=max_length\n",
    ")\n",
    "\n",
    "data_iter = iter(dataloader)\n",
    "inputs, targets = next(data_iter)\n",
    "\n",
    "print(\"Inputs:\\n\", inputs)\n",
    "print(\"\\nTargets:\\n\", targets)"
   ],
   "id": "d552e1c3ada37f3b",
   "outputs": [
    {
     "name": "stdout",
     "output_type": "stream",
     "text": [
      "Inputs:\n",
      " tensor([[   40,   367,  2885,  1464],\n",
      "        [ 1807,  3619,   402,   271],\n",
      "        [10899,  2138,   257,  7026],\n",
      "        [15632,   438,  2016,   257],\n",
      "        [  922,  5891,  1576,   438],\n",
      "        [  568,   340,   373,   645],\n",
      "        [ 1049,  5975,   284,   502],\n",
      "        [  284,  3285,   326,    11]])\n",
      "\n",
      "Targets:\n",
      " tensor([[  367,  2885,  1464,  1807],\n",
      "        [ 3619,   402,   271, 10899],\n",
      "        [ 2138,   257,  7026, 15632],\n",
      "        [  438,  2016,   257,   922],\n",
      "        [ 5891,  1576,   438,   568],\n",
      "        [  340,   373,   645,  1049],\n",
      "        [ 5975,   284,   502,   284],\n",
      "        [ 3285,   326,    11,   287]])\n"
     ]
    }
   ],
   "execution_count": 61
  },
  {
   "metadata": {
    "ExecuteTime": {
     "end_time": "2025-08-07T06:11:04.311952Z",
     "start_time": "2025-08-07T06:11:04.310148Z"
    }
   },
   "cell_type": "code",
   "source": "print(inputs.shape)",
   "id": "8009e568c9daf72",
   "outputs": [
    {
     "name": "stdout",
     "output_type": "stream",
     "text": [
      "torch.Size([8, 4])\n"
     ]
    }
   ],
   "execution_count": 62
  },
  {
   "metadata": {
    "ExecuteTime": {
     "end_time": "2025-08-07T06:11:04.364430Z",
     "start_time": "2025-08-07T06:11:04.362529Z"
    }
   },
   "cell_type": "code",
   "source": [
    "token_embeddings = embedding_layer(inputs)\n",
    "print(token_embeddings.shape)"
   ],
   "id": "b4030dd6de2d40e4",
   "outputs": [
    {
     "name": "stdout",
     "output_type": "stream",
     "text": [
      "torch.Size([8, 4, 256])\n"
     ]
    }
   ],
   "execution_count": 63
  },
  {
   "metadata": {
    "ExecuteTime": {
     "end_time": "2025-08-07T06:11:04.417351Z",
     "start_time": "2025-08-07T06:11:04.414262Z"
    }
   },
   "cell_type": "code",
   "source": "print(token_embeddings)",
   "id": "a93cd62bf76463d4",
   "outputs": [
    {
     "name": "stdout",
     "output_type": "stream",
     "text": [
      "tensor([[[-0.2752,  0.4553, -0.4318,  ..., -0.7517, -0.7807,  0.5866],\n",
      "         [-0.8244, -0.8445, -0.1360,  ...,  0.8161,  0.2942,  2.1589],\n",
      "         [-1.0638,  1.2134,  1.4768,  ..., -1.2681,  2.3011,  0.2081],\n",
      "         [-1.1780,  0.5210,  1.3083,  ..., -0.7144, -0.8085, -1.1229]],\n",
      "\n",
      "        [[-0.4583, -1.4856, -1.8151,  ..., -1.0333, -2.8920,  1.6239],\n",
      "         [ 1.8429,  0.6795,  0.8064,  ..., -2.8175, -1.2264, -0.7709],\n",
      "         [ 1.7565,  0.4335, -0.0797,  ...,  0.0991,  1.8170,  0.6085],\n",
      "         [-0.1811, -0.4108,  0.9358,  ..., -0.4100, -0.0267,  0.6995]],\n",
      "\n",
      "        [[ 1.2156,  0.4577,  0.3562,  ..., -0.0903,  0.2193,  1.2033],\n",
      "         [-1.2327, -0.5338, -0.1510,  ..., -0.6567,  0.2632,  0.4774],\n",
      "         [ 0.5374,  1.1586,  0.3039,  ..., -0.4322,  1.6635, -0.3710],\n",
      "         [-0.2031, -0.1025,  0.2795,  ...,  1.6756,  0.1302, -0.6094]],\n",
      "\n",
      "        ...,\n",
      "\n",
      "        [[-1.2317, -0.3988,  0.6944,  ...,  0.5613,  0.6681, -0.3224],\n",
      "         [ 1.1670,  0.4316, -0.9108,  ..., -0.4854, -1.6033, -1.8410],\n",
      "         [-0.1253, -0.9578, -0.4606,  ..., -0.2118,  0.4787,  0.1048],\n",
      "         [-1.7200,  0.0738,  0.2003,  ..., -1.3126, -0.2008,  0.1453]],\n",
      "\n",
      "        [[ 0.5962, -2.0093, -0.9916,  ..., -0.7297,  0.2872,  0.8322],\n",
      "         [ 0.0103, -1.1584,  1.1136,  ...,  1.2499, -0.6315,  0.4549],\n",
      "         [-0.6601, -0.2282, -0.2212,  ..., -1.9296, -1.0828, -0.9652],\n",
      "         [ 0.1246,  0.1951,  0.5681,  ..., -2.3337,  0.3345, -0.8656]],\n",
      "\n",
      "        [[-0.6601, -0.2282, -0.2212,  ..., -1.9296, -1.0828, -0.9652],\n",
      "         [-0.1849, -0.7865, -0.0648,  ..., -1.3650,  1.0522,  0.4928],\n",
      "         [-0.6486, -0.1565,  3.0042,  ..., -0.2012, -1.5686,  0.7194],\n",
      "         [ 0.1602,  0.8208, -1.3581,  ...,  2.7565,  0.8072,  0.3691]]],\n",
      "       grad_fn=<EmbeddingBackward0>)\n"
     ]
    }
   ],
   "execution_count": 64
  },
  {
   "metadata": {
    "ExecuteTime": {
     "end_time": "2025-08-07T06:11:04.474492Z",
     "start_time": "2025-08-07T06:11:04.471199Z"
    }
   },
   "cell_type": "code",
   "source": [
    "context_length = max_length\n",
    "position_embeddings = torch.nn.Embedding(context_length, output_dim)\n",
    "print(position_embeddings.weight)"
   ],
   "id": "66d32a04126d3e02",
   "outputs": [
    {
     "name": "stdout",
     "output_type": "stream",
     "text": [
      "Parameter containing:\n",
      "tensor([[ 0.3386, -1.4711, -1.3535,  ...,  0.5289, -0.1974, -1.9117],\n",
      "        [ 0.1328,  0.7933,  0.7460,  ..., -0.7824,  0.2721, -0.8011],\n",
      "        [-1.3424,  0.3463,  0.6227,  ...,  0.7910, -0.6944,  1.4090],\n",
      "        [-1.4842,  0.3058,  1.8688,  ..., -2.4743, -0.1909,  1.0235]],\n",
      "       requires_grad=True)\n"
     ]
    }
   ],
   "execution_count": 65
  },
  {
   "metadata": {
    "ExecuteTime": {
     "end_time": "2025-08-07T06:11:04.526885Z",
     "start_time": "2025-08-07T06:11:04.523714Z"
    }
   },
   "cell_type": "code",
   "source": [
    "position_embeddings = position_embeddings(torch.arange(max_length))\n",
    "print(position_embeddings.shape)"
   ],
   "id": "c97c2fbb6bfeeafb",
   "outputs": [
    {
     "name": "stdout",
     "output_type": "stream",
     "text": [
      "torch.Size([4, 256])\n"
     ]
    }
   ],
   "execution_count": 66
  },
  {
   "metadata": {
    "ExecuteTime": {
     "end_time": "2025-08-07T06:11:04.579304Z",
     "start_time": "2025-08-07T06:11:04.577328Z"
    }
   },
   "cell_type": "code",
   "source": [
    "input_embeddings = token_embeddings + position_embeddings\n",
    "print(input_embeddings.shape)"
   ],
   "id": "161fbe1360c9f2ba",
   "outputs": [
    {
     "name": "stdout",
     "output_type": "stream",
     "text": [
      "torch.Size([8, 4, 256])\n"
     ]
    }
   ],
   "execution_count": 67
  },
  {
   "metadata": {
    "ExecuteTime": {
     "end_time": "2025-08-07T06:11:04.632109Z",
     "start_time": "2025-08-07T06:11:04.629138Z"
    }
   },
   "cell_type": "code",
   "source": "print(input_embeddings)",
   "id": "eb7eecd6a73aa6f6",
   "outputs": [
    {
     "name": "stdout",
     "output_type": "stream",
     "text": [
      "tensor([[[ 0.0634, -1.0158, -1.7853,  ..., -0.2228, -0.9780, -1.3251],\n",
      "         [-0.6916, -0.0512,  0.6100,  ...,  0.0337,  0.5664,  1.3577],\n",
      "         [-2.4062,  1.5597,  2.0995,  ..., -0.4771,  1.6067,  1.6171],\n",
      "         [-2.6622,  0.8268,  3.1772,  ..., -3.1887, -0.9994, -0.0994]],\n",
      "\n",
      "        [[-0.1197, -2.9566, -3.1686,  ..., -0.5044, -3.0894, -0.2878],\n",
      "         [ 1.9757,  1.4728,  1.5523,  ..., -3.5999, -0.9543, -1.5720],\n",
      "         [ 0.4141,  0.7798,  0.5430,  ...,  0.8902,  1.1226,  2.0175],\n",
      "         [-1.6652, -0.1049,  2.8046,  ..., -2.8843, -0.2176,  1.7230]],\n",
      "\n",
      "        [[ 1.5543, -1.0134, -0.9973,  ...,  0.4386,  0.0219, -0.7084],\n",
      "         [-1.0999,  0.2595,  0.5949,  ..., -1.4391,  0.5353, -0.3237],\n",
      "         [-0.8050,  1.5048,  0.9266,  ...,  0.3589,  0.9691,  1.0381],\n",
      "         [-1.6873,  0.2034,  2.1483,  ..., -0.7987, -0.0606,  0.4140]],\n",
      "\n",
      "        ...,\n",
      "\n",
      "        [[-0.8931, -1.8698, -0.6591,  ...,  1.0903,  0.4707, -2.2341],\n",
      "         [ 1.2998,  1.2248, -0.1649,  ..., -1.2678, -1.3312, -2.6421],\n",
      "         [-1.4677, -0.6115,  0.1621,  ...,  0.5793, -0.2157,  1.5138],\n",
      "         [-3.2042,  0.3797,  2.0692,  ..., -3.7870, -0.3917,  1.1688]],\n",
      "\n",
      "        [[ 0.9348, -3.4803, -2.3451,  ..., -0.2008,  0.0899, -1.0795],\n",
      "         [ 0.1430, -0.3651,  1.8596,  ...,  0.4675, -0.3594, -0.3462],\n",
      "         [-2.0024,  0.1180,  0.4014,  ..., -1.1385, -1.7772,  0.4438],\n",
      "         [-1.3596,  0.5010,  2.4369,  ..., -4.8081,  0.1436,  0.1579]],\n",
      "\n",
      "        [[-0.3214, -1.6993, -1.5747,  ..., -1.4006, -1.2802, -2.8769],\n",
      "         [-0.0521,  0.0068,  0.6812,  ..., -2.1474,  1.3243, -0.3083],\n",
      "         [-1.9910,  0.1898,  3.6269,  ...,  0.5899, -2.2630,  2.1284],\n",
      "         [-1.3240,  1.1266,  0.5107,  ...,  0.2821,  0.6163,  1.3926]]],\n",
      "       grad_fn=<AddBackward0>)\n"
     ]
    }
   ],
   "execution_count": 68
  },
  {
   "metadata": {},
   "cell_type": "markdown",
   "source": "## IMPLEMENTING A SIMPLIFIED ATTENTION MECHANISM",
   "id": "5cfc8205b41dfc74"
  },
  {
   "metadata": {
    "ExecuteTime": {
     "end_time": "2025-08-07T06:11:04.684704Z",
     "start_time": "2025-08-07T06:11:04.682788Z"
    }
   },
   "cell_type": "code",
   "source": [
    "import torch\n",
    "\n",
    "inputs = torch.tensor(\n",
    "    [\n",
    "        [0.43, 0.15, 0.89],\n",
    "        [0.55, 0.87, 0.66],\n",
    "        [0.57, 0.85, 0.64],\n",
    "        [0.22, 0.58, 0.33],\n",
    "        [0.77, 0.25, 0.10],\n",
    "        [0.05, 0.80, 0.55]\n",
    "    ]\n",
    ")"
   ],
   "id": "86a7de8043f8a87b",
   "outputs": [],
   "execution_count": 69
  },
  {
   "metadata": {
    "ExecuteTime": {
     "end_time": "2025-08-07T06:11:05.114701Z",
     "start_time": "2025-08-07T06:11:04.732006Z"
    }
   },
   "cell_type": "code",
   "source": [
    "import matplotlib.pyplot as plt\n",
    "\n",
    "words = [\"Your\", \"journey\", \"starts\", \"with\", \"one\", \"step\"]\n",
    "\n",
    "x_coords = inputs[:, 0].numpy()\n",
    "y_coords = inputs[:, 1].numpy()\n",
    "z_coords = inputs[:, 2].numpy()\n",
    "\n",
    "fig = plt.figure()\n",
    "ax = fig.add_subplot(111, projection=\"3d\")\n",
    "\n",
    "for x, y, z, word in zip(x_coords, y_coords, z_coords, words):\n",
    "    ax.scatter(x, y, z)\n",
    "    ax.text(x, y, z, word, fontsize=10)\n",
    "\n",
    "\n",
    "ax.set_xlabel(\"x\")\n",
    "ax.set_ylabel(\"y\")\n",
    "ax.set_zlabel(\"z\")\n",
    "\n",
    "plt.title(\"3D Plot of Word Embeddings\")\n",
    "plt.show()"
   ],
   "id": "20ca890e56cf4cc6",
   "outputs": [
    {
     "data": {
      "text/plain": [
       "<Figure size 640x480 with 1 Axes>"
      ],
      "image/png": "[encoded data removed]"
     },
     "metadata": {},
     "output_type": "display_data"
    }
   ],
   "execution_count": 70
  },
  {
   "metadata": {
    "ExecuteTime": {
     "end_time": "2025-08-07T06:11:05.133445Z",
     "start_time": "2025-08-07T06:11:05.129359Z"
    }
   },
   "cell_type": "code",
   "source": [
    "query = inputs[1]\n",
    "\n",
    "attn_scores_2 = torch.empty(inputs.shape[0])\n",
    "for i, x_i in enumerate(inputs):\n",
    "    attn_scores_2[i] = torch.dot(x_i, query)\n",
    "\n",
    "print(attn_scores_2)"
   ],
   "id": "dd86437cca5c8e6d",
   "outputs": [
    {
     "name": "stdout",
     "output_type": "stream",
     "text": [
      "tensor([0.9544, 1.4950, 1.4754, 0.8434, 0.7070, 1.0865])\n"
     ]
    }
   ],
   "execution_count": 71
  },
  {
   "metadata": {
    "ExecuteTime": {
     "end_time": "2025-08-07T06:11:05.184884Z",
     "start_time": "2025-08-07T06:11:05.181965Z"
    }
   },
   "cell_type": "code",
   "source": "print(attn_scores_2.sum())",
   "id": "d48d1456ac328731",
   "outputs": [
    {
     "name": "stdout",
     "output_type": "stream",
     "text": [
      "tensor(6.5617)\n"
     ]
    }
   ],
   "execution_count": 72
  },
  {
   "metadata": {
    "ExecuteTime": {
     "end_time": "2025-08-07T06:11:05.238716Z",
     "start_time": "2025-08-07T06:11:05.235851Z"
    }
   },
   "cell_type": "code",
   "source": [
    "attn_weights_2 = attn_scores_2 / attn_scores_2.sum()\n",
    "print(attn_weights_2)\n",
    "print(attn_weights_2.sum())"
   ],
   "id": "53a754cf53ae5aa",
   "outputs": [
    {
     "name": "stdout",
     "output_type": "stream",
     "text": [
      "tensor([0.1455, 0.2278, 0.2249, 0.1285, 0.1077, 0.1656])\n",
      "tensor(1.0000)\n"
     ]
    }
   ],
   "execution_count": 73
  },
  {
   "metadata": {
    "ExecuteTime": {
     "end_time": "2025-08-07T06:11:05.295458Z",
     "start_time": "2025-08-07T06:11:05.290013Z"
    }
   },
   "cell_type": "code",
   "source": [
    "def softmax_naive(x):\n",
    "    return torch.exp(x) / torch.sum(torch.exp(x))\n",
    "\n",
    "attn_weights_naive = softmax_naive(attn_scores_2)\n",
    "\n",
    "print(attn_weights_naive)\n",
    "print(attn_weights_naive.sum())"
   ],
   "id": "10cd4dc8358a7f27",
   "outputs": [
    {
     "name": "stdout",
     "output_type": "stream",
     "text": [
      "tensor([0.1385, 0.2379, 0.2333, 0.1240, 0.1082, 0.1581])\n",
      "tensor(1.)\n"
     ]
    }
   ],
   "execution_count": 74
  },
  {
   "metadata": {
    "ExecuteTime": {
     "end_time": "2025-08-07T06:11:05.349206Z",
     "start_time": "2025-08-07T06:11:05.344902Z"
    }
   },
   "cell_type": "code",
   "source": [
    "attn_weights_2 = torch.softmax(attn_scores_2, dim=0)\n",
    "print(attn_weights_2)\n",
    "print(attn_weights_2.sum())"
   ],
   "id": "7e731a10da8078bc",
   "outputs": [
    {
     "name": "stdout",
     "output_type": "stream",
     "text": [
      "tensor([0.1385, 0.2379, 0.2333, 0.1240, 0.1082, 0.1581])\n",
      "tensor(1.)\n"
     ]
    }
   ],
   "execution_count": 75
  },
  {
   "metadata": {
    "ExecuteTime": {
     "end_time": "2025-08-07T06:11:05.401149Z",
     "start_time": "2025-08-07T06:11:05.397203Z"
    }
   },
   "cell_type": "code",
   "source": [
    "context_vector_2 = torch.zeros(query.shape)\n",
    "for token_embedding, attention_weight_2 in zip(inputs, attn_weights_2):\n",
    "    print(token_embedding * attention_weight_2)\n",
    "    context_vector_2 += attention_weight_2 * token_embedding\n",
    "\n",
    "print(context_vector_2)\n",
    "print(context_vector_2.sum())"
   ],
   "id": "4126abc31963fa97",
   "outputs": [
    {
     "name": "stdout",
     "output_type": "stream",
     "text": [
      "tensor([0.0596, 0.0208, 0.1233])\n",
      "tensor([0.1308, 0.2070, 0.1570])\n",
      "tensor([0.1330, 0.1983, 0.1493])\n",
      "tensor([0.0273, 0.0719, 0.0409])\n",
      "tensor([0.0833, 0.0270, 0.0108])\n",
      "tensor([0.0079, 0.1265, 0.0870])\n",
      "tensor([0.4419, 0.6515, 0.5683])\n",
      "tensor(1.6617)\n"
     ]
    }
   ],
   "execution_count": 76
  },
  {
   "metadata": {
    "ExecuteTime": {
     "end_time": "2025-08-07T06:11:05.453147Z",
     "start_time": "2025-08-07T06:11:05.449629Z"
    }
   },
   "cell_type": "code",
   "source": [
    "attention_scores = torch.empty(6, 6)\n",
    "\n",
    "for i, token_embedding_i in enumerate(inputs):\n",
    "    for j, token_embedding_j in enumerate(inputs):\n",
    "        attention_scores[i, j] = torch.dot(token_embedding_i, token_embedding_j)\n",
    "\n",
    "print(attention_scores)"
   ],
   "id": "680414f58040fcc9",
   "outputs": [
    {
     "name": "stdout",
     "output_type": "stream",
     "text": [
      "tensor([[0.9995, 0.9544, 0.9422, 0.4753, 0.4576, 0.6310],\n",
      "        [0.9544, 1.4950, 1.4754, 0.8434, 0.7070, 1.0865],\n",
      "        [0.9422, 1.4754, 1.4570, 0.8296, 0.7154, 1.0605],\n",
      "        [0.4753, 0.8434, 0.8296, 0.4937, 0.3474, 0.6565],\n",
      "        [0.4576, 0.7070, 0.7154, 0.3474, 0.6654, 0.2935],\n",
      "        [0.6310, 1.0865, 1.0605, 0.6565, 0.2935, 0.9450]])\n"
     ]
    }
   ],
   "execution_count": 77
  },
  {
   "metadata": {
    "ExecuteTime": {
     "end_time": "2025-08-07T06:11:05.506404Z",
     "start_time": "2025-08-07T06:11:05.501979Z"
    }
   },
   "cell_type": "code",
   "source": [
    " attention_scores = inputs @ inputs.T\n",
    "\n",
    " print(attention_scores)"
   ],
   "id": "c6fd51c5094564be",
   "outputs": [
    {
     "name": "stdout",
     "output_type": "stream",
     "text": [
      "tensor([[0.9995, 0.9544, 0.9422, 0.4753, 0.4576, 0.6310],\n",
      "        [0.9544, 1.4950, 1.4754, 0.8434, 0.7070, 1.0865],\n",
      "        [0.9422, 1.4754, 1.4570, 0.8296, 0.7154, 1.0605],\n",
      "        [0.4753, 0.8434, 0.8296, 0.4937, 0.3474, 0.6565],\n",
      "        [0.4576, 0.7070, 0.7154, 0.3474, 0.6654, 0.2935],\n",
      "        [0.6310, 1.0865, 1.0605, 0.6565, 0.2935, 0.9450]])\n"
     ]
    }
   ],
   "execution_count": 78
  },
  {
   "metadata": {
    "ExecuteTime": {
     "end_time": "2025-08-07T06:11:05.565142Z",
     "start_time": "2025-08-07T06:11:05.561312Z"
    }
   },
   "cell_type": "code",
   "source": [
    "attention_weights = torch.softmax(attention_scores, dim=-1)\n",
    "print(attention_weights)"
   ],
   "id": "a5ed03130dcc97bc",
   "outputs": [
    {
     "name": "stdout",
     "output_type": "stream",
     "text": [
      "tensor([[0.2098, 0.2006, 0.1981, 0.1242, 0.1220, 0.1452],\n",
      "        [0.1385, 0.2379, 0.2333, 0.1240, 0.1082, 0.1581],\n",
      "        [0.1390, 0.2369, 0.2326, 0.1242, 0.1108, 0.1565],\n",
      "        [0.1435, 0.2074, 0.2046, 0.1462, 0.1263, 0.1720],\n",
      "        [0.1526, 0.1958, 0.1975, 0.1367, 0.1879, 0.1295],\n",
      "        [0.1385, 0.2184, 0.2128, 0.1420, 0.0988, 0.1896]])\n"
     ]
    }
   ],
   "execution_count": 79
  },
  {
   "metadata": {
    "ExecuteTime": {
     "end_time": "2025-08-07T06:11:05.616195Z",
     "start_time": "2025-08-07T06:11:05.613939Z"
    }
   },
   "cell_type": "code",
   "source": "print(attention_weights.sum())",
   "id": "1ba831122af8e58f",
   "outputs": [
    {
     "name": "stdout",
     "output_type": "stream",
     "text": [
      "tensor(6.)\n"
     ]
    }
   ],
   "execution_count": 80
  },
  {
   "metadata": {
    "ExecuteTime": {
     "end_time": "2025-08-07T06:11:05.669209Z",
     "start_time": "2025-08-07T06:11:05.666478Z"
    }
   },
   "cell_type": "code",
   "source": [
    "all_context_vector = attention_weights @ inputs\n",
    "print(all_context_vector)"
   ],
   "id": "2b9c707cfe240ee3",
   "outputs": [
    {
     "name": "stdout",
     "output_type": "stream",
     "text": [
      "tensor([[0.4421, 0.5931, 0.5790],\n",
      "        [0.4419, 0.6515, 0.5683],\n",
      "        [0.4431, 0.6496, 0.5671],\n",
      "        [0.4304, 0.6298, 0.5510],\n",
      "        [0.4671, 0.5910, 0.5266],\n",
      "        [0.4177, 0.6503, 0.5645]])\n"
     ]
    }
   ],
   "execution_count": 81
  },
  {
   "metadata": {
    "ExecuteTime": {
     "end_time": "2025-08-07T06:11:05.718292Z",
     "start_time": "2025-08-07T06:11:05.716950Z"
    }
   },
   "cell_type": "code",
   "source": "",
   "id": "170a72fd5407b99d",
   "outputs": [],
   "execution_count": null
  },
  {
   "metadata": {},
   "cell_type": "markdown",
   "source": "## IMPLEMENTING SELF ATTENTION WITH TRAINABLE WEIGHTS",
   "id": "a5514b10b836a98b"
  },
  {
   "metadata": {
    "ExecuteTime": {
     "end_time": "2025-08-07T06:11:05.774242Z",
     "start_time": "2025-08-07T06:11:05.771989Z"
    }
   },
   "cell_type": "code",
   "source": [
    "import torch\n",
    "\n",
    "inputs = torch.tensor(\n",
    "    [\n",
    "        [0.43, 0.15, 0.89],    # Your\n",
    "        [0.55, 0.87, 0.66],    # journey\n",
    "        [0.57, 0.85, 0.64],    # starts\n",
    "        [0.22, 0.58, 0.33],    # with\n",
    "        [0.77, 0.25, 0.10],    # one\n",
    "        [0.05, 0.80, 0.55]     # step\n",
    "    ]\n",
    ")"
   ],
   "id": "459b625a9fa88886",
   "outputs": [],
   "execution_count": 82
  },
  {
   "metadata": {
    "ExecuteTime": {
     "end_time": "2025-08-07T06:11:05.823501Z",
     "start_time": "2025-08-07T06:11:05.820745Z"
    }
   },
   "cell_type": "code",
   "source": [
    "x_2 = inputs[1]    # journey\n",
    "d_out, d_in = inputs.shape\n",
    "\n",
    "print(x_2)\n",
    "print(d_in, d_out)"
   ],
   "id": "346f016e170c11c0",
   "outputs": [
    {
     "name": "stdout",
     "output_type": "stream",
     "text": [
      "tensor([0.5500, 0.8700, 0.6600])\n",
      "3 6\n"
     ]
    }
   ],
   "execution_count": 83
  },
  {
   "metadata": {
    "ExecuteTime": {
     "end_time": "2025-08-07T06:11:05.874031Z",
     "start_time": "2025-08-07T06:11:05.871911Z"
    }
   },
   "cell_type": "code",
   "source": [
    "W_query = torch.nn.Parameter(torch.randn(d_in, d_out), requires_grad=True)\n",
    "W_key = torch.nn.Parameter(torch.randn(d_in, d_out), requires_grad=True)\n",
    "W_value = torch.nn.Parameter(torch.randn(d_in, d_out), requires_grad=True)"
   ],
   "id": "3f6caef72f06e124",
   "outputs": [],
   "execution_count": 84
  },
  {
   "metadata": {
    "ExecuteTime": {
     "end_time": "2025-08-07T06:11:05.923395Z",
     "start_time": "2025-08-07T06:11:05.921041Z"
    }
   },
   "cell_type": "code",
   "source": "print(W_query)",
   "id": "d0ed3636d48386fe",
   "outputs": [
    {
     "name": "stdout",
     "output_type": "stream",
     "text": [
      "Parameter containing:\n",
      "tensor([[-1.1711, -0.8806,  1.6817,  1.2582, -2.0789, -0.6883],\n",
      "        [ 0.0966, -0.3434,  0.4999,  0.1534, -0.8457, -0.2670],\n",
      "        [-0.7258,  2.5990,  0.2812,  1.1676, -1.1520, -1.0612]],\n",
      "       requires_grad=True)\n"
     ]
    }
   ],
   "execution_count": 85
  },
  {
   "metadata": {
    "ExecuteTime": {
     "end_time": "2025-08-07T06:11:05.978953Z",
     "start_time": "2025-08-07T06:11:05.976384Z"
    }
   },
   "cell_type": "code",
   "source": "print(W_key)",
   "id": "1fbc5c9e50eb3e26",
   "outputs": [
    {
     "name": "stdout",
     "output_type": "stream",
     "text": [
      "Parameter containing:\n",
      "tensor([[ 1.7138,  1.1541,  1.7176,  0.6857,  0.5596, -0.1987],\n",
      "        [ 2.6692, -0.5147,  1.1285, -0.7079,  0.4026,  1.7549],\n",
      "        [-0.0819,  1.1821,  0.6267,  0.6270, -0.9559,  0.1740]],\n",
      "       requires_grad=True)\n"
     ]
    }
   ],
   "execution_count": 86
  },
  {
   "metadata": {
    "ExecuteTime": {
     "end_time": "2025-08-07T06:11:06.030321Z",
     "start_time": "2025-08-07T06:11:06.028089Z"
    }
   },
   "cell_type": "code",
   "source": "print(W_value)",
   "id": "81c8c92921656afa",
   "outputs": [
    {
     "name": "stdout",
     "output_type": "stream",
     "text": [
      "Parameter containing:\n",
      "tensor([[ 0.8083, -0.9673,  0.8949,  0.2358, -0.3358, -1.1731],\n",
      "        [-0.1742, -0.1236, -1.3050,  0.9371,  0.3765,  0.9510],\n",
      "        [ 0.6607, -0.0612,  1.4451,  0.0926,  0.8335,  1.3432]],\n",
      "       requires_grad=True)\n"
     ]
    }
   ],
   "execution_count": 87
  },
  {
   "metadata": {
    "ExecuteTime": {
     "end_time": "2025-08-07T06:11:06.082759Z",
     "start_time": "2025-08-07T06:11:06.080320Z"
    }
   },
   "cell_type": "code",
   "source": [
    "query = inputs @ W_query\n",
    "print(query)"
   ],
   "id": "e210496a2fe7a117",
   "outputs": [
    {
     "name": "stdout",
     "output_type": "stream",
     "text": [
      "tensor([[-1.1350,  1.8830,  1.0484,  1.6032, -2.0460, -1.2805],\n",
      "        [-1.0391,  0.9322,  1.5455,  1.5961, -2.6395, -1.3112],\n",
      "        [-1.0499,  0.8695,  1.5635,  1.5948, -2.6411, -1.2984],\n",
      "        [-0.4411,  0.4648,  0.7527,  0.7511, -1.3280, -0.6565],\n",
      "        [-0.9502, -0.5040,  1.4480,  1.1240, -1.9273, -0.7029],\n",
      "        [-0.3805,  1.1107,  0.6387,  0.8278, -1.4141, -0.8316]],\n",
      "       grad_fn=<MmBackward0>)\n"
     ]
    }
   ],
   "execution_count": 88
  },
  {
   "metadata": {
    "ExecuteTime": {
     "end_time": "2025-08-07T06:11:06.134058Z",
     "start_time": "2025-08-07T06:11:06.131672Z"
    }
   },
   "cell_type": "code",
   "source": [
    "key = inputs @ W_key\n",
    "print(key)"
   ],
   "id": "e4d8fcef8561bc80",
   "outputs": [
    {
     "name": "stdout",
     "output_type": "stream",
     "text": [
      "tensor([[ 1.0644,  1.4711,  1.4656,  0.7466, -0.5497,  0.3327],\n",
      "        [ 3.2107,  0.9671,  2.3401,  0.1750,  0.0272,  1.5323],\n",
      "        [ 3.1933,  0.9769,  2.3393,  0.1903,  0.0494,  1.4898],\n",
      "        [ 1.8981,  0.3454,  1.2392, -0.0529,  0.0412,  1.0316],\n",
      "        [ 1.9787,  0.8782,  1.6673,  0.4137,  0.4360,  0.3031],\n",
      "        [ 2.1760,  0.2961,  1.3334, -0.1872, -0.1757,  1.4897]],\n",
      "       grad_fn=<MmBackward0>)\n"
     ]
    }
   ],
   "execution_count": 89
  },
  {
   "metadata": {
    "ExecuteTime": {
     "end_time": "2025-08-07T06:11:06.191043Z",
     "start_time": "2025-08-07T06:11:06.188754Z"
    }
   },
   "cell_type": "code",
   "source": [
    "value = inputs @ W_value\n",
    "print(value)"
   ],
   "id": "feb217d1d9799dcd",
   "outputs": [
    {
     "name": "stdout",
     "output_type": "stream",
     "text": [
      "tensor([[ 0.9094, -0.4889,  1.4752,  0.3243,  0.6539,  0.8337],\n",
      "        [ 0.7291, -0.6799,  0.3106,  1.0061,  0.6930,  1.0687],\n",
      "        [ 0.7355, -0.6955,  0.3257,  0.9902,  0.6621,  0.9993],\n",
      "        [ 0.2948, -0.3047, -0.0832,  0.6260,  0.4196,  0.7367],\n",
      "        [ 0.6449, -0.7818,  0.5073,  0.4251, -0.0811, -0.5312],\n",
      "        [ 0.2645, -0.1809, -0.2045,  0.8124,  0.7429,  1.4409]],\n",
      "       grad_fn=<MmBackward0>)\n"
     ]
    }
   ],
   "execution_count": 90
  },
  {
   "metadata": {
    "ExecuteTime": {
     "end_time": "2025-08-07T06:11:06.244268Z",
     "start_time": "2025-08-07T06:11:06.241215Z"
    }
   },
   "cell_type": "code",
   "source": [
    "attention_scores = query @ key.T\n",
    "print(attention_scores)"
   ],
   "id": "7c50b7a64911167f",
   "outputs": [
    {
     "name": "stdout",
     "output_type": "stream",
     "text": [
      "tensor([[ 4.9942, -1.1070, -1.0361, -1.6947,  0.5388, -2.3627],\n",
      "        [ 4.7369, -0.6197, -0.5722, -1.2808,  0.4515, -1.7129],\n",
      "        [ 4.6637, -0.6537, -0.6072, -1.2875,  0.4076, -1.7114],\n",
      "        [ 2.3898, -0.1160, -0.0944, -0.5156,  0.3230, -0.7039],\n",
      "        [ 2.0343, -1.0824, -1.0675, -1.0471, -0.4968, -1.2050],\n",
      "        [ 3.2838,  0.1792,  0.2128, -0.5069,  0.7613, -0.7929]],\n",
      "       grad_fn=<MmBackward0>)\n"
     ]
    }
   ],
   "execution_count": 91
  },
  {
   "metadata": {
    "ExecuteTime": {
     "end_time": "2025-08-07T06:11:06.297614Z",
     "start_time": "2025-08-07T06:11:06.293404Z"
    }
   },
   "cell_type": "code",
   "source": [
    "attn_weights = torch.softmax(attention_scores, dim=-1)\n",
    "print(attn_weights)"
   ],
   "id": "11869bb57649a643",
   "outputs": [
    {
     "name": "stdout",
     "output_type": "stream",
     "text": [
      "tensor([[9.8218e-01, 2.2002e-03, 2.3619e-03, 1.2225e-03, 1.1409e-02, 6.2678e-04],\n",
      "        [9.7329e-01, 4.5907e-03, 4.8144e-03, 2.3701e-03, 1.3400e-02, 1.5386e-03],\n",
      "        [9.7226e-01, 4.7693e-03, 4.9966e-03, 2.5304e-03, 1.3785e-02, 1.6561e-03],\n",
      "        [7.1857e-01, 5.8643e-02, 5.9921e-02, 3.9326e-02, 9.0968e-02, 3.2575e-02],\n",
      "        [7.9749e-01, 3.5332e-02, 3.5861e-02, 3.6601e-02, 6.3459e-02, 3.1255e-02],\n",
      "        [8.2575e-01, 3.7031e-02, 3.8296e-02, 1.8645e-02, 6.6274e-02, 1.4007e-02]],\n",
      "       grad_fn=<SoftmaxBackward0>)\n"
     ]
    }
   ],
   "execution_count": 92
  },
  {
   "metadata": {
    "ExecuteTime": {
     "end_time": "2025-08-07T06:11:06.348362Z",
     "start_time": "2025-08-07T06:11:06.345584Z"
    }
   },
   "cell_type": "code",
   "source": [
    "d_k = key.shape[-1]\n",
    "attn_weights = torch.softmax(attention_scores / d_k**(1/2), dim=-1)\n",
    "print(attn_weights)"
   ],
   "id": "d1fcf58e3009a73d",
   "outputs": [
    {
     "name": "stdout",
     "output_type": "stream",
     "text": [
      "tensor([[0.6920, 0.0573, 0.0590, 0.0451, 0.1122, 0.0343],\n",
      "        [0.6418, 0.0721, 0.0735, 0.0550, 0.1116, 0.0461],\n",
      "        [0.6376, 0.0727, 0.0741, 0.0562, 0.1122, 0.0472],\n",
      "        [0.3649, 0.1312, 0.1323, 0.1114, 0.1569, 0.1032],\n",
      "        [0.4051, 0.1135, 0.1142, 0.1151, 0.1441, 0.1080],\n",
      "        [0.4299, 0.1210, 0.1227, 0.0915, 0.1535, 0.0814]],\n",
      "       grad_fn=<SoftmaxBackward0>)\n"
     ]
    }
   ],
   "execution_count": 93
  },
  {
   "metadata": {
    "ExecuteTime": {
     "end_time": "2025-08-07T06:11:06.401117Z",
     "start_time": "2025-08-07T06:11:06.398751Z"
    }
   },
   "cell_type": "code",
   "source": " print(attn_weights.sum())",
   "id": "5edae301fe154326",
   "outputs": [
    {
     "name": "stdout",
     "output_type": "stream",
     "text": [
      "tensor(6., grad_fn=<SumBackward0>)\n"
     ]
    }
   ],
   "execution_count": 94
  },
  {
   "metadata": {
    "ExecuteTime": {
     "end_time": "2025-08-07T06:11:06.454267Z",
     "start_time": "2025-08-07T06:11:06.451482Z"
    }
   },
   "cell_type": "code",
   "source": [
    "import torch\n",
    "import numpy as np\n",
    "\n",
    "print(torch.rand(5))\n",
    "print(np.random.randn(5))"
   ],
   "id": "cfeb58413cfc5201",
   "outputs": [
    {
     "name": "stdout",
     "output_type": "stream",
     "text": [
      "tensor([0.9033, 0.7612, 0.0768, 0.9116, 0.2228])\n",
      "[ 0.32397606 -0.72943931 -1.25281606  0.8389352  -1.12256109]\n"
     ]
    }
   ],
   "execution_count": 95
  },
  {
   "metadata": {
    "ExecuteTime": {
     "end_time": "2025-08-07T06:11:06.505524Z",
     "start_time": "2025-08-07T06:11:06.502984Z"
    }
   },
   "cell_type": "code",
   "source": [
    "import numpy as np\n",
    "\n",
    "def compute_variance(dim: int, num_trials: int = 10000):\n",
    "    \"\"\"\n",
    "\n",
    "    :param dim:\n",
    "    :param num_trials:\n",
    "    :return:\n",
    "    \"\"\"\n",
    "    dot_products = []\n",
    "    scaled_dot_products = []\n",
    "\n",
    "    for _ in range(num_trials):\n",
    "        q = np.random.random(dim)\n",
    "        k = np.random.random(dim)\n",
    "\n",
    "        dot_products.append(np.dot(q, k))\n",
    "        scaled_dot_products.append(np.dot(q, k) / np.sqrt(dim))\n",
    "\n",
    "    variance_before_scaling = np.var(dot_products)\n",
    "    variance_after_scaling = np.var(scaled_dot_products)\n",
    "\n",
    "    return variance_before_scaling, variance_after_scaling"
   ],
   "id": "16b41b7f6db8c182",
   "outputs": [],
   "execution_count": 96
  },
  {
   "metadata": {
    "ExecuteTime": {
     "end_time": "2025-08-07T06:11:06.855476Z",
     "start_time": "2025-08-07T06:11:06.552480Z"
    }
   },
   "cell_type": "code",
   "source": "compute_variance(4096)",
   "id": "d5eedd16c963a191",
   "outputs": [
    {
     "data": {
      "text/plain": [
       "(197.62291053916715, 0.048247780893351355)"
      ]
     },
     "execution_count": 97,
     "metadata": {},
     "output_type": "execute_result"
    }
   ],
   "execution_count": 97
  },
  {
   "metadata": {
    "ExecuteTime": {
     "end_time": "2025-08-07T06:11:06.887680Z",
     "start_time": "2025-08-07T06:11:06.878758Z"
    }
   },
   "cell_type": "code",
   "source": [
    "import torch\n",
    "\n",
    "torch.manual_seed(0)"
   ],
   "id": "5afc714e6b9cf0e3",
   "outputs": [
    {
     "data": {
      "text/plain": [
       "<torch._C.Generator at 0x79e794a8f250>"
      ]
     },
     "execution_count": 98,
     "metadata": {},
     "output_type": "execute_result"
    }
   ],
   "execution_count": 98
  },
  {
   "metadata": {
    "ExecuteTime": {
     "end_time": "2025-08-07T06:11:06.932308Z",
     "start_time": "2025-08-07T06:11:06.929647Z"
    }
   },
   "cell_type": "code",
   "source": [
    "from torch import nn\n",
    "\n",
    "class SelfAttentionV1(nn.Module):\n",
    "    def __init__(self, dim_in, dim_out):\n",
    "        super().__init__()\n",
    "        self.W_query = nn.Parameter(torch.rand(dim_in, dim_out), requires_grad=True)\n",
    "        self.W_key = nn.Parameter(torch.rand(dim_in, dim_out), requires_grad=True)\n",
    "        self.W_value = nn.Parameter(torch.rand(dim_in, dim_out), requires_grad=True)\n",
    "\n",
    "    def forward(self, x):\n",
    "        \"\"\"\n",
    "\n",
    "        :param x:\n",
    "        :return:\n",
    "        \"\"\"\n",
    "        keys = x @ self.W_key\n",
    "        values = x @ self.W_value\n",
    "        queries = x @ self.W_query\n",
    "\n",
    "        attention_scores = queries @ keys.T\n",
    "        attention_weights = torch.softmax(attention_scores / keys.shape[-1]**0.5, dim=-1)\n",
    "\n",
    "        context_vector = attention_weights @ values\n",
    "\n",
    "        return context_vector"
   ],
   "id": "ed573e25b6221041",
   "outputs": [],
   "execution_count": 99
  },
  {
   "metadata": {
    "ExecuteTime": {
     "end_time": "2025-08-07T06:11:06.983014Z",
     "start_time": "2025-08-07T06:11:06.979447Z"
    }
   },
   "cell_type": "code",
   "source": [
    "self_attention_v1 = SelfAttentionV1(d_in, d_out)\n",
    "self_attention_v1.forward(inputs)"
   ],
   "id": "63363d90da0c1de3",
   "outputs": [
    {
     "data": {
      "text/plain": [
       "tensor([[0.6124, 0.7181, 0.8731, 1.0437, 1.1346, 0.9173],\n",
       "        [0.6390, 0.7391, 0.9026, 1.0806, 1.1809, 0.9571],\n",
       "        [0.6384, 0.7384, 0.9018, 1.0796, 1.1798, 0.9563],\n",
       "        [0.6114, 0.7115, 0.8695, 1.0405, 1.1322, 0.9170],\n",
       "        [0.6097, 0.7063, 0.8658, 1.0368, 1.1288, 0.9151],\n",
       "        [0.6196, 0.7216, 0.8803, 1.0532, 1.1469, 0.9285]],\n",
       "       grad_fn=<MmBackward0>)"
      ]
     },
     "execution_count": 100,
     "metadata": {},
     "output_type": "execute_result"
    }
   ],
   "execution_count": 100
  },
  {
   "metadata": {
    "ExecuteTime": {
     "end_time": "2025-08-07T06:11:07.062152Z",
     "start_time": "2025-08-07T06:11:07.059205Z"
    }
   },
   "cell_type": "code",
   "source": "print(self_attention_v1.forward(inputs))",
   "id": "eda2ba23c29202af",
   "outputs": [
    {
     "name": "stdout",
     "output_type": "stream",
     "text": [
      "tensor([[0.6124, 0.7181, 0.8731, 1.0437, 1.1346, 0.9173],\n",
      "        [0.6390, 0.7391, 0.9026, 1.0806, 1.1809, 0.9571],\n",
      "        [0.6384, 0.7384, 0.9018, 1.0796, 1.1798, 0.9563],\n",
      "        [0.6114, 0.7115, 0.8695, 1.0405, 1.1322, 0.9170],\n",
      "        [0.6097, 0.7063, 0.8658, 1.0368, 1.1288, 0.9151],\n",
      "        [0.6196, 0.7216, 0.8803, 1.0532, 1.1469, 0.9285]],\n",
      "       grad_fn=<MmBackward0>)\n"
     ]
    }
   ],
   "execution_count": 101
  },
  {
   "metadata": {
    "ExecuteTime": {
     "end_time": "2025-08-07T06:11:07.176427Z",
     "start_time": "2025-08-07T06:11:07.172805Z"
    }
   },
   "cell_type": "code",
   "source": [
    "from torch import nn\n",
    "\n",
    "class SelfAttentionV2(nn.Module):\n",
    "    def __init__(self, dim_in, dim_out, qkv: bool = False):\n",
    "        super().__init__()\n",
    "        self.W_query = nn.Linear(dim_in, dim_out, bias=qkv)\n",
    "        self.W_key = nn.Linear(dim_in, dim_out, bias=qkv)\n",
    "        self.W_value = nn.Linear(dim_in, dim_out, bias=qkv)\n",
    "\n",
    "    def forward(self, x):\n",
    "        \"\"\"\n",
    "\n",
    "        :param x:\n",
    "        :return:\n",
    "        \"\"\"\n",
    "        keys = self.W_key(x)\n",
    "        values = self.W_value(x)\n",
    "        queries = self.W_query(x)\n",
    "\n",
    "        attention_scores = queries @ keys.T\n",
    "        attention_weights = torch.softmax(attention_scores / keys.shape[-1]**0.5, dim=-1)\n",
    "\n",
    "        context_vector = attention_weights @ values\n",
    "\n",
    "        return context_vector"
   ],
   "id": "972abf2f2cca6089",
   "outputs": [],
   "execution_count": 102
  },
  {
   "metadata": {
    "ExecuteTime": {
     "end_time": "2025-08-07T06:11:07.519320Z",
     "start_time": "2025-08-07T06:11:07.515014Z"
    }
   },
   "cell_type": "code",
   "source": [
    "self_attention_v2 = SelfAttentionV2(d_in, d_out)\n",
    "self_attention_v2.forward(inputs)"
   ],
   "id": "1c7647e1d1f62844",
   "outputs": [
    {
     "data": {
      "text/plain": [
       "tensor([[ 0.4849, -0.4466, -0.0491,  0.3882, -0.4893, -0.5006],\n",
       "        [ 0.4812, -0.4401, -0.0464,  0.3814, -0.4858, -0.4952],\n",
       "        [ 0.4812, -0.4402, -0.0464,  0.3816, -0.4858, -0.4953],\n",
       "        [ 0.4799, -0.4375, -0.0444,  0.3785, -0.4844, -0.4931],\n",
       "        [ 0.4812, -0.4424, -0.0442,  0.3836, -0.4844, -0.4962],\n",
       "        [ 0.4798, -0.4362, -0.0452,  0.3772, -0.4850, -0.4925]],\n",
       "       grad_fn=<MmBackward0>)"
      ]
     },
     "execution_count": 103,
     "metadata": {},
     "output_type": "execute_result"
    }
   ],
   "execution_count": 103
  },
  {
   "metadata": {
    "ExecuteTime": {
     "end_time": "2025-08-07T06:11:07.714893Z",
     "start_time": "2025-08-07T06:11:07.711441Z"
    }
   },
   "cell_type": "code",
   "source": "print(self_attention_v2.forward(inputs))",
   "id": "88b7e4a235ed9622",
   "outputs": [
    {
     "name": "stdout",
     "output_type": "stream",
     "text": [
      "tensor([[ 0.4849, -0.4466, -0.0491,  0.3882, -0.4893, -0.5006],\n",
      "        [ 0.4812, -0.4401, -0.0464,  0.3814, -0.4858, -0.4952],\n",
      "        [ 0.4812, -0.4402, -0.0464,  0.3816, -0.4858, -0.4953],\n",
      "        [ 0.4799, -0.4375, -0.0444,  0.3785, -0.4844, -0.4931],\n",
      "        [ 0.4812, -0.4424, -0.0442,  0.3836, -0.4844, -0.4962],\n",
      "        [ 0.4798, -0.4362, -0.0452,  0.3772, -0.4850, -0.4925]],\n",
      "       grad_fn=<MmBackward0>)\n"
     ]
    }
   ],
   "execution_count": 104
  },
  {
   "metadata": {},
   "cell_type": "markdown",
   "source": "## IMPLEMENTING CAUSAL ATTENTION",
   "id": "2feee5a4fcbf1d37"
  },
  {
   "metadata": {
    "ExecuteTime": {
     "end_time": "2025-08-07T06:11:07.879263Z",
     "start_time": "2025-08-07T06:11:07.876418Z"
    }
   },
   "cell_type": "code",
   "source": [
    "queries = self_attention_v2.W_query(inputs)\n",
    "print(queries)"
   ],
   "id": "1793e9b6e0803f69",
   "outputs": [
    {
     "name": "stdout",
     "output_type": "stream",
     "text": [
      "tensor([[ 2.1121e-01, -5.1794e-01, -1.5722e-01,  5.7688e-02,  3.4832e-01,\n",
      "         -1.6667e-02],\n",
      "        [-1.1838e-02, -7.9117e-01,  1.1997e-01,  3.2358e-01,  3.6490e-01,\n",
      "         -2.2182e-01],\n",
      "        [ 5.5161e-04, -7.8616e-01,  1.2739e-01,  3.2219e-01,  3.5551e-01,\n",
      "         -1.9760e-01],\n",
      "        [-7.6502e-02, -4.2899e-01,  7.9282e-02,  1.9816e-01,  2.0064e-01,\n",
      "         -2.0591e-01],\n",
      "        [ 2.2384e-01, -4.7453e-01,  2.2500e-01,  2.0625e-01,  8.6235e-02,\n",
      "          2.9448e-01],\n",
      "        [-1.9343e-01, -5.0654e-01,  1.0715e-02,  2.2220e-01,  3.0512e-01,\n",
      "         -4.4459e-01]], grad_fn=<MmBackward0>)\n"
     ]
    }
   ],
   "execution_count": 105
  },
  {
   "metadata": {
    "ExecuteTime": {
     "end_time": "2025-08-07T06:11:08.009369Z",
     "start_time": "2025-08-07T06:11:08.006441Z"
    }
   },
   "cell_type": "code",
   "source": [
    "keys = self_attention_v2.W_key(inputs)\n",
    "print(keys)"
   ],
   "id": "f35feb3f117d5ccd",
   "outputs": [
    {
     "name": "stdout",
     "output_type": "stream",
     "text": [
      "tensor([[ 0.6165, -0.2105, -0.5102, -0.2261, -0.0527, -0.3847],\n",
      "        [ 0.8726,  0.0488, -0.6401,  0.2839, -0.0879, -0.1779],\n",
      "        [ 0.8575,  0.0667, -0.6211,  0.2969, -0.0819, -0.1808],\n",
      "        [ 0.4932,  0.0130, -0.3754,  0.1774, -0.0640, -0.0422],\n",
      "        [ 0.3445,  0.3708, -0.1032,  0.4471,  0.0494, -0.1822],\n",
      "        [ 0.6704, -0.1587, -0.5822,  0.0601, -0.1247, -0.0237]],\n",
      "       grad_fn=<MmBackward0>)\n"
     ]
    }
   ],
   "execution_count": 106
  },
  {
   "metadata": {
    "ExecuteTime": {
     "end_time": "2025-08-07T06:11:08.072573Z",
     "start_time": "2025-08-07T06:11:08.069346Z"
    }
   },
   "cell_type": "code",
   "source": [
    "attention_scores = queries @ keys.T\n",
    "print(attention_scores)"
   ],
   "id": "cea8afd482f1c37f",
   "outputs": [
    {
     "name": "stdout",
     "output_type": "stream",
     "text": [
      "tensor([[ 0.2945,  0.2484,  0.2358,  0.1451, -0.0570,  0.2758],\n",
      "        [ 0.0910, -0.0265, -0.0311, -0.0178, -0.1067,  0.0270],\n",
      "        [ 0.0853, -0.0240, -0.0288, -0.0150, -0.1068,  0.0307],\n",
      "        [ 0.0265, -0.0632, -0.0638, -0.0421, -0.0576, -0.0376],\n",
      "        [-0.0414,  0.0267,  0.0215,  0.0384, -0.0792,  0.0891],\n",
      "        [ 0.0866, -0.0850, -0.0849, -0.0674, -0.0601, -0.0697]],\n",
      "       grad_fn=<MmBackward0>)\n"
     ]
    }
   ],
   "execution_count": 107
  },
  {
   "metadata": {
    "ExecuteTime": {
     "end_time": "2025-08-07T06:11:08.147635Z",
     "start_time": "2025-08-07T06:11:08.144124Z"
    }
   },
   "cell_type": "code",
   "source": [
    "attn_weights = torch.softmax(attention_scores / keys.shape[-1]**0.5, dim=1)\n",
    "print(attn_weights)"
   ],
   "id": "2676e6adaf7aa0f7",
   "outputs": [
    {
     "name": "stdout",
     "output_type": "stream",
     "text": [
      "tensor([[0.1737, 0.1705, 0.1696, 0.1634, 0.1505, 0.1724],\n",
      "        [0.1737, 0.1655, 0.1652, 0.1661, 0.1602, 0.1692],\n",
      "        [0.1732, 0.1657, 0.1653, 0.1663, 0.1601, 0.1694],\n",
      "        [0.1712, 0.1651, 0.1650, 0.1665, 0.1654, 0.1668],\n",
      "        [0.1632, 0.1678, 0.1675, 0.1686, 0.1607, 0.1721],\n",
      "        [0.1759, 0.1640, 0.1640, 0.1652, 0.1657, 0.1651]],\n",
      "       grad_fn=<SoftmaxBackward0>)\n"
     ]
    }
   ],
   "execution_count": 108
  },
  {
   "metadata": {
    "ExecuteTime": {
     "end_time": "2025-08-07T06:11:08.211561Z",
     "start_time": "2025-08-07T06:11:08.207169Z"
    }
   },
   "cell_type": "code",
   "source": [
    "rows, columns = attn_weights.shape\n",
    "mask_simple = torch.tril(torch.ones(rows, columns))\n",
    "print(mask_simple)"
   ],
   "id": "13b30e09591a7eea",
   "outputs": [
    {
     "name": "stdout",
     "output_type": "stream",
     "text": [
      "tensor([[1., 0., 0., 0., 0., 0.],\n",
      "        [1., 1., 0., 0., 0., 0.],\n",
      "        [1., 1., 1., 0., 0., 0.],\n",
      "        [1., 1., 1., 1., 0., 0.],\n",
      "        [1., 1., 1., 1., 1., 0.],\n",
      "        [1., 1., 1., 1., 1., 1.]])\n"
     ]
    }
   ],
   "execution_count": 109
  },
  {
   "metadata": {
    "ExecuteTime": {
     "end_time": "2025-08-07T06:11:08.266008Z",
     "start_time": "2025-08-07T06:11:08.262401Z"
    }
   },
   "cell_type": "code",
   "source": [
    "mask_simple = attn_weights * mask_simple\n",
    "print(mask_simple)"
   ],
   "id": "903896e4ad2d34bf",
   "outputs": [
    {
     "name": "stdout",
     "output_type": "stream",
     "text": [
      "tensor([[0.1737, 0.0000, 0.0000, 0.0000, 0.0000, 0.0000],\n",
      "        [0.1737, 0.1655, 0.0000, 0.0000, 0.0000, 0.0000],\n",
      "        [0.1732, 0.1657, 0.1653, 0.0000, 0.0000, 0.0000],\n",
      "        [0.1712, 0.1651, 0.1650, 0.1665, 0.0000, 0.0000],\n",
      "        [0.1632, 0.1678, 0.1675, 0.1686, 0.1607, 0.0000],\n",
      "        [0.1759, 0.1640, 0.1640, 0.1652, 0.1657, 0.1651]],\n",
      "       grad_fn=<MulBackward0>)\n"
     ]
    }
   ],
   "execution_count": 110
  },
  {
   "metadata": {
    "ExecuteTime": {
     "end_time": "2025-08-07T06:11:08.311287Z",
     "start_time": "2025-08-07T06:11:08.307657Z"
    }
   },
   "cell_type": "code",
   "source": [
    "row_sums = mask_simple.sum(dim=1, keepdim=True)\n",
    "mask_simple_norm = mask_simple / row_sums\n",
    "print(mask_simple_norm)"
   ],
   "id": "bb8d71dd81f7ee26",
   "outputs": [
    {
     "name": "stdout",
     "output_type": "stream",
     "text": [
      "tensor([[1.0000, 0.0000, 0.0000, 0.0000, 0.0000, 0.0000],\n",
      "        [0.5120, 0.4880, 0.0000, 0.0000, 0.0000, 0.0000],\n",
      "        [0.3435, 0.3285, 0.3279, 0.0000, 0.0000, 0.0000],\n",
      "        [0.2564, 0.2472, 0.2471, 0.2493, 0.0000, 0.0000],\n",
      "        [0.1972, 0.2027, 0.2023, 0.2037, 0.1941, 0.0000],\n",
      "        [0.1759, 0.1640, 0.1640, 0.1652, 0.1657, 0.1651]],\n",
      "       grad_fn=<DivBackward0>)\n"
     ]
    }
   ],
   "execution_count": 111
  },
  {
   "metadata": {
    "ExecuteTime": {
     "end_time": "2025-08-07T06:11:08.364887Z",
     "start_time": "2025-08-07T06:11:08.361654Z"
    }
   },
   "cell_type": "code",
   "source": "print(attention_scores)",
   "id": "f836aded3a32c882",
   "outputs": [
    {
     "name": "stdout",
     "output_type": "stream",
     "text": [
      "tensor([[ 0.2945,  0.2484,  0.2358,  0.1451, -0.0570,  0.2758],\n",
      "        [ 0.0910, -0.0265, -0.0311, -0.0178, -0.1067,  0.0270],\n",
      "        [ 0.0853, -0.0240, -0.0288, -0.0150, -0.1068,  0.0307],\n",
      "        [ 0.0265, -0.0632, -0.0638, -0.0421, -0.0576, -0.0376],\n",
      "        [-0.0414,  0.0267,  0.0215,  0.0384, -0.0792,  0.0891],\n",
      "        [ 0.0866, -0.0850, -0.0849, -0.0674, -0.0601, -0.0697]],\n",
      "       grad_fn=<MmBackward0>)\n"
     ]
    }
   ],
   "execution_count": 112
  },
  {
   "metadata": {
    "ExecuteTime": {
     "end_time": "2025-08-07T06:11:08.420486Z",
     "start_time": "2025-08-07T06:11:08.415630Z"
    }
   },
   "cell_type": "code",
   "source": [
    "mask = torch.triu(torch.ones(rows, columns), diagonal=1)\n",
    "masked = attention_scores.masked_fill(mask.bool(), -torch.inf)\n",
    "print(masked)"
   ],
   "id": "b1473242f605bfd6",
   "outputs": [
    {
     "name": "stdout",
     "output_type": "stream",
     "text": [
      "tensor([[ 0.2945,    -inf,    -inf,    -inf,    -inf,    -inf],\n",
      "        [ 0.0910, -0.0265,    -inf,    -inf,    -inf,    -inf],\n",
      "        [ 0.0853, -0.0240, -0.0288,    -inf,    -inf,    -inf],\n",
      "        [ 0.0265, -0.0632, -0.0638, -0.0421,    -inf,    -inf],\n",
      "        [-0.0414,  0.0267,  0.0215,  0.0384, -0.0792,    -inf],\n",
      "        [ 0.0866, -0.0850, -0.0849, -0.0674, -0.0601, -0.0697]],\n",
      "       grad_fn=<MaskedFillBackward0>)\n"
     ]
    }
   ],
   "execution_count": 113
  },
  {
   "metadata": {
    "ExecuteTime": {
     "end_time": "2025-08-07T06:11:08.474155Z",
     "start_time": "2025-08-07T06:11:08.470885Z"
    }
   },
   "cell_type": "code",
   "source": [
    "attn_weights = torch.softmax(masked / keys.shape[-1]**0.5, dim=1)\n",
    "print(attn_weights)"
   ],
   "id": "d3fb595272d2d61c",
   "outputs": [
    {
     "name": "stdout",
     "output_type": "stream",
     "text": [
      "tensor([[1.0000, 0.0000, 0.0000, 0.0000, 0.0000, 0.0000],\n",
      "        [0.5120, 0.4880, 0.0000, 0.0000, 0.0000, 0.0000],\n",
      "        [0.3435, 0.3285, 0.3279, 0.0000, 0.0000, 0.0000],\n",
      "        [0.2564, 0.2472, 0.2471, 0.2493, 0.0000, 0.0000],\n",
      "        [0.1972, 0.2027, 0.2023, 0.2037, 0.1941, 0.0000],\n",
      "        [0.1759, 0.1640, 0.1640, 0.1652, 0.1657, 0.1651]],\n",
      "       grad_fn=<SoftmaxBackward0>)\n"
     ]
    }
   ],
   "execution_count": 114
  },
  {
   "metadata": {
    "ExecuteTime": {
     "end_time": "2025-08-07T06:11:08.523638Z",
     "start_time": "2025-08-07T06:11:08.521937Z"
    }
   },
   "cell_type": "code",
   "source": "dropout = torch.nn.Dropout()",
   "id": "7fa02e08a3e5b0eb",
   "outputs": [],
   "execution_count": 115
  },
  {
   "metadata": {
    "ExecuteTime": {
     "end_time": "2025-08-07T06:11:08.581896Z",
     "start_time": "2025-08-07T06:11:08.579658Z"
    }
   },
   "cell_type": "code",
   "source": "print(dropout)",
   "id": "b03797c462aab8b6",
   "outputs": [
    {
     "name": "stdout",
     "output_type": "stream",
     "text": [
      "Dropout(p=0.5, inplace=False)\n"
     ]
    }
   ],
   "execution_count": 116
  },
  {
   "metadata": {
    "ExecuteTime": {
     "end_time": "2025-08-07T06:11:08.634192Z",
     "start_time": "2025-08-07T06:11:08.631671Z"
    }
   },
   "cell_type": "code",
   "source": "print(dropout(attn_weights))",
   "id": "874a4f814e4545c3",
   "outputs": [
    {
     "name": "stdout",
     "output_type": "stream",
     "text": [
      "tensor([[0.0000, 0.0000, 0.0000, 0.0000, 0.0000, 0.0000],\n",
      "        [0.0000, 0.9760, 0.0000, 0.0000, 0.0000, 0.0000],\n",
      "        [0.6871, 0.0000, 0.6558, 0.0000, 0.0000, 0.0000],\n",
      "        [0.5128, 0.0000, 0.4942, 0.4986, 0.0000, 0.0000],\n",
      "        [0.3943, 0.4054, 0.4046, 0.4074, 0.3883, 0.0000],\n",
      "        [0.3519, 0.0000, 0.0000, 0.3304, 0.0000, 0.3301]],\n",
      "       grad_fn=<MulBackward0>)\n"
     ]
    }
   ],
   "execution_count": 117
  },
  {
   "metadata": {
    "ExecuteTime": {
     "end_time": "2025-08-07T06:11:08.685369Z",
     "start_time": "2025-08-07T06:11:08.684052Z"
    }
   },
   "cell_type": "code",
   "source": "",
   "id": "5104dc27444158ef",
   "outputs": [],
   "execution_count": null
  },
  {
   "metadata": {
    "ExecuteTime": {
     "end_time": "2025-08-07T06:11:08.735782Z",
     "start_time": "2025-08-07T06:11:08.732327Z"
    }
   },
   "cell_type": "code",
   "source": [
    "from torch import nn\n",
    "\n",
    "class CausalAttention(nn.Module):\n",
    "    def __init__(self, dim_in: int, dim_out: int, context_length: int, dropout: float, qkv_bias: bool = False):\n",
    "        super().__init__()\n",
    "        self.dim_in = dim_in\n",
    "        self.dim_out = dim_out\n",
    "        self.W_query = nn.Linear(dim_in, dim_out, bias=qkv_bias)\n",
    "        self.W_key = nn.Linear(dim_in, dim_out, bias=qkv_bias)\n",
    "        self.W_value = nn.Linear(dim_in, dim_out, bias=qkv_bias)\n",
    "        self.dropout = nn.Dropout(dropout)\n",
    "        self.register_buffer(\"mask\", torch.triu(torch.ones(context_length, context_length), diagonal=1))\n",
    "\n",
    "    def forward(self, x):\n",
    "        \"\"\"\n",
    "\n",
    "        :param x:\n",
    "        :return:\n",
    "        \"\"\"\n",
    "        b, num_tokens, dim_in = x.shape\n",
    "        keys = self.W_key(x)\n",
    "        values = self.W_value(x)\n",
    "        queries = self.W_query(x)\n",
    "\n",
    "        attention_scores = queries @ keys.transpose(1, 2)\n",
    "        attention_scores.masked_fill(self.mask.bool()[:num_tokens, :num_tokens], -torch.inf)\n",
    "        attention_weights = torch.softmax(attention_scores / keys.shape[-1]**0.5, dim=-1)\n",
    "        attention_weights = self.dropout(attention_weights)\n",
    "\n",
    "        context_vector = attention_weights @ values\n",
    "\n",
    "        return context_vector"
   ],
   "id": "180323bc2d820257",
   "outputs": [],
   "execution_count": 118
  },
  {
   "metadata": {
    "ExecuteTime": {
     "end_time": "2025-08-07T06:11:08.796666Z",
     "start_time": "2025-08-07T06:11:08.793993Z"
    }
   },
   "cell_type": "code",
   "source": [
    "batch = torch.stack((inputs, inputs))\n",
    "print(batch)"
   ],
   "id": "5252026b3df5f2a3",
   "outputs": [
    {
     "name": "stdout",
     "output_type": "stream",
     "text": [
      "tensor([[[0.4300, 0.1500, 0.8900],\n",
      "         [0.5500, 0.8700, 0.6600],\n",
      "         [0.5700, 0.8500, 0.6400],\n",
      "         [0.2200, 0.5800, 0.3300],\n",
      "         [0.7700, 0.2500, 0.1000],\n",
      "         [0.0500, 0.8000, 0.5500]],\n",
      "\n",
      "        [[0.4300, 0.1500, 0.8900],\n",
      "         [0.5500, 0.8700, 0.6600],\n",
      "         [0.5700, 0.8500, 0.6400],\n",
      "         [0.2200, 0.5800, 0.3300],\n",
      "         [0.7700, 0.2500, 0.1000],\n",
      "         [0.0500, 0.8000, 0.5500]]])\n"
     ]
    }
   ],
   "execution_count": 119
  },
  {
   "metadata": {
    "ExecuteTime": {
     "end_time": "2025-08-07T06:11:08.847617Z",
     "start_time": "2025-08-07T06:11:08.845514Z"
    }
   },
   "cell_type": "code",
   "source": "print(d_in, d_out)",
   "id": "171d0994f64c3054",
   "outputs": [
    {
     "name": "stdout",
     "output_type": "stream",
     "text": [
      "3 6\n"
     ]
    }
   ],
   "execution_count": 120
  },
  {
   "metadata": {
    "ExecuteTime": {
     "end_time": "2025-08-07T06:11:08.898907Z",
     "start_time": "2025-08-07T06:11:08.896455Z"
    }
   },
   "cell_type": "code",
   "source": [
    "context_length = batch.shape[1]\n",
    "print(context_length)"
   ],
   "id": "ac57ef13f5a9b3da",
   "outputs": [
    {
     "name": "stdout",
     "output_type": "stream",
     "text": [
      "6\n"
     ]
    }
   ],
   "execution_count": 121
  },
  {
   "metadata": {
    "ExecuteTime": {
     "end_time": "2025-08-07T06:11:08.954057Z",
     "start_time": "2025-08-07T06:11:08.949644Z"
    }
   },
   "cell_type": "code",
   "source": [
    "causal_attention = CausalAttention(d_in, d_out, context_length, 0.0)\n",
    "context_vector = causal_attention(batch)\n",
    "print(context_vector)"
   ],
   "id": "536725e5ab8e5206",
   "outputs": [
    {
     "name": "stdout",
     "output_type": "stream",
     "text": [
      "tensor([[[-0.1289,  0.0687, -0.1610, -0.1956, -0.1315,  0.5237],\n",
      "         [-0.1331,  0.0630, -0.1575, -0.1914, -0.1327,  0.5249],\n",
      "         [-0.1330,  0.0632, -0.1576, -0.1915, -0.1327,  0.5249],\n",
      "         [-0.1297,  0.0684, -0.1607, -0.1964, -0.1316,  0.5232],\n",
      "         [-0.1296,  0.0691, -0.1610, -0.1978, -0.1315,  0.5227],\n",
      "         [-0.1306,  0.0666, -0.1597, -0.1944, -0.1320,  0.5240]],\n",
      "\n",
      "        [[-0.1289,  0.0687, -0.1610, -0.1956, -0.1315,  0.5237],\n",
      "         [-0.1331,  0.0630, -0.1575, -0.1914, -0.1327,  0.5249],\n",
      "         [-0.1330,  0.0632, -0.1576, -0.1915, -0.1327,  0.5249],\n",
      "         [-0.1297,  0.0684, -0.1607, -0.1964, -0.1316,  0.5232],\n",
      "         [-0.1296,  0.0691, -0.1610, -0.1978, -0.1315,  0.5227],\n",
      "         [-0.1306,  0.0666, -0.1597, -0.1944, -0.1320,  0.5240]]],\n",
      "       grad_fn=<UnsafeViewBackward0>)\n"
     ]
    }
   ],
   "execution_count": 122
  },
  {
   "metadata": {
    "ExecuteTime": {
     "end_time": "2025-08-07T06:11:09.006319Z",
     "start_time": "2025-08-07T06:11:09.004442Z"
    }
   },
   "cell_type": "code",
   "source": "print(context_vector.shape)",
   "id": "18057b2894fa631e",
   "outputs": [
    {
     "name": "stdout",
     "output_type": "stream",
     "text": [
      "torch.Size([2, 6, 6])\n"
     ]
    }
   ],
   "execution_count": 123
  },
  {
   "metadata": {
    "ExecuteTime": {
     "end_time": "2025-08-07T06:11:09.058360Z",
     "start_time": "2025-08-07T06:11:09.056045Z"
    }
   },
   "cell_type": "code",
   "source": [
    "class MultiHeadAttention(nn.Module):\n",
    "    def __init__(self, dim_in: int, dim_out: int, context_length: int, dropout, num_heads, qkv_bias: bool = False):\n",
    "        super().__init__()\n",
    "        self.heads = nn.ModuleList(\n",
    "            [\n",
    "                CausalAttention(dim_in, dim_out, context_length, dropout, qkv_bias) for _ in range(num_heads)\n",
    "            ]\n",
    "        )\n",
    "\n",
    "    def forward(self, x):\n",
    "        return torch.cat([head(x) for head in self.heads], dim=-1)"
   ],
   "id": "7a2f663dda88754e",
   "outputs": [],
   "execution_count": 124
  },
  {
   "metadata": {
    "ExecuteTime": {
     "end_time": "2025-08-07T06:11:09.108754Z",
     "start_time": "2025-08-07T06:11:09.106908Z"
    }
   },
   "cell_type": "code",
   "source": [
    "context_length = batch.shape[1]\n",
    "print(context_length)"
   ],
   "id": "a4a1aa4b574f0f2d",
   "outputs": [
    {
     "name": "stdout",
     "output_type": "stream",
     "text": [
      "6\n"
     ]
    }
   ],
   "execution_count": 125
  },
  {
   "metadata": {
    "ExecuteTime": {
     "end_time": "2025-08-07T06:11:09.162156Z",
     "start_time": "2025-08-07T06:11:09.160365Z"
    }
   },
   "cell_type": "code",
   "source": "print(d_in, d_out)",
   "id": "eb194e4a6953a997",
   "outputs": [
    {
     "name": "stdout",
     "output_type": "stream",
     "text": [
      "3 6\n"
     ]
    }
   ],
   "execution_count": 126
  },
  {
   "metadata": {
    "ExecuteTime": {
     "end_time": "2025-08-07T06:11:09.217731Z",
     "start_time": "2025-08-07T06:11:09.215411Z"
    }
   },
   "cell_type": "code",
   "source": [
    "batch = torch.stack((inputs, inputs))\n",
    "print(batch)"
   ],
   "id": "2b0b44cdc2ea6f10",
   "outputs": [
    {
     "name": "stdout",
     "output_type": "stream",
     "text": [
      "tensor([[[0.4300, 0.1500, 0.8900],\n",
      "         [0.5500, 0.8700, 0.6600],\n",
      "         [0.5700, 0.8500, 0.6400],\n",
      "         [0.2200, 0.5800, 0.3300],\n",
      "         [0.7700, 0.2500, 0.1000],\n",
      "         [0.0500, 0.8000, 0.5500]],\n",
      "\n",
      "        [[0.4300, 0.1500, 0.8900],\n",
      "         [0.5500, 0.8700, 0.6600],\n",
      "         [0.5700, 0.8500, 0.6400],\n",
      "         [0.2200, 0.5800, 0.3300],\n",
      "         [0.7700, 0.2500, 0.1000],\n",
      "         [0.0500, 0.8000, 0.5500]]])\n"
     ]
    }
   ],
   "execution_count": 127
  },
  {
   "metadata": {
    "ExecuteTime": {
     "end_time": "2025-08-07T06:11:09.273713Z",
     "start_time": "2025-08-07T06:11:09.268347Z"
    }
   },
   "cell_type": "code",
   "source": [
    "multi_head = MultiHeadAttention(d_in, d_out, context_length, 0.0, num_heads=4)\n",
    "context_vector = multi_head(batch)\n",
    "print(context_vector)"
   ],
   "id": "d2cbe27e1ecaf9ca",
   "outputs": [
    {
     "name": "stdout",
     "output_type": "stream",
     "text": [
      "tensor([[[-0.5581, -0.3986, -0.0288, -0.1185,  0.1098,  0.1858,  0.6544,\n",
      "           0.0428, -0.1910,  0.0417,  0.7906,  0.0063,  0.7235,  0.3700,\n",
      "           0.5898,  0.1846, -0.2321, -0.1912,  0.0300, -0.2492, -0.4793,\n",
      "          -0.1056, -0.0768, -0.1879],\n",
      "         [-0.5598, -0.4026, -0.0336, -0.1205,  0.1149,  0.1828,  0.6521,\n",
      "           0.0424, -0.1911,  0.0437,  0.7876,  0.0083,  0.7132,  0.3597,\n",
      "           0.5789,  0.1860, -0.2260, -0.1907,  0.0314, -0.2510, -0.4727,\n",
      "          -0.1064, -0.0835, -0.1874],\n",
      "         [-0.5598, -0.4024, -0.0334, -0.1204,  0.1147,  0.1829,  0.6521,\n",
      "           0.0423, -0.1910,  0.0436,  0.7876,  0.0082,  0.7132,  0.3599,\n",
      "           0.5790,  0.1859, -0.2261, -0.1906,  0.0311, -0.2510, -0.4732,\n",
      "          -0.1060, -0.0832, -0.1877],\n",
      "         [-0.5627, -0.4060, -0.0355, -0.1226,  0.1171,  0.1825,  0.6534,\n",
      "           0.0423, -0.1916,  0.0447,  0.7892,  0.0090,  0.7096,  0.3556,\n",
      "           0.5761,  0.1851, -0.2235, -0.1929,  0.0322, -0.2497, -0.4715,\n",
      "          -0.1071, -0.0825, -0.1861],\n",
      "         [-0.5605, -0.4011, -0.0306, -0.1190,  0.1121,  0.1853,  0.6530,\n",
      "           0.0422, -0.1905,  0.0432,  0.7888,  0.0074,  0.7125,  0.3617,\n",
      "           0.5795,  0.1838, -0.2271, -0.1895,  0.0243, -0.2509, -0.4826,\n",
      "          -0.0990, -0.0763, -0.1922],\n",
      "         [-0.5628, -0.4072, -0.0371, -0.1235,  0.1187,  0.1813,  0.6533,\n",
      "           0.0423, -0.1920,  0.0450,  0.7890,  0.0095,  0.7096,  0.3542,\n",
      "           0.5757,  0.1859, -0.2228, -0.1939,  0.0359, -0.2494, -0.4665,\n",
      "          -0.1109, -0.0856, -0.1834]],\n",
      "\n",
      "        [[-0.5581, -0.3986, -0.0288, -0.1185,  0.1098,  0.1858,  0.6544,\n",
      "           0.0428, -0.1910,  0.0417,  0.7906,  0.0063,  0.7235,  0.3700,\n",
      "           0.5898,  0.1846, -0.2321, -0.1912,  0.0300, -0.2492, -0.4793,\n",
      "          -0.1056, -0.0768, -0.1879],\n",
      "         [-0.5598, -0.4026, -0.0336, -0.1205,  0.1149,  0.1828,  0.6521,\n",
      "           0.0424, -0.1911,  0.0437,  0.7876,  0.0083,  0.7132,  0.3597,\n",
      "           0.5789,  0.1860, -0.2260, -0.1907,  0.0314, -0.2510, -0.4727,\n",
      "          -0.1064, -0.0835, -0.1874],\n",
      "         [-0.5598, -0.4024, -0.0334, -0.1204,  0.1147,  0.1829,  0.6521,\n",
      "           0.0423, -0.1910,  0.0436,  0.7876,  0.0082,  0.7132,  0.3599,\n",
      "           0.5790,  0.1859, -0.2261, -0.1906,  0.0311, -0.2510, -0.4732,\n",
      "          -0.1060, -0.0832, -0.1877],\n",
      "         [-0.5627, -0.4060, -0.0355, -0.1226,  0.1171,  0.1825,  0.6534,\n",
      "           0.0423, -0.1916,  0.0447,  0.7892,  0.0090,  0.7096,  0.3556,\n",
      "           0.5761,  0.1851, -0.2235, -0.1929,  0.0322, -0.2497, -0.4715,\n",
      "          -0.1071, -0.0825, -0.1861],\n",
      "         [-0.5605, -0.4011, -0.0306, -0.1190,  0.1121,  0.1853,  0.6530,\n",
      "           0.0422, -0.1905,  0.0432,  0.7888,  0.0074,  0.7125,  0.3617,\n",
      "           0.5795,  0.1838, -0.2271, -0.1895,  0.0243, -0.2509, -0.4826,\n",
      "          -0.0990, -0.0763, -0.1922],\n",
      "         [-0.5628, -0.4072, -0.0371, -0.1235,  0.1187,  0.1813,  0.6533,\n",
      "           0.0423, -0.1920,  0.0450,  0.7890,  0.0095,  0.7096,  0.3542,\n",
      "           0.5757,  0.1859, -0.2228, -0.1939,  0.0359, -0.2494, -0.4665,\n",
      "          -0.1109, -0.0856, -0.1834]]], grad_fn=<CatBackward0>)\n"
     ]
    }
   ],
   "execution_count": 128
  },
  {
   "metadata": {
    "ExecuteTime": {
     "end_time": "2025-08-07T06:12:19.827713Z",
     "start_time": "2025-08-07T06:12:19.823550Z"
    }
   },
   "cell_type": "code",
   "source": [
    "class MultiHeadAttention(nn.Module):\n",
    "    def __init__(self, d_in, d_out, context_length, dropout, num_heads, qkv_bias=False):\n",
    "        super().__init__()\n",
    "        assert (d_out % num_heads == 0), \\\n",
    "            \"d_out must be divisible by num_heads\"\n",
    "\n",
    "        self.d_out = d_out\n",
    "        self.num_heads = num_heads\n",
    "        self.head_dim = d_out // num_heads # Reduce the projection dim to match desired output dim\n",
    "\n",
    "        self.W_query = nn.Linear(d_in, d_out, bias=qkv_bias)\n",
    "        self.W_key = nn.Linear(d_in, d_out, bias=qkv_bias)\n",
    "        self.W_value = nn.Linear(d_in, d_out, bias=qkv_bias)\n",
    "        self.out_proj = nn.Linear(d_out, d_out)  # Linear layer to combine head outputs\n",
    "        self.dropout = nn.Dropout(dropout)\n",
    "        self.register_buffer(\n",
    "            \"mask\",\n",
    "            torch.triu(torch.ones(context_length, context_length),\n",
    "                       diagonal=1)\n",
    "        )\n",
    "\n",
    "    def forward(self, x):\n",
    "        b, num_tokens, d_in = x.shape\n",
    "\n",
    "        keys = self.W_key(x) # Shape: (b, num_tokens, d_out)\n",
    "        queries = self.W_query(x)\n",
    "        values = self.W_value(x)\n",
    "\n",
    "        # We implicitly split the matrix by adding a `num_heads` dimension\n",
    "        # Unroll last dim: (b, num_tokens, d_out) -> (b, num_tokens, num_heads, head_dim)\n",
    "        keys = keys.view(b, num_tokens, self.num_heads, self.head_dim)\n",
    "        values = values.view(b, num_tokens, self.num_heads, self.head_dim)\n",
    "        queries = queries.view(b, num_tokens, self.num_heads, self.head_dim)\n",
    "\n",
    "        # Transpose: (b, num_tokens, num_heads, head_dim) -> (b, num_heads, num_tokens, head_dim)\n",
    "        keys = keys.transpose(1, 2)\n",
    "        queries = queries.transpose(1, 2)\n",
    "        values = values.transpose(1, 2)\n",
    "\n",
    "        # Compute scaled dot-product attention (aka self-attention) with a causal mask\n",
    "        attn_scores = queries @ keys.transpose(2, 3)  # Dot product for each head\n",
    "\n",
    "        # Original mask truncated to the number of tokens and converted to boolean\n",
    "        mask_bool = self.mask.bool()[:num_tokens, :num_tokens]\n",
    "\n",
    "        # Use the mask to fill attention scores\n",
    "        attn_scores.masked_fill_(mask_bool, -torch.inf)\n",
    "\n",
    "        attn_weights = torch.softmax(attn_scores / keys.shape[-1]**0.5, dim=-1)\n",
    "        attn_weights = self.dropout(attn_weights)\n",
    "\n",
    "        # Shape: (b, num_tokens, num_heads, head_dim)\n",
    "        context_vec = (attn_weights @ values).transpose(1, 2)\n",
    "\n",
    "        # Combine heads, where self.d_out = self.num_heads * self.head_dim\n",
    "        context_vec = context_vec.contiguous().view(b, num_tokens, self.d_out)\n",
    "        context_vec = self.out_proj(context_vec) # optional projection\n",
    "\n",
    "        return context_vec"
   ],
   "id": "c36e4d2f0c944dd5",
   "outputs": [],
   "execution_count": 131
  },
  {
   "metadata": {
    "ExecuteTime": {
     "end_time": "2025-08-07T06:12:20.671627Z",
     "start_time": "2025-08-07T06:12:20.667290Z"
    }
   },
   "cell_type": "code",
   "source": [
    "torch.manual_seed(123)\n",
    "\n",
    "# Define the tensor with 3 rows and 6 columns\n",
    "inputs = torch.tensor(\n",
    "    [[0.43, 0.15, 0.89, 0.55, 0.87, 0.66],  # Row 1\n",
    "     [0.57, 0.85, 0.64, 0.22, 0.58, 0.33],  # Row 2\n",
    "     [0.77, 0.25, 0.10, 0.05, 0.80, 0.55]]  # Row 3\n",
    ")\n",
    "\n",
    "batch = torch.stack((inputs, inputs))\n",
    "print(batch.shape)\n",
    "\n",
    "batch_size, context_length, d_in = batch.shape\n",
    "d_out = 6\n",
    "mha = MultiHeadAttention(d_in, d_out, context_length, 0.0, num_heads=2)\n",
    "context_vecs = mha(batch)\n",
    "print(context_vecs)\n",
    "print(\"context_vecs.shape:\", context_vecs.shape)"
   ],
   "id": "e7b41becbc457970",
   "outputs": [
    {
     "name": "stdout",
     "output_type": "stream",
     "text": [
      "torch.Size([2, 3, 6])\n",
      "tensor([[[ 0.1569, -0.0873,  0.0210,  0.0215, -0.3243, -0.2518],\n",
      "         [ 0.1117, -0.0547,  0.0406, -0.0213, -0.3251, -0.2993],\n",
      "         [ 0.1196, -0.0491,  0.0318, -0.0635, -0.2788, -0.2578]],\n",
      "\n",
      "        [[ 0.1569, -0.0873,  0.0210,  0.0215, -0.3243, -0.2518],\n",
      "         [ 0.1117, -0.0547,  0.0406, -0.0213, -0.3251, -0.2993],\n",
      "         [ 0.1196, -0.0491,  0.0318, -0.0635, -0.2788, -0.2578]]],\n",
      "       grad_fn=<ViewBackward0>)\n",
      "context_vecs.shape: torch.Size([2, 3, 6])\n"
     ]
    }
   ],
   "execution_count": 132
  },
  {
   "metadata": {},
   "cell_type": "code",
   "outputs": [],
   "execution_count": null,
   "source": "",
   "id": "ed86d697c4900666"
  }
 ],
 "metadata": {
  "kernelspec": {
   "display_name": "Python 3",
   "language": "python",
   "name": "python3"
  },
  "language_info": {
   "codemirror_mode": {
    "name": "ipython",
    "version": 2
   },
   "file_extension": ".py",
   "mimetype": "text/x-python",
   "name": "python",
   "nbconvert_exporter": "python",
   "pygments_lexer": "ipython2",
   "version": "2.7.6"
  }
 },
 "nbformat": 4,
 "nbformat_minor": 5
}
